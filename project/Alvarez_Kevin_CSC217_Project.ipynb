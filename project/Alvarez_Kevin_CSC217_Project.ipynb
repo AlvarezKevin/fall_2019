{
 "cells": [
  {
   "cell_type": "markdown",
   "metadata": {},
   "source": [
    "# Kevin Alvarez CSC 217 Fall 2019 Final Project"
   ]
  },
  {
   "cell_type": "markdown",
   "metadata": {},
   "source": [
    "\n",
    "\n",
    "Data was gathered from National Survey on Drug Use and Health, 2012 (ICPSR 34933) Downloaded from https://raw.githubusercontent.com/fivethirtyeight/data/master/drug-use-by-age/drug-use-by-age.csv Loaded in from a csv file. Features 17 different age groups. Younger ages seemed to be surveyed more and therefore broken up. \n",
    "* Column (drug)-use includes percentage of n that used said drug in the past 12 months. \n",
    "* Column (drug)-frequency includes median number of how times a user in the age group used said drug in the past 12 months."
   ]
  },
  {
   "cell_type": "code",
   "execution_count": 1,
   "metadata": {},
   "outputs": [],
   "source": [
    "import scipy.stats as stats\n",
    "import numpy as np\n",
    "import pandas as pd\n",
    "import matplotlib.pyplot as plt\n",
    "import seaborn as sns"
   ]
  },
  {
   "cell_type": "code",
   "execution_count": 2,
   "metadata": {},
   "outputs": [
    {
     "data": {
      "text/html": [
       "<div>\n",
       "<style scoped>\n",
       "    .dataframe tbody tr th:only-of-type {\n",
       "        vertical-align: middle;\n",
       "    }\n",
       "\n",
       "    .dataframe tbody tr th {\n",
       "        vertical-align: top;\n",
       "    }\n",
       "\n",
       "    .dataframe thead th {\n",
       "        text-align: right;\n",
       "    }\n",
       "</style>\n",
       "<table border=\"1\" class=\"dataframe\">\n",
       "  <thead>\n",
       "    <tr style=\"text-align: right;\">\n",
       "      <th></th>\n",
       "      <th>age</th>\n",
       "      <th>n</th>\n",
       "      <th>alcohol-use</th>\n",
       "      <th>alcohol-frequency</th>\n",
       "      <th>marijuana-use</th>\n",
       "      <th>marijuana-frequency</th>\n",
       "      <th>cocaine-use</th>\n",
       "      <th>cocaine-frequency</th>\n",
       "      <th>crack-use</th>\n",
       "      <th>crack-frequency</th>\n",
       "      <th>...</th>\n",
       "      <th>oxycontin-use</th>\n",
       "      <th>oxycontin-frequency</th>\n",
       "      <th>tranquilizer-use</th>\n",
       "      <th>tranquilizer-frequency</th>\n",
       "      <th>stimulant-use</th>\n",
       "      <th>stimulant-frequency</th>\n",
       "      <th>meth-use</th>\n",
       "      <th>meth-frequency</th>\n",
       "      <th>sedative-use</th>\n",
       "      <th>sedative-frequency</th>\n",
       "    </tr>\n",
       "  </thead>\n",
       "  <tbody>\n",
       "    <tr>\n",
       "      <th>0</th>\n",
       "      <td>12</td>\n",
       "      <td>2798</td>\n",
       "      <td>3.9</td>\n",
       "      <td>3</td>\n",
       "      <td>1.1</td>\n",
       "      <td>4</td>\n",
       "      <td>0.1</td>\n",
       "      <td>5.0</td>\n",
       "      <td>0.0</td>\n",
       "      <td>0.0</td>\n",
       "      <td>...</td>\n",
       "      <td>0.1</td>\n",
       "      <td>24.5</td>\n",
       "      <td>0.2</td>\n",
       "      <td>52.0</td>\n",
       "      <td>0.2</td>\n",
       "      <td>2.0</td>\n",
       "      <td>0.0</td>\n",
       "      <td>0.0</td>\n",
       "      <td>0.2</td>\n",
       "      <td>13.0</td>\n",
       "    </tr>\n",
       "    <tr>\n",
       "      <th>1</th>\n",
       "      <td>13</td>\n",
       "      <td>2757</td>\n",
       "      <td>8.5</td>\n",
       "      <td>6</td>\n",
       "      <td>3.4</td>\n",
       "      <td>15</td>\n",
       "      <td>0.1</td>\n",
       "      <td>1.0</td>\n",
       "      <td>0.0</td>\n",
       "      <td>3.0</td>\n",
       "      <td>...</td>\n",
       "      <td>0.1</td>\n",
       "      <td>41.0</td>\n",
       "      <td>0.3</td>\n",
       "      <td>25.5</td>\n",
       "      <td>0.3</td>\n",
       "      <td>4.0</td>\n",
       "      <td>0.1</td>\n",
       "      <td>5.0</td>\n",
       "      <td>0.1</td>\n",
       "      <td>19.0</td>\n",
       "    </tr>\n",
       "    <tr>\n",
       "      <th>2</th>\n",
       "      <td>14</td>\n",
       "      <td>2792</td>\n",
       "      <td>18.1</td>\n",
       "      <td>5</td>\n",
       "      <td>8.7</td>\n",
       "      <td>24</td>\n",
       "      <td>0.1</td>\n",
       "      <td>5.5</td>\n",
       "      <td>0.0</td>\n",
       "      <td>0.0</td>\n",
       "      <td>...</td>\n",
       "      <td>0.4</td>\n",
       "      <td>4.5</td>\n",
       "      <td>0.9</td>\n",
       "      <td>5.0</td>\n",
       "      <td>0.8</td>\n",
       "      <td>12.0</td>\n",
       "      <td>0.1</td>\n",
       "      <td>24.0</td>\n",
       "      <td>0.2</td>\n",
       "      <td>16.5</td>\n",
       "    </tr>\n",
       "    <tr>\n",
       "      <th>3</th>\n",
       "      <td>15</td>\n",
       "      <td>2956</td>\n",
       "      <td>29.2</td>\n",
       "      <td>6</td>\n",
       "      <td>14.5</td>\n",
       "      <td>25</td>\n",
       "      <td>0.5</td>\n",
       "      <td>4.0</td>\n",
       "      <td>0.1</td>\n",
       "      <td>9.5</td>\n",
       "      <td>...</td>\n",
       "      <td>0.8</td>\n",
       "      <td>3.0</td>\n",
       "      <td>2.0</td>\n",
       "      <td>4.5</td>\n",
       "      <td>1.5</td>\n",
       "      <td>6.0</td>\n",
       "      <td>0.3</td>\n",
       "      <td>10.5</td>\n",
       "      <td>0.4</td>\n",
       "      <td>30.0</td>\n",
       "    </tr>\n",
       "    <tr>\n",
       "      <th>4</th>\n",
       "      <td>16</td>\n",
       "      <td>3058</td>\n",
       "      <td>40.1</td>\n",
       "      <td>10</td>\n",
       "      <td>22.5</td>\n",
       "      <td>30</td>\n",
       "      <td>1.0</td>\n",
       "      <td>7.0</td>\n",
       "      <td>0.0</td>\n",
       "      <td>1.0</td>\n",
       "      <td>...</td>\n",
       "      <td>1.1</td>\n",
       "      <td>4.0</td>\n",
       "      <td>2.4</td>\n",
       "      <td>11.0</td>\n",
       "      <td>1.8</td>\n",
       "      <td>9.5</td>\n",
       "      <td>0.3</td>\n",
       "      <td>36.0</td>\n",
       "      <td>0.2</td>\n",
       "      <td>3.0</td>\n",
       "    </tr>\n",
       "    <tr>\n",
       "      <th>5</th>\n",
       "      <td>17</td>\n",
       "      <td>3038</td>\n",
       "      <td>49.3</td>\n",
       "      <td>13</td>\n",
       "      <td>28.0</td>\n",
       "      <td>36</td>\n",
       "      <td>2.0</td>\n",
       "      <td>5.0</td>\n",
       "      <td>0.1</td>\n",
       "      <td>21.0</td>\n",
       "      <td>...</td>\n",
       "      <td>1.4</td>\n",
       "      <td>6.0</td>\n",
       "      <td>3.5</td>\n",
       "      <td>7.0</td>\n",
       "      <td>2.8</td>\n",
       "      <td>9.0</td>\n",
       "      <td>0.6</td>\n",
       "      <td>48.0</td>\n",
       "      <td>0.5</td>\n",
       "      <td>6.5</td>\n",
       "    </tr>\n",
       "    <tr>\n",
       "      <th>6</th>\n",
       "      <td>18</td>\n",
       "      <td>2469</td>\n",
       "      <td>58.7</td>\n",
       "      <td>24</td>\n",
       "      <td>33.7</td>\n",
       "      <td>52</td>\n",
       "      <td>3.2</td>\n",
       "      <td>5.0</td>\n",
       "      <td>0.4</td>\n",
       "      <td>10.0</td>\n",
       "      <td>...</td>\n",
       "      <td>1.7</td>\n",
       "      <td>7.0</td>\n",
       "      <td>4.9</td>\n",
       "      <td>12.0</td>\n",
       "      <td>3.0</td>\n",
       "      <td>8.0</td>\n",
       "      <td>0.5</td>\n",
       "      <td>12.0</td>\n",
       "      <td>0.4</td>\n",
       "      <td>10.0</td>\n",
       "    </tr>\n",
       "    <tr>\n",
       "      <th>7</th>\n",
       "      <td>19</td>\n",
       "      <td>2223</td>\n",
       "      <td>64.6</td>\n",
       "      <td>36</td>\n",
       "      <td>33.4</td>\n",
       "      <td>60</td>\n",
       "      <td>4.1</td>\n",
       "      <td>5.5</td>\n",
       "      <td>0.5</td>\n",
       "      <td>2.0</td>\n",
       "      <td>...</td>\n",
       "      <td>1.5</td>\n",
       "      <td>7.5</td>\n",
       "      <td>4.2</td>\n",
       "      <td>4.5</td>\n",
       "      <td>3.3</td>\n",
       "      <td>6.0</td>\n",
       "      <td>0.4</td>\n",
       "      <td>105.0</td>\n",
       "      <td>0.3</td>\n",
       "      <td>6.0</td>\n",
       "    </tr>\n",
       "    <tr>\n",
       "      <th>8</th>\n",
       "      <td>20</td>\n",
       "      <td>2271</td>\n",
       "      <td>69.7</td>\n",
       "      <td>48</td>\n",
       "      <td>34.0</td>\n",
       "      <td>60</td>\n",
       "      <td>4.9</td>\n",
       "      <td>8.0</td>\n",
       "      <td>0.6</td>\n",
       "      <td>5.0</td>\n",
       "      <td>...</td>\n",
       "      <td>1.7</td>\n",
       "      <td>12.0</td>\n",
       "      <td>5.4</td>\n",
       "      <td>10.0</td>\n",
       "      <td>4.0</td>\n",
       "      <td>12.0</td>\n",
       "      <td>0.9</td>\n",
       "      <td>12.0</td>\n",
       "      <td>0.5</td>\n",
       "      <td>4.0</td>\n",
       "    </tr>\n",
       "    <tr>\n",
       "      <th>9</th>\n",
       "      <td>21</td>\n",
       "      <td>2354</td>\n",
       "      <td>83.2</td>\n",
       "      <td>52</td>\n",
       "      <td>33.0</td>\n",
       "      <td>52</td>\n",
       "      <td>4.8</td>\n",
       "      <td>5.0</td>\n",
       "      <td>0.5</td>\n",
       "      <td>17.0</td>\n",
       "      <td>...</td>\n",
       "      <td>1.3</td>\n",
       "      <td>13.5</td>\n",
       "      <td>3.9</td>\n",
       "      <td>7.0</td>\n",
       "      <td>4.1</td>\n",
       "      <td>10.0</td>\n",
       "      <td>0.6</td>\n",
       "      <td>2.0</td>\n",
       "      <td>0.3</td>\n",
       "      <td>9.0</td>\n",
       "    </tr>\n",
       "    <tr>\n",
       "      <th>10</th>\n",
       "      <td>22-23</td>\n",
       "      <td>4707</td>\n",
       "      <td>84.2</td>\n",
       "      <td>52</td>\n",
       "      <td>28.4</td>\n",
       "      <td>52</td>\n",
       "      <td>4.5</td>\n",
       "      <td>5.0</td>\n",
       "      <td>0.5</td>\n",
       "      <td>5.0</td>\n",
       "      <td>...</td>\n",
       "      <td>1.7</td>\n",
       "      <td>17.5</td>\n",
       "      <td>4.4</td>\n",
       "      <td>12.0</td>\n",
       "      <td>3.6</td>\n",
       "      <td>10.0</td>\n",
       "      <td>0.6</td>\n",
       "      <td>46.0</td>\n",
       "      <td>0.2</td>\n",
       "      <td>52.0</td>\n",
       "    </tr>\n",
       "    <tr>\n",
       "      <th>11</th>\n",
       "      <td>24-25</td>\n",
       "      <td>4591</td>\n",
       "      <td>83.1</td>\n",
       "      <td>52</td>\n",
       "      <td>24.9</td>\n",
       "      <td>60</td>\n",
       "      <td>4.0</td>\n",
       "      <td>6.0</td>\n",
       "      <td>0.5</td>\n",
       "      <td>6.0</td>\n",
       "      <td>...</td>\n",
       "      <td>1.3</td>\n",
       "      <td>20.0</td>\n",
       "      <td>4.3</td>\n",
       "      <td>10.0</td>\n",
       "      <td>2.6</td>\n",
       "      <td>10.0</td>\n",
       "      <td>0.7</td>\n",
       "      <td>21.0</td>\n",
       "      <td>0.2</td>\n",
       "      <td>17.5</td>\n",
       "    </tr>\n",
       "    <tr>\n",
       "      <th>12</th>\n",
       "      <td>26-29</td>\n",
       "      <td>2628</td>\n",
       "      <td>80.7</td>\n",
       "      <td>52</td>\n",
       "      <td>20.8</td>\n",
       "      <td>52</td>\n",
       "      <td>3.2</td>\n",
       "      <td>5.0</td>\n",
       "      <td>0.4</td>\n",
       "      <td>6.0</td>\n",
       "      <td>...</td>\n",
       "      <td>1.2</td>\n",
       "      <td>13.5</td>\n",
       "      <td>4.2</td>\n",
       "      <td>10.0</td>\n",
       "      <td>2.3</td>\n",
       "      <td>7.0</td>\n",
       "      <td>0.6</td>\n",
       "      <td>30.0</td>\n",
       "      <td>0.4</td>\n",
       "      <td>4.0</td>\n",
       "    </tr>\n",
       "    <tr>\n",
       "      <th>13</th>\n",
       "      <td>30-34</td>\n",
       "      <td>2864</td>\n",
       "      <td>77.5</td>\n",
       "      <td>52</td>\n",
       "      <td>16.4</td>\n",
       "      <td>72</td>\n",
       "      <td>2.1</td>\n",
       "      <td>8.0</td>\n",
       "      <td>0.5</td>\n",
       "      <td>15.0</td>\n",
       "      <td>...</td>\n",
       "      <td>0.9</td>\n",
       "      <td>46.0</td>\n",
       "      <td>3.6</td>\n",
       "      <td>8.0</td>\n",
       "      <td>1.4</td>\n",
       "      <td>12.0</td>\n",
       "      <td>0.4</td>\n",
       "      <td>54.0</td>\n",
       "      <td>0.4</td>\n",
       "      <td>10.0</td>\n",
       "    </tr>\n",
       "    <tr>\n",
       "      <th>14</th>\n",
       "      <td>35-49</td>\n",
       "      <td>7391</td>\n",
       "      <td>75.0</td>\n",
       "      <td>52</td>\n",
       "      <td>10.4</td>\n",
       "      <td>48</td>\n",
       "      <td>1.5</td>\n",
       "      <td>15.0</td>\n",
       "      <td>0.5</td>\n",
       "      <td>48.0</td>\n",
       "      <td>...</td>\n",
       "      <td>0.3</td>\n",
       "      <td>12.0</td>\n",
       "      <td>1.9</td>\n",
       "      <td>6.0</td>\n",
       "      <td>0.6</td>\n",
       "      <td>24.0</td>\n",
       "      <td>0.2</td>\n",
       "      <td>104.0</td>\n",
       "      <td>0.3</td>\n",
       "      <td>10.0</td>\n",
       "    </tr>\n",
       "    <tr>\n",
       "      <th>15</th>\n",
       "      <td>50-64</td>\n",
       "      <td>3923</td>\n",
       "      <td>67.2</td>\n",
       "      <td>52</td>\n",
       "      <td>7.3</td>\n",
       "      <td>52</td>\n",
       "      <td>0.9</td>\n",
       "      <td>36.0</td>\n",
       "      <td>0.4</td>\n",
       "      <td>62.0</td>\n",
       "      <td>...</td>\n",
       "      <td>0.4</td>\n",
       "      <td>5.0</td>\n",
       "      <td>1.4</td>\n",
       "      <td>10.0</td>\n",
       "      <td>0.3</td>\n",
       "      <td>24.0</td>\n",
       "      <td>0.2</td>\n",
       "      <td>30.0</td>\n",
       "      <td>0.2</td>\n",
       "      <td>104.0</td>\n",
       "    </tr>\n",
       "    <tr>\n",
       "      <th>16</th>\n",
       "      <td>65+</td>\n",
       "      <td>2448</td>\n",
       "      <td>49.3</td>\n",
       "      <td>52</td>\n",
       "      <td>1.2</td>\n",
       "      <td>36</td>\n",
       "      <td>0.0</td>\n",
       "      <td>0.0</td>\n",
       "      <td>0.0</td>\n",
       "      <td>0.0</td>\n",
       "      <td>...</td>\n",
       "      <td>0.0</td>\n",
       "      <td>0.0</td>\n",
       "      <td>0.2</td>\n",
       "      <td>5.0</td>\n",
       "      <td>0.0</td>\n",
       "      <td>364.0</td>\n",
       "      <td>0.0</td>\n",
       "      <td>0.0</td>\n",
       "      <td>0.0</td>\n",
       "      <td>15.0</td>\n",
       "    </tr>\n",
       "  </tbody>\n",
       "</table>\n",
       "<p>17 rows × 28 columns</p>\n",
       "</div>"
      ],
      "text/plain": [
       "      age     n  alcohol-use  alcohol-frequency  marijuana-use  \\\n",
       "0      12  2798          3.9                  3            1.1   \n",
       "1      13  2757          8.5                  6            3.4   \n",
       "2      14  2792         18.1                  5            8.7   \n",
       "3      15  2956         29.2                  6           14.5   \n",
       "4      16  3058         40.1                 10           22.5   \n",
       "5      17  3038         49.3                 13           28.0   \n",
       "6      18  2469         58.7                 24           33.7   \n",
       "7      19  2223         64.6                 36           33.4   \n",
       "8      20  2271         69.7                 48           34.0   \n",
       "9      21  2354         83.2                 52           33.0   \n",
       "10  22-23  4707         84.2                 52           28.4   \n",
       "11  24-25  4591         83.1                 52           24.9   \n",
       "12  26-29  2628         80.7                 52           20.8   \n",
       "13  30-34  2864         77.5                 52           16.4   \n",
       "14  35-49  7391         75.0                 52           10.4   \n",
       "15  50-64  3923         67.2                 52            7.3   \n",
       "16    65+  2448         49.3                 52            1.2   \n",
       "\n",
       "    marijuana-frequency  cocaine-use  cocaine-frequency  crack-use  \\\n",
       "0                     4          0.1                5.0        0.0   \n",
       "1                    15          0.1                1.0        0.0   \n",
       "2                    24          0.1                5.5        0.0   \n",
       "3                    25          0.5                4.0        0.1   \n",
       "4                    30          1.0                7.0        0.0   \n",
       "5                    36          2.0                5.0        0.1   \n",
       "6                    52          3.2                5.0        0.4   \n",
       "7                    60          4.1                5.5        0.5   \n",
       "8                    60          4.9                8.0        0.6   \n",
       "9                    52          4.8                5.0        0.5   \n",
       "10                   52          4.5                5.0        0.5   \n",
       "11                   60          4.0                6.0        0.5   \n",
       "12                   52          3.2                5.0        0.4   \n",
       "13                   72          2.1                8.0        0.5   \n",
       "14                   48          1.5               15.0        0.5   \n",
       "15                   52          0.9               36.0        0.4   \n",
       "16                   36          0.0                0.0        0.0   \n",
       "\n",
       "    crack-frequency  ...  oxycontin-use  oxycontin-frequency  \\\n",
       "0               0.0  ...            0.1                 24.5   \n",
       "1               3.0  ...            0.1                 41.0   \n",
       "2               0.0  ...            0.4                  4.5   \n",
       "3               9.5  ...            0.8                  3.0   \n",
       "4               1.0  ...            1.1                  4.0   \n",
       "5              21.0  ...            1.4                  6.0   \n",
       "6              10.0  ...            1.7                  7.0   \n",
       "7               2.0  ...            1.5                  7.5   \n",
       "8               5.0  ...            1.7                 12.0   \n",
       "9              17.0  ...            1.3                 13.5   \n",
       "10              5.0  ...            1.7                 17.5   \n",
       "11              6.0  ...            1.3                 20.0   \n",
       "12              6.0  ...            1.2                 13.5   \n",
       "13             15.0  ...            0.9                 46.0   \n",
       "14             48.0  ...            0.3                 12.0   \n",
       "15             62.0  ...            0.4                  5.0   \n",
       "16              0.0  ...            0.0                  0.0   \n",
       "\n",
       "    tranquilizer-use  tranquilizer-frequency  stimulant-use  \\\n",
       "0                0.2                    52.0            0.2   \n",
       "1                0.3                    25.5            0.3   \n",
       "2                0.9                     5.0            0.8   \n",
       "3                2.0                     4.5            1.5   \n",
       "4                2.4                    11.0            1.8   \n",
       "5                3.5                     7.0            2.8   \n",
       "6                4.9                    12.0            3.0   \n",
       "7                4.2                     4.5            3.3   \n",
       "8                5.4                    10.0            4.0   \n",
       "9                3.9                     7.0            4.1   \n",
       "10               4.4                    12.0            3.6   \n",
       "11               4.3                    10.0            2.6   \n",
       "12               4.2                    10.0            2.3   \n",
       "13               3.6                     8.0            1.4   \n",
       "14               1.9                     6.0            0.6   \n",
       "15               1.4                    10.0            0.3   \n",
       "16               0.2                     5.0            0.0   \n",
       "\n",
       "    stimulant-frequency  meth-use  meth-frequency  sedative-use  \\\n",
       "0                   2.0       0.0             0.0           0.2   \n",
       "1                   4.0       0.1             5.0           0.1   \n",
       "2                  12.0       0.1            24.0           0.2   \n",
       "3                   6.0       0.3            10.5           0.4   \n",
       "4                   9.5       0.3            36.0           0.2   \n",
       "5                   9.0       0.6            48.0           0.5   \n",
       "6                   8.0       0.5            12.0           0.4   \n",
       "7                   6.0       0.4           105.0           0.3   \n",
       "8                  12.0       0.9            12.0           0.5   \n",
       "9                  10.0       0.6             2.0           0.3   \n",
       "10                 10.0       0.6            46.0           0.2   \n",
       "11                 10.0       0.7            21.0           0.2   \n",
       "12                  7.0       0.6            30.0           0.4   \n",
       "13                 12.0       0.4            54.0           0.4   \n",
       "14                 24.0       0.2           104.0           0.3   \n",
       "15                 24.0       0.2            30.0           0.2   \n",
       "16                364.0       0.0             0.0           0.0   \n",
       "\n",
       "    sedative-frequency  \n",
       "0                 13.0  \n",
       "1                 19.0  \n",
       "2                 16.5  \n",
       "3                 30.0  \n",
       "4                  3.0  \n",
       "5                  6.5  \n",
       "6                 10.0  \n",
       "7                  6.0  \n",
       "8                  4.0  \n",
       "9                  9.0  \n",
       "10                52.0  \n",
       "11                17.5  \n",
       "12                 4.0  \n",
       "13                10.0  \n",
       "14                10.0  \n",
       "15               104.0  \n",
       "16                15.0  \n",
       "\n",
       "[17 rows x 28 columns]"
      ]
     },
     "execution_count": 2,
     "metadata": {},
     "output_type": "execute_result"
    }
   ],
   "source": [
    "data = pd.read_csv('data.csv')\n",
    "data  "
   ]
  },
  {
   "cell_type": "markdown",
   "metadata": {},
   "source": [
    "Creating two dataframes, one for just frequency and one for use."
   ]
  },
  {
   "cell_type": "code",
   "execution_count": 3,
   "metadata": {},
   "outputs": [],
   "source": [
    "frequency_columns = []\n",
    "use_columns = []\n",
    "\n",
    "for col in data.columns:\n",
    "    if('frequency' in col):\n",
    "        frequency_columns.append(col);\n",
    "for col in data.columns:\n",
    "    if('use' in col):\n",
    "        use_columns.append(col);\n",
    "        \n",
    "frequency_data = data.drop(use_columns,axis=1)\n",
    "use_data = data.drop(frequency_columns,axis=1)"
   ]
  },
  {
   "cell_type": "markdown",
   "metadata": {},
   "source": [
    "# Exploratory Analysis"
   ]
  },
  {
   "cell_type": "markdown",
   "metadata": {},
   "source": [
    "## Visualizing Different Drug Frequencies"
   ]
  },
  {
   "cell_type": "code",
   "execution_count": 4,
   "metadata": {},
   "outputs": [
    {
     "data": {
      "text/plain": [
       "<matplotlib.axes._subplots.AxesSubplot at 0x9927e48>"
      ]
     },
     "execution_count": 4,
     "metadata": {},
     "output_type": "execute_result"
    },
    {
     "data": {
      "image/png": "[encoded data removed]",
      "text/plain": [
       "<Figure size 1440x720 with 1 Axes>"
      ]
     },
     "metadata": {
      "needs_background": "light"
     },
     "output_type": "display_data"
    }
   ],
   "source": [
    "data.plot(x='age',y = frequency_columns ,grid = True, kind='bar',title='Frequency Comparison',figsize=(20,10))"
   ]
  },
  {
   "cell_type": "code",
   "execution_count": 5,
   "metadata": {},
   "outputs": [
    {
     "data": {
      "text/plain": [
       "Text(0.5, 0.92, 'Drug Frequency Boxplot')"
      ]
     },
     "execution_count": 5,
     "metadata": {},
     "output_type": "execute_result"
    },
    {
     "data": {
      "image/png": "[encoded data removed]",
      "text/plain": [
       "<Figure size 720x720 with 1 Axes>"
      ]
     },
     "metadata": {
      "needs_background": "light"
     },
     "output_type": "display_data"
    }
   ],
   "source": [
    "fig = plt.figure(figsize=(10,10))\n",
    "boxplot_data = []\n",
    "ticks = []\n",
    "for index,col in enumerate(frequency_columns):\n",
    "    boxplot_data.append(data[col])\n",
    "    ticks.append(index + 1)\n",
    "plt.boxplot(boxplot_data)\n",
    "plt.xticks(ticks, use_columns,rotation=90)\n",
    "plt.ylabel(\"Drug Frequency (How many times used in past 12 months)\")\n",
    "fig.suptitle(\"Drug Frequency Boxplot\", fontsize=15, y=0.92)"
   ]
  },
  {
   "cell_type": "markdown",
   "metadata": {},
   "source": [
    "Just from a simple visualization we see that marijuana is used the most in most age groups, with a noticeable outlier of ages 65+ using stimulants around 360 times in a year. This might show that those using stimulants are prescribed it and therefore use it everyday."
   ]
  },
  {
   "cell_type": "markdown",
   "metadata": {},
   "source": [
    "## Visualizing Different Drug Use"
   ]
  },
  {
   "cell_type": "code",
   "execution_count": 6,
   "metadata": {},
   "outputs": [
    {
     "data": {
      "text/plain": [
       "<matplotlib.axes._subplots.AxesSubplot at 0x9ff5ef0>"
      ]
     },
     "execution_count": 6,
     "metadata": {},
     "output_type": "execute_result"
    },
    {
     "data": {
      "image/png": "[encoded data removed]",
      "text/plain": [
       "<Figure size 1440x720 with 1 Axes>"
      ]
     },
     "metadata": {
      "needs_background": "light"
     },
     "output_type": "display_data"
    }
   ],
   "source": [
    "data.plot(x='age',y = use_columns ,grid = True, kind='bar',title='Use Comparison',figsize=(20,10))"
   ]
  },
  {
   "cell_type": "code",
   "execution_count": 7,
   "metadata": {},
   "outputs": [
    {
     "data": {
      "text/plain": [
       "Text(0.5, 0.92, 'Drug Use Boxplot')"
      ]
     },
     "execution_count": 7,
     "metadata": {},
     "output_type": "execute_result"
    },
    {
     "data": {
      "image/png": "[encoded data removed]",
      "text/plain": [
       "<Figure size 720x720 with 1 Axes>"
      ]
     },
     "metadata": {
      "needs_background": "light"
     },
     "output_type": "display_data"
    }
   ],
   "source": [
    "fig = plt.figure(figsize=(10,10))\n",
    "boxplot_data = []\n",
    "ticks = []\n",
    "for index,col in enumerate(use_columns):\n",
    "    boxplot_data.append(data[col])\n",
    "    ticks.append(index + 1)\n",
    "plt.boxplot(boxplot_data)\n",
    "plt.xticks(ticks, use_columns,rotation=90)\n",
    "plt.ylabel(\"Drug Use (Percentage of n that used drug)\")\n",
    "fig.suptitle(\"Drug Use Boxplot\", fontsize=15, y=0.92)"
   ]
  },
  {
   "cell_type": "markdown",
   "metadata": {},
   "source": [
    "These graph shows that a higher percentage of people consume alcohol in each age group by a large margin. This might be due to its legality. We also see that there is an increase of alcohol use in each age group until the age of 22 and then slowly goes down a bit. It hits its peak around the age alcohol becomes legal to drink in the United States."
   ]
  },
  {
   "cell_type": "markdown",
   "metadata": {},
   "source": [
    "## Exploring both Frequency and Use values"
   ]
  },
  {
   "cell_type": "code",
   "execution_count": 8,
   "metadata": {},
   "outputs": [
    {
     "data": {
      "text/plain": [
       "alcohol-frequency          33.352941\n",
       "marijuana-frequency        42.941176\n",
       "cocaine-frequency           7.411765\n",
       "crack-frequency            12.382353\n",
       "heroin-frequency           68.970588\n",
       "hallucinogen-frequency      8.411765\n",
       "inhalant-frequency          5.794118\n",
       "pain-releiver-frequency    14.705882\n",
       "oxycontin-frequency        13.941176\n",
       "tranquilizer-frequency     11.735294\n",
       "stimulant-frequency        31.147059\n",
       "meth-frequency             31.735294\n",
       "sedative-frequency         19.382353\n",
       "dtype: float64"
      ]
     },
     "execution_count": 8,
     "metadata": {},
     "output_type": "execute_result"
    }
   ],
   "source": [
    "# Mean Frequency of each drug\n",
    "data[frequency_columns].mean()"
   ]
  },
  {
   "cell_type": "code",
   "execution_count": 9,
   "metadata": {},
   "outputs": [
    {
     "data": {
      "text/plain": [
       "alcohol-use          55.429412\n",
       "marijuana-use        18.923529\n",
       "cocaine-use           2.176471\n",
       "crack-use             0.294118\n",
       "heroin-use            0.352941\n",
       "hallucinogen-use      3.394118\n",
       "inhalant-use          1.388235\n",
       "pain-releiver-use     6.270588\n",
       "oxycontin-use         0.935294\n",
       "tranquilizer-use      2.805882\n",
       "stimulant-use         1.917647\n",
       "meth-use              0.382353\n",
       "sedative-use          0.282353\n",
       "dtype: float64"
      ]
     },
     "execution_count": 9,
     "metadata": {},
     "output_type": "execute_result"
    }
   ],
   "source": [
    "# Mean Drug use of each drug\n",
    "data[use_columns].mean()"
   ]
  },
  {
   "cell_type": "code",
   "execution_count": 10,
   "metadata": {},
   "outputs": [
    {
     "data": {
      "text/plain": [
       "alcohol-frequency           52.0\n",
       "marijuana-frequency         72.0\n",
       "cocaine-frequency           36.0\n",
       "crack-frequency             62.0\n",
       "heroin-frequency           280.0\n",
       "hallucinogen-frequency      52.0\n",
       "inhalant-frequency          19.0\n",
       "pain-releiver-frequency     36.0\n",
       "oxycontin-frequency         46.0\n",
       "tranquilizer-frequency      52.0\n",
       "stimulant-frequency        364.0\n",
       "meth-frequency             105.0\n",
       "sedative-frequency         104.0\n",
       "dtype: float64"
      ]
     },
     "execution_count": 10,
     "metadata": {},
     "output_type": "execute_result"
    }
   ],
   "source": [
    "# Maximum of Frequency\n",
    "data[frequency_columns].max()"
   ]
  },
  {
   "cell_type": "code",
   "execution_count": 11,
   "metadata": {},
   "outputs": [
    {
     "data": {
      "text/plain": [
       "alcohol-frequency          3.0\n",
       "marijuana-frequency        4.0\n",
       "cocaine-frequency          0.0\n",
       "crack-frequency            0.0\n",
       "heroin-frequency           0.0\n",
       "hallucinogen-frequency     2.0\n",
       "inhalant-frequency         0.0\n",
       "pain-releiver-frequency    7.0\n",
       "oxycontin-frequency        0.0\n",
       "tranquilizer-frequency     4.5\n",
       "stimulant-frequency        2.0\n",
       "meth-frequency             0.0\n",
       "sedative-frequency         3.0\n",
       "dtype: float64"
      ]
     },
     "execution_count": 11,
     "metadata": {},
     "output_type": "execute_result"
    }
   ],
   "source": [
    "# Mininum of Frequency\n",
    "data[frequency_columns].min()"
   ]
  },
  {
   "cell_type": "code",
   "execution_count": 12,
   "metadata": {},
   "outputs": [
    {
     "data": {
      "text/plain": [
       "alcohol-use          84.2\n",
       "marijuana-use        34.0\n",
       "cocaine-use           4.9\n",
       "crack-use             0.6\n",
       "heroin-use            1.1\n",
       "hallucinogen-use      8.6\n",
       "inhalant-use          3.0\n",
       "pain-releiver-use    10.0\n",
       "oxycontin-use         1.7\n",
       "tranquilizer-use      5.4\n",
       "stimulant-use         4.1\n",
       "meth-use              0.9\n",
       "sedative-use          0.5\n",
       "dtype: float64"
      ]
     },
     "execution_count": 12,
     "metadata": {},
     "output_type": "execute_result"
    }
   ],
   "source": [
    "# Maximum of Use\n",
    "data[use_columns].max()"
   ]
  },
  {
   "cell_type": "code",
   "execution_count": 13,
   "metadata": {},
   "outputs": [
    {
     "data": {
      "text/plain": [
       "alcohol-use          3.9\n",
       "marijuana-use        1.1\n",
       "cocaine-use          0.0\n",
       "crack-use            0.0\n",
       "heroin-use           0.0\n",
       "hallucinogen-use     0.1\n",
       "inhalant-use         0.0\n",
       "pain-releiver-use    0.6\n",
       "oxycontin-use        0.0\n",
       "tranquilizer-use     0.2\n",
       "stimulant-use        0.0\n",
       "meth-use             0.0\n",
       "sedative-use         0.0\n",
       "dtype: float64"
      ]
     },
     "execution_count": 13,
     "metadata": {},
     "output_type": "execute_result"
    }
   ],
   "source": [
    "# Minimum of Use\n",
    "data[use_columns].min()"
   ]
  },
  {
   "cell_type": "code",
   "execution_count": 14,
   "metadata": {},
   "outputs": [
    {
     "data": {
      "text/plain": [
       "alcohol-frequency           454.492647\n",
       "marijuana-frequency         337.183824\n",
       "cocaine-frequency            64.226103\n",
       "crack-frequency             301.422794\n",
       "heroin-frequency           4921.483456\n",
       "hallucinogen-frequency      225.007353\n",
       "inhalant-frequency           24.376838\n",
       "pain-releiver-frequency      48.095588\n",
       "oxycontin-frequency         166.465074\n",
       "tranquilizer-frequency      131.909926\n",
       "stimulant-frequency        7391.492647\n",
       "meth-frequency             1037.253676\n",
       "sedative-frequency          616.704044\n",
       "dtype: float64"
      ]
     },
     "execution_count": 14,
     "metadata": {},
     "output_type": "execute_result"
    }
   ],
   "source": [
    "# Variance of frequency\n",
    "data[frequency_columns].var()"
   ]
  },
  {
   "cell_type": "code",
   "execution_count": 15,
   "metadata": {},
   "outputs": [
    {
     "data": {
      "text/plain": [
       "alcohol-use          722.473456\n",
       "marijuana-use        143.035662\n",
       "cocaine-use            3.300662\n",
       "crack-use              0.055588\n",
       "heroin-use             0.111397\n",
       "hallucinogen-use       7.798088\n",
       "inhalant-use           0.859853\n",
       "pain-releiver-use     10.025956\n",
       "oxycontin-use          0.369926\n",
       "tranquilizer-use       3.074338\n",
       "stimulant-use          1.981544\n",
       "meth-use               0.069044\n",
       "sedative-use           0.019044\n",
       "dtype: float64"
      ]
     },
     "execution_count": 15,
     "metadata": {},
     "output_type": "execute_result"
    }
   ],
   "source": [
    "# Variance of use\n",
    "data[use_columns].var()"
   ]
  },
  {
   "cell_type": "code",
   "execution_count": 16,
   "metadata": {},
   "outputs": [
    {
     "data": {
      "text/plain": [
       "alcohol-frequency           49.0\n",
       "marijuana-frequency         68.0\n",
       "cocaine-frequency           36.0\n",
       "crack-frequency             62.0\n",
       "heroin-frequency           280.0\n",
       "hallucinogen-frequency      50.0\n",
       "inhalant-frequency          19.0\n",
       "pain-releiver-frequency     29.0\n",
       "oxycontin-frequency         46.0\n",
       "tranquilizer-frequency      47.5\n",
       "stimulant-frequency        362.0\n",
       "meth-frequency             105.0\n",
       "sedative-frequency         101.0\n",
       "dtype: float64"
      ]
     },
     "execution_count": 16,
     "metadata": {},
     "output_type": "execute_result"
    }
   ],
   "source": [
    "# Range of frequency\n",
    "data[frequency_columns].max() - data[frequency_columns].min()"
   ]
  },
  {
   "cell_type": "code",
   "execution_count": 17,
   "metadata": {},
   "outputs": [
    {
     "data": {
      "text/plain": [
       "alcohol-use          80.3\n",
       "marijuana-use        32.9\n",
       "cocaine-use           4.9\n",
       "crack-use             0.6\n",
       "heroin-use            1.1\n",
       "hallucinogen-use      8.5\n",
       "inhalant-use          3.0\n",
       "pain-releiver-use     9.4\n",
       "oxycontin-use         1.7\n",
       "tranquilizer-use      5.2\n",
       "stimulant-use         4.1\n",
       "meth-use              0.9\n",
       "sedative-use          0.5\n",
       "dtype: float64"
      ]
     },
     "execution_count": 17,
     "metadata": {},
     "output_type": "execute_result"
    }
   ],
   "source": [
    "# Range of use\n",
    "data[use_columns].max() - data[use_columns].min()"
   ]
  },
  {
   "cell_type": "code",
   "execution_count": 18,
   "metadata": {},
   "outputs": [
    {
     "data": {
      "text/plain": [
       "alcohol-frequency          42.0\n",
       "marijuana-frequency        22.0\n",
       "cocaine-frequency           2.0\n",
       "crack-frequency            13.0\n",
       "heroin-frequency           31.0\n",
       "hallucinogen-frequency      1.0\n",
       "inhalant-frequency          2.5\n",
       "pain-releiver-frequency     3.0\n",
       "oxycontin-frequency        12.5\n",
       "tranquilizer-frequency      5.0\n",
       "stimulant-frequency         5.0\n",
       "meth-frequency             35.5\n",
       "sedative-frequency         11.0\n",
       "dtype: float64"
      ]
     },
     "execution_count": 18,
     "metadata": {},
     "output_type": "execute_result"
    }
   ],
   "source": [
    "# Frequency Interquatile Range\n",
    "data[frequency_columns].quantile(q=0.75) - data[frequency_columns].quantile(q=0.25)"
   ]
  },
  {
   "cell_type": "code",
   "execution_count": 19,
   "metadata": {},
   "outputs": [
    {
     "data": {
      "text/plain": [
       "alcohol-use          37.4\n",
       "marijuana-use        19.7\n",
       "cocaine-use           3.5\n",
       "crack-use             0.5\n",
       "heroin-use            0.5\n",
       "hallucinogen-use      4.6\n",
       "inhalant-use          1.4\n",
       "pain-releiver-use     5.1\n",
       "oxycontin-use         1.0\n",
       "tranquilizer-use      2.8\n",
       "stimulant-use         2.4\n",
       "meth-use              0.4\n",
       "sedative-use          0.2\n",
       "dtype: float64"
      ]
     },
     "execution_count": 19,
     "metadata": {},
     "output_type": "execute_result"
    }
   ],
   "source": [
    "# Use Interquatile Range\n",
    "data[use_columns].quantile(q=0.75) - data[use_columns].quantile(q=0.25)"
   ]
  },
  {
   "cell_type": "markdown",
   "metadata": {},
   "source": [
    "# Chi Square Tests"
   ]
  },
  {
   "cell_type": "markdown",
   "metadata": {},
   "source": [
    "## Chi Square Tests for Two Different Drug Frequencies"
   ]
  },
  {
   "cell_type": "markdown",
   "metadata": {},
   "source": [
    "First we create the lists for each drug frequencies and then set up the rejection region with a degrees of freedom of 16. Since there are 17 outcomes and two distributions. (17 - 1) * (2 - 1)\n",
    "* Null Hypothesis: is that the these two frequencies can come from the same distribution\n",
    "* Alternate Hypothesis is that they come from another distribution"
   ]
  },
  {
   "cell_type": "code",
   "execution_count": 20,
   "metadata": {},
   "outputs": [],
   "source": [
    "alcohol_frequencies = []\n",
    "marijuana_frequencies = []\n",
    "cocaine_frequencies = []\n",
    "crack_frequencies = []\n",
    "heroin_frequencies = []\n",
    "hallucinogen_frequencies = []\n",
    "inhalant_frequencies = []\n",
    "pain_releiever_frequencies = []\n",
    "oxycontin_frequencies = []\n",
    "tranquilizer_frequencies = []\n",
    "stimulant_frequencies = []\n",
    "meth_frequencies = []\n",
    "sedative_frequencies = []\n",
    "\n",
    "for index, row in data.iterrows():\n",
    "    alcohol_frequencies.append(data.at[index,'alcohol-frequency'])\n",
    "    marijuana_frequencies.append(data.at[index,'marijuana-frequency'])\n",
    "    cocaine_frequencies.append(data.at[index,'cocaine-frequency'])\n",
    "    crack_frequencies.append(data.at[index,'crack-frequency'])\n",
    "    heroin_frequencies.append(data.at[index,'heroin-frequency'])\n",
    "    hallucinogen_frequencies.append(data.at[index,'hallucinogen-frequency'])\n",
    "    inhalant_frequencies.append(data.at[index,'inhalant-frequency'])\n",
    "    pain_releiever_frequencies.append(data.at[index,'pain-releiver-frequency'])\n",
    "    oxycontin_frequencies.append(data.at[index,'oxycontin-frequency'])\n",
    "    tranquilizer_frequencies.append(data.at[index,'tranquilizer-frequency'])\n",
    "    stimulant_frequencies.append(data.at[index,'stimulant-frequency'])\n",
    "    meth_frequencies.append(data.at[index,'meth-frequency'])\n",
    "    sedative_frequencies.append(data.at[index,'sedative-frequency'])"
   ]
  },
  {
   "cell_type": "code",
   "execution_count": 21,
   "metadata": {},
   "outputs": [
    {
     "name": "stdout",
     "output_type": "stream",
     "text": [
      "Rejection Region: Greater than 26.3\n"
     ]
    },
    {
     "data": {
      "text/plain": [
       "Text(0.5, 0.92, 'Chi-Square Distribution with 16 Degrees of Freedom')"
      ]
     },
     "execution_count": 21,
     "metadata": {},
     "output_type": "execute_result"
    },
    {
     "data": {
      "image/png": "[encoded data removed]",
      "text/plain": [
       "<Figure size 720x720 with 1 Axes>"
      ]
     },
     "metadata": {
      "needs_background": "light"
     },
     "output_type": "display_data"
    }
   ],
   "source": [
    "degrees_freedom = len(alcohol_frequencies) - 1 # (Length of possible outcomes - 1) * (2 distributions - 1)\n",
    "dist = stats.chi2(df=degrees_freedom)\n",
    "print('Rejection Region: Greater than', np.round(dist.ppf(0.95), 2))\n",
    "fig = plt.figure(figsize=(10,10))\n",
    "x = np.linspace(dist.ppf(0.0001), dist.ppf(0.9999), 100)\n",
    "plt.plot(x, dist.pdf(x))\n",
    "plt.plot([dist.ppf(0.95), dist.ppf(0.95)],[0, dist.pdf(dist.ppf(0.95))], linestyle='dotted', color='#1f77b4')\n",
    "X_fill = np.linspace(dist.ppf(0.95), dist.ppf(0.999))\n",
    "Y = dist.pdf(X_fill)\n",
    "plt.fill_between(X_fill, 0, Y, facecolor='red')\n",
    "plt.ylim(bottom=0)\n",
    "plt.xlabel('Chi-Square Statistic')\n",
    "plt.ylabel('Probability Density Function')\n",
    "fig.suptitle('Chi-Square Distribution with ' + str(degrees_freedom) + ' Degrees of Freedom', fontsize=15, y=0.92)"
   ]
  },
  {
   "cell_type": "code",
   "execution_count": 22,
   "metadata": {},
   "outputs": [
    {
     "data": {
      "text/plain": [
       "(53.76907381287019,\n",
       " 5.6557322379107144e-06,\n",
       " 16,\n",
       " array([[ 3.06013878,  9.18041635, 12.67771781, 13.55204318, 17.48650732,\n",
       "         21.42097147, 33.22436392, 41.96761758, 47.21356978, 45.46491904,\n",
       "         45.46491904, 48.96222051, 45.46491904, 54.20817271, 43.71626831,\n",
       "         45.46491904, 38.47031611],\n",
       "        [ 3.93986122, 11.81958365, 16.32228219, 17.44795682, 22.51349268,\n",
       "         27.57902853, 42.77563608, 54.03238242, 60.78643022, 58.53508096,\n",
       "         58.53508096, 63.03777949, 58.53508096, 69.79182729, 56.28373169,\n",
       "         58.53508096, 49.52968389]]))"
      ]
     },
     "execution_count": 22,
     "metadata": {},
     "output_type": "execute_result"
    }
   ],
   "source": [
    "stats.chi2_contingency([alcohol_frequencies, marijuana_frequencies])"
   ]
  },
  {
   "cell_type": "code",
   "execution_count": 23,
   "metadata": {},
   "outputs": [
    {
     "data": {
      "text/plain": [
       "(362.39473600833384,\n",
       " 2.6830384549216336e-67,\n",
       " 16,\n",
       " array([[46.82703322, 17.56013746, 22.57731959, 24.24971363, 27.59450172,\n",
       "         32.61168385, 46.82703322, 52.68041237, 51.84421535, 46.82703322,\n",
       "         45.9908362 , 51.84421535, 45.9908362 , 61.87857961, 42.64604811,\n",
       "         80.27491409, 31.77548683],\n",
       "        [ 9.17296678,  3.43986254,  4.42268041,  4.75028637,  5.40549828,\n",
       "          6.38831615,  9.17296678, 10.31958763, 10.15578465,  9.17296678,\n",
       "          9.0091638 , 10.15578465,  9.0091638 , 12.12142039,  8.35395189,\n",
       "         15.72508591,  6.22451317]]))"
      ]
     },
     "execution_count": 23,
     "metadata": {},
     "output_type": "execute_result"
    }
   ],
   "source": [
    "stats.chi2_contingency([marijuana_frequencies, hallucinogen_frequencies])"
   ]
  },
  {
   "cell_type": "code",
   "execution_count": 24,
   "metadata": {},
   "outputs": [
    {
     "data": {
      "text/plain": [
       "(398.8471928780818,\n",
       " 6.351477556671292e-75,\n",
       " 16,\n",
       " array([[ 49.91131607,  34.10606598,   5.40705924,   3.32742107,\n",
       "          58.64579638,  58.22986875,  44.08832919, 155.97286272,\n",
       "          47.41575027,  36.18570415,  62.38914509,  89.84036893,\n",
       "          52.82280951,  93.16779   , 242.90173821,  38.26534232,\n",
       "          99.82263214],\n",
       "        [ 10.08868393,   6.89393402,   1.09294076,   0.67257893,\n",
       "          11.85420362,  11.77013125,   8.91167081,  31.52713728,\n",
       "           9.58424973,   7.31429585,  12.61085491,  18.15963107,\n",
       "          10.67719049,  18.83221   ,  49.09826179,   7.73465768,\n",
       "          20.17736786]]))"
      ]
     },
     "execution_count": 24,
     "metadata": {},
     "output_type": "execute_result"
    }
   ],
   "source": [
    "stats.chi2_contingency([heroin_frequencies, oxycontin_frequencies])"
   ]
  },
  {
   "cell_type": "code",
   "execution_count": 25,
   "metadata": {},
   "outputs": [
    {
     "data": {
      "text/plain": [
       "(64.47943624320452,\n",
       " 4.214840416545216e-08,\n",
       " 15,\n",
       " array([[26.8988764 ,  3.30337079,  4.01123596,  3.7752809 ,  4.71910112,\n",
       "          3.7752809 ,  4.24719101,  4.01123596,  4.71910112,  4.24719101,\n",
       "          3.7752809 ,  3.7752809 ,  3.7752809 ,  4.71910112,  8.49438202,\n",
       "         37.75280899],\n",
       "        [30.1011236 ,  3.69662921,  4.48876404,  4.2247191 ,  5.28089888,\n",
       "          4.2247191 ,  4.75280899,  4.48876404,  5.28089888,  4.75280899,\n",
       "          4.2247191 ,  4.2247191 ,  4.2247191 ,  5.28089888,  9.50561798,\n",
       "         42.24719101]]))"
      ]
     },
     "execution_count": 25,
     "metadata": {},
     "output_type": "execute_result"
    }
   ],
   "source": [
    "# :16 Since last element of both are 0 and causes error\n",
    "stats.chi2_contingency([cocaine_frequencies[:16], hallucinogen_frequencies[:16]])"
   ]
  },
  {
   "cell_type": "markdown",
   "metadata": {},
   "source": [
    "We can reject the null hypothesis. The value we got from Chi2 Contigency is 53.769 and our rejection region is anything above 18.31"
   ]
  },
  {
   "cell_type": "markdown",
   "metadata": {},
   "source": [
    "## Chi Square Tests for Two different Drug Use."
   ]
  },
  {
   "cell_type": "markdown",
   "metadata": {},
   "source": [
    "First we create the lists for each drug use count and then set up the rejection region with a degrees of freedom of 16. Since there are 17 outcomes and two distributions. (17 - 1) * (2 - 1). Same as previous chi square.\n",
    "* Null Hypothesis: is that the these two frequencies can come from the same distribution\n",
    "* Alternate Hypothesis is that they come from another distribution"
   ]
  },
  {
   "cell_type": "code",
   "execution_count": 26,
   "metadata": {},
   "outputs": [],
   "source": [
    "alcohol_use = []\n",
    "marijuana_use = []\n",
    "cocaine_use = []\n",
    "crack_use = []\n",
    "heroin_use = []\n",
    "hallucinogen_use = []\n",
    "inhalant_use = []\n",
    "pain_releiever_use = []\n",
    "oxycontin_use = []\n",
    "tranquilizer_use = []\n",
    "stimulant_use = []\n",
    "meth_use = []\n",
    "sedative_use = []\n",
    "\n",
    "for index, row in data.iterrows():\n",
    "    alcohol_use.append(data.at[index,'alcohol-use'])\n",
    "    marijuana_use.append(data.at[index,'marijuana-use'])\n",
    "    cocaine_use.append(data.at[index,'cocaine-use'])\n",
    "    crack_use.append(data.at[index,'crack-use'])\n",
    "    heroin_use.append(data.at[index,'heroin-use'])\n",
    "    hallucinogen_use.append(data.at[index,'hallucinogen-use'])\n",
    "    inhalant_use.append(data.at[index,'inhalant-use'])\n",
    "    pain_releiever_use.append(data.at[index,'pain-releiver-use'])\n",
    "    oxycontin_use.append(data.at[index,'oxycontin-use'])\n",
    "    tranquilizer_use.append(data.at[index,'tranquilizer-use'])\n",
    "    stimulant_use.append(data.at[index,'stimulant-use'])\n",
    "    meth_use.append(data.at[index,'meth-use'])\n",
    "    sedative_use.append(data.at[index,'sedative-use'])"
   ]
  },
  {
   "cell_type": "code",
   "execution_count": 27,
   "metadata": {},
   "outputs": [
    {
     "name": "stdout",
     "output_type": "stream",
     "text": [
      "Rejection Region: Greater than 26.3\n"
     ]
    },
    {
     "data": {
      "text/plain": [
       "Text(0.5, 0.92, 'Chi-Square Distribution with 16 Degrees of Freedom')"
      ]
     },
     "execution_count": 27,
     "metadata": {},
     "output_type": "execute_result"
    },
    {
     "data": {
      "image/png": "[encoded data removed]",
      "text/plain": [
       "<Figure size 720x720 with 1 Axes>"
      ]
     },
     "metadata": {
      "needs_background": "light"
     },
     "output_type": "display_data"
    }
   ],
   "source": [
    "degrees_freedom = len(alcohol_frequencies) - 1 # (Length of possible outcomes - 1) * (2 distributions - 1)\n",
    "dist = stats.chi2(df=degrees_freedom)\n",
    "print('Rejection Region: Greater than', np.round(dist.ppf(0.95), 2))\n",
    "fig = plt.figure(figsize=(10,10))\n",
    "x = np.linspace(dist.ppf(0.0001), dist.ppf(0.9999), 100)\n",
    "plt.plot(x, dist.pdf(x))\n",
    "plt.plot([dist.ppf(0.95), dist.ppf(0.95)],[0, dist.pdf(dist.ppf(0.95))], linestyle='dotted', color='#1f77b4')\n",
    "X_fill = np.linspace(dist.ppf(0.95), dist.ppf(0.999))\n",
    "Y = dist.pdf(X_fill)\n",
    "plt.fill_between(X_fill, 0, Y, facecolor='red')\n",
    "plt.ylim(bottom=0)\n",
    "plt.xlabel('Chi-Square Statistic')\n",
    "plt.ylabel('Probability Density Function')\n",
    "fig.suptitle('Chi-Square Distribution with ' + str(degrees_freedom) + ' Degrees of Freedom', fontsize=15, y=0.92)"
   ]
  },
  {
   "cell_type": "code",
   "execution_count": 28,
   "metadata": {},
   "outputs": [
    {
     "data": {
      "text/plain": [
       "(60.279805638396574,\n",
       " 4.6950716484037147e-07,\n",
       " 16,\n",
       " array([[ 3.72745253,  8.87133703, 19.97914557, 32.57793513, 46.6677057 ,\n",
       "         57.62641614, 68.88332278, 73.05806962, 77.30736551, 86.62599684,\n",
       "         83.94223101, 80.51297468, 75.66728639, 70.00155854, 63.66488924,\n",
       "         55.53904272, 37.64727057],\n",
       "        [ 1.27254747,  3.02866297,  6.82085443, 11.12206487, 15.9322943 ,\n",
       "         19.67358386, 23.51667722, 24.94193038, 26.39263449, 29.57400316,\n",
       "         28.65776899, 27.48702532, 25.83271361, 23.89844146, 21.73511076,\n",
       "         18.96095728, 12.85272943]]))"
      ]
     },
     "execution_count": 28,
     "metadata": {},
     "output_type": "execute_result"
    }
   ],
   "source": [
    "stats.chi2_contingency([alcohol_use, marijuana_use])"
   ]
  },
  {
   "cell_type": "code",
   "execution_count": 29,
   "metadata": {},
   "outputs": [
    {
     "data": {
      "text/plain": [
       "(3.54083405296351,\n",
       " 0.9994953879807221,\n",
       " 16,\n",
       " array([[ 1.10229309,  3.39167106,  8.73355298, 14.0754349 , 21.96107011,\n",
       "         27.81170269, 34.51025303, 35.61254613, 35.10379547, 33.32316816,\n",
       "         28.4900369 , 24.92878229, 20.35002636, 15.43210332,  9.32709541,\n",
       "          6.44417501,  1.10229309],\n",
       "        [ 0.19770691,  0.60832894,  1.56644702,  2.5245651 ,  3.93892989,\n",
       "          4.98829731,  6.18974697,  6.38745387,  6.29620453,  5.97683184,\n",
       "          5.1099631 ,  4.47121771,  3.64997364,  2.76789668,  1.67290459,\n",
       "          1.15582499,  0.19770691]]))"
      ]
     },
     "execution_count": 29,
     "metadata": {},
     "output_type": "execute_result"
    }
   ],
   "source": [
    "stats.chi2_contingency([marijuana_use, hallucinogen_use])"
   ]
  },
  {
   "cell_type": "code",
   "execution_count": 30,
   "metadata": {},
   "outputs": [
    {
     "data": {
      "text/plain": [
       "(1.2570919323897172,\n",
       " 0.9999987397954455,\n",
       " 15,\n",
       " array([[0.08809524, 0.08809524, 0.08809524, 0.52857143, 0.88095238,\n",
       "         1.85      , 3.17142857, 4.05238095, 4.8452381 , 4.66904762,\n",
       "         4.4047619 , 3.96428571, 3.17142857, 2.29047619, 1.76190476,\n",
       "         1.1452381 ],\n",
       "        [0.01190476, 0.01190476, 0.01190476, 0.07142857, 0.11904762,\n",
       "         0.25      , 0.42857143, 0.54761905, 0.6547619 , 0.63095238,\n",
       "         0.5952381 , 0.53571429, 0.42857143, 0.30952381, 0.23809524,\n",
       "         0.1547619 ]]))"
      ]
     },
     "execution_count": 30,
     "metadata": {},
     "output_type": "execute_result"
    }
   ],
   "source": [
    "stats.chi2_contingency([cocaine_use[:16], crack_use[:16]])"
   ]
  },
  {
   "cell_type": "code",
   "execution_count": 31,
   "metadata": {},
   "outputs": [
    {
     "data": {
      "text/plain": [
       "(1.1491877180251064,\n",
       " 0.9999993260400688,\n",
       " 15,\n",
       " array([[0.05479452, 0.02739726, 0.1369863 , 0.2739726 , 0.32876712,\n",
       "         0.4109589 , 0.57534247, 0.54794521, 0.71232877, 0.52054795,\n",
       "         0.76712329, 0.54794521, 0.49315068, 0.35616438, 0.10958904,\n",
       "         0.1369863 ],\n",
       "        [0.14520548, 0.07260274, 0.3630137 , 0.7260274 , 0.87123288,\n",
       "         1.0890411 , 1.52465753, 1.45205479, 1.88767123, 1.37945205,\n",
       "         2.03287671, 1.45205479, 1.30684932, 0.94383562, 0.29041096,\n",
       "         0.3630137 ]]))"
      ]
     },
     "execution_count": 31,
     "metadata": {},
     "output_type": "execute_result"
    }
   ],
   "source": [
    "stats.chi2_contingency([heroin_use[:16],oxycontin_use[:16]])"
   ]
  },
  {
   "cell_type": "markdown",
   "metadata": {},
   "source": [
    "## Chi Square Tests age distributions\n",
    "For this we will change the degrees of freedom since there are now 13 different outcomes(drugs in the data) however we are still checking only two distributions.\n",
    "First we will gather the data into separate python lists to work with."
   ]
  },
  {
   "cell_type": "code",
   "execution_count": null,
   "metadata": {},
   "outputs": [],
   "source": [
    "freq_age_12 = []\n",
    "freq_age_13 = []\n",
    "freq_age_14 = []\n",
    "freq_age_15 = []\n",
    "freq_age_16 = []\n",
    "freq_age_17 = []\n",
    "freq_age_18 = []\n",
    "freq_age_19 = []\n",
    "freq_age_20 = []\n",
    "freq_age_21 = []\n",
    "freq_age_22_23 = []\n",
    "freq_age_24_25 = []\n",
    "freq_age_26_29 = []\n",
    "freq_age_30_34 = []\n",
    "age_35_49 = []\n",
    "age_50_64 = []\n",
    "age_65 = []\n",
    "\n",
    "for index, row in data.iterrows():\n",
    "    alcohol_use.append(data.at[index,'alcohol-use'])\n",
    "    marijuana_use.append(data.at[index,'marijuana-use'])\n",
    "    cocaine_use.append(data.at[index,'cocaine-use'])\n",
    "    crack_use.append(data.at[index,'crack-use'])\n",
    "    heroin_use.append(data.at[index,'heroin-use'])\n",
    "    hallucinogen_use.append(data.at[index,'hallucinogen-use'])\n",
    "    inhalant_use.append(data.at[index,'inhalant-use'])\n",
    "    pain_releiever_use.append(data.at[index,'pain-releiver-use'])\n",
    "    oxycontin_use.append(data.at[index,'oxycontin-use'])\n",
    "    tranquilizer_use.append(data.at[index,'tranquilizer-use'])\n",
    "    stimulant_use.append(data.at[index,'stimulant-use'])\n",
    "    meth_use.append(data.at[index,'meth-use'])\n",
    "    sedative_use.append(data.at[index,'sedative-use'])"
   ]
  },
  {
   "cell_type": "code",
   "execution_count": 35,
   "metadata": {},
   "outputs": [
    {
     "name": "stdout",
     "output_type": "stream",
     "text": [
      "Rejection Region: Greater than 21.03\n"
     ]
    },
    {
     "data": {
      "text/plain": [
       "Text(0.5, 0.92, 'Chi-Square Distribution with 12 Degrees of Freedom')"
      ]
     },
     "execution_count": 35,
     "metadata": {},
     "output_type": "execute_result"
    },
    {
     "data": {
      "image/png": "[encoded data removed]",
      "text/plain": [
       "<Figure size 720x720 with 1 Axes>"
      ]
     },
     "metadata": {
      "needs_background": "light"
     },
     "output_type": "display_data"
    }
   ],
   "source": [
    "degrees_freedom = len(frequency_columns) - 1 # (Length of possible outcomes - 1) * (2 distributions - 1)\n",
    "dist = stats.chi2(df=degrees_freedom)\n",
    "print('Rejection Region: Greater than', np.round(dist.ppf(0.95), 2))\n",
    "fig = plt.figure(figsize=(10,10))\n",
    "x = np.linspace(dist.ppf(0.0001), dist.ppf(0.9999), 100)\n",
    "plt.plot(x, dist.pdf(x))\n",
    "plt.plot([dist.ppf(0.95), dist.ppf(0.95)],[0, dist.pdf(dist.ppf(0.95))], linestyle='dotted', color='#1f77b4')\n",
    "X_fill = np.linspace(dist.ppf(0.95), dist.ppf(0.999))\n",
    "Y = dist.pdf(X_fill)\n",
    "plt.fill_between(X_fill, 0, Y, facecolor='red')\n",
    "plt.ylim(bottom=0)\n",
    "plt.xlabel('Chi-Square Statistic')\n",
    "plt.ylabel('Probability Density Function')\n",
    "fig.suptitle('Chi-Square Distribution with ' + str(degrees_freedom) + ' Degrees of Freedom', fontsize=15, y=0.92)"
   ]
  },
  {
   "cell_type": "code",
   "execution_count": 38,
   "metadata": {},
   "outputs": [
    {
     "ename": "KeyError",
     "evalue": "'12'",
     "output_type": "error",
     "traceback": [
      "\u001b[1;31m---------------------------------------------------------------------------\u001b[0m",
      "\u001b[1;31mKeyError\u001b[0m                                  Traceback (most recent call last)",
      "\u001b[1;32mD:\\Programs\\Anaconda3\\lib\\site-packages\\pandas\\core\\indexes\\base.py\u001b[0m in \u001b[0;36mget_loc\u001b[1;34m(self, key, method, tolerance)\u001b[0m\n\u001b[0;32m   2656\u001b[0m             \u001b[1;32mtry\u001b[0m\u001b[1;33m:\u001b[0m\u001b[1;33m\u001b[0m\u001b[1;33m\u001b[0m\u001b[0m\n\u001b[1;32m-> 2657\u001b[1;33m                 \u001b[1;32mreturn\u001b[0m \u001b[0mself\u001b[0m\u001b[1;33m.\u001b[0m\u001b[0m_engine\u001b[0m\u001b[1;33m.\u001b[0m\u001b[0mget_loc\u001b[0m\u001b[1;33m(\u001b[0m\u001b[0mkey\u001b[0m\u001b[1;33m)\u001b[0m\u001b[1;33m\u001b[0m\u001b[1;33m\u001b[0m\u001b[0m\n\u001b[0m\u001b[0;32m   2658\u001b[0m             \u001b[1;32mexcept\u001b[0m \u001b[0mKeyError\u001b[0m\u001b[1;33m:\u001b[0m\u001b[1;33m\u001b[0m\u001b[1;33m\u001b[0m\u001b[0m\n",
      "\u001b[1;32mpandas/_libs/index.pyx\u001b[0m in \u001b[0;36mpandas._libs.index.IndexEngine.get_loc\u001b[1;34m()\u001b[0m\n",
      "\u001b[1;32mpandas/_libs/index.pyx\u001b[0m in \u001b[0;36mpandas._libs.index.IndexEngine.get_loc\u001b[1;34m()\u001b[0m\n",
      "\u001b[1;32mpandas/_libs/index_class_helper.pxi\u001b[0m in \u001b[0;36mpandas._libs.index.Int64Engine._check_type\u001b[1;34m()\u001b[0m\n",
      "\u001b[1;31mKeyError\u001b[0m: '12'",
      "\nDuring handling of the above exception, another exception occurred:\n",
      "\u001b[1;31mKeyError\u001b[0m                                  Traceback (most recent call last)",
      "\u001b[1;32m<ipython-input-38-56e1864f9533>\u001b[0m in \u001b[0;36m<module>\u001b[1;34m\u001b[0m\n\u001b[1;32m----> 1\u001b[1;33m \u001b[0mstats\u001b[0m\u001b[1;33m.\u001b[0m\u001b[0mchi2_contingency\u001b[0m\u001b[1;33m(\u001b[0m\u001b[1;33m[\u001b[0m\u001b[0mfrequency_data\u001b[0m\u001b[1;33m.\u001b[0m\u001b[0mloc\u001b[0m\u001b[1;33m[\u001b[0m\u001b[1;34m'12'\u001b[0m\u001b[1;33m]\u001b[0m\u001b[1;33m[\u001b[0m\u001b[1;33m[\u001b[0m\u001b[0mfrequency_columns\u001b[0m\u001b[1;33m]\u001b[0m\u001b[1;33m]\u001b[0m\u001b[1;33m,\u001b[0m \u001b[0mfrequency_data\u001b[0m\u001b[1;33m.\u001b[0m\u001b[0mloc\u001b[0m\u001b[1;33m[\u001b[0m\u001b[1;34m'13'\u001b[0m\u001b[1;33m]\u001b[0m\u001b[1;33m[\u001b[0m\u001b[0mfrequency_columns\u001b[0m\u001b[1;33m]\u001b[0m\u001b[1;33m]\u001b[0m\u001b[1;33m)\u001b[0m\u001b[1;33m\u001b[0m\u001b[1;33m\u001b[0m\u001b[0m\n\u001b[0m",
      "\u001b[1;32mD:\\Programs\\Anaconda3\\lib\\site-packages\\pandas\\core\\indexing.py\u001b[0m in \u001b[0;36m__getitem__\u001b[1;34m(self, key)\u001b[0m\n\u001b[0;32m   1498\u001b[0m \u001b[1;33m\u001b[0m\u001b[0m\n\u001b[0;32m   1499\u001b[0m             \u001b[0mmaybe_callable\u001b[0m \u001b[1;33m=\u001b[0m \u001b[0mcom\u001b[0m\u001b[1;33m.\u001b[0m\u001b[0mapply_if_callable\u001b[0m\u001b[1;33m(\u001b[0m\u001b[0mkey\u001b[0m\u001b[1;33m,\u001b[0m \u001b[0mself\u001b[0m\u001b[1;33m.\u001b[0m\u001b[0mobj\u001b[0m\u001b[1;33m)\u001b[0m\u001b[1;33m\u001b[0m\u001b[1;33m\u001b[0m\u001b[0m\n\u001b[1;32m-> 1500\u001b[1;33m             \u001b[1;32mreturn\u001b[0m \u001b[0mself\u001b[0m\u001b[1;33m.\u001b[0m\u001b[0m_getitem_axis\u001b[0m\u001b[1;33m(\u001b[0m\u001b[0mmaybe_callable\u001b[0m\u001b[1;33m,\u001b[0m \u001b[0maxis\u001b[0m\u001b[1;33m=\u001b[0m\u001b[0maxis\u001b[0m\u001b[1;33m)\u001b[0m\u001b[1;33m\u001b[0m\u001b[1;33m\u001b[0m\u001b[0m\n\u001b[0m\u001b[0;32m   1501\u001b[0m \u001b[1;33m\u001b[0m\u001b[0m\n\u001b[0;32m   1502\u001b[0m     \u001b[1;32mdef\u001b[0m \u001b[0m_is_scalar_access\u001b[0m\u001b[1;33m(\u001b[0m\u001b[0mself\u001b[0m\u001b[1;33m,\u001b[0m \u001b[0mkey\u001b[0m\u001b[1;33m)\u001b[0m\u001b[1;33m:\u001b[0m\u001b[1;33m\u001b[0m\u001b[1;33m\u001b[0m\u001b[0m\n",
      "\u001b[1;32mD:\\Programs\\Anaconda3\\lib\\site-packages\\pandas\\core\\indexing.py\u001b[0m in \u001b[0;36m_getitem_axis\u001b[1;34m(self, key, axis)\u001b[0m\n\u001b[0;32m   1911\u001b[0m         \u001b[1;31m# fall thru to straight lookup\u001b[0m\u001b[1;33m\u001b[0m\u001b[1;33m\u001b[0m\u001b[1;33m\u001b[0m\u001b[0m\n\u001b[0;32m   1912\u001b[0m         \u001b[0mself\u001b[0m\u001b[1;33m.\u001b[0m\u001b[0m_validate_key\u001b[0m\u001b[1;33m(\u001b[0m\u001b[0mkey\u001b[0m\u001b[1;33m,\u001b[0m \u001b[0maxis\u001b[0m\u001b[1;33m)\u001b[0m\u001b[1;33m\u001b[0m\u001b[1;33m\u001b[0m\u001b[0m\n\u001b[1;32m-> 1913\u001b[1;33m         \u001b[1;32mreturn\u001b[0m \u001b[0mself\u001b[0m\u001b[1;33m.\u001b[0m\u001b[0m_get_label\u001b[0m\u001b[1;33m(\u001b[0m\u001b[0mkey\u001b[0m\u001b[1;33m,\u001b[0m \u001b[0maxis\u001b[0m\u001b[1;33m=\u001b[0m\u001b[0maxis\u001b[0m\u001b[1;33m)\u001b[0m\u001b[1;33m\u001b[0m\u001b[1;33m\u001b[0m\u001b[0m\n\u001b[0m\u001b[0;32m   1914\u001b[0m \u001b[1;33m\u001b[0m\u001b[0m\n\u001b[0;32m   1915\u001b[0m \u001b[1;33m\u001b[0m\u001b[0m\n",
      "\u001b[1;32mD:\\Programs\\Anaconda3\\lib\\site-packages\\pandas\\core\\indexing.py\u001b[0m in \u001b[0;36m_get_label\u001b[1;34m(self, label, axis)\u001b[0m\n\u001b[0;32m    139\u001b[0m             \u001b[1;32mraise\u001b[0m \u001b[0mIndexingError\u001b[0m\u001b[1;33m(\u001b[0m\u001b[1;34m'no slices here, handle elsewhere'\u001b[0m\u001b[1;33m)\u001b[0m\u001b[1;33m\u001b[0m\u001b[1;33m\u001b[0m\u001b[0m\n\u001b[0;32m    140\u001b[0m \u001b[1;33m\u001b[0m\u001b[0m\n\u001b[1;32m--> 141\u001b[1;33m         \u001b[1;32mreturn\u001b[0m \u001b[0mself\u001b[0m\u001b[1;33m.\u001b[0m\u001b[0mobj\u001b[0m\u001b[1;33m.\u001b[0m\u001b[0m_xs\u001b[0m\u001b[1;33m(\u001b[0m\u001b[0mlabel\u001b[0m\u001b[1;33m,\u001b[0m \u001b[0maxis\u001b[0m\u001b[1;33m=\u001b[0m\u001b[0maxis\u001b[0m\u001b[1;33m)\u001b[0m\u001b[1;33m\u001b[0m\u001b[1;33m\u001b[0m\u001b[0m\n\u001b[0m\u001b[0;32m    142\u001b[0m \u001b[1;33m\u001b[0m\u001b[0m\n\u001b[0;32m    143\u001b[0m     \u001b[1;32mdef\u001b[0m \u001b[0m_get_loc\u001b[0m\u001b[1;33m(\u001b[0m\u001b[0mself\u001b[0m\u001b[1;33m,\u001b[0m \u001b[0mkey\u001b[0m\u001b[1;33m,\u001b[0m \u001b[0maxis\u001b[0m\u001b[1;33m=\u001b[0m\u001b[1;32mNone\u001b[0m\u001b[1;33m)\u001b[0m\u001b[1;33m:\u001b[0m\u001b[1;33m\u001b[0m\u001b[1;33m\u001b[0m\u001b[0m\n",
      "\u001b[1;32mD:\\Programs\\Anaconda3\\lib\\site-packages\\pandas\\core\\generic.py\u001b[0m in \u001b[0;36mxs\u001b[1;34m(self, key, axis, level, drop_level)\u001b[0m\n\u001b[0;32m   3583\u001b[0m                                                       drop_level=drop_level)\n\u001b[0;32m   3584\u001b[0m         \u001b[1;32melse\u001b[0m\u001b[1;33m:\u001b[0m\u001b[1;33m\u001b[0m\u001b[1;33m\u001b[0m\u001b[0m\n\u001b[1;32m-> 3585\u001b[1;33m             \u001b[0mloc\u001b[0m \u001b[1;33m=\u001b[0m \u001b[0mself\u001b[0m\u001b[1;33m.\u001b[0m\u001b[0mindex\u001b[0m\u001b[1;33m.\u001b[0m\u001b[0mget_loc\u001b[0m\u001b[1;33m(\u001b[0m\u001b[0mkey\u001b[0m\u001b[1;33m)\u001b[0m\u001b[1;33m\u001b[0m\u001b[1;33m\u001b[0m\u001b[0m\n\u001b[0m\u001b[0;32m   3586\u001b[0m \u001b[1;33m\u001b[0m\u001b[0m\n\u001b[0;32m   3587\u001b[0m             \u001b[1;32mif\u001b[0m \u001b[0misinstance\u001b[0m\u001b[1;33m(\u001b[0m\u001b[0mloc\u001b[0m\u001b[1;33m,\u001b[0m \u001b[0mnp\u001b[0m\u001b[1;33m.\u001b[0m\u001b[0mndarray\u001b[0m\u001b[1;33m)\u001b[0m\u001b[1;33m:\u001b[0m\u001b[1;33m\u001b[0m\u001b[1;33m\u001b[0m\u001b[0m\n",
      "\u001b[1;32mD:\\Programs\\Anaconda3\\lib\\site-packages\\pandas\\core\\indexes\\base.py\u001b[0m in \u001b[0;36mget_loc\u001b[1;34m(self, key, method, tolerance)\u001b[0m\n\u001b[0;32m   2657\u001b[0m                 \u001b[1;32mreturn\u001b[0m \u001b[0mself\u001b[0m\u001b[1;33m.\u001b[0m\u001b[0m_engine\u001b[0m\u001b[1;33m.\u001b[0m\u001b[0mget_loc\u001b[0m\u001b[1;33m(\u001b[0m\u001b[0mkey\u001b[0m\u001b[1;33m)\u001b[0m\u001b[1;33m\u001b[0m\u001b[1;33m\u001b[0m\u001b[0m\n\u001b[0;32m   2658\u001b[0m             \u001b[1;32mexcept\u001b[0m \u001b[0mKeyError\u001b[0m\u001b[1;33m:\u001b[0m\u001b[1;33m\u001b[0m\u001b[1;33m\u001b[0m\u001b[0m\n\u001b[1;32m-> 2659\u001b[1;33m                 \u001b[1;32mreturn\u001b[0m \u001b[0mself\u001b[0m\u001b[1;33m.\u001b[0m\u001b[0m_engine\u001b[0m\u001b[1;33m.\u001b[0m\u001b[0mget_loc\u001b[0m\u001b[1;33m(\u001b[0m\u001b[0mself\u001b[0m\u001b[1;33m.\u001b[0m\u001b[0m_maybe_cast_indexer\u001b[0m\u001b[1;33m(\u001b[0m\u001b[0mkey\u001b[0m\u001b[1;33m)\u001b[0m\u001b[1;33m)\u001b[0m\u001b[1;33m\u001b[0m\u001b[1;33m\u001b[0m\u001b[0m\n\u001b[0m\u001b[0;32m   2660\u001b[0m         \u001b[0mindexer\u001b[0m \u001b[1;33m=\u001b[0m \u001b[0mself\u001b[0m\u001b[1;33m.\u001b[0m\u001b[0mget_indexer\u001b[0m\u001b[1;33m(\u001b[0m\u001b[1;33m[\u001b[0m\u001b[0mkey\u001b[0m\u001b[1;33m]\u001b[0m\u001b[1;33m,\u001b[0m \u001b[0mmethod\u001b[0m\u001b[1;33m=\u001b[0m\u001b[0mmethod\u001b[0m\u001b[1;33m,\u001b[0m \u001b[0mtolerance\u001b[0m\u001b[1;33m=\u001b[0m\u001b[0mtolerance\u001b[0m\u001b[1;33m)\u001b[0m\u001b[1;33m\u001b[0m\u001b[1;33m\u001b[0m\u001b[0m\n\u001b[0;32m   2661\u001b[0m         \u001b[1;32mif\u001b[0m \u001b[0mindexer\u001b[0m\u001b[1;33m.\u001b[0m\u001b[0mndim\u001b[0m \u001b[1;33m>\u001b[0m \u001b[1;36m1\u001b[0m \u001b[1;32mor\u001b[0m \u001b[0mindexer\u001b[0m\u001b[1;33m.\u001b[0m\u001b[0msize\u001b[0m \u001b[1;33m>\u001b[0m \u001b[1;36m1\u001b[0m\u001b[1;33m:\u001b[0m\u001b[1;33m\u001b[0m\u001b[1;33m\u001b[0m\u001b[0m\n",
      "\u001b[1;32mpandas/_libs/index.pyx\u001b[0m in \u001b[0;36mpandas._libs.index.IndexEngine.get_loc\u001b[1;34m()\u001b[0m\n",
      "\u001b[1;32mpandas/_libs/index.pyx\u001b[0m in \u001b[0;36mpandas._libs.index.IndexEngine.get_loc\u001b[1;34m()\u001b[0m\n",
      "\u001b[1;32mpandas/_libs/index_class_helper.pxi\u001b[0m in \u001b[0;36mpandas._libs.index.Int64Engine._check_type\u001b[1;34m()\u001b[0m\n",
      "\u001b[1;31mKeyError\u001b[0m: '12'"
     ]
    }
   ],
   "source": [
    "stats.chi2_contingency([frequency_data.loc['12'][[frequency_columns]], frequency_data.loc['13'][frequency_columns]])"
   ]
  },
  {
   "cell_type": "code",
   "execution_count": null,
   "metadata": {},
   "outputs": [],
   "source": []
  }
 ],
 "metadata": {
  "kernelspec": {
   "display_name": "Python 3",
   "language": "python",
   "name": "python3"
  },
  "language_info": {
   "codemirror_mode": {
    "name": "ipython",
    "version": 3
   },
   "file_extension": ".py",
   "mimetype": "text/x-python",
   "name": "python",
   "nbconvert_exporter": "python",
   "pygments_lexer": "ipython3",
   "version": "3.7.3"
  }
 },
 "nbformat": 4,
 "nbformat_minor": 4
}
