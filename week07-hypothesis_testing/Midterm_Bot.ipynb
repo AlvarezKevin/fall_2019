{
 "cells": [
  {
   "cell_type": "code",
   "execution_count": 69,
   "metadata": {},
   "outputs": [],
   "source": [
    "import itertools\n",
    "import numpy as np\n",
    "import matplotlib.pyplot as plt\n",
    "import scipy.stats as stats\n",
    "%matplotlib inline"
   ]
  },
  {
   "cell_type": "code",
   "execution_count": 19,
   "metadata": {},
   "outputs": [],
   "source": [
    "real_answers = '''\n",
    "'B'<>'C'<>'A,B,C,D'<>'C'<>'A,B,D'<>'B,C'<>'C'<>'C'<>'T'<>'F'<>'F'<>'T'<>'T'<>'F'<>'T'<>'F'<>'T'<>'F'<>'F'<>'F'<>'C,D'<>'C'<>'B'<>'C'<>'D'<>'D'<>'B'<>'C'<>'C'<>'D'<>'B'<>'C'<>'B'<>'B'<>'C'<>'B'<>'A'<>'T'<>'F'<>'T'<>'T'<>'F'<>'T'<>'B'<>'A'<>'A'<>'B'<>'D'<>'C'<>'A'<>'B'<>'F'<>'A,B,C,D'\n",
    "'''"
   ]
  },
  {
   "cell_type": "code",
   "execution_count": 23,
   "metadata": {},
   "outputs": [],
   "source": [
    "real_answers_list = real_answers.replace('\\n','').replace(\"'\",'').split(\"<>\")"
   ]
  },
  {
   "cell_type": "code",
   "execution_count": 51,
   "metadata": {},
   "outputs": [],
   "source": [
    "select_all = []\n",
    "for i in range(1,5):\n",
    "    select_all += list(itertools.combinations(['A','B','C','D'], i))\n",
    "select_all = [','.join(list(i)) for i in select_all]"
   ]
  },
  {
   "cell_type": "code",
   "execution_count": 116,
   "metadata": {},
   "outputs": [],
   "source": [
    "d = {}\n",
    "for i in range(len(real_answers_list)):\n",
    "    d[i + 1] = {}\n",
    "    d[i + 1]['Answer'] = real_answers_list[i]\n",
    "    if i + 1 in [2,3,5,6,21,22,53]:\n",
    "        d[i + 1]['Possible Answers'] = select_all\n",
    "    elif i + 1 in [27,28]:\n",
    "        d[i + 1]['Possible Answers'] = ['A','B','C']\n",
    "    elif i + 1 in [36,37]:\n",
    "        d[i + 1]['Possible Answers'] = ['A','B','C','D','E']\n",
    "    elif d[i + 1]['Answer'] in ['T', 'F']:\n",
    "        d[i + 1]['Possible Answers'] = ['T','F']\n",
    "    else:\n",
    "        d[i + 1]['Possible Answers'] = ['A','B','C','D']\n",
    "    "
   ]
  },
  {
   "cell_type": "code",
   "execution_count": 131,
   "metadata": {},
   "outputs": [],
   "source": [
    "np.random.seed(42)\n",
    "all_scores = []\n",
    "for j in range(10000):\n",
    "    score = 0\n",
    "    for i in d:\n",
    "        guess = np.random.choice(d[i]['Possible Answers'])\n",
    "        if guess == d[i]['Answer']:\n",
    "            score += 1\n",
    "    all_scores.append(score/len(d))"
   ]
  },
  {
   "cell_type": "code",
   "execution_count": 132,
   "metadata": {},
   "outputs": [
    {
     "data": {
      "text/plain": [
       "(array([4.2000e+01, 9.1000e+02, 7.9600e+03, 1.5167e+04, 3.5216e+04,\n",
       "        2.8389e+04, 8.4640e+03, 3.4610e+03, 3.7500e+02, 1.6000e+01]),\n",
       " array([0.0754717 , 0.12641509, 0.17735849, 0.22830189, 0.27924528,\n",
       "        0.33018868, 0.38113208, 0.43207547, 0.48301887, 0.53396226,\n",
       "        0.58490566]),\n",
       " <a list of 10 Patch objects>)"
      ]
     },
     "execution_count": 132,
     "metadata": {},
     "output_type": "execute_result"
    },
    {
     "data": {
      "image/png": "[encoded data removed]",
      "text/plain": [
       "<Figure size 432x288 with 1 Axes>"
      ]
     },
     "metadata": {
      "needs_background": "light"
     },
     "output_type": "display_data"
    }
   ],
   "source": [
    "plt.hist(all_scores)"
   ]
  },
  {
   "cell_type": "code",
   "execution_count": 133,
   "metadata": {},
   "outputs": [
    {
     "data": {
      "text/plain": [
       "0.3166292452830189"
      ]
     },
     "execution_count": 133,
     "metadata": {},
     "output_type": "execute_result"
    }
   ],
   "source": [
    "np.mean(all_scores)"
   ]
  },
  {
   "cell_type": "code",
   "execution_count": 134,
   "metadata": {},
   "outputs": [
    {
     "data": {
      "text/plain": [
       "0.06055152408686112"
      ]
     },
     "execution_count": 134,
     "metadata": {},
     "output_type": "execute_result"
    }
   ],
   "source": [
    "np.std(all_scores)"
   ]
  },
  {
   "cell_type": "code",
   "execution_count": null,
   "metadata": {},
   "outputs": [],
   "source": []
  }
 ],
 "metadata": {
  "kernelspec": {
   "display_name": "Python 3",
   "language": "python",
   "name": "python3"
  },
  "language_info": {
   "codemirror_mode": {
    "name": "ipython",
    "version": 3
   },
   "file_extension": ".py",
   "mimetype": "text/x-python",
   "name": "python",
   "nbconvert_exporter": "python",
   "pygments_lexer": "ipython3",
   "version": "3.7.3"
  }
 },
 "nbformat": 4,
 "nbformat_minor": 2
}
