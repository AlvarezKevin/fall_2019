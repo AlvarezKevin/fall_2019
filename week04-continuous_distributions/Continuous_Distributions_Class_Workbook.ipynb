{
 "cells": [
  {
   "cell_type": "code",
   "execution_count": 1,
   "metadata": {},
   "outputs": [],
   "source": [
    "import scipy.stats as stats\n",
    "import numpy as np\n",
    "import matplotlib.pyplot as plt\n",
    "import seaborn as sns\n",
    "import pandas as pd\n",
    "%matplotlib inline"
   ]
  },
  {
   "cell_type": "markdown",
   "metadata": {},
   "source": [
    "### Continuous Uniform Distribution"
   ]
  },
  {
   "cell_type": "markdown",
   "metadata": {},
   "source": [
    "As we mentioned in class, the continuous uniform distribution needs two inputs, the **minimum** and **maximum** of a range.\n",
    "\n",
    "A value has an equal value of falling anywhere in that range.\n",
    "\n",
    "In Scipy it is set up slightly oddly. We use the 'loc' argument to establish the minimum value, and the 'scale' argument to establish the total length of the range.\n",
    "\n",
    "For example, if we want to model a uniform distribution between 10 and 20, we'll use a 'loc' argument of 10 and a 'scale' argument of 10."
   ]
  },
  {
   "cell_type": "code",
   "execution_count": 2,
   "metadata": {},
   "outputs": [],
   "source": [
    "dist = stats.uniform(loc=10, scale=10)"
   ]
  },
  {
   "cell_type": "markdown",
   "metadata": {},
   "source": [
    "Much like with a discrete distribution, we can use the 'mean' function to find the mean of that distribution."
   ]
  },
  {
   "cell_type": "code",
   "execution_count": 3,
   "metadata": {},
   "outputs": [
    {
     "data": {
      "text/plain": [
       "15.0"
      ]
     },
     "execution_count": 3,
     "metadata": {},
     "output_type": "execute_result"
    }
   ],
   "source": [
    "dist.mean()"
   ]
  },
  {
   "cell_type": "markdown",
   "metadata": {},
   "source": [
    "We can also use the 'median' function to find the median of the distribution, which of course will be the same as a mean for a uniform function."
   ]
  },
  {
   "cell_type": "code",
   "execution_count": 4,
   "metadata": {},
   "outputs": [
    {
     "data": {
      "text/plain": [
       "15.0"
      ]
     },
     "execution_count": 4,
     "metadata": {},
     "output_type": "execute_result"
    }
   ],
   "source": [
    "dist.median()"
   ]
  },
  {
   "cell_type": "markdown",
   "metadata": {},
   "source": [
    "We can also find the 'PDF' of a value, though we need to remember that this doesn't tell us the probability that we'll land on a certain value! (as covered in lecture) "
   ]
  },
  {
   "cell_type": "code",
   "execution_count": 5,
   "metadata": {},
   "outputs": [
    {
     "data": {
      "text/plain": [
       "0.1"
      ]
     },
     "execution_count": 5,
     "metadata": {},
     "output_type": "execute_result"
    }
   ],
   "source": [
    "dist.pdf(15)"
   ]
  },
  {
   "cell_type": "markdown",
   "metadata": {},
   "source": [
    "Just like a discrete function, we can find the 'CDF' of a given value to see the probability that we land below a certain value."
   ]
  },
  {
   "cell_type": "code",
   "execution_count": 6,
   "metadata": {},
   "outputs": [
    {
     "data": {
      "text/plain": [
       "0.5"
      ]
     },
     "execution_count": 6,
     "metadata": {},
     "output_type": "execute_result"
    }
   ],
   "source": [
    "dist.cdf(15)"
   ]
  },
  {
   "cell_type": "markdown",
   "metadata": {},
   "source": [
    "Or the inverse of the 'CDF' of a given value to see the probability that we land above a certain value."
   ]
  },
  {
   "cell_type": "code",
   "execution_count": 7,
   "metadata": {},
   "outputs": [
    {
     "data": {
      "text/plain": [
       "0.5"
      ]
     },
     "execution_count": 7,
     "metadata": {},
     "output_type": "execute_result"
    }
   ],
   "source": [
    "1 - dist.cdf(15)"
   ]
  },
  {
   "cell_type": "markdown",
   "metadata": {},
   "source": [
    "We can also use two CDF values to find the probability that we land between two certain values."
   ]
  },
  {
   "cell_type": "code",
   "execution_count": 8,
   "metadata": {},
   "outputs": [
    {
     "data": {
      "text/plain": [
       "0.3"
      ]
     },
     "execution_count": 8,
     "metadata": {},
     "output_type": "execute_result"
    }
   ],
   "source": [
    "dist.cdf(15) - dist.cdf(12)"
   ]
  },
  {
   "cell_type": "markdown",
   "metadata": {},
   "source": [
    "A new function we can use is the 'PPF', which will give us the percentile ranking of a distribution. For instance, we can see what the first percentile value is of the distribution."
   ]
  },
  {
   "cell_type": "code",
   "execution_count": 9,
   "metadata": {},
   "outputs": [
    {
     "data": {
      "text/plain": [
       "10.1"
      ]
     },
     "execution_count": 9,
     "metadata": {},
     "output_type": "execute_result"
    }
   ],
   "source": [
    "dist.ppf(0.01)"
   ]
  },
  {
   "cell_type": "markdown",
   "metadata": {},
   "source": [
    "Or the 99th."
   ]
  },
  {
   "cell_type": "code",
   "execution_count": 10,
   "metadata": {},
   "outputs": [
    {
     "data": {
      "text/plain": [
       "19.9"
      ]
     },
     "execution_count": 10,
     "metadata": {},
     "output_type": "execute_result"
    }
   ],
   "source": [
    "dist.ppf(0.99)"
   ]
  },
  {
   "cell_type": "markdown",
   "metadata": {},
   "source": [
    "Np.linspace is another cool function. It lets us create an array of equally spaced values between a minimum and maximum value. Here, the first argument is a tuple of our minimum and maximum value, and the second argument is the number of values we want to have in our array."
   ]
  },
  {
   "cell_type": "code",
   "execution_count": 11,
   "metadata": {},
   "outputs": [
    {
     "data": {
      "text/plain": [
       "array([10.1       , 10.1989899 , 10.2979798 , 10.3969697 , 10.4959596 ,\n",
       "       10.59494949, 10.69393939, 10.79292929, 10.89191919, 10.99090909,\n",
       "       11.08989899, 11.18888889, 11.28787879, 11.38686869, 11.48585859,\n",
       "       11.58484848, 11.68383838, 11.78282828, 11.88181818, 11.98080808,\n",
       "       12.07979798, 12.17878788, 12.27777778, 12.37676768, 12.47575758,\n",
       "       12.57474747, 12.67373737, 12.77272727, 12.87171717, 12.97070707,\n",
       "       13.06969697, 13.16868687, 13.26767677, 13.36666667, 13.46565657,\n",
       "       13.56464646, 13.66363636, 13.76262626, 13.86161616, 13.96060606,\n",
       "       14.05959596, 14.15858586, 14.25757576, 14.35656566, 14.45555556,\n",
       "       14.55454545, 14.65353535, 14.75252525, 14.85151515, 14.95050505,\n",
       "       15.04949495, 15.14848485, 15.24747475, 15.34646465, 15.44545455,\n",
       "       15.54444444, 15.64343434, 15.74242424, 15.84141414, 15.94040404,\n",
       "       16.03939394, 16.13838384, 16.23737374, 16.33636364, 16.43535354,\n",
       "       16.53434343, 16.63333333, 16.73232323, 16.83131313, 16.93030303,\n",
       "       17.02929293, 17.12828283, 17.22727273, 17.32626263, 17.42525253,\n",
       "       17.52424242, 17.62323232, 17.72222222, 17.82121212, 17.92020202,\n",
       "       18.01919192, 18.11818182, 18.21717172, 18.31616162, 18.41515152,\n",
       "       18.51414141, 18.61313131, 18.71212121, 18.81111111, 18.91010101,\n",
       "       19.00909091, 19.10808081, 19.20707071, 19.30606061, 19.40505051,\n",
       "       19.5040404 , 19.6030303 , 19.7020202 , 19.8010101 , 19.9       ])"
      ]
     },
     "execution_count": 11,
     "metadata": {},
     "output_type": "execute_result"
    }
   ],
   "source": [
    "np.linspace(dist.ppf(0.01), dist.ppf(0.99), 100)"
   ]
  },
  {
   "cell_type": "markdown",
   "metadata": {},
   "source": [
    "We can use this to create a dataframe of a list of possible values in our distribution, along with the relative PDF and CDF values for our distribution."
   ]
  },
  {
   "cell_type": "code",
   "execution_count": 12,
   "metadata": {},
   "outputs": [
    {
     "data": {
      "text/html": [
       "<div>\n",
       "<style scoped>\n",
       "    .dataframe tbody tr th:only-of-type {\n",
       "        vertical-align: middle;\n",
       "    }\n",
       "\n",
       "    .dataframe tbody tr th {\n",
       "        vertical-align: top;\n",
       "    }\n",
       "\n",
       "    .dataframe thead th {\n",
       "        text-align: right;\n",
       "    }\n",
       "</style>\n",
       "<table border=\"1\" class=\"dataframe\">\n",
       "  <thead>\n",
       "    <tr style=\"text-align: right;\">\n",
       "      <th></th>\n",
       "      <th>value</th>\n",
       "      <th>PDF</th>\n",
       "      <th>CDF</th>\n",
       "    </tr>\n",
       "  </thead>\n",
       "  <tbody>\n",
       "    <tr>\n",
       "      <th>0</th>\n",
       "      <td>10.100000</td>\n",
       "      <td>0.1</td>\n",
       "      <td>0.010000</td>\n",
       "    </tr>\n",
       "    <tr>\n",
       "      <th>1</th>\n",
       "      <td>10.198990</td>\n",
       "      <td>0.1</td>\n",
       "      <td>0.019899</td>\n",
       "    </tr>\n",
       "    <tr>\n",
       "      <th>2</th>\n",
       "      <td>10.297980</td>\n",
       "      <td>0.1</td>\n",
       "      <td>0.029798</td>\n",
       "    </tr>\n",
       "    <tr>\n",
       "      <th>3</th>\n",
       "      <td>10.396970</td>\n",
       "      <td>0.1</td>\n",
       "      <td>0.039697</td>\n",
       "    </tr>\n",
       "    <tr>\n",
       "      <th>4</th>\n",
       "      <td>10.495960</td>\n",
       "      <td>0.1</td>\n",
       "      <td>0.049596</td>\n",
       "    </tr>\n",
       "    <tr>\n",
       "      <th>5</th>\n",
       "      <td>10.594949</td>\n",
       "      <td>0.1</td>\n",
       "      <td>0.059495</td>\n",
       "    </tr>\n",
       "    <tr>\n",
       "      <th>6</th>\n",
       "      <td>10.693939</td>\n",
       "      <td>0.1</td>\n",
       "      <td>0.069394</td>\n",
       "    </tr>\n",
       "    <tr>\n",
       "      <th>7</th>\n",
       "      <td>10.792929</td>\n",
       "      <td>0.1</td>\n",
       "      <td>0.079293</td>\n",
       "    </tr>\n",
       "    <tr>\n",
       "      <th>8</th>\n",
       "      <td>10.891919</td>\n",
       "      <td>0.1</td>\n",
       "      <td>0.089192</td>\n",
       "    </tr>\n",
       "    <tr>\n",
       "      <th>9</th>\n",
       "      <td>10.990909</td>\n",
       "      <td>0.1</td>\n",
       "      <td>0.099091</td>\n",
       "    </tr>\n",
       "    <tr>\n",
       "      <th>10</th>\n",
       "      <td>11.089899</td>\n",
       "      <td>0.1</td>\n",
       "      <td>0.108990</td>\n",
       "    </tr>\n",
       "    <tr>\n",
       "      <th>11</th>\n",
       "      <td>11.188889</td>\n",
       "      <td>0.1</td>\n",
       "      <td>0.118889</td>\n",
       "    </tr>\n",
       "    <tr>\n",
       "      <th>12</th>\n",
       "      <td>11.287879</td>\n",
       "      <td>0.1</td>\n",
       "      <td>0.128788</td>\n",
       "    </tr>\n",
       "    <tr>\n",
       "      <th>13</th>\n",
       "      <td>11.386869</td>\n",
       "      <td>0.1</td>\n",
       "      <td>0.138687</td>\n",
       "    </tr>\n",
       "    <tr>\n",
       "      <th>14</th>\n",
       "      <td>11.485859</td>\n",
       "      <td>0.1</td>\n",
       "      <td>0.148586</td>\n",
       "    </tr>\n",
       "    <tr>\n",
       "      <th>15</th>\n",
       "      <td>11.584848</td>\n",
       "      <td>0.1</td>\n",
       "      <td>0.158485</td>\n",
       "    </tr>\n",
       "    <tr>\n",
       "      <th>16</th>\n",
       "      <td>11.683838</td>\n",
       "      <td>0.1</td>\n",
       "      <td>0.168384</td>\n",
       "    </tr>\n",
       "    <tr>\n",
       "      <th>17</th>\n",
       "      <td>11.782828</td>\n",
       "      <td>0.1</td>\n",
       "      <td>0.178283</td>\n",
       "    </tr>\n",
       "    <tr>\n",
       "      <th>18</th>\n",
       "      <td>11.881818</td>\n",
       "      <td>0.1</td>\n",
       "      <td>0.188182</td>\n",
       "    </tr>\n",
       "    <tr>\n",
       "      <th>19</th>\n",
       "      <td>11.980808</td>\n",
       "      <td>0.1</td>\n",
       "      <td>0.198081</td>\n",
       "    </tr>\n",
       "    <tr>\n",
       "      <th>20</th>\n",
       "      <td>12.079798</td>\n",
       "      <td>0.1</td>\n",
       "      <td>0.207980</td>\n",
       "    </tr>\n",
       "    <tr>\n",
       "      <th>21</th>\n",
       "      <td>12.178788</td>\n",
       "      <td>0.1</td>\n",
       "      <td>0.217879</td>\n",
       "    </tr>\n",
       "    <tr>\n",
       "      <th>22</th>\n",
       "      <td>12.277778</td>\n",
       "      <td>0.1</td>\n",
       "      <td>0.227778</td>\n",
       "    </tr>\n",
       "    <tr>\n",
       "      <th>23</th>\n",
       "      <td>12.376768</td>\n",
       "      <td>0.1</td>\n",
       "      <td>0.237677</td>\n",
       "    </tr>\n",
       "    <tr>\n",
       "      <th>24</th>\n",
       "      <td>12.475758</td>\n",
       "      <td>0.1</td>\n",
       "      <td>0.247576</td>\n",
       "    </tr>\n",
       "    <tr>\n",
       "      <th>25</th>\n",
       "      <td>12.574747</td>\n",
       "      <td>0.1</td>\n",
       "      <td>0.257475</td>\n",
       "    </tr>\n",
       "    <tr>\n",
       "      <th>26</th>\n",
       "      <td>12.673737</td>\n",
       "      <td>0.1</td>\n",
       "      <td>0.267374</td>\n",
       "    </tr>\n",
       "    <tr>\n",
       "      <th>27</th>\n",
       "      <td>12.772727</td>\n",
       "      <td>0.1</td>\n",
       "      <td>0.277273</td>\n",
       "    </tr>\n",
       "    <tr>\n",
       "      <th>28</th>\n",
       "      <td>12.871717</td>\n",
       "      <td>0.1</td>\n",
       "      <td>0.287172</td>\n",
       "    </tr>\n",
       "    <tr>\n",
       "      <th>29</th>\n",
       "      <td>12.970707</td>\n",
       "      <td>0.1</td>\n",
       "      <td>0.297071</td>\n",
       "    </tr>\n",
       "    <tr>\n",
       "      <th>...</th>\n",
       "      <td>...</td>\n",
       "      <td>...</td>\n",
       "      <td>...</td>\n",
       "    </tr>\n",
       "    <tr>\n",
       "      <th>70</th>\n",
       "      <td>17.029293</td>\n",
       "      <td>0.1</td>\n",
       "      <td>0.702929</td>\n",
       "    </tr>\n",
       "    <tr>\n",
       "      <th>71</th>\n",
       "      <td>17.128283</td>\n",
       "      <td>0.1</td>\n",
       "      <td>0.712828</td>\n",
       "    </tr>\n",
       "    <tr>\n",
       "      <th>72</th>\n",
       "      <td>17.227273</td>\n",
       "      <td>0.1</td>\n",
       "      <td>0.722727</td>\n",
       "    </tr>\n",
       "    <tr>\n",
       "      <th>73</th>\n",
       "      <td>17.326263</td>\n",
       "      <td>0.1</td>\n",
       "      <td>0.732626</td>\n",
       "    </tr>\n",
       "    <tr>\n",
       "      <th>74</th>\n",
       "      <td>17.425253</td>\n",
       "      <td>0.1</td>\n",
       "      <td>0.742525</td>\n",
       "    </tr>\n",
       "    <tr>\n",
       "      <th>75</th>\n",
       "      <td>17.524242</td>\n",
       "      <td>0.1</td>\n",
       "      <td>0.752424</td>\n",
       "    </tr>\n",
       "    <tr>\n",
       "      <th>76</th>\n",
       "      <td>17.623232</td>\n",
       "      <td>0.1</td>\n",
       "      <td>0.762323</td>\n",
       "    </tr>\n",
       "    <tr>\n",
       "      <th>77</th>\n",
       "      <td>17.722222</td>\n",
       "      <td>0.1</td>\n",
       "      <td>0.772222</td>\n",
       "    </tr>\n",
       "    <tr>\n",
       "      <th>78</th>\n",
       "      <td>17.821212</td>\n",
       "      <td>0.1</td>\n",
       "      <td>0.782121</td>\n",
       "    </tr>\n",
       "    <tr>\n",
       "      <th>79</th>\n",
       "      <td>17.920202</td>\n",
       "      <td>0.1</td>\n",
       "      <td>0.792020</td>\n",
       "    </tr>\n",
       "    <tr>\n",
       "      <th>80</th>\n",
       "      <td>18.019192</td>\n",
       "      <td>0.1</td>\n",
       "      <td>0.801919</td>\n",
       "    </tr>\n",
       "    <tr>\n",
       "      <th>81</th>\n",
       "      <td>18.118182</td>\n",
       "      <td>0.1</td>\n",
       "      <td>0.811818</td>\n",
       "    </tr>\n",
       "    <tr>\n",
       "      <th>82</th>\n",
       "      <td>18.217172</td>\n",
       "      <td>0.1</td>\n",
       "      <td>0.821717</td>\n",
       "    </tr>\n",
       "    <tr>\n",
       "      <th>83</th>\n",
       "      <td>18.316162</td>\n",
       "      <td>0.1</td>\n",
       "      <td>0.831616</td>\n",
       "    </tr>\n",
       "    <tr>\n",
       "      <th>84</th>\n",
       "      <td>18.415152</td>\n",
       "      <td>0.1</td>\n",
       "      <td>0.841515</td>\n",
       "    </tr>\n",
       "    <tr>\n",
       "      <th>85</th>\n",
       "      <td>18.514141</td>\n",
       "      <td>0.1</td>\n",
       "      <td>0.851414</td>\n",
       "    </tr>\n",
       "    <tr>\n",
       "      <th>86</th>\n",
       "      <td>18.613131</td>\n",
       "      <td>0.1</td>\n",
       "      <td>0.861313</td>\n",
       "    </tr>\n",
       "    <tr>\n",
       "      <th>87</th>\n",
       "      <td>18.712121</td>\n",
       "      <td>0.1</td>\n",
       "      <td>0.871212</td>\n",
       "    </tr>\n",
       "    <tr>\n",
       "      <th>88</th>\n",
       "      <td>18.811111</td>\n",
       "      <td>0.1</td>\n",
       "      <td>0.881111</td>\n",
       "    </tr>\n",
       "    <tr>\n",
       "      <th>89</th>\n",
       "      <td>18.910101</td>\n",
       "      <td>0.1</td>\n",
       "      <td>0.891010</td>\n",
       "    </tr>\n",
       "    <tr>\n",
       "      <th>90</th>\n",
       "      <td>19.009091</td>\n",
       "      <td>0.1</td>\n",
       "      <td>0.900909</td>\n",
       "    </tr>\n",
       "    <tr>\n",
       "      <th>91</th>\n",
       "      <td>19.108081</td>\n",
       "      <td>0.1</td>\n",
       "      <td>0.910808</td>\n",
       "    </tr>\n",
       "    <tr>\n",
       "      <th>92</th>\n",
       "      <td>19.207071</td>\n",
       "      <td>0.1</td>\n",
       "      <td>0.920707</td>\n",
       "    </tr>\n",
       "    <tr>\n",
       "      <th>93</th>\n",
       "      <td>19.306061</td>\n",
       "      <td>0.1</td>\n",
       "      <td>0.930606</td>\n",
       "    </tr>\n",
       "    <tr>\n",
       "      <th>94</th>\n",
       "      <td>19.405051</td>\n",
       "      <td>0.1</td>\n",
       "      <td>0.940505</td>\n",
       "    </tr>\n",
       "    <tr>\n",
       "      <th>95</th>\n",
       "      <td>19.504040</td>\n",
       "      <td>0.1</td>\n",
       "      <td>0.950404</td>\n",
       "    </tr>\n",
       "    <tr>\n",
       "      <th>96</th>\n",
       "      <td>19.603030</td>\n",
       "      <td>0.1</td>\n",
       "      <td>0.960303</td>\n",
       "    </tr>\n",
       "    <tr>\n",
       "      <th>97</th>\n",
       "      <td>19.702020</td>\n",
       "      <td>0.1</td>\n",
       "      <td>0.970202</td>\n",
       "    </tr>\n",
       "    <tr>\n",
       "      <th>98</th>\n",
       "      <td>19.801010</td>\n",
       "      <td>0.1</td>\n",
       "      <td>0.980101</td>\n",
       "    </tr>\n",
       "    <tr>\n",
       "      <th>99</th>\n",
       "      <td>19.900000</td>\n",
       "      <td>0.1</td>\n",
       "      <td>0.990000</td>\n",
       "    </tr>\n",
       "  </tbody>\n",
       "</table>\n",
       "<p>100 rows × 3 columns</p>\n",
       "</div>"
      ],
      "text/plain": [
       "        value  PDF       CDF\n",
       "0   10.100000  0.1  0.010000\n",
       "1   10.198990  0.1  0.019899\n",
       "2   10.297980  0.1  0.029798\n",
       "3   10.396970  0.1  0.039697\n",
       "4   10.495960  0.1  0.049596\n",
       "5   10.594949  0.1  0.059495\n",
       "6   10.693939  0.1  0.069394\n",
       "7   10.792929  0.1  0.079293\n",
       "8   10.891919  0.1  0.089192\n",
       "9   10.990909  0.1  0.099091\n",
       "10  11.089899  0.1  0.108990\n",
       "11  11.188889  0.1  0.118889\n",
       "12  11.287879  0.1  0.128788\n",
       "13  11.386869  0.1  0.138687\n",
       "14  11.485859  0.1  0.148586\n",
       "15  11.584848  0.1  0.158485\n",
       "16  11.683838  0.1  0.168384\n",
       "17  11.782828  0.1  0.178283\n",
       "18  11.881818  0.1  0.188182\n",
       "19  11.980808  0.1  0.198081\n",
       "20  12.079798  0.1  0.207980\n",
       "21  12.178788  0.1  0.217879\n",
       "22  12.277778  0.1  0.227778\n",
       "23  12.376768  0.1  0.237677\n",
       "24  12.475758  0.1  0.247576\n",
       "25  12.574747  0.1  0.257475\n",
       "26  12.673737  0.1  0.267374\n",
       "27  12.772727  0.1  0.277273\n",
       "28  12.871717  0.1  0.287172\n",
       "29  12.970707  0.1  0.297071\n",
       "..        ...  ...       ...\n",
       "70  17.029293  0.1  0.702929\n",
       "71  17.128283  0.1  0.712828\n",
       "72  17.227273  0.1  0.722727\n",
       "73  17.326263  0.1  0.732626\n",
       "74  17.425253  0.1  0.742525\n",
       "75  17.524242  0.1  0.752424\n",
       "76  17.623232  0.1  0.762323\n",
       "77  17.722222  0.1  0.772222\n",
       "78  17.821212  0.1  0.782121\n",
       "79  17.920202  0.1  0.792020\n",
       "80  18.019192  0.1  0.801919\n",
       "81  18.118182  0.1  0.811818\n",
       "82  18.217172  0.1  0.821717\n",
       "83  18.316162  0.1  0.831616\n",
       "84  18.415152  0.1  0.841515\n",
       "85  18.514141  0.1  0.851414\n",
       "86  18.613131  0.1  0.861313\n",
       "87  18.712121  0.1  0.871212\n",
       "88  18.811111  0.1  0.881111\n",
       "89  18.910101  0.1  0.891010\n",
       "90  19.009091  0.1  0.900909\n",
       "91  19.108081  0.1  0.910808\n",
       "92  19.207071  0.1  0.920707\n",
       "93  19.306061  0.1  0.930606\n",
       "94  19.405051  0.1  0.940505\n",
       "95  19.504040  0.1  0.950404\n",
       "96  19.603030  0.1  0.960303\n",
       "97  19.702020  0.1  0.970202\n",
       "98  19.801010  0.1  0.980101\n",
       "99  19.900000  0.1  0.990000\n",
       "\n",
       "[100 rows x 3 columns]"
      ]
     },
     "execution_count": 12,
     "metadata": {},
     "output_type": "execute_result"
    }
   ],
   "source": [
    "df = pd.DataFrame()\n",
    "df['value'] = np.linspace(dist.ppf(0.01), dist.ppf(0.99), 100)\n",
    "df['PDF'] = dist.pdf(df['value'])\n",
    "df['CDF'] = dist.cdf(df['value'])\n",
    "df"
   ]
  },
  {
   "cell_type": "markdown",
   "metadata": {},
   "source": [
    "We can then use the Pandas functions we learned a few weeks ago to say, find the approximate value in our distribution with the highest CDF."
   ]
  },
  {
   "cell_type": "code",
   "execution_count": 13,
   "metadata": {},
   "outputs": [
    {
     "data": {
      "text/html": [
       "<div>\n",
       "<style scoped>\n",
       "    .dataframe tbody tr th:only-of-type {\n",
       "        vertical-align: middle;\n",
       "    }\n",
       "\n",
       "    .dataframe tbody tr th {\n",
       "        vertical-align: top;\n",
       "    }\n",
       "\n",
       "    .dataframe thead th {\n",
       "        text-align: right;\n",
       "    }\n",
       "</style>\n",
       "<table border=\"1\" class=\"dataframe\">\n",
       "  <thead>\n",
       "    <tr style=\"text-align: right;\">\n",
       "      <th></th>\n",
       "      <th>value</th>\n",
       "      <th>PDF</th>\n",
       "      <th>CDF</th>\n",
       "    </tr>\n",
       "  </thead>\n",
       "  <tbody>\n",
       "    <tr>\n",
       "      <th>99</th>\n",
       "      <td>19.9</td>\n",
       "      <td>0.1</td>\n",
       "      <td>0.99</td>\n",
       "    </tr>\n",
       "  </tbody>\n",
       "</table>\n",
       "</div>"
      ],
      "text/plain": [
       "    value  PDF   CDF\n",
       "99   19.9  0.1  0.99"
      ]
     },
     "execution_count": 13,
     "metadata": {},
     "output_type": "execute_result"
    }
   ],
   "source": [
    "df[df['CDF'] == df['CDF'].max()]"
   ]
  },
  {
   "cell_type": "markdown",
   "metadata": {},
   "source": [
    "Or the highest PDF (meaning, the highest relative chance of occuring). For a uniform distribution, each value has an equal chance of occuring."
   ]
  },
  {
   "cell_type": "code",
   "execution_count": 14,
   "metadata": {},
   "outputs": [
    {
     "data": {
      "text/html": [
       "<div>\n",
       "<style scoped>\n",
       "    .dataframe tbody tr th:only-of-type {\n",
       "        vertical-align: middle;\n",
       "    }\n",
       "\n",
       "    .dataframe tbody tr th {\n",
       "        vertical-align: top;\n",
       "    }\n",
       "\n",
       "    .dataframe thead th {\n",
       "        text-align: right;\n",
       "    }\n",
       "</style>\n",
       "<table border=\"1\" class=\"dataframe\">\n",
       "  <thead>\n",
       "    <tr style=\"text-align: right;\">\n",
       "      <th></th>\n",
       "      <th>value</th>\n",
       "      <th>PDF</th>\n",
       "      <th>CDF</th>\n",
       "    </tr>\n",
       "  </thead>\n",
       "  <tbody>\n",
       "    <tr>\n",
       "      <th>0</th>\n",
       "      <td>10.100000</td>\n",
       "      <td>0.1</td>\n",
       "      <td>0.010000</td>\n",
       "    </tr>\n",
       "    <tr>\n",
       "      <th>1</th>\n",
       "      <td>10.198990</td>\n",
       "      <td>0.1</td>\n",
       "      <td>0.019899</td>\n",
       "    </tr>\n",
       "    <tr>\n",
       "      <th>2</th>\n",
       "      <td>10.297980</td>\n",
       "      <td>0.1</td>\n",
       "      <td>0.029798</td>\n",
       "    </tr>\n",
       "    <tr>\n",
       "      <th>3</th>\n",
       "      <td>10.396970</td>\n",
       "      <td>0.1</td>\n",
       "      <td>0.039697</td>\n",
       "    </tr>\n",
       "    <tr>\n",
       "      <th>4</th>\n",
       "      <td>10.495960</td>\n",
       "      <td>0.1</td>\n",
       "      <td>0.049596</td>\n",
       "    </tr>\n",
       "    <tr>\n",
       "      <th>5</th>\n",
       "      <td>10.594949</td>\n",
       "      <td>0.1</td>\n",
       "      <td>0.059495</td>\n",
       "    </tr>\n",
       "    <tr>\n",
       "      <th>6</th>\n",
       "      <td>10.693939</td>\n",
       "      <td>0.1</td>\n",
       "      <td>0.069394</td>\n",
       "    </tr>\n",
       "    <tr>\n",
       "      <th>7</th>\n",
       "      <td>10.792929</td>\n",
       "      <td>0.1</td>\n",
       "      <td>0.079293</td>\n",
       "    </tr>\n",
       "    <tr>\n",
       "      <th>8</th>\n",
       "      <td>10.891919</td>\n",
       "      <td>0.1</td>\n",
       "      <td>0.089192</td>\n",
       "    </tr>\n",
       "    <tr>\n",
       "      <th>9</th>\n",
       "      <td>10.990909</td>\n",
       "      <td>0.1</td>\n",
       "      <td>0.099091</td>\n",
       "    </tr>\n",
       "    <tr>\n",
       "      <th>10</th>\n",
       "      <td>11.089899</td>\n",
       "      <td>0.1</td>\n",
       "      <td>0.108990</td>\n",
       "    </tr>\n",
       "    <tr>\n",
       "      <th>11</th>\n",
       "      <td>11.188889</td>\n",
       "      <td>0.1</td>\n",
       "      <td>0.118889</td>\n",
       "    </tr>\n",
       "    <tr>\n",
       "      <th>12</th>\n",
       "      <td>11.287879</td>\n",
       "      <td>0.1</td>\n",
       "      <td>0.128788</td>\n",
       "    </tr>\n",
       "    <tr>\n",
       "      <th>13</th>\n",
       "      <td>11.386869</td>\n",
       "      <td>0.1</td>\n",
       "      <td>0.138687</td>\n",
       "    </tr>\n",
       "    <tr>\n",
       "      <th>14</th>\n",
       "      <td>11.485859</td>\n",
       "      <td>0.1</td>\n",
       "      <td>0.148586</td>\n",
       "    </tr>\n",
       "    <tr>\n",
       "      <th>15</th>\n",
       "      <td>11.584848</td>\n",
       "      <td>0.1</td>\n",
       "      <td>0.158485</td>\n",
       "    </tr>\n",
       "    <tr>\n",
       "      <th>16</th>\n",
       "      <td>11.683838</td>\n",
       "      <td>0.1</td>\n",
       "      <td>0.168384</td>\n",
       "    </tr>\n",
       "    <tr>\n",
       "      <th>17</th>\n",
       "      <td>11.782828</td>\n",
       "      <td>0.1</td>\n",
       "      <td>0.178283</td>\n",
       "    </tr>\n",
       "    <tr>\n",
       "      <th>18</th>\n",
       "      <td>11.881818</td>\n",
       "      <td>0.1</td>\n",
       "      <td>0.188182</td>\n",
       "    </tr>\n",
       "    <tr>\n",
       "      <th>19</th>\n",
       "      <td>11.980808</td>\n",
       "      <td>0.1</td>\n",
       "      <td>0.198081</td>\n",
       "    </tr>\n",
       "    <tr>\n",
       "      <th>20</th>\n",
       "      <td>12.079798</td>\n",
       "      <td>0.1</td>\n",
       "      <td>0.207980</td>\n",
       "    </tr>\n",
       "    <tr>\n",
       "      <th>21</th>\n",
       "      <td>12.178788</td>\n",
       "      <td>0.1</td>\n",
       "      <td>0.217879</td>\n",
       "    </tr>\n",
       "    <tr>\n",
       "      <th>22</th>\n",
       "      <td>12.277778</td>\n",
       "      <td>0.1</td>\n",
       "      <td>0.227778</td>\n",
       "    </tr>\n",
       "    <tr>\n",
       "      <th>23</th>\n",
       "      <td>12.376768</td>\n",
       "      <td>0.1</td>\n",
       "      <td>0.237677</td>\n",
       "    </tr>\n",
       "    <tr>\n",
       "      <th>24</th>\n",
       "      <td>12.475758</td>\n",
       "      <td>0.1</td>\n",
       "      <td>0.247576</td>\n",
       "    </tr>\n",
       "    <tr>\n",
       "      <th>25</th>\n",
       "      <td>12.574747</td>\n",
       "      <td>0.1</td>\n",
       "      <td>0.257475</td>\n",
       "    </tr>\n",
       "    <tr>\n",
       "      <th>26</th>\n",
       "      <td>12.673737</td>\n",
       "      <td>0.1</td>\n",
       "      <td>0.267374</td>\n",
       "    </tr>\n",
       "    <tr>\n",
       "      <th>27</th>\n",
       "      <td>12.772727</td>\n",
       "      <td>0.1</td>\n",
       "      <td>0.277273</td>\n",
       "    </tr>\n",
       "    <tr>\n",
       "      <th>28</th>\n",
       "      <td>12.871717</td>\n",
       "      <td>0.1</td>\n",
       "      <td>0.287172</td>\n",
       "    </tr>\n",
       "    <tr>\n",
       "      <th>29</th>\n",
       "      <td>12.970707</td>\n",
       "      <td>0.1</td>\n",
       "      <td>0.297071</td>\n",
       "    </tr>\n",
       "    <tr>\n",
       "      <th>...</th>\n",
       "      <td>...</td>\n",
       "      <td>...</td>\n",
       "      <td>...</td>\n",
       "    </tr>\n",
       "    <tr>\n",
       "      <th>70</th>\n",
       "      <td>17.029293</td>\n",
       "      <td>0.1</td>\n",
       "      <td>0.702929</td>\n",
       "    </tr>\n",
       "    <tr>\n",
       "      <th>71</th>\n",
       "      <td>17.128283</td>\n",
       "      <td>0.1</td>\n",
       "      <td>0.712828</td>\n",
       "    </tr>\n",
       "    <tr>\n",
       "      <th>72</th>\n",
       "      <td>17.227273</td>\n",
       "      <td>0.1</td>\n",
       "      <td>0.722727</td>\n",
       "    </tr>\n",
       "    <tr>\n",
       "      <th>73</th>\n",
       "      <td>17.326263</td>\n",
       "      <td>0.1</td>\n",
       "      <td>0.732626</td>\n",
       "    </tr>\n",
       "    <tr>\n",
       "      <th>74</th>\n",
       "      <td>17.425253</td>\n",
       "      <td>0.1</td>\n",
       "      <td>0.742525</td>\n",
       "    </tr>\n",
       "    <tr>\n",
       "      <th>75</th>\n",
       "      <td>17.524242</td>\n",
       "      <td>0.1</td>\n",
       "      <td>0.752424</td>\n",
       "    </tr>\n",
       "    <tr>\n",
       "      <th>76</th>\n",
       "      <td>17.623232</td>\n",
       "      <td>0.1</td>\n",
       "      <td>0.762323</td>\n",
       "    </tr>\n",
       "    <tr>\n",
       "      <th>77</th>\n",
       "      <td>17.722222</td>\n",
       "      <td>0.1</td>\n",
       "      <td>0.772222</td>\n",
       "    </tr>\n",
       "    <tr>\n",
       "      <th>78</th>\n",
       "      <td>17.821212</td>\n",
       "      <td>0.1</td>\n",
       "      <td>0.782121</td>\n",
       "    </tr>\n",
       "    <tr>\n",
       "      <th>79</th>\n",
       "      <td>17.920202</td>\n",
       "      <td>0.1</td>\n",
       "      <td>0.792020</td>\n",
       "    </tr>\n",
       "    <tr>\n",
       "      <th>80</th>\n",
       "      <td>18.019192</td>\n",
       "      <td>0.1</td>\n",
       "      <td>0.801919</td>\n",
       "    </tr>\n",
       "    <tr>\n",
       "      <th>81</th>\n",
       "      <td>18.118182</td>\n",
       "      <td>0.1</td>\n",
       "      <td>0.811818</td>\n",
       "    </tr>\n",
       "    <tr>\n",
       "      <th>82</th>\n",
       "      <td>18.217172</td>\n",
       "      <td>0.1</td>\n",
       "      <td>0.821717</td>\n",
       "    </tr>\n",
       "    <tr>\n",
       "      <th>83</th>\n",
       "      <td>18.316162</td>\n",
       "      <td>0.1</td>\n",
       "      <td>0.831616</td>\n",
       "    </tr>\n",
       "    <tr>\n",
       "      <th>84</th>\n",
       "      <td>18.415152</td>\n",
       "      <td>0.1</td>\n",
       "      <td>0.841515</td>\n",
       "    </tr>\n",
       "    <tr>\n",
       "      <th>85</th>\n",
       "      <td>18.514141</td>\n",
       "      <td>0.1</td>\n",
       "      <td>0.851414</td>\n",
       "    </tr>\n",
       "    <tr>\n",
       "      <th>86</th>\n",
       "      <td>18.613131</td>\n",
       "      <td>0.1</td>\n",
       "      <td>0.861313</td>\n",
       "    </tr>\n",
       "    <tr>\n",
       "      <th>87</th>\n",
       "      <td>18.712121</td>\n",
       "      <td>0.1</td>\n",
       "      <td>0.871212</td>\n",
       "    </tr>\n",
       "    <tr>\n",
       "      <th>88</th>\n",
       "      <td>18.811111</td>\n",
       "      <td>0.1</td>\n",
       "      <td>0.881111</td>\n",
       "    </tr>\n",
       "    <tr>\n",
       "      <th>89</th>\n",
       "      <td>18.910101</td>\n",
       "      <td>0.1</td>\n",
       "      <td>0.891010</td>\n",
       "    </tr>\n",
       "    <tr>\n",
       "      <th>90</th>\n",
       "      <td>19.009091</td>\n",
       "      <td>0.1</td>\n",
       "      <td>0.900909</td>\n",
       "    </tr>\n",
       "    <tr>\n",
       "      <th>91</th>\n",
       "      <td>19.108081</td>\n",
       "      <td>0.1</td>\n",
       "      <td>0.910808</td>\n",
       "    </tr>\n",
       "    <tr>\n",
       "      <th>92</th>\n",
       "      <td>19.207071</td>\n",
       "      <td>0.1</td>\n",
       "      <td>0.920707</td>\n",
       "    </tr>\n",
       "    <tr>\n",
       "      <th>93</th>\n",
       "      <td>19.306061</td>\n",
       "      <td>0.1</td>\n",
       "      <td>0.930606</td>\n",
       "    </tr>\n",
       "    <tr>\n",
       "      <th>94</th>\n",
       "      <td>19.405051</td>\n",
       "      <td>0.1</td>\n",
       "      <td>0.940505</td>\n",
       "    </tr>\n",
       "    <tr>\n",
       "      <th>95</th>\n",
       "      <td>19.504040</td>\n",
       "      <td>0.1</td>\n",
       "      <td>0.950404</td>\n",
       "    </tr>\n",
       "    <tr>\n",
       "      <th>96</th>\n",
       "      <td>19.603030</td>\n",
       "      <td>0.1</td>\n",
       "      <td>0.960303</td>\n",
       "    </tr>\n",
       "    <tr>\n",
       "      <th>97</th>\n",
       "      <td>19.702020</td>\n",
       "      <td>0.1</td>\n",
       "      <td>0.970202</td>\n",
       "    </tr>\n",
       "    <tr>\n",
       "      <th>98</th>\n",
       "      <td>19.801010</td>\n",
       "      <td>0.1</td>\n",
       "      <td>0.980101</td>\n",
       "    </tr>\n",
       "    <tr>\n",
       "      <th>99</th>\n",
       "      <td>19.900000</td>\n",
       "      <td>0.1</td>\n",
       "      <td>0.990000</td>\n",
       "    </tr>\n",
       "  </tbody>\n",
       "</table>\n",
       "<p>100 rows × 3 columns</p>\n",
       "</div>"
      ],
      "text/plain": [
       "        value  PDF       CDF\n",
       "0   10.100000  0.1  0.010000\n",
       "1   10.198990  0.1  0.019899\n",
       "2   10.297980  0.1  0.029798\n",
       "3   10.396970  0.1  0.039697\n",
       "4   10.495960  0.1  0.049596\n",
       "5   10.594949  0.1  0.059495\n",
       "6   10.693939  0.1  0.069394\n",
       "7   10.792929  0.1  0.079293\n",
       "8   10.891919  0.1  0.089192\n",
       "9   10.990909  0.1  0.099091\n",
       "10  11.089899  0.1  0.108990\n",
       "11  11.188889  0.1  0.118889\n",
       "12  11.287879  0.1  0.128788\n",
       "13  11.386869  0.1  0.138687\n",
       "14  11.485859  0.1  0.148586\n",
       "15  11.584848  0.1  0.158485\n",
       "16  11.683838  0.1  0.168384\n",
       "17  11.782828  0.1  0.178283\n",
       "18  11.881818  0.1  0.188182\n",
       "19  11.980808  0.1  0.198081\n",
       "20  12.079798  0.1  0.207980\n",
       "21  12.178788  0.1  0.217879\n",
       "22  12.277778  0.1  0.227778\n",
       "23  12.376768  0.1  0.237677\n",
       "24  12.475758  0.1  0.247576\n",
       "25  12.574747  0.1  0.257475\n",
       "26  12.673737  0.1  0.267374\n",
       "27  12.772727  0.1  0.277273\n",
       "28  12.871717  0.1  0.287172\n",
       "29  12.970707  0.1  0.297071\n",
       "..        ...  ...       ...\n",
       "70  17.029293  0.1  0.702929\n",
       "71  17.128283  0.1  0.712828\n",
       "72  17.227273  0.1  0.722727\n",
       "73  17.326263  0.1  0.732626\n",
       "74  17.425253  0.1  0.742525\n",
       "75  17.524242  0.1  0.752424\n",
       "76  17.623232  0.1  0.762323\n",
       "77  17.722222  0.1  0.772222\n",
       "78  17.821212  0.1  0.782121\n",
       "79  17.920202  0.1  0.792020\n",
       "80  18.019192  0.1  0.801919\n",
       "81  18.118182  0.1  0.811818\n",
       "82  18.217172  0.1  0.821717\n",
       "83  18.316162  0.1  0.831616\n",
       "84  18.415152  0.1  0.841515\n",
       "85  18.514141  0.1  0.851414\n",
       "86  18.613131  0.1  0.861313\n",
       "87  18.712121  0.1  0.871212\n",
       "88  18.811111  0.1  0.881111\n",
       "89  18.910101  0.1  0.891010\n",
       "90  19.009091  0.1  0.900909\n",
       "91  19.108081  0.1  0.910808\n",
       "92  19.207071  0.1  0.920707\n",
       "93  19.306061  0.1  0.930606\n",
       "94  19.405051  0.1  0.940505\n",
       "95  19.504040  0.1  0.950404\n",
       "96  19.603030  0.1  0.960303\n",
       "97  19.702020  0.1  0.970202\n",
       "98  19.801010  0.1  0.980101\n",
       "99  19.900000  0.1  0.990000\n",
       "\n",
       "[100 rows x 3 columns]"
      ]
     },
     "execution_count": 14,
     "metadata": {},
     "output_type": "execute_result"
    }
   ],
   "source": [
    "df[df['PDF'] == df['PDF'].max()]"
   ]
  },
  {
   "cell_type": "markdown",
   "metadata": {},
   "source": [
    "And then graph them!"
   ]
  },
  {
   "cell_type": "code",
   "execution_count": 15,
   "metadata": {},
   "outputs": [
    {
     "data": {
      "text/plain": [
       "[<matplotlib.lines.Line2D at 0x1a1e6e2f60>]"
      ]
     },
     "execution_count": 15,
     "metadata": {},
     "output_type": "execute_result"
    },
    {
     "data": {
      "image/png": "[encoded data removed]",
      "text/plain": [
       "<Figure size 432x288 with 1 Axes>"
      ]
     },
     "metadata": {
      "needs_background": "light"
     },
     "output_type": "display_data"
    }
   ],
   "source": [
    "plt.plot(df['value'], df['PDF'])"
   ]
  },
  {
   "cell_type": "code",
   "execution_count": 16,
   "metadata": {},
   "outputs": [
    {
     "data": {
      "text/plain": [
       "[<matplotlib.lines.Line2D at 0x1a1e6f4320>]"
      ]
     },
     "execution_count": 16,
     "metadata": {},
     "output_type": "execute_result"
    },
    {
     "data": {
      "image/png": "[encoded data removed]",
      "text/plain": [
       "<Figure size 432x288 with 1 Axes>"
      ]
     },
     "metadata": {
      "needs_background": "light"
     },
     "output_type": "display_data"
    }
   ],
   "source": [
    "plt.plot(df['value'], df['CDF'])"
   ]
  },
  {
   "cell_type": "markdown",
   "metadata": {},
   "source": [
    "### Poisson Distribution"
   ]
  },
  {
   "cell_type": "markdown",
   "metadata": {},
   "source": [
    "Since the Poisson distribution is a discrete distribution, we can find the PMF and CDF values that we learned last week.\n",
    "\n",
    "Say that 5 babies are born every minute in a hospital (distributed via Poisson process)."
   ]
  },
  {
   "cell_type": "code",
   "execution_count": 17,
   "metadata": {},
   "outputs": [],
   "source": [
    "dist = stats.poisson(5)"
   ]
  },
  {
   "cell_type": "markdown",
   "metadata": {},
   "source": [
    "The mean of this distribution is 5."
   ]
  },
  {
   "cell_type": "code",
   "execution_count": 18,
   "metadata": {},
   "outputs": [
    {
     "data": {
      "text/plain": [
       "5.0"
      ]
     },
     "execution_count": 18,
     "metadata": {},
     "output_type": "execute_result"
    }
   ],
   "source": [
    "dist.mean()"
   ]
  },
  {
   "cell_type": "markdown",
   "metadata": {},
   "source": [
    "The probability that 0 babies are born in a minute is less than 1%."
   ]
  },
  {
   "cell_type": "code",
   "execution_count": 19,
   "metadata": {},
   "outputs": [
    {
     "data": {
      "text/plain": [
       "0.006737946999085467"
      ]
     },
     "execution_count": 19,
     "metadata": {},
     "output_type": "execute_result"
    }
   ],
   "source": [
    "dist.pmf(0)"
   ]
  },
  {
   "cell_type": "markdown",
   "metadata": {},
   "source": [
    "The probability that 5 babies are born in a minute is around 17%."
   ]
  },
  {
   "cell_type": "code",
   "execution_count": 20,
   "metadata": {},
   "outputs": [
    {
     "data": {
      "text/plain": [
       "0.17546736976785068"
      ]
     },
     "execution_count": 20,
     "metadata": {},
     "output_type": "execute_result"
    }
   ],
   "source": [
    "dist.pmf(5)"
   ]
  },
  {
   "cell_type": "markdown",
   "metadata": {},
   "source": [
    "The probability that 5 babies or less are born in a minute is 61%."
   ]
  },
  {
   "cell_type": "code",
   "execution_count": 21,
   "metadata": {},
   "outputs": [
    {
     "data": {
      "text/plain": [
       "0.615960654833063"
      ]
     },
     "execution_count": 21,
     "metadata": {},
     "output_type": "execute_result"
    }
   ],
   "source": [
    "dist.cdf(5)"
   ]
  },
  {
   "cell_type": "markdown",
   "metadata": {},
   "source": [
    "And the probability that more than 5 babies are born in a minute is 38%."
   ]
  },
  {
   "cell_type": "code",
   "execution_count": 22,
   "metadata": {},
   "outputs": [
    {
     "data": {
      "text/plain": [
       "0.38403934516693705"
      ]
     },
     "execution_count": 22,
     "metadata": {},
     "output_type": "execute_result"
    }
   ],
   "source": [
    "1 - dist.cdf(5)"
   ]
  },
  {
   "cell_type": "markdown",
   "metadata": {},
   "source": [
    "### Exponential Distribution"
   ]
  },
  {
   "cell_type": "markdown",
   "metadata": {},
   "source": [
    "For an exponential distribution, we'll take the inverse of the Poisson distribution. Here we'll say that on average, a baby is born every 1/5th of a minute (or every 12 seconds). Note that we have to specify the scale argument here for that."
   ]
  },
  {
   "cell_type": "code",
   "execution_count": 23,
   "metadata": {},
   "outputs": [],
   "source": [
    "dist = stats.expon(scale=1/5)"
   ]
  },
  {
   "cell_type": "markdown",
   "metadata": {},
   "source": [
    "The distribution has a mean of 0.2"
   ]
  },
  {
   "cell_type": "code",
   "execution_count": 24,
   "metadata": {},
   "outputs": [
    {
     "data": {
      "text/plain": [
       "0.2"
      ]
     },
     "execution_count": 24,
     "metadata": {},
     "output_type": "execute_result"
    }
   ],
   "source": [
    "dist.mean()"
   ]
  },
  {
   "cell_type": "markdown",
   "metadata": {},
   "source": [
    "The probability that it takes 30 seconds or less for the next baby to be born is around 92%."
   ]
  },
  {
   "cell_type": "code",
   "execution_count": 25,
   "metadata": {},
   "outputs": [
    {
     "data": {
      "text/plain": [
       "0.9179150013761012"
      ]
     },
     "execution_count": 25,
     "metadata": {},
     "output_type": "execute_result"
    }
   ],
   "source": [
    "dist.cdf(0.5)"
   ]
  },
  {
   "cell_type": "markdown",
   "metadata": {},
   "source": [
    "The probability that it takes more than 30 seconds for the next baby to be born is around 8%."
   ]
  },
  {
   "cell_type": "code",
   "execution_count": 26,
   "metadata": {},
   "outputs": [
    {
     "data": {
      "text/plain": [
       "0.08208499862389884"
      ]
     },
     "execution_count": 26,
     "metadata": {},
     "output_type": "execute_result"
    }
   ],
   "source": [
    "1 - dist.cdf(0.5)"
   ]
  },
  {
   "cell_type": "markdown",
   "metadata": {},
   "source": [
    "The 10th percentile of the distribution about 0.02. Be careful though - the distribution is scaled to one minute, so this is 0.02 of 1 minute, or 1.2 seconds"
   ]
  },
  {
   "cell_type": "code",
   "execution_count": 27,
   "metadata": {},
   "outputs": [
    {
     "data": {
      "text/plain": [
       "0.021072103131565264"
      ]
     },
     "execution_count": 27,
     "metadata": {},
     "output_type": "execute_result"
    }
   ],
   "source": [
    "dist.ppf(0.1)"
   ]
  },
  {
   "cell_type": "markdown",
   "metadata": {},
   "source": [
    "This is approximately in the 10th percentile of the distribution."
   ]
  },
  {
   "cell_type": "code",
   "execution_count": 28,
   "metadata": {},
   "outputs": [
    {
     "data": {
      "text/plain": [
       "0.09516258196404043"
      ]
     },
     "execution_count": 28,
     "metadata": {},
     "output_type": "execute_result"
    }
   ],
   "source": [
    "dist.cdf(1.2/60)"
   ]
  },
  {
   "cell_type": "code",
   "execution_count": 29,
   "metadata": {},
   "outputs": [
    {
     "data": {
      "text/html": [
       "<div>\n",
       "<style scoped>\n",
       "    .dataframe tbody tr th:only-of-type {\n",
       "        vertical-align: middle;\n",
       "    }\n",
       "\n",
       "    .dataframe tbody tr th {\n",
       "        vertical-align: top;\n",
       "    }\n",
       "\n",
       "    .dataframe thead th {\n",
       "        text-align: right;\n",
       "    }\n",
       "</style>\n",
       "<table border=\"1\" class=\"dataframe\">\n",
       "  <thead>\n",
       "    <tr style=\"text-align: right;\">\n",
       "      <th></th>\n",
       "      <th>value</th>\n",
       "      <th>PDF</th>\n",
       "      <th>CDF</th>\n",
       "    </tr>\n",
       "  </thead>\n",
       "  <tbody>\n",
       "    <tr>\n",
       "      <th>0</th>\n",
       "      <td>0.002010</td>\n",
       "      <td>4.950000</td>\n",
       "      <td>0.010000</td>\n",
       "    </tr>\n",
       "    <tr>\n",
       "      <th>1</th>\n",
       "      <td>0.011293</td>\n",
       "      <td>4.725495</td>\n",
       "      <td>0.054901</td>\n",
       "    </tr>\n",
       "    <tr>\n",
       "      <th>2</th>\n",
       "      <td>0.020576</td>\n",
       "      <td>4.511171</td>\n",
       "      <td>0.097766</td>\n",
       "    </tr>\n",
       "    <tr>\n",
       "      <th>3</th>\n",
       "      <td>0.029859</td>\n",
       "      <td>4.306569</td>\n",
       "      <td>0.138686</td>\n",
       "    </tr>\n",
       "    <tr>\n",
       "      <th>4</th>\n",
       "      <td>0.039142</td>\n",
       "      <td>4.111246</td>\n",
       "      <td>0.177751</td>\n",
       "    </tr>\n",
       "    <tr>\n",
       "      <th>5</th>\n",
       "      <td>0.048425</td>\n",
       "      <td>3.924782</td>\n",
       "      <td>0.215044</td>\n",
       "    </tr>\n",
       "    <tr>\n",
       "      <th>6</th>\n",
       "      <td>0.057708</td>\n",
       "      <td>3.746775</td>\n",
       "      <td>0.250645</td>\n",
       "    </tr>\n",
       "    <tr>\n",
       "      <th>7</th>\n",
       "      <td>0.066992</td>\n",
       "      <td>3.576841</td>\n",
       "      <td>0.284632</td>\n",
       "    </tr>\n",
       "    <tr>\n",
       "      <th>8</th>\n",
       "      <td>0.076275</td>\n",
       "      <td>3.414615</td>\n",
       "      <td>0.317077</td>\n",
       "    </tr>\n",
       "    <tr>\n",
       "      <th>9</th>\n",
       "      <td>0.085558</td>\n",
       "      <td>3.259746</td>\n",
       "      <td>0.348051</td>\n",
       "    </tr>\n",
       "    <tr>\n",
       "      <th>10</th>\n",
       "      <td>0.094841</td>\n",
       "      <td>3.111902</td>\n",
       "      <td>0.377620</td>\n",
       "    </tr>\n",
       "    <tr>\n",
       "      <th>11</th>\n",
       "      <td>0.104124</td>\n",
       "      <td>2.970763</td>\n",
       "      <td>0.405847</td>\n",
       "    </tr>\n",
       "    <tr>\n",
       "      <th>12</th>\n",
       "      <td>0.113407</td>\n",
       "      <td>2.836025</td>\n",
       "      <td>0.432795</td>\n",
       "    </tr>\n",
       "    <tr>\n",
       "      <th>13</th>\n",
       "      <td>0.122690</td>\n",
       "      <td>2.707398</td>\n",
       "      <td>0.458520</td>\n",
       "    </tr>\n",
       "    <tr>\n",
       "      <th>14</th>\n",
       "      <td>0.131973</td>\n",
       "      <td>2.584605</td>\n",
       "      <td>0.483079</td>\n",
       "    </tr>\n",
       "    <tr>\n",
       "      <th>15</th>\n",
       "      <td>0.141256</td>\n",
       "      <td>2.467381</td>\n",
       "      <td>0.506524</td>\n",
       "    </tr>\n",
       "    <tr>\n",
       "      <th>16</th>\n",
       "      <td>0.150539</td>\n",
       "      <td>2.355474</td>\n",
       "      <td>0.528905</td>\n",
       "    </tr>\n",
       "    <tr>\n",
       "      <th>17</th>\n",
       "      <td>0.159822</td>\n",
       "      <td>2.248642</td>\n",
       "      <td>0.550272</td>\n",
       "    </tr>\n",
       "    <tr>\n",
       "      <th>18</th>\n",
       "      <td>0.169105</td>\n",
       "      <td>2.146656</td>\n",
       "      <td>0.570669</td>\n",
       "    </tr>\n",
       "    <tr>\n",
       "      <th>19</th>\n",
       "      <td>0.178388</td>\n",
       "      <td>2.049295</td>\n",
       "      <td>0.590141</td>\n",
       "    </tr>\n",
       "    <tr>\n",
       "      <th>20</th>\n",
       "      <td>0.187671</td>\n",
       "      <td>1.956350</td>\n",
       "      <td>0.608730</td>\n",
       "    </tr>\n",
       "    <tr>\n",
       "      <th>21</th>\n",
       "      <td>0.196955</td>\n",
       "      <td>1.867621</td>\n",
       "      <td>0.626476</td>\n",
       "    </tr>\n",
       "    <tr>\n",
       "      <th>22</th>\n",
       "      <td>0.206238</td>\n",
       "      <td>1.782915</td>\n",
       "      <td>0.643417</td>\n",
       "    </tr>\n",
       "    <tr>\n",
       "      <th>23</th>\n",
       "      <td>0.215521</td>\n",
       "      <td>1.702052</td>\n",
       "      <td>0.659590</td>\n",
       "    </tr>\n",
       "    <tr>\n",
       "      <th>24</th>\n",
       "      <td>0.224804</td>\n",
       "      <td>1.624856</td>\n",
       "      <td>0.675029</td>\n",
       "    </tr>\n",
       "    <tr>\n",
       "      <th>25</th>\n",
       "      <td>0.234087</td>\n",
       "      <td>1.551161</td>\n",
       "      <td>0.689768</td>\n",
       "    </tr>\n",
       "    <tr>\n",
       "      <th>26</th>\n",
       "      <td>0.243370</td>\n",
       "      <td>1.480809</td>\n",
       "      <td>0.703838</td>\n",
       "    </tr>\n",
       "    <tr>\n",
       "      <th>27</th>\n",
       "      <td>0.252653</td>\n",
       "      <td>1.413647</td>\n",
       "      <td>0.717271</td>\n",
       "    </tr>\n",
       "    <tr>\n",
       "      <th>28</th>\n",
       "      <td>0.261936</td>\n",
       "      <td>1.349532</td>\n",
       "      <td>0.730094</td>\n",
       "    </tr>\n",
       "    <tr>\n",
       "      <th>29</th>\n",
       "      <td>0.271219</td>\n",
       "      <td>1.288324</td>\n",
       "      <td>0.742335</td>\n",
       "    </tr>\n",
       "    <tr>\n",
       "      <th>...</th>\n",
       "      <td>...</td>\n",
       "      <td>...</td>\n",
       "      <td>...</td>\n",
       "    </tr>\n",
       "    <tr>\n",
       "      <th>70</th>\n",
       "      <td>0.651825</td>\n",
       "      <td>0.192110</td>\n",
       "      <td>0.961578</td>\n",
       "    </tr>\n",
       "    <tr>\n",
       "      <th>71</th>\n",
       "      <td>0.661108</td>\n",
       "      <td>0.183397</td>\n",
       "      <td>0.963321</td>\n",
       "    </tr>\n",
       "    <tr>\n",
       "      <th>72</th>\n",
       "      <td>0.670391</td>\n",
       "      <td>0.175079</td>\n",
       "      <td>0.964984</td>\n",
       "    </tr>\n",
       "    <tr>\n",
       "      <th>73</th>\n",
       "      <td>0.679674</td>\n",
       "      <td>0.167138</td>\n",
       "      <td>0.966572</td>\n",
       "    </tr>\n",
       "    <tr>\n",
       "      <th>74</th>\n",
       "      <td>0.688957</td>\n",
       "      <td>0.159558</td>\n",
       "      <td>0.968088</td>\n",
       "    </tr>\n",
       "    <tr>\n",
       "      <th>75</th>\n",
       "      <td>0.698240</td>\n",
       "      <td>0.152321</td>\n",
       "      <td>0.969536</td>\n",
       "    </tr>\n",
       "    <tr>\n",
       "      <th>76</th>\n",
       "      <td>0.707523</td>\n",
       "      <td>0.145413</td>\n",
       "      <td>0.970917</td>\n",
       "    </tr>\n",
       "    <tr>\n",
       "      <th>77</th>\n",
       "      <td>0.716806</td>\n",
       "      <td>0.138818</td>\n",
       "      <td>0.972236</td>\n",
       "    </tr>\n",
       "    <tr>\n",
       "      <th>78</th>\n",
       "      <td>0.726090</td>\n",
       "      <td>0.132522</td>\n",
       "      <td>0.973496</td>\n",
       "    </tr>\n",
       "    <tr>\n",
       "      <th>79</th>\n",
       "      <td>0.735373</td>\n",
       "      <td>0.126511</td>\n",
       "      <td>0.974698</td>\n",
       "    </tr>\n",
       "    <tr>\n",
       "      <th>80</th>\n",
       "      <td>0.744656</td>\n",
       "      <td>0.120773</td>\n",
       "      <td>0.975845</td>\n",
       "    </tr>\n",
       "    <tr>\n",
       "      <th>81</th>\n",
       "      <td>0.753939</td>\n",
       "      <td>0.115296</td>\n",
       "      <td>0.976941</td>\n",
       "    </tr>\n",
       "    <tr>\n",
       "      <th>82</th>\n",
       "      <td>0.763222</td>\n",
       "      <td>0.110066</td>\n",
       "      <td>0.977987</td>\n",
       "    </tr>\n",
       "    <tr>\n",
       "      <th>83</th>\n",
       "      <td>0.772505</td>\n",
       "      <td>0.105074</td>\n",
       "      <td>0.978985</td>\n",
       "    </tr>\n",
       "    <tr>\n",
       "      <th>84</th>\n",
       "      <td>0.781788</td>\n",
       "      <td>0.100309</td>\n",
       "      <td>0.979938</td>\n",
       "    </tr>\n",
       "    <tr>\n",
       "      <th>85</th>\n",
       "      <td>0.791071</td>\n",
       "      <td>0.095759</td>\n",
       "      <td>0.980848</td>\n",
       "    </tr>\n",
       "    <tr>\n",
       "      <th>86</th>\n",
       "      <td>0.800354</td>\n",
       "      <td>0.091416</td>\n",
       "      <td>0.981717</td>\n",
       "    </tr>\n",
       "    <tr>\n",
       "      <th>87</th>\n",
       "      <td>0.809637</td>\n",
       "      <td>0.087270</td>\n",
       "      <td>0.982546</td>\n",
       "    </tr>\n",
       "    <tr>\n",
       "      <th>88</th>\n",
       "      <td>0.818920</td>\n",
       "      <td>0.083312</td>\n",
       "      <td>0.983338</td>\n",
       "    </tr>\n",
       "    <tr>\n",
       "      <th>89</th>\n",
       "      <td>0.828203</td>\n",
       "      <td>0.079533</td>\n",
       "      <td>0.984093</td>\n",
       "    </tr>\n",
       "    <tr>\n",
       "      <th>90</th>\n",
       "      <td>0.837486</td>\n",
       "      <td>0.075926</td>\n",
       "      <td>0.984815</td>\n",
       "    </tr>\n",
       "    <tr>\n",
       "      <th>91</th>\n",
       "      <td>0.846769</td>\n",
       "      <td>0.072483</td>\n",
       "      <td>0.985503</td>\n",
       "    </tr>\n",
       "    <tr>\n",
       "      <th>92</th>\n",
       "      <td>0.856053</td>\n",
       "      <td>0.069195</td>\n",
       "      <td>0.986161</td>\n",
       "    </tr>\n",
       "    <tr>\n",
       "      <th>93</th>\n",
       "      <td>0.865336</td>\n",
       "      <td>0.066057</td>\n",
       "      <td>0.986789</td>\n",
       "    </tr>\n",
       "    <tr>\n",
       "      <th>94</th>\n",
       "      <td>0.874619</td>\n",
       "      <td>0.063061</td>\n",
       "      <td>0.987388</td>\n",
       "    </tr>\n",
       "    <tr>\n",
       "      <th>95</th>\n",
       "      <td>0.883902</td>\n",
       "      <td>0.060201</td>\n",
       "      <td>0.987960</td>\n",
       "    </tr>\n",
       "    <tr>\n",
       "      <th>96</th>\n",
       "      <td>0.893185</td>\n",
       "      <td>0.057470</td>\n",
       "      <td>0.988506</td>\n",
       "    </tr>\n",
       "    <tr>\n",
       "      <th>97</th>\n",
       "      <td>0.902468</td>\n",
       "      <td>0.054864</td>\n",
       "      <td>0.989027</td>\n",
       "    </tr>\n",
       "    <tr>\n",
       "      <th>98</th>\n",
       "      <td>0.911751</td>\n",
       "      <td>0.052375</td>\n",
       "      <td>0.989525</td>\n",
       "    </tr>\n",
       "    <tr>\n",
       "      <th>99</th>\n",
       "      <td>0.921034</td>\n",
       "      <td>0.050000</td>\n",
       "      <td>0.990000</td>\n",
       "    </tr>\n",
       "  </tbody>\n",
       "</table>\n",
       "<p>100 rows × 3 columns</p>\n",
       "</div>"
      ],
      "text/plain": [
       "       value       PDF       CDF\n",
       "0   0.002010  4.950000  0.010000\n",
       "1   0.011293  4.725495  0.054901\n",
       "2   0.020576  4.511171  0.097766\n",
       "3   0.029859  4.306569  0.138686\n",
       "4   0.039142  4.111246  0.177751\n",
       "5   0.048425  3.924782  0.215044\n",
       "6   0.057708  3.746775  0.250645\n",
       "7   0.066992  3.576841  0.284632\n",
       "8   0.076275  3.414615  0.317077\n",
       "9   0.085558  3.259746  0.348051\n",
       "10  0.094841  3.111902  0.377620\n",
       "11  0.104124  2.970763  0.405847\n",
       "12  0.113407  2.836025  0.432795\n",
       "13  0.122690  2.707398  0.458520\n",
       "14  0.131973  2.584605  0.483079\n",
       "15  0.141256  2.467381  0.506524\n",
       "16  0.150539  2.355474  0.528905\n",
       "17  0.159822  2.248642  0.550272\n",
       "18  0.169105  2.146656  0.570669\n",
       "19  0.178388  2.049295  0.590141\n",
       "20  0.187671  1.956350  0.608730\n",
       "21  0.196955  1.867621  0.626476\n",
       "22  0.206238  1.782915  0.643417\n",
       "23  0.215521  1.702052  0.659590\n",
       "24  0.224804  1.624856  0.675029\n",
       "25  0.234087  1.551161  0.689768\n",
       "26  0.243370  1.480809  0.703838\n",
       "27  0.252653  1.413647  0.717271\n",
       "28  0.261936  1.349532  0.730094\n",
       "29  0.271219  1.288324  0.742335\n",
       "..       ...       ...       ...\n",
       "70  0.651825  0.192110  0.961578\n",
       "71  0.661108  0.183397  0.963321\n",
       "72  0.670391  0.175079  0.964984\n",
       "73  0.679674  0.167138  0.966572\n",
       "74  0.688957  0.159558  0.968088\n",
       "75  0.698240  0.152321  0.969536\n",
       "76  0.707523  0.145413  0.970917\n",
       "77  0.716806  0.138818  0.972236\n",
       "78  0.726090  0.132522  0.973496\n",
       "79  0.735373  0.126511  0.974698\n",
       "80  0.744656  0.120773  0.975845\n",
       "81  0.753939  0.115296  0.976941\n",
       "82  0.763222  0.110066  0.977987\n",
       "83  0.772505  0.105074  0.978985\n",
       "84  0.781788  0.100309  0.979938\n",
       "85  0.791071  0.095759  0.980848\n",
       "86  0.800354  0.091416  0.981717\n",
       "87  0.809637  0.087270  0.982546\n",
       "88  0.818920  0.083312  0.983338\n",
       "89  0.828203  0.079533  0.984093\n",
       "90  0.837486  0.075926  0.984815\n",
       "91  0.846769  0.072483  0.985503\n",
       "92  0.856053  0.069195  0.986161\n",
       "93  0.865336  0.066057  0.986789\n",
       "94  0.874619  0.063061  0.987388\n",
       "95  0.883902  0.060201  0.987960\n",
       "96  0.893185  0.057470  0.988506\n",
       "97  0.902468  0.054864  0.989027\n",
       "98  0.911751  0.052375  0.989525\n",
       "99  0.921034  0.050000  0.990000\n",
       "\n",
       "[100 rows x 3 columns]"
      ]
     },
     "execution_count": 29,
     "metadata": {},
     "output_type": "execute_result"
    }
   ],
   "source": [
    "df = pd.DataFrame()\n",
    "df['value'] = np.linspace(dist.ppf(0.01), dist.ppf(0.99), 100)\n",
    "df['PDF'] = dist.pdf(df['value'])\n",
    "df['CDF'] = dist.cdf(df['value'])\n",
    "df"
   ]
  },
  {
   "cell_type": "markdown",
   "metadata": {},
   "source": [
    "Which value has the maximum chance of occuring?"
   ]
  },
  {
   "cell_type": "code",
   "execution_count": 30,
   "metadata": {},
   "outputs": [
    {
     "data": {
      "text/html": [
       "<div>\n",
       "<style scoped>\n",
       "    .dataframe tbody tr th:only-of-type {\n",
       "        vertical-align: middle;\n",
       "    }\n",
       "\n",
       "    .dataframe tbody tr th {\n",
       "        vertical-align: top;\n",
       "    }\n",
       "\n",
       "    .dataframe thead th {\n",
       "        text-align: right;\n",
       "    }\n",
       "</style>\n",
       "<table border=\"1\" class=\"dataframe\">\n",
       "  <thead>\n",
       "    <tr style=\"text-align: right;\">\n",
       "      <th></th>\n",
       "      <th>value</th>\n",
       "      <th>PDF</th>\n",
       "      <th>CDF</th>\n",
       "    </tr>\n",
       "  </thead>\n",
       "  <tbody>\n",
       "    <tr>\n",
       "      <th>0</th>\n",
       "      <td>0.00201</td>\n",
       "      <td>4.95</td>\n",
       "      <td>0.01</td>\n",
       "    </tr>\n",
       "  </tbody>\n",
       "</table>\n",
       "</div>"
      ],
      "text/plain": [
       "     value   PDF   CDF\n",
       "0  0.00201  4.95  0.01"
      ]
     },
     "execution_count": 30,
     "metadata": {},
     "output_type": "execute_result"
    }
   ],
   "source": [
    "df[df['PDF'] == df['PDF'].max()]"
   ]
  },
  {
   "cell_type": "markdown",
   "metadata": {},
   "source": [
    "Which value has the minimum chance of occuring?"
   ]
  },
  {
   "cell_type": "code",
   "execution_count": 31,
   "metadata": {},
   "outputs": [
    {
     "data": {
      "text/html": [
       "<div>\n",
       "<style scoped>\n",
       "    .dataframe tbody tr th:only-of-type {\n",
       "        vertical-align: middle;\n",
       "    }\n",
       "\n",
       "    .dataframe tbody tr th {\n",
       "        vertical-align: top;\n",
       "    }\n",
       "\n",
       "    .dataframe thead th {\n",
       "        text-align: right;\n",
       "    }\n",
       "</style>\n",
       "<table border=\"1\" class=\"dataframe\">\n",
       "  <thead>\n",
       "    <tr style=\"text-align: right;\">\n",
       "      <th></th>\n",
       "      <th>value</th>\n",
       "      <th>PDF</th>\n",
       "      <th>CDF</th>\n",
       "    </tr>\n",
       "  </thead>\n",
       "  <tbody>\n",
       "    <tr>\n",
       "      <th>99</th>\n",
       "      <td>0.921034</td>\n",
       "      <td>0.05</td>\n",
       "      <td>0.99</td>\n",
       "    </tr>\n",
       "  </tbody>\n",
       "</table>\n",
       "</div>"
      ],
      "text/plain": [
       "       value   PDF   CDF\n",
       "99  0.921034  0.05  0.99"
      ]
     },
     "execution_count": 31,
     "metadata": {},
     "output_type": "execute_result"
    }
   ],
   "source": [
    "df[df['PDF'] == df['PDF'].min()]"
   ]
  },
  {
   "cell_type": "markdown",
   "metadata": {},
   "source": [
    "Note that the PDF is declining exponentially."
   ]
  },
  {
   "cell_type": "code",
   "execution_count": 32,
   "metadata": {},
   "outputs": [
    {
     "data": {
      "text/plain": [
       "[<matplotlib.lines.Line2D at 0x1a1e8fb780>]"
      ]
     },
     "execution_count": 32,
     "metadata": {},
     "output_type": "execute_result"
    },
    {
     "data": {
      "image/png": "[encoded data removed]",
      "text/plain": [
       "<Figure size 432x288 with 1 Axes>"
      ]
     },
     "metadata": {
      "needs_background": "light"
     },
     "output_type": "display_data"
    }
   ],
   "source": [
    "plt.plot(df['value'], df['PDF'])"
   ]
  },
  {
   "cell_type": "code",
   "execution_count": 33,
   "metadata": {},
   "outputs": [
    {
     "data": {
      "text/plain": [
       "[<matplotlib.lines.Line2D at 0x1a1e9177b8>]"
      ]
     },
     "execution_count": 33,
     "metadata": {},
     "output_type": "execute_result"
    },
    {
     "data": {
      "image/png": "[encoded data removed]",
      "text/plain": [
       "<Figure size 432x288 with 1 Axes>"
      ]
     },
     "metadata": {
      "needs_background": "light"
     },
     "output_type": "display_data"
    }
   ],
   "source": [
    "plt.plot(df['value'], df['CDF'])"
   ]
  },
  {
   "cell_type": "markdown",
   "metadata": {},
   "source": [
    "### Normal Distribution"
   ]
  },
  {
   "cell_type": "markdown",
   "metadata": {},
   "source": [
    "For a normal distribution, we'll want to specify two values, the mean and the standard deviation. Let's first do a standard normal distribution."
   ]
  },
  {
   "cell_type": "code",
   "execution_count": 34,
   "metadata": {},
   "outputs": [],
   "source": [
    "mean=0\n",
    "std=1\n",
    "dist = stats.norm(mean,std)"
   ]
  },
  {
   "cell_type": "code",
   "execution_count": 35,
   "metadata": {},
   "outputs": [
    {
     "data": {
      "text/plain": [
       "0.0"
      ]
     },
     "execution_count": 35,
     "metadata": {},
     "output_type": "execute_result"
    }
   ],
   "source": [
    "dist.mean()"
   ]
  },
  {
   "cell_type": "code",
   "execution_count": 36,
   "metadata": {},
   "outputs": [
    {
     "data": {
      "text/plain": [
       "1.0"
      ]
     },
     "execution_count": 36,
     "metadata": {},
     "output_type": "execute_result"
    }
   ],
   "source": [
    "dist.std()"
   ]
  },
  {
   "cell_type": "markdown",
   "metadata": {},
   "source": [
    "99% chance the value is below 3"
   ]
  },
  {
   "cell_type": "code",
   "execution_count": 37,
   "metadata": {},
   "outputs": [
    {
     "data": {
      "text/plain": [
       "0.9986501019683699"
      ]
     },
     "execution_count": 37,
     "metadata": {},
     "output_type": "execute_result"
    }
   ],
   "source": [
    "dist.cdf(3)"
   ]
  },
  {
   "cell_type": "markdown",
   "metadata": {},
   "source": [
    "50% chance the value is below 0"
   ]
  },
  {
   "cell_type": "code",
   "execution_count": 38,
   "metadata": {},
   "outputs": [
    {
     "data": {
      "text/plain": [
       "0.5"
      ]
     },
     "execution_count": 38,
     "metadata": {},
     "output_type": "execute_result"
    }
   ],
   "source": [
    "dist.cdf(0)"
   ]
  },
  {
   "cell_type": "markdown",
   "metadata": {},
   "source": [
    "97% chance the value is above -2"
   ]
  },
  {
   "cell_type": "code",
   "execution_count": 39,
   "metadata": {},
   "outputs": [
    {
     "data": {
      "text/plain": [
       "0.9772498680518208"
      ]
     },
     "execution_count": 39,
     "metadata": {},
     "output_type": "execute_result"
    }
   ],
   "source": [
    "1 - dist.cdf(-2)"
   ]
  },
  {
   "cell_type": "markdown",
   "metadata": {},
   "source": [
    "The 60th percentile of our function is 0.25"
   ]
  },
  {
   "cell_type": "code",
   "execution_count": 40,
   "metadata": {},
   "outputs": [
    {
     "data": {
      "text/plain": [
       "0.2533471031357997"
      ]
     },
     "execution_count": 40,
     "metadata": {},
     "output_type": "execute_result"
    }
   ],
   "source": [
    "dist.ppf(0.6)"
   ]
  },
  {
   "cell_type": "code",
   "execution_count": 41,
   "metadata": {},
   "outputs": [
    {
     "data": {
      "text/html": [
       "<div>\n",
       "<style scoped>\n",
       "    .dataframe tbody tr th:only-of-type {\n",
       "        vertical-align: middle;\n",
       "    }\n",
       "\n",
       "    .dataframe tbody tr th {\n",
       "        vertical-align: top;\n",
       "    }\n",
       "\n",
       "    .dataframe thead th {\n",
       "        text-align: right;\n",
       "    }\n",
       "</style>\n",
       "<table border=\"1\" class=\"dataframe\">\n",
       "  <thead>\n",
       "    <tr style=\"text-align: right;\">\n",
       "      <th></th>\n",
       "      <th>value</th>\n",
       "      <th>PDF</th>\n",
       "      <th>CDF</th>\n",
       "    </tr>\n",
       "  </thead>\n",
       "  <tbody>\n",
       "    <tr>\n",
       "      <th>0</th>\n",
       "      <td>-2.326348</td>\n",
       "      <td>0.026652</td>\n",
       "      <td>0.010000</td>\n",
       "    </tr>\n",
       "    <tr>\n",
       "      <th>1</th>\n",
       "      <td>-2.279351</td>\n",
       "      <td>0.029698</td>\n",
       "      <td>0.011323</td>\n",
       "    </tr>\n",
       "    <tr>\n",
       "      <th>2</th>\n",
       "      <td>-2.232354</td>\n",
       "      <td>0.033020</td>\n",
       "      <td>0.012796</td>\n",
       "    </tr>\n",
       "    <tr>\n",
       "      <th>3</th>\n",
       "      <td>-2.185357</td>\n",
       "      <td>0.036632</td>\n",
       "      <td>0.014431</td>\n",
       "    </tr>\n",
       "    <tr>\n",
       "      <th>4</th>\n",
       "      <td>-2.138360</td>\n",
       "      <td>0.040550</td>\n",
       "      <td>0.016244</td>\n",
       "    </tr>\n",
       "    <tr>\n",
       "      <th>5</th>\n",
       "      <td>-2.091363</td>\n",
       "      <td>0.044787</td>\n",
       "      <td>0.018248</td>\n",
       "    </tr>\n",
       "    <tr>\n",
       "      <th>6</th>\n",
       "      <td>-2.044366</td>\n",
       "      <td>0.049358</td>\n",
       "      <td>0.020459</td>\n",
       "    </tr>\n",
       "    <tr>\n",
       "      <th>7</th>\n",
       "      <td>-1.997369</td>\n",
       "      <td>0.054276</td>\n",
       "      <td>0.022893</td>\n",
       "    </tr>\n",
       "    <tr>\n",
       "      <th>8</th>\n",
       "      <td>-1.950372</td>\n",
       "      <td>0.059551</td>\n",
       "      <td>0.025566</td>\n",
       "    </tr>\n",
       "    <tr>\n",
       "      <th>9</th>\n",
       "      <td>-1.903376</td>\n",
       "      <td>0.065196</td>\n",
       "      <td>0.028496</td>\n",
       "    </tr>\n",
       "    <tr>\n",
       "      <th>10</th>\n",
       "      <td>-1.856379</td>\n",
       "      <td>0.071218</td>\n",
       "      <td>0.031700</td>\n",
       "    </tr>\n",
       "    <tr>\n",
       "      <th>11</th>\n",
       "      <td>-1.809382</td>\n",
       "      <td>0.077625</td>\n",
       "      <td>0.035196</td>\n",
       "    </tr>\n",
       "    <tr>\n",
       "      <th>12</th>\n",
       "      <td>-1.762385</td>\n",
       "      <td>0.084421</td>\n",
       "      <td>0.039002</td>\n",
       "    </tr>\n",
       "    <tr>\n",
       "      <th>13</th>\n",
       "      <td>-1.715388</td>\n",
       "      <td>0.091610</td>\n",
       "      <td>0.043137</td>\n",
       "    </tr>\n",
       "    <tr>\n",
       "      <th>14</th>\n",
       "      <td>-1.668391</td>\n",
       "      <td>0.099192</td>\n",
       "      <td>0.047619</td>\n",
       "    </tr>\n",
       "    <tr>\n",
       "      <th>15</th>\n",
       "      <td>-1.621394</td>\n",
       "      <td>0.107164</td>\n",
       "      <td>0.052467</td>\n",
       "    </tr>\n",
       "    <tr>\n",
       "      <th>16</th>\n",
       "      <td>-1.574397</td>\n",
       "      <td>0.115521</td>\n",
       "      <td>0.057698</td>\n",
       "    </tr>\n",
       "    <tr>\n",
       "      <th>17</th>\n",
       "      <td>-1.527400</td>\n",
       "      <td>0.124256</td>\n",
       "      <td>0.063331</td>\n",
       "    </tr>\n",
       "    <tr>\n",
       "      <th>18</th>\n",
       "      <td>-1.480403</td>\n",
       "      <td>0.133356</td>\n",
       "      <td>0.069383</td>\n",
       "    </tr>\n",
       "    <tr>\n",
       "      <th>19</th>\n",
       "      <td>-1.433406</td>\n",
       "      <td>0.142806</td>\n",
       "      <td>0.075871</td>\n",
       "    </tr>\n",
       "    <tr>\n",
       "      <th>20</th>\n",
       "      <td>-1.386409</td>\n",
       "      <td>0.152590</td>\n",
       "      <td>0.082811</td>\n",
       "    </tr>\n",
       "    <tr>\n",
       "      <th>21</th>\n",
       "      <td>-1.339412</td>\n",
       "      <td>0.162683</td>\n",
       "      <td>0.090218</td>\n",
       "    </tr>\n",
       "    <tr>\n",
       "      <th>22</th>\n",
       "      <td>-1.292415</td>\n",
       "      <td>0.173062</td>\n",
       "      <td>0.098107</td>\n",
       "    </tr>\n",
       "    <tr>\n",
       "      <th>23</th>\n",
       "      <td>-1.245419</td>\n",
       "      <td>0.183696</td>\n",
       "      <td>0.106489</td>\n",
       "    </tr>\n",
       "    <tr>\n",
       "      <th>24</th>\n",
       "      <td>-1.198422</td>\n",
       "      <td>0.194554</td>\n",
       "      <td>0.115376</td>\n",
       "    </tr>\n",
       "    <tr>\n",
       "      <th>25</th>\n",
       "      <td>-1.151425</td>\n",
       "      <td>0.205599</td>\n",
       "      <td>0.124779</td>\n",
       "    </tr>\n",
       "    <tr>\n",
       "      <th>26</th>\n",
       "      <td>-1.104428</td>\n",
       "      <td>0.216792</td>\n",
       "      <td>0.134704</td>\n",
       "    </tr>\n",
       "    <tr>\n",
       "      <th>27</th>\n",
       "      <td>-1.057431</td>\n",
       "      <td>0.228089</td>\n",
       "      <td>0.145157</td>\n",
       "    </tr>\n",
       "    <tr>\n",
       "      <th>28</th>\n",
       "      <td>-1.010434</td>\n",
       "      <td>0.239446</td>\n",
       "      <td>0.156144</td>\n",
       "    </tr>\n",
       "    <tr>\n",
       "      <th>29</th>\n",
       "      <td>-0.963437</td>\n",
       "      <td>0.250814</td>\n",
       "      <td>0.167664</td>\n",
       "    </tr>\n",
       "    <tr>\n",
       "      <th>...</th>\n",
       "      <td>...</td>\n",
       "      <td>...</td>\n",
       "      <td>...</td>\n",
       "    </tr>\n",
       "    <tr>\n",
       "      <th>70</th>\n",
       "      <td>0.963437</td>\n",
       "      <td>0.250814</td>\n",
       "      <td>0.832336</td>\n",
       "    </tr>\n",
       "    <tr>\n",
       "      <th>71</th>\n",
       "      <td>1.010434</td>\n",
       "      <td>0.239446</td>\n",
       "      <td>0.843856</td>\n",
       "    </tr>\n",
       "    <tr>\n",
       "      <th>72</th>\n",
       "      <td>1.057431</td>\n",
       "      <td>0.228089</td>\n",
       "      <td>0.854843</td>\n",
       "    </tr>\n",
       "    <tr>\n",
       "      <th>73</th>\n",
       "      <td>1.104428</td>\n",
       "      <td>0.216792</td>\n",
       "      <td>0.865296</td>\n",
       "    </tr>\n",
       "    <tr>\n",
       "      <th>74</th>\n",
       "      <td>1.151425</td>\n",
       "      <td>0.205599</td>\n",
       "      <td>0.875221</td>\n",
       "    </tr>\n",
       "    <tr>\n",
       "      <th>75</th>\n",
       "      <td>1.198422</td>\n",
       "      <td>0.194554</td>\n",
       "      <td>0.884624</td>\n",
       "    </tr>\n",
       "    <tr>\n",
       "      <th>76</th>\n",
       "      <td>1.245419</td>\n",
       "      <td>0.183696</td>\n",
       "      <td>0.893511</td>\n",
       "    </tr>\n",
       "    <tr>\n",
       "      <th>77</th>\n",
       "      <td>1.292415</td>\n",
       "      <td>0.173062</td>\n",
       "      <td>0.901893</td>\n",
       "    </tr>\n",
       "    <tr>\n",
       "      <th>78</th>\n",
       "      <td>1.339412</td>\n",
       "      <td>0.162683</td>\n",
       "      <td>0.909782</td>\n",
       "    </tr>\n",
       "    <tr>\n",
       "      <th>79</th>\n",
       "      <td>1.386409</td>\n",
       "      <td>0.152590</td>\n",
       "      <td>0.917189</td>\n",
       "    </tr>\n",
       "    <tr>\n",
       "      <th>80</th>\n",
       "      <td>1.433406</td>\n",
       "      <td>0.142806</td>\n",
       "      <td>0.924129</td>\n",
       "    </tr>\n",
       "    <tr>\n",
       "      <th>81</th>\n",
       "      <td>1.480403</td>\n",
       "      <td>0.133356</td>\n",
       "      <td>0.930617</td>\n",
       "    </tr>\n",
       "    <tr>\n",
       "      <th>82</th>\n",
       "      <td>1.527400</td>\n",
       "      <td>0.124256</td>\n",
       "      <td>0.936669</td>\n",
       "    </tr>\n",
       "    <tr>\n",
       "      <th>83</th>\n",
       "      <td>1.574397</td>\n",
       "      <td>0.115521</td>\n",
       "      <td>0.942302</td>\n",
       "    </tr>\n",
       "    <tr>\n",
       "      <th>84</th>\n",
       "      <td>1.621394</td>\n",
       "      <td>0.107164</td>\n",
       "      <td>0.947533</td>\n",
       "    </tr>\n",
       "    <tr>\n",
       "      <th>85</th>\n",
       "      <td>1.668391</td>\n",
       "      <td>0.099192</td>\n",
       "      <td>0.952381</td>\n",
       "    </tr>\n",
       "    <tr>\n",
       "      <th>86</th>\n",
       "      <td>1.715388</td>\n",
       "      <td>0.091610</td>\n",
       "      <td>0.956863</td>\n",
       "    </tr>\n",
       "    <tr>\n",
       "      <th>87</th>\n",
       "      <td>1.762385</td>\n",
       "      <td>0.084421</td>\n",
       "      <td>0.960998</td>\n",
       "    </tr>\n",
       "    <tr>\n",
       "      <th>88</th>\n",
       "      <td>1.809382</td>\n",
       "      <td>0.077625</td>\n",
       "      <td>0.964804</td>\n",
       "    </tr>\n",
       "    <tr>\n",
       "      <th>89</th>\n",
       "      <td>1.856379</td>\n",
       "      <td>0.071218</td>\n",
       "      <td>0.968300</td>\n",
       "    </tr>\n",
       "    <tr>\n",
       "      <th>90</th>\n",
       "      <td>1.903376</td>\n",
       "      <td>0.065196</td>\n",
       "      <td>0.971504</td>\n",
       "    </tr>\n",
       "    <tr>\n",
       "      <th>91</th>\n",
       "      <td>1.950372</td>\n",
       "      <td>0.059551</td>\n",
       "      <td>0.974434</td>\n",
       "    </tr>\n",
       "    <tr>\n",
       "      <th>92</th>\n",
       "      <td>1.997369</td>\n",
       "      <td>0.054276</td>\n",
       "      <td>0.977107</td>\n",
       "    </tr>\n",
       "    <tr>\n",
       "      <th>93</th>\n",
       "      <td>2.044366</td>\n",
       "      <td>0.049358</td>\n",
       "      <td>0.979541</td>\n",
       "    </tr>\n",
       "    <tr>\n",
       "      <th>94</th>\n",
       "      <td>2.091363</td>\n",
       "      <td>0.044787</td>\n",
       "      <td>0.981752</td>\n",
       "    </tr>\n",
       "    <tr>\n",
       "      <th>95</th>\n",
       "      <td>2.138360</td>\n",
       "      <td>0.040550</td>\n",
       "      <td>0.983756</td>\n",
       "    </tr>\n",
       "    <tr>\n",
       "      <th>96</th>\n",
       "      <td>2.185357</td>\n",
       "      <td>0.036632</td>\n",
       "      <td>0.985569</td>\n",
       "    </tr>\n",
       "    <tr>\n",
       "      <th>97</th>\n",
       "      <td>2.232354</td>\n",
       "      <td>0.033020</td>\n",
       "      <td>0.987204</td>\n",
       "    </tr>\n",
       "    <tr>\n",
       "      <th>98</th>\n",
       "      <td>2.279351</td>\n",
       "      <td>0.029698</td>\n",
       "      <td>0.988677</td>\n",
       "    </tr>\n",
       "    <tr>\n",
       "      <th>99</th>\n",
       "      <td>2.326348</td>\n",
       "      <td>0.026652</td>\n",
       "      <td>0.990000</td>\n",
       "    </tr>\n",
       "  </tbody>\n",
       "</table>\n",
       "<p>100 rows × 3 columns</p>\n",
       "</div>"
      ],
      "text/plain": [
       "       value       PDF       CDF\n",
       "0  -2.326348  0.026652  0.010000\n",
       "1  -2.279351  0.029698  0.011323\n",
       "2  -2.232354  0.033020  0.012796\n",
       "3  -2.185357  0.036632  0.014431\n",
       "4  -2.138360  0.040550  0.016244\n",
       "5  -2.091363  0.044787  0.018248\n",
       "6  -2.044366  0.049358  0.020459\n",
       "7  -1.997369  0.054276  0.022893\n",
       "8  -1.950372  0.059551  0.025566\n",
       "9  -1.903376  0.065196  0.028496\n",
       "10 -1.856379  0.071218  0.031700\n",
       "11 -1.809382  0.077625  0.035196\n",
       "12 -1.762385  0.084421  0.039002\n",
       "13 -1.715388  0.091610  0.043137\n",
       "14 -1.668391  0.099192  0.047619\n",
       "15 -1.621394  0.107164  0.052467\n",
       "16 -1.574397  0.115521  0.057698\n",
       "17 -1.527400  0.124256  0.063331\n",
       "18 -1.480403  0.133356  0.069383\n",
       "19 -1.433406  0.142806  0.075871\n",
       "20 -1.386409  0.152590  0.082811\n",
       "21 -1.339412  0.162683  0.090218\n",
       "22 -1.292415  0.173062  0.098107\n",
       "23 -1.245419  0.183696  0.106489\n",
       "24 -1.198422  0.194554  0.115376\n",
       "25 -1.151425  0.205599  0.124779\n",
       "26 -1.104428  0.216792  0.134704\n",
       "27 -1.057431  0.228089  0.145157\n",
       "28 -1.010434  0.239446  0.156144\n",
       "29 -0.963437  0.250814  0.167664\n",
       "..       ...       ...       ...\n",
       "70  0.963437  0.250814  0.832336\n",
       "71  1.010434  0.239446  0.843856\n",
       "72  1.057431  0.228089  0.854843\n",
       "73  1.104428  0.216792  0.865296\n",
       "74  1.151425  0.205599  0.875221\n",
       "75  1.198422  0.194554  0.884624\n",
       "76  1.245419  0.183696  0.893511\n",
       "77  1.292415  0.173062  0.901893\n",
       "78  1.339412  0.162683  0.909782\n",
       "79  1.386409  0.152590  0.917189\n",
       "80  1.433406  0.142806  0.924129\n",
       "81  1.480403  0.133356  0.930617\n",
       "82  1.527400  0.124256  0.936669\n",
       "83  1.574397  0.115521  0.942302\n",
       "84  1.621394  0.107164  0.947533\n",
       "85  1.668391  0.099192  0.952381\n",
       "86  1.715388  0.091610  0.956863\n",
       "87  1.762385  0.084421  0.960998\n",
       "88  1.809382  0.077625  0.964804\n",
       "89  1.856379  0.071218  0.968300\n",
       "90  1.903376  0.065196  0.971504\n",
       "91  1.950372  0.059551  0.974434\n",
       "92  1.997369  0.054276  0.977107\n",
       "93  2.044366  0.049358  0.979541\n",
       "94  2.091363  0.044787  0.981752\n",
       "95  2.138360  0.040550  0.983756\n",
       "96  2.185357  0.036632  0.985569\n",
       "97  2.232354  0.033020  0.987204\n",
       "98  2.279351  0.029698  0.988677\n",
       "99  2.326348  0.026652  0.990000\n",
       "\n",
       "[100 rows x 3 columns]"
      ]
     },
     "execution_count": 41,
     "metadata": {},
     "output_type": "execute_result"
    }
   ],
   "source": [
    "df = pd.DataFrame()\n",
    "df['value'] = np.linspace(dist.ppf(0.01), dist.ppf(0.99), 100)\n",
    "df['PDF'] = dist.pdf(df['value'])\n",
    "df['CDF'] = dist.cdf(df['value'])\n",
    "df"
   ]
  },
  {
   "cell_type": "code",
   "execution_count": 42,
   "metadata": {},
   "outputs": [
    {
     "data": {
      "text/html": [
       "<div>\n",
       "<style scoped>\n",
       "    .dataframe tbody tr th:only-of-type {\n",
       "        vertical-align: middle;\n",
       "    }\n",
       "\n",
       "    .dataframe tbody tr th {\n",
       "        vertical-align: top;\n",
       "    }\n",
       "\n",
       "    .dataframe thead th {\n",
       "        text-align: right;\n",
       "    }\n",
       "</style>\n",
       "<table border=\"1\" class=\"dataframe\">\n",
       "  <thead>\n",
       "    <tr style=\"text-align: right;\">\n",
       "      <th></th>\n",
       "      <th>value</th>\n",
       "      <th>PDF</th>\n",
       "      <th>CDF</th>\n",
       "    </tr>\n",
       "  </thead>\n",
       "  <tbody>\n",
       "    <tr>\n",
       "      <th>49</th>\n",
       "      <td>-0.023498</td>\n",
       "      <td>0.398832</td>\n",
       "      <td>0.490626</td>\n",
       "    </tr>\n",
       "    <tr>\n",
       "      <th>50</th>\n",
       "      <td>0.023498</td>\n",
       "      <td>0.398832</td>\n",
       "      <td>0.509374</td>\n",
       "    </tr>\n",
       "  </tbody>\n",
       "</table>\n",
       "</div>"
      ],
      "text/plain": [
       "       value       PDF       CDF\n",
       "49 -0.023498  0.398832  0.490626\n",
       "50  0.023498  0.398832  0.509374"
      ]
     },
     "execution_count": 42,
     "metadata": {},
     "output_type": "execute_result"
    }
   ],
   "source": [
    "df[df['PDF'] == df['PDF'].max()]"
   ]
  },
  {
   "cell_type": "code",
   "execution_count": 43,
   "metadata": {},
   "outputs": [
    {
     "data": {
      "text/html": [
       "<div>\n",
       "<style scoped>\n",
       "    .dataframe tbody tr th:only-of-type {\n",
       "        vertical-align: middle;\n",
       "    }\n",
       "\n",
       "    .dataframe tbody tr th {\n",
       "        vertical-align: top;\n",
       "    }\n",
       "\n",
       "    .dataframe thead th {\n",
       "        text-align: right;\n",
       "    }\n",
       "</style>\n",
       "<table border=\"1\" class=\"dataframe\">\n",
       "  <thead>\n",
       "    <tr style=\"text-align: right;\">\n",
       "      <th></th>\n",
       "      <th>value</th>\n",
       "      <th>PDF</th>\n",
       "      <th>CDF</th>\n",
       "    </tr>\n",
       "  </thead>\n",
       "  <tbody>\n",
       "    <tr>\n",
       "      <th>0</th>\n",
       "      <td>-2.326348</td>\n",
       "      <td>0.026652</td>\n",
       "      <td>0.01</td>\n",
       "    </tr>\n",
       "    <tr>\n",
       "      <th>99</th>\n",
       "      <td>2.326348</td>\n",
       "      <td>0.026652</td>\n",
       "      <td>0.99</td>\n",
       "    </tr>\n",
       "  </tbody>\n",
       "</table>\n",
       "</div>"
      ],
      "text/plain": [
       "       value       PDF   CDF\n",
       "0  -2.326348  0.026652  0.01\n",
       "99  2.326348  0.026652  0.99"
      ]
     },
     "execution_count": 43,
     "metadata": {},
     "output_type": "execute_result"
    }
   ],
   "source": [
    "df[df['PDF'] == df['PDF'].min()]"
   ]
  },
  {
   "cell_type": "code",
   "execution_count": 44,
   "metadata": {},
   "outputs": [
    {
     "data": {
      "text/plain": [
       "[<matplotlib.lines.Line2D at 0x1a1ea0c0f0>]"
      ]
     },
     "execution_count": 44,
     "metadata": {},
     "output_type": "execute_result"
    },
    {
     "data": {
      "image/png": "[encoded data removed]",
      "text/plain": [
       "<Figure size 432x288 with 1 Axes>"
      ]
     },
     "metadata": {
      "needs_background": "light"
     },
     "output_type": "display_data"
    }
   ],
   "source": [
    "plt.plot(df['value'], df['PDF'])"
   ]
  },
  {
   "cell_type": "code",
   "execution_count": 45,
   "metadata": {},
   "outputs": [
    {
     "data": {
      "text/plain": [
       "[<matplotlib.lines.Line2D at 0x1a1eacb2b0>]"
      ]
     },
     "execution_count": 45,
     "metadata": {},
     "output_type": "execute_result"
    },
    {
     "data": {
      "image/png": "[encoded data removed]",
      "text/plain": [
       "<Figure size 432x288 with 1 Axes>"
      ]
     },
     "metadata": {
      "needs_background": "light"
     },
     "output_type": "display_data"
    }
   ],
   "source": [
    "plt.plot(df['value'], df['CDF'])"
   ]
  },
  {
   "cell_type": "code",
   "execution_count": null,
   "metadata": {},
   "outputs": [],
   "source": []
  }
 ],
 "metadata": {
  "kernelspec": {
   "display_name": "Python 3",
   "language": "python",
   "name": "python3"
  },
  "language_info": {
   "codemirror_mode": {
    "name": "ipython",
    "version": 3
   },
   "file_extension": ".py",
   "mimetype": "text/x-python",
   "name": "python",
   "nbconvert_exporter": "python",
   "pygments_lexer": "ipython3",
   "version": "3.7.3"
  }
 },
 "nbformat": 4,
 "nbformat_minor": 2
}
