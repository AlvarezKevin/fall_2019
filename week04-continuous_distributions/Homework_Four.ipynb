{
 "cells": [
  {
   "cell_type": "code",
   "execution_count": 1,
   "metadata": {},
   "outputs": [],
   "source": [
    "import scipy.stats as stats\n",
    "import pandas as pd\n",
    "import matplotlib.pyplot as plt"
   ]
  },
  {
   "cell_type": "markdown",
   "metadata": {},
   "source": [
    "1) You arrive at the train station at 10 o’clock, knowing that the train will arrive at some time **uniformly distributed** between 10 and 10:30. What is the probability that you will have to wait longer than 10 minutes?"
   ]
  },
  {
   "cell_type": "markdown",
   "metadata": {},
   "source": [
    "2) What is the probability you will have to wait less than 10 minutes?"
   ]
  },
  {
   "cell_type": "markdown",
   "metadata": {},
   "source": [
    "3) What time is in the 60th percentile of this distribution?"
   ]
  },
  {
   "cell_type": "markdown",
   "metadata": {},
   "source": [
    "4) What is the probability the train will arrive between 10:10 and 10:20?"
   ]
  },
  {
   "cell_type": "markdown",
   "metadata": {},
   "source": [
    "5) Now say the arrival of trains **follows a Poisson process** where a train arrives once every half-hour. What is the probability that you will have to wait longer than 10 minutes?"
   ]
  },
  {
   "cell_type": "markdown",
   "metadata": {},
   "source": [
    "6) Knowing that it follows a Poisson process, if at 10:15 the train has not arrived, what is the probability that you will have to wait at least an additional 10 minutes?"
   ]
  },
  {
   "cell_type": "markdown",
   "metadata": {},
   "source": [
    "7) At what time does the train have the highest chance of arriving? Create the appropriate graph that corresponds with this belief."
   ]
  },
  {
   "cell_type": "markdown",
   "metadata": {},
   "source": [
    "8) Say the results for the midterm for this class have an average of 70 and a standard deviation of 10 (SCARY). What is the probability that a given student has scored over a 90 on the test? How many standard deviations away from the mean is this score?"
   ]
  },
  {
   "cell_type": "markdown",
   "metadata": {},
   "source": [
    "9) What is the probability that a given student has scored below a 65 on the test?"
   ]
  },
  {
   "cell_type": "markdown",
   "metadata": {},
   "source": [
    "10) What is the probability that a given student has scored between a 75 and an 85 on the test?"
   ]
  },
  {
   "cell_type": "markdown",
   "metadata": {},
   "source": [
    "11) What is the score that is most likely to occur? Create the appropriate graph that corresponds with this belief."
   ]
  },
  {
   "cell_type": "markdown",
   "metadata": {},
   "source": [
    "12) What score is in the 72nd percentile?"
   ]
  }
 ],
 "metadata": {
  "kernelspec": {
   "display_name": "Python 3",
   "language": "python",
   "name": "python3"
  },
  "language_info": {
   "codemirror_mode": {
    "name": "ipython",
    "version": 3
   },
   "file_extension": ".py",
   "mimetype": "text/x-python",
   "name": "python",
   "nbconvert_exporter": "python",
   "pygments_lexer": "ipython3",
   "version": "3.7.3"
  }
 },
 "nbformat": 4,
 "nbformat_minor": 2
}
