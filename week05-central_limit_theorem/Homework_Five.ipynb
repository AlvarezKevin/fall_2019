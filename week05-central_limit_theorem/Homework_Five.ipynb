{
 "cells": [
  {
   "cell_type": "code",
   "execution_count": 1,
   "metadata": {},
   "outputs": [],
   "source": [
    "import scipy.stats as stats\n",
    "import numpy as np\n",
    "import seaborn as sns\n",
    "%matplotlib inline"
   ]
  },
  {
   "cell_type": "markdown",
   "metadata": {},
   "source": [
    "1) A tobacco company claims that the amount of nicotine in its cigarettes is a random variable with mean 2.2 mg and standard deviation .3 mg. \n",
    "\n",
    "a) What is the probability that a randomly chosen cigarette has more than 2.7 mg of nicotine?"
   ]
  },
  {
   "cell_type": "markdown",
   "metadata": {},
   "source": [
    "b) What is the probability that the sample mean of 100 randomly chosen cigarettes would be more than 2.7 mg of nicotine?"
   ]
  },
  {
   "cell_type": "markdown",
   "metadata": {},
   "source": [
    "2) An instructor knows from past experience that student exam scores have mean\n",
    "77 and standard deviation 15. At present the instructor is teaching two separate\n",
    "classes — one of size 25 and the other of size 64.\n",
    "\n",
    "a) What is the probability that a randomly chosen student has a test score between 72 and 82?"
   ]
  },
  {
   "cell_type": "markdown",
   "metadata": {},
   "source": [
    "b) Approximate the probability that the average test score in the class of size 25 lies between 72 and 82."
   ]
  },
  {
   "cell_type": "markdown",
   "metadata": {},
   "source": [
    "c) Repeat part (a) for a class of size 64."
   ]
  },
  {
   "cell_type": "markdown",
   "metadata": {},
   "source": [
    "c) Suppose the average scores in the two classes are 76 and 83. Which class, the one of size 25 or the one of size 64, do you think was more likely to have averaged 83?"
   ]
  },
  {
   "cell_type": "markdown",
   "metadata": {},
   "source": [
    "25, as 83 is in the 97th percentile of that distribution as compared to being in the 99th+ percentile of the distribution of the class of 64."
   ]
  },
  {
   "cell_type": "markdown",
   "metadata": {},
   "source": [
    "3) If X is binomial with parameters n = 150, p = .6, compute the exact value of\n",
    "P{X ≤ 80} and compare with its normal approximation both (a) making use of\n",
    "and (b) not making use of the continuity correction."
   ]
  },
  {
   "cell_type": "markdown",
   "metadata": {},
   "source": [
    "4) Using the method we used at the end the workbook (running 10,000 simulations and finding the mean of each) for a random distribution, re-create the central limit theorem. Do this by:  \n",
    "    a) Picking a distribution (either random or discrete) **NOT THE EXPONENTIAL DISTRIBUTION**   \n",
    "    b) Finding the mean and standard deviation of the distribution.  \n",
    "    c) Picking a sample size that you want to take the mean of (what sample size should you pick?)  \n",
    "    d) Running 10,000 simulations where you find the mean of each sample.  \n",
    "    e) Finding the mean and standard deviation of your result and comparing it to the mean and standard deviation of your original distribution, taking the sample size into account.  \n",
    "    f) Plotting your result and confirming that it looks like a normal distribution.  "
   ]
  }
 ],
 "metadata": {
  "kernelspec": {
   "display_name": "Python 3",
   "language": "python",
   "name": "python3"
  },
  "language_info": {
   "codemirror_mode": {
    "name": "ipython",
    "version": 3
   },
   "file_extension": ".py",
   "mimetype": "text/x-python",
   "name": "python",
   "nbconvert_exporter": "python",
   "pygments_lexer": "ipython3",
   "version": "3.7.3"
  }
 },
 "nbformat": 4,
 "nbformat_minor": 2
}
