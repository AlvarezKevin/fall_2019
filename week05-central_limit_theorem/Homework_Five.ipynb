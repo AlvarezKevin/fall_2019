{
 "cells": [
  {
   "cell_type": "markdown",
   "metadata": {},
   "source": [
    "# Kevin Alvarez Homework 5 CSC 217 Fall 2019"
   ]
  },
  {
   "cell_type": "code",
   "execution_count": 1,
   "metadata": {},
   "outputs": [],
   "source": [
    "import scipy.stats as stats\n",
    "import numpy as np\n",
    "import seaborn as sns\n",
    "%matplotlib inline"
   ]
  },
  {
   "cell_type": "markdown",
   "metadata": {},
   "source": [
    "1) A tobacco company claims that the amount of nicotine in its cigarettes is a random variable with mean 2.2 mg and standard deviation .3 mg. \n",
    "\n",
    "a) What is the probability that a randomly chosen cigarette has more than 2.7 mg of nicotine?"
   ]
  },
  {
   "cell_type": "code",
   "execution_count": 2,
   "metadata": {},
   "outputs": [
    {
     "data": {
      "text/plain": [
       "0.047790352272814696"
      ]
     },
     "execution_count": 2,
     "metadata": {},
     "output_type": "execute_result"
    }
   ],
   "source": [
    "dist = stats.norm(loc=2.2,scale=.3)\n",
    "1 - dist.cdf(2.7)"
   ]
  },
  {
   "cell_type": "markdown",
   "metadata": {},
   "source": [
    "b) What is the probability that the sample mean of 100 randomly chosen cigarettes would be more than 2.7 mg of nicotine?"
   ]
  },
  {
   "cell_type": "code",
   "execution_count": 3,
   "metadata": {},
   "outputs": [
    {
     "data": {
      "text/plain": [
       "0.0"
      ]
     },
     "execution_count": 3,
     "metadata": {},
     "output_type": "execute_result"
    }
   ],
   "source": [
    "1 - stats.norm(loc=2.2, scale=.3 / np.sqrt(100)).cdf(2.7)"
   ]
  },
  {
   "cell_type": "markdown",
   "metadata": {},
   "source": [
    "2) An instructor knows from past experience that student exam scores have mean\n",
    "77 and standard deviation 15. At present the instructor is teaching two separate\n",
    "classes — one of size 25 and the other of size 64.\n",
    "\n",
    "a) What is the probability that a randomly chosen student has a test score between 72 and 82?"
   ]
  },
  {
   "cell_type": "code",
   "execution_count": 4,
   "metadata": {},
   "outputs": [
    {
     "data": {
      "text/plain": [
       "0.26111731963647267"
      ]
     },
     "execution_count": 4,
     "metadata": {},
     "output_type": "execute_result"
    }
   ],
   "source": [
    "dist = stats.norm(loc=77,scale=15)\n",
    "dist.cdf(82) - dist.cdf(72)"
   ]
  },
  {
   "cell_type": "markdown",
   "metadata": {},
   "source": [
    "b) Approximate the probability that the average test score in the class of size 25 lies between 72 and 82."
   ]
  },
  {
   "cell_type": "code",
   "execution_count": 5,
   "metadata": {},
   "outputs": [
    {
     "data": {
      "text/plain": [
       "0.9044192954543706"
      ]
     },
     "execution_count": 5,
     "metadata": {},
     "output_type": "execute_result"
    }
   ],
   "source": [
    "dist = stats.norm(loc=77,scale=15 / np.sqrt(25))\n",
    "dist.cdf(82) - dist.cdf(72)"
   ]
  },
  {
   "cell_type": "markdown",
   "metadata": {},
   "source": [
    "c) Repeat part (a) for a class of size 64."
   ]
  },
  {
   "cell_type": "code",
   "execution_count": 6,
   "metadata": {},
   "outputs": [
    {
     "data": {
      "text/plain": [
       "0.9923392388648204"
      ]
     },
     "execution_count": 6,
     "metadata": {},
     "output_type": "execute_result"
    }
   ],
   "source": [
    "dist = stats.norm(loc=77,scale=15 / np.sqrt(64))\n",
    "dist.cdf(82) - dist.cdf(72)"
   ]
  },
  {
   "cell_type": "markdown",
   "metadata": {},
   "source": [
    "c) Suppose the average scores in the two classes are 76 and 83. Which class, the one of size 25 or the one of size 64, do you think was more likely to have averaged 83?"
   ]
  },
  {
   "cell_type": "markdown",
   "metadata": {},
   "source": [
    "25, as 83 is in the 97th percentile of that distribution as compared to being in the 99th+ percentile of the distribution of the class of 64."
   ]
  },
  {
   "cell_type": "markdown",
   "metadata": {},
   "source": [
    "3) If X is binomial with parameters n = 150, p = .6, compute the exact value of\n",
    "P{X ≤ 80} and compare with its normal approximation both (a) making use of\n",
    "and (b) not making use of the continuity correction."
   ]
  },
  {
   "cell_type": "code",
   "execution_count": 7,
   "metadata": {},
   "outputs": [
    {
     "data": {
      "text/plain": [
       "0.05745956249718806"
      ]
     },
     "execution_count": 7,
     "metadata": {},
     "output_type": "execute_result"
    }
   ],
   "source": [
    "dist = stats.binom(n=150, p=0.6)\n",
    "dist.cdf(80)"
   ]
  },
  {
   "cell_type": "code",
   "execution_count": 8,
   "metadata": {},
   "outputs": [
    {
     "data": {
      "text/plain": [
       "0.0477903522728147"
      ]
     },
     "execution_count": 8,
     "metadata": {},
     "output_type": "execute_result"
    }
   ],
   "source": [
    "dist = stats.norm(dist.mean(),dist.std())\n",
    "dist.cdf(80)"
   ]
  },
  {
   "cell_type": "markdown",
   "metadata": {},
   "source": [
    "4) Using the method we used at the end the workbook (running 10,000 simulations and finding the mean of each) for a random distribution, re-create the central limit theorem. Do this by:  \n",
    "    a) Picking a distribution (either random or discrete) **NOT THE EXPONENTIAL DISTRIBUTION**   \n",
    "    b) Finding the mean and standard deviation of the distribution.  \n",
    "    c) Picking a sample size that you want to take the mean of (what sample size should you pick?)  \n",
    "    d) Running 10,000 simulations where you find the mean of each sample.  \n",
    "    e) Finding the mean and standard deviation of your result and comparing it to the mean and standard deviation of your original distribution, taking the sample size into account.  \n",
    "    f) Plotting your result and confirming that it looks like a normal distribution.  "
   ]
  },
  {
   "cell_type": "code",
   "execution_count": 9,
   "metadata": {},
   "outputs": [],
   "source": [
    "# A\n",
    "dist = stats.binom(n=75, p=0.3)"
   ]
  },
  {
   "cell_type": "code",
   "execution_count": 10,
   "metadata": {},
   "outputs": [
    {
     "data": {
      "text/plain": [
       "22.5"
      ]
     },
     "execution_count": 10,
     "metadata": {},
     "output_type": "execute_result"
    }
   ],
   "source": [
    "# B\n",
    "dist.mean()"
   ]
  },
  {
   "cell_type": "code",
   "execution_count": 11,
   "metadata": {},
   "outputs": [
    {
     "data": {
      "text/plain": [
       "3.9686269665968856"
      ]
     },
     "execution_count": 11,
     "metadata": {},
     "output_type": "execute_result"
    }
   ],
   "source": [
    "# B\n",
    "dist.std()"
   ]
  },
  {
   "cell_type": "code",
   "execution_count": 12,
   "metadata": {},
   "outputs": [
    {
     "data": {
      "text/plain": [
       "array([24, 25, 26, 23, 28, 24, 23, 29, 21, 18, 14, 17, 23, 21, 21, 26, 17,\n",
       "       24, 24, 25, 21, 33, 22, 17, 23, 21, 22, 23, 23, 22, 25, 21, 17, 23,\n",
       "       28, 22, 20, 26, 25, 24, 25, 26, 29, 24, 22, 18, 14, 23, 24, 21, 19,\n",
       "       20, 26, 20, 19, 26, 28, 24, 27, 25, 24, 20, 20, 26, 24, 23, 30, 18,\n",
       "       21, 24, 27, 32, 21, 21, 23, 25, 29, 16, 27, 29, 17, 24, 25, 22, 21,\n",
       "       22, 20, 21, 22, 28, 21, 17, 16, 21, 26, 23, 19, 21, 24, 21, 17, 28,\n",
       "        9, 20, 29, 16, 20, 24, 25, 25, 21, 22, 17, 24, 15, 20, 26, 23, 24,\n",
       "       22, 20, 25, 23, 22, 23, 20, 22, 24, 34, 21, 22, 18, 26, 23, 22, 24,\n",
       "       22, 20, 19, 24, 22, 22, 18, 21, 21, 23, 24, 31, 27, 18, 18, 18, 24,\n",
       "       22, 21, 20, 14, 20, 29, 20, 23, 22, 25, 20, 24, 18, 22, 25, 25, 24,\n",
       "       26, 22, 19, 15, 28, 22, 23, 29, 25, 21, 25, 26, 22, 21, 20, 23, 23,\n",
       "       24, 28, 20, 20, 25, 24, 26, 18, 21, 24, 19, 16, 25, 29, 19, 17, 20,\n",
       "       24, 24, 23, 19, 17, 24, 20, 20, 23, 14, 25, 21, 22, 23, 27, 27, 20,\n",
       "       29, 22, 26, 24, 25, 21, 24, 26, 27, 29, 19, 21, 23, 22, 20, 22, 27,\n",
       "       29, 20, 29, 28, 20, 21, 18, 23, 21, 20, 18, 20, 24, 20, 20, 25, 20,\n",
       "       18, 21, 23, 24, 24, 26, 21, 22, 18, 20, 20, 19, 26, 20, 22, 21, 21,\n",
       "       22, 24, 22, 18, 26, 21, 29, 22, 20, 23, 21, 28, 23, 19, 20, 17, 22,\n",
       "       25, 24, 21, 21, 21, 22, 26, 21, 19, 26, 23, 16, 17, 20, 26, 23, 24,\n",
       "       24, 24, 27, 18, 24, 17, 19, 20, 30, 15, 17, 24, 18, 29, 17, 25, 28,\n",
       "       25, 23, 14, 22, 18, 24, 22, 11, 22, 18, 28, 25, 22, 20, 26, 26, 22,\n",
       "       27, 17, 25, 26, 30, 28, 15, 21, 24, 23, 20, 18, 20, 17, 31, 20, 19,\n",
       "       26, 28, 26, 24, 18, 18, 30, 25, 25, 23, 23, 23, 19, 23, 19, 24, 18,\n",
       "       25, 24, 21, 24, 24, 21, 25, 23, 27, 21, 18, 24, 18, 26, 20, 24, 23,\n",
       "       19, 25, 21, 18, 29, 25, 12, 24, 18, 21, 30, 27, 25, 18, 23, 24, 21,\n",
       "       23, 28, 29, 17, 24, 22, 24, 18, 21, 22, 18, 26, 23, 23, 20, 17, 28,\n",
       "       23, 25, 21, 23, 19, 20, 31, 25, 27, 23, 27, 24, 29, 22, 30, 22, 21,\n",
       "       18, 28, 19, 30, 14, 21, 21, 21, 24, 17, 25, 20, 23, 14, 21, 29, 21,\n",
       "       20, 28, 23, 22, 18, 28, 20, 11, 19, 20, 23, 25, 28, 21, 24, 30, 24,\n",
       "       26, 20, 22, 27, 21, 23, 16, 18, 19, 19, 18, 16, 25, 30, 16, 21, 26,\n",
       "       17, 29, 22, 26, 21, 20, 18])"
      ]
     },
     "execution_count": 12,
     "metadata": {},
     "output_type": "execute_result"
    }
   ],
   "source": [
    "# C\n",
    "dist.rvs(500)"
   ]
  },
  {
   "cell_type": "code",
   "execution_count": 13,
   "metadata": {},
   "outputs": [],
   "source": [
    "# D\n",
    "np.random.seed(42)\n",
    "simulation = np.array([])\n",
    "for i in range(10000):\n",
    "    simulation = np.append(simulation, np.mean(dist.rvs(500)))"
   ]
  },
  {
   "cell_type": "code",
   "execution_count": 14,
   "metadata": {},
   "outputs": [
    {
     "name": "stdout",
     "output_type": "stream",
     "text": [
      "22.5 22.4997918\n",
      "3.9686269665968856 0.17634576562186005\n"
     ]
    }
   ],
   "source": [
    "# E\n",
    "print(dist.mean(), np.mean(simulation))\n",
    "print(dist.std(), np.std(simulation))"
   ]
  },
  {
   "cell_type": "code",
   "execution_count": 15,
   "metadata": {},
   "outputs": [
    {
     "data": {
      "text/plain": [
       "<matplotlib.axes._subplots.AxesSubplot at 0x2aabca495f8>"
      ]
     },
     "execution_count": 15,
     "metadata": {},
     "output_type": "execute_result"
    },
    {
     "data": {
      "image/png": "[encoded data removed]",
      "text/plain": [
       "<Figure size 432x288 with 1 Axes>"
      ]
     },
     "metadata": {
      "needs_background": "light"
     },
     "output_type": "display_data"
    }
   ],
   "source": [
    "# F\n",
    "sns.kdeplot(simulation)"
   ]
  }
 ],
 "metadata": {
  "kernelspec": {
   "display_name": "Python 3",
   "language": "python",
   "name": "python3"
  },
  "language_info": {
   "codemirror_mode": {
    "name": "ipython",
    "version": 3
   },
   "file_extension": ".py",
   "mimetype": "text/x-python",
   "name": "python",
   "nbconvert_exporter": "python",
   "pygments_lexer": "ipython3",
   "version": "3.7.3"
  }
 },
 "nbformat": 4,
 "nbformat_minor": 4
}
