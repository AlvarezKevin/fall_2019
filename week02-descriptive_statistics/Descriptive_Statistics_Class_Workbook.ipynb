{
 "cells": [
  {
   "cell_type": "code",
   "execution_count": 1,
   "metadata": {
    "collapsed": true
   },
   "outputs": [],
   "source": [
    "import pandas as pd\n",
    "import numpy as np\n",
    "import seaborn as sns\n",
    "import matplotlib.pyplot as plt\n",
    "%matplotlib inline"
   ]
  },
  {
   "cell_type": "markdown",
   "metadata": {},
   "source": [
    "## Part One - Extracting Data With Pandas\n",
    "\n",
    "As we discussed last week, the 'Read HTML' function in Pandas is an easy way to pull down tables from web pages. We'll be using Wikipedia for a lot of examples in class.\n",
    "\n",
    "Today we'll be looking at the Wikipedia page showing the median age of every country in the world.\n",
    "\n",
    "If you need to know more about a function in Python, you can type in a function with a question mark next to it to pull up its documentation (you can also Google the function). The question mark below will pull up the same info you can see at https://pandas.pydata.org/pandas-docs/version/0.23.4/generated/pandas.read_html.html"
   ]
  },
  {
   "cell_type": "code",
   "execution_count": 2,
   "metadata": {
    "collapsed": true
   },
   "outputs": [],
   "source": [
    "pd.read_html?"
   ]
  },
  {
   "cell_type": "markdown",
   "metadata": {},
   "source": [
    "The Read HTML function only has one required argument, which is the URL of the page you want to scrape. It will return a **list of dataframes** from that page - essentially it will translate anything on a page that's structured as a table and return it as a **dataframe** to work with.\n",
    "\n",
    "Below we'll see that there are two dataframes in this list as per the len function, which gives us the length of a variable."
   ]
  },
  {
   "cell_type": "code",
   "execution_count": 3,
   "metadata": {},
   "outputs": [
    {
     "name": "stdout",
     "output_type": "stream",
     "text": [
      "2\n"
     ]
    }
   ],
   "source": [
    "tables = pd.read_html('https://en.wikipedia.org/wiki/List_of_countries_by_median_age')\n",
    "print(len(tables))"
   ]
  },
  {
   "cell_type": "markdown",
   "metadata": {},
   "source": [
    "If we add a '0' in brackets after the function, we'll get the first dataframe in the list.\n",
    "\n",
    "Note that Python uses **0-based indexing** meaning that if you want to access the first item in a list, you reference it with **0** rather than **1**."
   ]
  },
  {
   "cell_type": "code",
   "execution_count": 4,
   "metadata": {},
   "outputs": [
    {
     "data": {
      "text/html": [
       "<div>\n",
       "<style scoped>\n",
       "    .dataframe tbody tr th:only-of-type {\n",
       "        vertical-align: middle;\n",
       "    }\n",
       "\n",
       "    .dataframe tbody tr th {\n",
       "        vertical-align: top;\n",
       "    }\n",
       "\n",
       "    .dataframe thead th {\n",
       "        text-align: right;\n",
       "    }\n",
       "</style>\n",
       "<table border=\"1\" class=\"dataframe\">\n",
       "  <thead>\n",
       "    <tr style=\"text-align: right;\">\n",
       "      <th></th>\n",
       "      <th>0</th>\n",
       "      <th>1</th>\n",
       "      <th>2</th>\n",
       "      <th>3</th>\n",
       "      <th>4</th>\n",
       "    </tr>\n",
       "  </thead>\n",
       "  <tbody>\n",
       "    <tr>\n",
       "      <th>0</th>\n",
       "      <td>Country/Territory</td>\n",
       "      <td>Rank</td>\n",
       "      <td>Average(Years)</td>\n",
       "      <td>Male(Years)</td>\n",
       "      <td>Female (Years)</td>\n",
       "    </tr>\n",
       "    <tr>\n",
       "      <th>1</th>\n",
       "      <td>Afghanistan</td>\n",
       "      <td>208</td>\n",
       "      <td>18.8</td>\n",
       "      <td>18.8</td>\n",
       "      <td>18.9</td>\n",
       "    </tr>\n",
       "    <tr>\n",
       "      <th>2</th>\n",
       "      <td>Albania</td>\n",
       "      <td>95</td>\n",
       "      <td>32.9</td>\n",
       "      <td>31.6</td>\n",
       "      <td>34.3</td>\n",
       "    </tr>\n",
       "    <tr>\n",
       "      <th>3</th>\n",
       "      <td>Algeria</td>\n",
       "      <td>136</td>\n",
       "      <td>28.1</td>\n",
       "      <td>27.8</td>\n",
       "      <td>28.4</td>\n",
       "    </tr>\n",
       "    <tr>\n",
       "      <th>4</th>\n",
       "      <td>American Samoa</td>\n",
       "      <td>122</td>\n",
       "      <td>25.5</td>\n",
       "      <td>25.1</td>\n",
       "      <td>26.0</td>\n",
       "    </tr>\n",
       "    <tr>\n",
       "      <th>5</th>\n",
       "      <td>Andorra</td>\n",
       "      <td>10</td>\n",
       "      <td>44.3</td>\n",
       "      <td>44.4</td>\n",
       "      <td>44.1</td>\n",
       "    </tr>\n",
       "    <tr>\n",
       "      <th>6</th>\n",
       "      <td>Angola</td>\n",
       "      <td>214</td>\n",
       "      <td>15.9</td>\n",
       "      <td>15.4</td>\n",
       "      <td>16.3</td>\n",
       "    </tr>\n",
       "    <tr>\n",
       "      <th>7</th>\n",
       "      <td>Anguilla</td>\n",
       "      <td>79</td>\n",
       "      <td>34.8</td>\n",
       "      <td>32.9</td>\n",
       "      <td>36.7</td>\n",
       "    </tr>\n",
       "    <tr>\n",
       "      <th>8</th>\n",
       "      <td>Antigua and Barbuda</td>\n",
       "      <td>102</td>\n",
       "      <td>31.9</td>\n",
       "      <td>30.0</td>\n",
       "      <td>33.5</td>\n",
       "    </tr>\n",
       "    <tr>\n",
       "      <th>9</th>\n",
       "      <td>Argentina</td>\n",
       "      <td>105</td>\n",
       "      <td>31.7</td>\n",
       "      <td>30.5</td>\n",
       "      <td>32.9</td>\n",
       "    </tr>\n",
       "    <tr>\n",
       "      <th>10</th>\n",
       "      <td>Armenia</td>\n",
       "      <td>80</td>\n",
       "      <td>35.1</td>\n",
       "      <td>33.3</td>\n",
       "      <td>36.9</td>\n",
       "    </tr>\n",
       "    <tr>\n",
       "      <th>11</th>\n",
       "      <td>Aruba</td>\n",
       "      <td>55</td>\n",
       "      <td>39.3</td>\n",
       "      <td>37.5</td>\n",
       "      <td>41.1</td>\n",
       "    </tr>\n",
       "    <tr>\n",
       "      <th>12</th>\n",
       "      <td>Australia</td>\n",
       "      <td>58</td>\n",
       "      <td>38.7</td>\n",
       "      <td>37.9</td>\n",
       "      <td>39.5</td>\n",
       "    </tr>\n",
       "    <tr>\n",
       "      <th>13</th>\n",
       "      <td>Austria</td>\n",
       "      <td>13</td>\n",
       "      <td>44.0</td>\n",
       "      <td>42.8</td>\n",
       "      <td>45.1</td>\n",
       "    </tr>\n",
       "    <tr>\n",
       "      <th>14</th>\n",
       "      <td>Azerbaijan</td>\n",
       "      <td>107</td>\n",
       "      <td>31.3</td>\n",
       "      <td>29.8</td>\n",
       "      <td>33.0</td>\n",
       "    </tr>\n",
       "    <tr>\n",
       "      <th>15</th>\n",
       "      <td>The Bahamas</td>\n",
       "      <td>100</td>\n",
       "      <td>32.0</td>\n",
       "      <td>30.9</td>\n",
       "      <td>33.2</td>\n",
       "    </tr>\n",
       "    <tr>\n",
       "      <th>16</th>\n",
       "      <td>Bahrain</td>\n",
       "      <td>99</td>\n",
       "      <td>32.3</td>\n",
       "      <td>33.8</td>\n",
       "      <td>29.5</td>\n",
       "    </tr>\n",
       "    <tr>\n",
       "      <th>17</th>\n",
       "      <td>Bangladesh</td>\n",
       "      <td>148</td>\n",
       "      <td>26.7</td>\n",
       "      <td>26.0</td>\n",
       "      <td>27.3</td>\n",
       "    </tr>\n",
       "    <tr>\n",
       "      <th>18</th>\n",
       "      <td>Barbados</td>\n",
       "      <td>59</td>\n",
       "      <td>38.6</td>\n",
       "      <td>37.5</td>\n",
       "      <td>39.8</td>\n",
       "    </tr>\n",
       "    <tr>\n",
       "      <th>19</th>\n",
       "      <td>Belarus</td>\n",
       "      <td>51</td>\n",
       "      <td>40.0</td>\n",
       "      <td>37.1</td>\n",
       "      <td>43.1</td>\n",
       "    </tr>\n",
       "    <tr>\n",
       "      <th>20</th>\n",
       "      <td>Belgium</td>\n",
       "      <td>39</td>\n",
       "      <td>41.4</td>\n",
       "      <td>40.2</td>\n",
       "      <td>42.7</td>\n",
       "    </tr>\n",
       "    <tr>\n",
       "      <th>21</th>\n",
       "      <td>Belize</td>\n",
       "      <td>177</td>\n",
       "      <td>22.7</td>\n",
       "      <td>22.5</td>\n",
       "      <td>22.9</td>\n",
       "    </tr>\n",
       "    <tr>\n",
       "      <th>22</th>\n",
       "      <td>Benin</td>\n",
       "      <td>216</td>\n",
       "      <td>18.2</td>\n",
       "      <td>17.9</td>\n",
       "      <td>18.6</td>\n",
       "    </tr>\n",
       "    <tr>\n",
       "      <th>23</th>\n",
       "      <td>Bermuda</td>\n",
       "      <td>17</td>\n",
       "      <td>43.4</td>\n",
       "      <td>41.5</td>\n",
       "      <td>45.3</td>\n",
       "    </tr>\n",
       "    <tr>\n",
       "      <th>24</th>\n",
       "      <td>Bhutan</td>\n",
       "      <td>144</td>\n",
       "      <td>27.6</td>\n",
       "      <td>28.2</td>\n",
       "      <td>27.1</td>\n",
       "    </tr>\n",
       "    <tr>\n",
       "      <th>25</th>\n",
       "      <td>Bolivia</td>\n",
       "      <td>162</td>\n",
       "      <td>24.3</td>\n",
       "      <td>23.6</td>\n",
       "      <td>25.0</td>\n",
       "    </tr>\n",
       "    <tr>\n",
       "      <th>26</th>\n",
       "      <td>Bosnia and Herzegovina</td>\n",
       "      <td>32</td>\n",
       "      <td>42.1</td>\n",
       "      <td>40.5</td>\n",
       "      <td>43.5</td>\n",
       "    </tr>\n",
       "    <tr>\n",
       "      <th>27</th>\n",
       "      <td>Botswana</td>\n",
       "      <td>170</td>\n",
       "      <td>24.5</td>\n",
       "      <td>23.5</td>\n",
       "      <td>25.6</td>\n",
       "    </tr>\n",
       "    <tr>\n",
       "      <th>28</th>\n",
       "      <td>Brazil</td>\n",
       "      <td>103</td>\n",
       "      <td>32.0</td>\n",
       "      <td>31.1</td>\n",
       "      <td>32.8</td>\n",
       "    </tr>\n",
       "    <tr>\n",
       "      <th>29</th>\n",
       "      <td>British Virgin Islands</td>\n",
       "      <td>72</td>\n",
       "      <td>36.5</td>\n",
       "      <td>36.3</td>\n",
       "      <td>36.6</td>\n",
       "    </tr>\n",
       "    <tr>\n",
       "      <th>...</th>\n",
       "      <td>...</td>\n",
       "      <td>...</td>\n",
       "      <td>...</td>\n",
       "      <td>...</td>\n",
       "      <td>...</td>\n",
       "    </tr>\n",
       "    <tr>\n",
       "      <th>201</th>\n",
       "      <td>Tajikistan</td>\n",
       "      <td>160</td>\n",
       "      <td>24.5</td>\n",
       "      <td>23.9</td>\n",
       "      <td>25.1</td>\n",
       "    </tr>\n",
       "    <tr>\n",
       "      <th>202</th>\n",
       "      <td>Tanzania</td>\n",
       "      <td>220</td>\n",
       "      <td>17.7</td>\n",
       "      <td>17.5</td>\n",
       "      <td>18.0</td>\n",
       "    </tr>\n",
       "    <tr>\n",
       "      <th>203</th>\n",
       "      <td>Thailand</td>\n",
       "      <td>66</td>\n",
       "      <td>37.7</td>\n",
       "      <td>36.6</td>\n",
       "      <td>38.7</td>\n",
       "    </tr>\n",
       "    <tr>\n",
       "      <th>204</th>\n",
       "      <td>East Timor</td>\n",
       "      <td>206</td>\n",
       "      <td>18.9</td>\n",
       "      <td>18.3</td>\n",
       "      <td>19.6</td>\n",
       "    </tr>\n",
       "    <tr>\n",
       "      <th>205</th>\n",
       "      <td>Togo</td>\n",
       "      <td>194</td>\n",
       "      <td>19.8</td>\n",
       "      <td>19.5</td>\n",
       "      <td>20.1</td>\n",
       "    </tr>\n",
       "    <tr>\n",
       "      <th>206</th>\n",
       "      <td>Tonga</td>\n",
       "      <td>176</td>\n",
       "      <td>23.0</td>\n",
       "      <td>22.5</td>\n",
       "      <td>23.4</td>\n",
       "    </tr>\n",
       "    <tr>\n",
       "      <th>207</th>\n",
       "      <td>Trinidad and Tobago</td>\n",
       "      <td>75</td>\n",
       "      <td>36.0</td>\n",
       "      <td>35.6</td>\n",
       "      <td>36.6</td>\n",
       "    </tr>\n",
       "    <tr>\n",
       "      <th>208</th>\n",
       "      <td>Tunisia</td>\n",
       "      <td>97</td>\n",
       "      <td>31.6</td>\n",
       "      <td>31.0</td>\n",
       "      <td>32.2</td>\n",
       "    </tr>\n",
       "    <tr>\n",
       "      <th>209</th>\n",
       "      <td>Turkey</td>\n",
       "      <td>110</td>\n",
       "      <td>30.9</td>\n",
       "      <td>30.5</td>\n",
       "      <td>31.4</td>\n",
       "    </tr>\n",
       "    <tr>\n",
       "      <th>210</th>\n",
       "      <td>Turkmenistan</td>\n",
       "      <td>142</td>\n",
       "      <td>27.9</td>\n",
       "      <td>27.5</td>\n",
       "      <td>28.4</td>\n",
       "    </tr>\n",
       "    <tr>\n",
       "      <th>211</th>\n",
       "      <td>Turks and Caicos Islands</td>\n",
       "      <td>92</td>\n",
       "      <td>33.3</td>\n",
       "      <td>33.6</td>\n",
       "      <td>33.0</td>\n",
       "    </tr>\n",
       "    <tr>\n",
       "      <th>212</th>\n",
       "      <td>Tuvalu</td>\n",
       "      <td>155</td>\n",
       "      <td>25.7</td>\n",
       "      <td>24.7</td>\n",
       "      <td>26.9</td>\n",
       "    </tr>\n",
       "    <tr>\n",
       "      <th>213</th>\n",
       "      <td>Uganda</td>\n",
       "      <td>229</td>\n",
       "      <td>15.8</td>\n",
       "      <td>15.7</td>\n",
       "      <td>15.9</td>\n",
       "    </tr>\n",
       "    <tr>\n",
       "      <th>214</th>\n",
       "      <td>Ukraine</td>\n",
       "      <td>48</td>\n",
       "      <td>40.6</td>\n",
       "      <td>37.4</td>\n",
       "      <td>43.7</td>\n",
       "    </tr>\n",
       "    <tr>\n",
       "      <th>215</th>\n",
       "      <td>United Arab Emirates</td>\n",
       "      <td>113</td>\n",
       "      <td>30.3</td>\n",
       "      <td>32.1</td>\n",
       "      <td>25.0</td>\n",
       "    </tr>\n",
       "    <tr>\n",
       "      <th>216</th>\n",
       "      <td>United Kingdom</td>\n",
       "      <td>50</td>\n",
       "      <td>40.5</td>\n",
       "      <td>39.3</td>\n",
       "      <td>41.7</td>\n",
       "    </tr>\n",
       "    <tr>\n",
       "      <th>217</th>\n",
       "      <td>United States</td>\n",
       "      <td>61</td>\n",
       "      <td>38.1</td>\n",
       "      <td>36.8</td>\n",
       "      <td>39.4</td>\n",
       "    </tr>\n",
       "    <tr>\n",
       "      <th>218</th>\n",
       "      <td>Uruguay</td>\n",
       "      <td>78</td>\n",
       "      <td>35.0</td>\n",
       "      <td>33.1</td>\n",
       "      <td>36.7</td>\n",
       "    </tr>\n",
       "    <tr>\n",
       "      <th>219</th>\n",
       "      <td>Uzbekistan</td>\n",
       "      <td>132</td>\n",
       "      <td>28.6</td>\n",
       "      <td>28.0</td>\n",
       "      <td>29.2</td>\n",
       "    </tr>\n",
       "    <tr>\n",
       "      <th>220</th>\n",
       "      <td>Vanuatu</td>\n",
       "      <td>181</td>\n",
       "      <td>22.0</td>\n",
       "      <td>21.6</td>\n",
       "      <td>22.4</td>\n",
       "    </tr>\n",
       "    <tr>\n",
       "      <th>221</th>\n",
       "      <td>Venezuela</td>\n",
       "      <td>134</td>\n",
       "      <td>28.3</td>\n",
       "      <td>27.6</td>\n",
       "      <td>29.0</td>\n",
       "    </tr>\n",
       "    <tr>\n",
       "      <th>222</th>\n",
       "      <td>Vietnam</td>\n",
       "      <td>114</td>\n",
       "      <td>30.5</td>\n",
       "      <td>29.4</td>\n",
       "      <td>31.7</td>\n",
       "    </tr>\n",
       "    <tr>\n",
       "      <th>223</th>\n",
       "      <td>Virgin Islands</td>\n",
       "      <td>44</td>\n",
       "      <td>41.0</td>\n",
       "      <td>39.9</td>\n",
       "      <td>41.9</td>\n",
       "    </tr>\n",
       "    <tr>\n",
       "      <th>224</th>\n",
       "      <td>Wallis and Futuna</td>\n",
       "      <td>104</td>\n",
       "      <td>32.2</td>\n",
       "      <td>31.3</td>\n",
       "      <td>33.4</td>\n",
       "    </tr>\n",
       "    <tr>\n",
       "      <th>225</th>\n",
       "      <td>West Bank</td>\n",
       "      <td>186</td>\n",
       "      <td>21.1</td>\n",
       "      <td>20.9</td>\n",
       "      <td>21.3</td>\n",
       "    </tr>\n",
       "    <tr>\n",
       "      <th>226</th>\n",
       "      <td>Western Sahara</td>\n",
       "      <td>183</td>\n",
       "      <td>21.1</td>\n",
       "      <td>20.9</td>\n",
       "      <td>21.3</td>\n",
       "    </tr>\n",
       "    <tr>\n",
       "      <th>227</th>\n",
       "      <td>World</td>\n",
       "      <td>115</td>\n",
       "      <td>30.4</td>\n",
       "      <td>29.6</td>\n",
       "      <td>31.1</td>\n",
       "    </tr>\n",
       "    <tr>\n",
       "      <th>228</th>\n",
       "      <td>Yemen</td>\n",
       "      <td>202</td>\n",
       "      <td>19.5</td>\n",
       "      <td>19.3</td>\n",
       "      <td>19.6</td>\n",
       "    </tr>\n",
       "    <tr>\n",
       "      <th>229</th>\n",
       "      <td>Zambia</td>\n",
       "      <td>226</td>\n",
       "      <td>16.8</td>\n",
       "      <td>16.6</td>\n",
       "      <td>16.9</td>\n",
       "    </tr>\n",
       "    <tr>\n",
       "      <th>230</th>\n",
       "      <td>Zimbabwe</td>\n",
       "      <td>189</td>\n",
       "      <td>20.0</td>\n",
       "      <td>19.6</td>\n",
       "      <td>20.4</td>\n",
       "    </tr>\n",
       "  </tbody>\n",
       "</table>\n",
       "<p>231 rows × 5 columns</p>\n",
       "</div>"
      ],
      "text/plain": [
       "                            0     1               2            3  \\\n",
       "0           Country/Territory  Rank  Average(Years)  Male(Years)   \n",
       "1                 Afghanistan   208            18.8         18.8   \n",
       "2                     Albania    95            32.9         31.6   \n",
       "3                     Algeria   136            28.1         27.8   \n",
       "4              American Samoa   122            25.5         25.1   \n",
       "5                     Andorra    10            44.3         44.4   \n",
       "6                      Angola   214            15.9         15.4   \n",
       "7                    Anguilla    79            34.8         32.9   \n",
       "8         Antigua and Barbuda   102            31.9         30.0   \n",
       "9                   Argentina   105            31.7         30.5   \n",
       "10                    Armenia    80            35.1         33.3   \n",
       "11                      Aruba    55            39.3         37.5   \n",
       "12                  Australia    58            38.7         37.9   \n",
       "13                    Austria    13            44.0         42.8   \n",
       "14                 Azerbaijan   107            31.3         29.8   \n",
       "15                The Bahamas   100            32.0         30.9   \n",
       "16                    Bahrain    99            32.3         33.8   \n",
       "17                 Bangladesh   148            26.7         26.0   \n",
       "18                   Barbados    59            38.6         37.5   \n",
       "19                    Belarus    51            40.0         37.1   \n",
       "20                    Belgium    39            41.4         40.2   \n",
       "21                     Belize   177            22.7         22.5   \n",
       "22                      Benin   216            18.2         17.9   \n",
       "23                    Bermuda    17            43.4         41.5   \n",
       "24                     Bhutan   144            27.6         28.2   \n",
       "25                    Bolivia   162            24.3         23.6   \n",
       "26     Bosnia and Herzegovina    32            42.1         40.5   \n",
       "27                   Botswana   170            24.5         23.5   \n",
       "28                     Brazil   103            32.0         31.1   \n",
       "29     British Virgin Islands    72            36.5         36.3   \n",
       "..                        ...   ...             ...          ...   \n",
       "201                Tajikistan   160            24.5         23.9   \n",
       "202                  Tanzania   220            17.7         17.5   \n",
       "203                  Thailand    66            37.7         36.6   \n",
       "204                East Timor   206            18.9         18.3   \n",
       "205                      Togo   194            19.8         19.5   \n",
       "206                     Tonga   176            23.0         22.5   \n",
       "207       Trinidad and Tobago    75            36.0         35.6   \n",
       "208                   Tunisia    97            31.6         31.0   \n",
       "209                    Turkey   110            30.9         30.5   \n",
       "210              Turkmenistan   142            27.9         27.5   \n",
       "211  Turks and Caicos Islands    92            33.3         33.6   \n",
       "212                    Tuvalu   155            25.7         24.7   \n",
       "213                    Uganda   229            15.8         15.7   \n",
       "214                   Ukraine    48            40.6         37.4   \n",
       "215      United Arab Emirates   113            30.3         32.1   \n",
       "216            United Kingdom    50            40.5         39.3   \n",
       "217             United States    61            38.1         36.8   \n",
       "218                   Uruguay    78            35.0         33.1   \n",
       "219                Uzbekistan   132            28.6         28.0   \n",
       "220                   Vanuatu   181            22.0         21.6   \n",
       "221                 Venezuela   134            28.3         27.6   \n",
       "222                   Vietnam   114            30.5         29.4   \n",
       "223            Virgin Islands    44            41.0         39.9   \n",
       "224         Wallis and Futuna   104            32.2         31.3   \n",
       "225                 West Bank   186            21.1         20.9   \n",
       "226            Western Sahara   183            21.1         20.9   \n",
       "227                     World   115            30.4         29.6   \n",
       "228                     Yemen   202            19.5         19.3   \n",
       "229                    Zambia   226            16.8         16.6   \n",
       "230                  Zimbabwe   189            20.0         19.6   \n",
       "\n",
       "                  4  \n",
       "0    Female (Years)  \n",
       "1              18.9  \n",
       "2              34.3  \n",
       "3              28.4  \n",
       "4              26.0  \n",
       "5              44.1  \n",
       "6              16.3  \n",
       "7              36.7  \n",
       "8              33.5  \n",
       "9              32.9  \n",
       "10             36.9  \n",
       "11             41.1  \n",
       "12             39.5  \n",
       "13             45.1  \n",
       "14             33.0  \n",
       "15             33.2  \n",
       "16             29.5  \n",
       "17             27.3  \n",
       "18             39.8  \n",
       "19             43.1  \n",
       "20             42.7  \n",
       "21             22.9  \n",
       "22             18.6  \n",
       "23             45.3  \n",
       "24             27.1  \n",
       "25             25.0  \n",
       "26             43.5  \n",
       "27             25.6  \n",
       "28             32.8  \n",
       "29             36.6  \n",
       "..              ...  \n",
       "201            25.1  \n",
       "202            18.0  \n",
       "203            38.7  \n",
       "204            19.6  \n",
       "205            20.1  \n",
       "206            23.4  \n",
       "207            36.6  \n",
       "208            32.2  \n",
       "209            31.4  \n",
       "210            28.4  \n",
       "211            33.0  \n",
       "212            26.9  \n",
       "213            15.9  \n",
       "214            43.7  \n",
       "215            25.0  \n",
       "216            41.7  \n",
       "217            39.4  \n",
       "218            36.7  \n",
       "219            29.2  \n",
       "220            22.4  \n",
       "221            29.0  \n",
       "222            31.7  \n",
       "223            41.9  \n",
       "224            33.4  \n",
       "225            21.3  \n",
       "226            21.3  \n",
       "227            31.1  \n",
       "228            19.6  \n",
       "229            16.9  \n",
       "230            20.4  \n",
       "\n",
       "[231 rows x 5 columns]"
      ]
     },
     "execution_count": 4,
     "metadata": {},
     "output_type": "execute_result"
    }
   ],
   "source": [
    "pd.read_html('https://en.wikipedia.org/wiki/List_of_countries_by_median_age')[0]"
   ]
  },
  {
   "cell_type": "markdown",
   "metadata": {},
   "source": [
    "We can turn the first row into column headers by adding the 'header' argument with the number of the row we want to use as the header."
   ]
  },
  {
   "cell_type": "code",
   "execution_count": 5,
   "metadata": {},
   "outputs": [
    {
     "data": {
      "text/html": [
       "<div>\n",
       "<style scoped>\n",
       "    .dataframe tbody tr th:only-of-type {\n",
       "        vertical-align: middle;\n",
       "    }\n",
       "\n",
       "    .dataframe tbody tr th {\n",
       "        vertical-align: top;\n",
       "    }\n",
       "\n",
       "    .dataframe thead th {\n",
       "        text-align: right;\n",
       "    }\n",
       "</style>\n",
       "<table border=\"1\" class=\"dataframe\">\n",
       "  <thead>\n",
       "    <tr style=\"text-align: right;\">\n",
       "      <th></th>\n",
       "      <th>Country/Territory</th>\n",
       "      <th>Rank</th>\n",
       "      <th>Average(Years)</th>\n",
       "      <th>Male(Years)</th>\n",
       "      <th>Female (Years)</th>\n",
       "    </tr>\n",
       "  </thead>\n",
       "  <tbody>\n",
       "    <tr>\n",
       "      <th>0</th>\n",
       "      <td>Afghanistan</td>\n",
       "      <td>208</td>\n",
       "      <td>18.8</td>\n",
       "      <td>18.8</td>\n",
       "      <td>18.9</td>\n",
       "    </tr>\n",
       "    <tr>\n",
       "      <th>1</th>\n",
       "      <td>Albania</td>\n",
       "      <td>95</td>\n",
       "      <td>32.9</td>\n",
       "      <td>31.6</td>\n",
       "      <td>34.3</td>\n",
       "    </tr>\n",
       "    <tr>\n",
       "      <th>2</th>\n",
       "      <td>Algeria</td>\n",
       "      <td>136</td>\n",
       "      <td>28.1</td>\n",
       "      <td>27.8</td>\n",
       "      <td>28.4</td>\n",
       "    </tr>\n",
       "    <tr>\n",
       "      <th>3</th>\n",
       "      <td>American Samoa</td>\n",
       "      <td>122</td>\n",
       "      <td>25.5</td>\n",
       "      <td>25.1</td>\n",
       "      <td>26.0</td>\n",
       "    </tr>\n",
       "    <tr>\n",
       "      <th>4</th>\n",
       "      <td>Andorra</td>\n",
       "      <td>10</td>\n",
       "      <td>44.3</td>\n",
       "      <td>44.4</td>\n",
       "      <td>44.1</td>\n",
       "    </tr>\n",
       "    <tr>\n",
       "      <th>5</th>\n",
       "      <td>Angola</td>\n",
       "      <td>214</td>\n",
       "      <td>15.9</td>\n",
       "      <td>15.4</td>\n",
       "      <td>16.3</td>\n",
       "    </tr>\n",
       "    <tr>\n",
       "      <th>6</th>\n",
       "      <td>Anguilla</td>\n",
       "      <td>79</td>\n",
       "      <td>34.8</td>\n",
       "      <td>32.9</td>\n",
       "      <td>36.7</td>\n",
       "    </tr>\n",
       "    <tr>\n",
       "      <th>7</th>\n",
       "      <td>Antigua and Barbuda</td>\n",
       "      <td>102</td>\n",
       "      <td>31.9</td>\n",
       "      <td>30.0</td>\n",
       "      <td>33.5</td>\n",
       "    </tr>\n",
       "    <tr>\n",
       "      <th>8</th>\n",
       "      <td>Argentina</td>\n",
       "      <td>105</td>\n",
       "      <td>31.7</td>\n",
       "      <td>30.5</td>\n",
       "      <td>32.9</td>\n",
       "    </tr>\n",
       "    <tr>\n",
       "      <th>9</th>\n",
       "      <td>Armenia</td>\n",
       "      <td>80</td>\n",
       "      <td>35.1</td>\n",
       "      <td>33.3</td>\n",
       "      <td>36.9</td>\n",
       "    </tr>\n",
       "    <tr>\n",
       "      <th>10</th>\n",
       "      <td>Aruba</td>\n",
       "      <td>55</td>\n",
       "      <td>39.3</td>\n",
       "      <td>37.5</td>\n",
       "      <td>41.1</td>\n",
       "    </tr>\n",
       "    <tr>\n",
       "      <th>11</th>\n",
       "      <td>Australia</td>\n",
       "      <td>58</td>\n",
       "      <td>38.7</td>\n",
       "      <td>37.9</td>\n",
       "      <td>39.5</td>\n",
       "    </tr>\n",
       "    <tr>\n",
       "      <th>12</th>\n",
       "      <td>Austria</td>\n",
       "      <td>13</td>\n",
       "      <td>44.0</td>\n",
       "      <td>42.8</td>\n",
       "      <td>45.1</td>\n",
       "    </tr>\n",
       "    <tr>\n",
       "      <th>13</th>\n",
       "      <td>Azerbaijan</td>\n",
       "      <td>107</td>\n",
       "      <td>31.3</td>\n",
       "      <td>29.8</td>\n",
       "      <td>33.0</td>\n",
       "    </tr>\n",
       "    <tr>\n",
       "      <th>14</th>\n",
       "      <td>The Bahamas</td>\n",
       "      <td>100</td>\n",
       "      <td>32.0</td>\n",
       "      <td>30.9</td>\n",
       "      <td>33.2</td>\n",
       "    </tr>\n",
       "    <tr>\n",
       "      <th>15</th>\n",
       "      <td>Bahrain</td>\n",
       "      <td>99</td>\n",
       "      <td>32.3</td>\n",
       "      <td>33.8</td>\n",
       "      <td>29.5</td>\n",
       "    </tr>\n",
       "    <tr>\n",
       "      <th>16</th>\n",
       "      <td>Bangladesh</td>\n",
       "      <td>148</td>\n",
       "      <td>26.7</td>\n",
       "      <td>26.0</td>\n",
       "      <td>27.3</td>\n",
       "    </tr>\n",
       "    <tr>\n",
       "      <th>17</th>\n",
       "      <td>Barbados</td>\n",
       "      <td>59</td>\n",
       "      <td>38.6</td>\n",
       "      <td>37.5</td>\n",
       "      <td>39.8</td>\n",
       "    </tr>\n",
       "    <tr>\n",
       "      <th>18</th>\n",
       "      <td>Belarus</td>\n",
       "      <td>51</td>\n",
       "      <td>40.0</td>\n",
       "      <td>37.1</td>\n",
       "      <td>43.1</td>\n",
       "    </tr>\n",
       "    <tr>\n",
       "      <th>19</th>\n",
       "      <td>Belgium</td>\n",
       "      <td>39</td>\n",
       "      <td>41.4</td>\n",
       "      <td>40.2</td>\n",
       "      <td>42.7</td>\n",
       "    </tr>\n",
       "    <tr>\n",
       "      <th>20</th>\n",
       "      <td>Belize</td>\n",
       "      <td>177</td>\n",
       "      <td>22.7</td>\n",
       "      <td>22.5</td>\n",
       "      <td>22.9</td>\n",
       "    </tr>\n",
       "    <tr>\n",
       "      <th>21</th>\n",
       "      <td>Benin</td>\n",
       "      <td>216</td>\n",
       "      <td>18.2</td>\n",
       "      <td>17.9</td>\n",
       "      <td>18.6</td>\n",
       "    </tr>\n",
       "    <tr>\n",
       "      <th>22</th>\n",
       "      <td>Bermuda</td>\n",
       "      <td>17</td>\n",
       "      <td>43.4</td>\n",
       "      <td>41.5</td>\n",
       "      <td>45.3</td>\n",
       "    </tr>\n",
       "    <tr>\n",
       "      <th>23</th>\n",
       "      <td>Bhutan</td>\n",
       "      <td>144</td>\n",
       "      <td>27.6</td>\n",
       "      <td>28.2</td>\n",
       "      <td>27.1</td>\n",
       "    </tr>\n",
       "    <tr>\n",
       "      <th>24</th>\n",
       "      <td>Bolivia</td>\n",
       "      <td>162</td>\n",
       "      <td>24.3</td>\n",
       "      <td>23.6</td>\n",
       "      <td>25.0</td>\n",
       "    </tr>\n",
       "    <tr>\n",
       "      <th>25</th>\n",
       "      <td>Bosnia and Herzegovina</td>\n",
       "      <td>32</td>\n",
       "      <td>42.1</td>\n",
       "      <td>40.5</td>\n",
       "      <td>43.5</td>\n",
       "    </tr>\n",
       "    <tr>\n",
       "      <th>26</th>\n",
       "      <td>Botswana</td>\n",
       "      <td>170</td>\n",
       "      <td>24.5</td>\n",
       "      <td>23.5</td>\n",
       "      <td>25.6</td>\n",
       "    </tr>\n",
       "    <tr>\n",
       "      <th>27</th>\n",
       "      <td>Brazil</td>\n",
       "      <td>103</td>\n",
       "      <td>32.0</td>\n",
       "      <td>31.1</td>\n",
       "      <td>32.8</td>\n",
       "    </tr>\n",
       "    <tr>\n",
       "      <th>28</th>\n",
       "      <td>British Virgin Islands</td>\n",
       "      <td>72</td>\n",
       "      <td>36.5</td>\n",
       "      <td>36.3</td>\n",
       "      <td>36.6</td>\n",
       "    </tr>\n",
       "    <tr>\n",
       "      <th>29</th>\n",
       "      <td>Brunei</td>\n",
       "      <td>116</td>\n",
       "      <td>30.2</td>\n",
       "      <td>29.7</td>\n",
       "      <td>30.7</td>\n",
       "    </tr>\n",
       "    <tr>\n",
       "      <th>...</th>\n",
       "      <td>...</td>\n",
       "      <td>...</td>\n",
       "      <td>...</td>\n",
       "      <td>...</td>\n",
       "      <td>...</td>\n",
       "    </tr>\n",
       "    <tr>\n",
       "      <th>200</th>\n",
       "      <td>Tajikistan</td>\n",
       "      <td>160</td>\n",
       "      <td>24.5</td>\n",
       "      <td>23.9</td>\n",
       "      <td>25.1</td>\n",
       "    </tr>\n",
       "    <tr>\n",
       "      <th>201</th>\n",
       "      <td>Tanzania</td>\n",
       "      <td>220</td>\n",
       "      <td>17.7</td>\n",
       "      <td>17.5</td>\n",
       "      <td>18.0</td>\n",
       "    </tr>\n",
       "    <tr>\n",
       "      <th>202</th>\n",
       "      <td>Thailand</td>\n",
       "      <td>66</td>\n",
       "      <td>37.7</td>\n",
       "      <td>36.6</td>\n",
       "      <td>38.7</td>\n",
       "    </tr>\n",
       "    <tr>\n",
       "      <th>203</th>\n",
       "      <td>East Timor</td>\n",
       "      <td>206</td>\n",
       "      <td>18.9</td>\n",
       "      <td>18.3</td>\n",
       "      <td>19.6</td>\n",
       "    </tr>\n",
       "    <tr>\n",
       "      <th>204</th>\n",
       "      <td>Togo</td>\n",
       "      <td>194</td>\n",
       "      <td>19.8</td>\n",
       "      <td>19.5</td>\n",
       "      <td>20.1</td>\n",
       "    </tr>\n",
       "    <tr>\n",
       "      <th>205</th>\n",
       "      <td>Tonga</td>\n",
       "      <td>176</td>\n",
       "      <td>23.0</td>\n",
       "      <td>22.5</td>\n",
       "      <td>23.4</td>\n",
       "    </tr>\n",
       "    <tr>\n",
       "      <th>206</th>\n",
       "      <td>Trinidad and Tobago</td>\n",
       "      <td>75</td>\n",
       "      <td>36.0</td>\n",
       "      <td>35.6</td>\n",
       "      <td>36.6</td>\n",
       "    </tr>\n",
       "    <tr>\n",
       "      <th>207</th>\n",
       "      <td>Tunisia</td>\n",
       "      <td>97</td>\n",
       "      <td>31.6</td>\n",
       "      <td>31.0</td>\n",
       "      <td>32.2</td>\n",
       "    </tr>\n",
       "    <tr>\n",
       "      <th>208</th>\n",
       "      <td>Turkey</td>\n",
       "      <td>110</td>\n",
       "      <td>30.9</td>\n",
       "      <td>30.5</td>\n",
       "      <td>31.4</td>\n",
       "    </tr>\n",
       "    <tr>\n",
       "      <th>209</th>\n",
       "      <td>Turkmenistan</td>\n",
       "      <td>142</td>\n",
       "      <td>27.9</td>\n",
       "      <td>27.5</td>\n",
       "      <td>28.4</td>\n",
       "    </tr>\n",
       "    <tr>\n",
       "      <th>210</th>\n",
       "      <td>Turks and Caicos Islands</td>\n",
       "      <td>92</td>\n",
       "      <td>33.3</td>\n",
       "      <td>33.6</td>\n",
       "      <td>33.0</td>\n",
       "    </tr>\n",
       "    <tr>\n",
       "      <th>211</th>\n",
       "      <td>Tuvalu</td>\n",
       "      <td>155</td>\n",
       "      <td>25.7</td>\n",
       "      <td>24.7</td>\n",
       "      <td>26.9</td>\n",
       "    </tr>\n",
       "    <tr>\n",
       "      <th>212</th>\n",
       "      <td>Uganda</td>\n",
       "      <td>229</td>\n",
       "      <td>15.8</td>\n",
       "      <td>15.7</td>\n",
       "      <td>15.9</td>\n",
       "    </tr>\n",
       "    <tr>\n",
       "      <th>213</th>\n",
       "      <td>Ukraine</td>\n",
       "      <td>48</td>\n",
       "      <td>40.6</td>\n",
       "      <td>37.4</td>\n",
       "      <td>43.7</td>\n",
       "    </tr>\n",
       "    <tr>\n",
       "      <th>214</th>\n",
       "      <td>United Arab Emirates</td>\n",
       "      <td>113</td>\n",
       "      <td>30.3</td>\n",
       "      <td>32.1</td>\n",
       "      <td>25.0</td>\n",
       "    </tr>\n",
       "    <tr>\n",
       "      <th>215</th>\n",
       "      <td>United Kingdom</td>\n",
       "      <td>50</td>\n",
       "      <td>40.5</td>\n",
       "      <td>39.3</td>\n",
       "      <td>41.7</td>\n",
       "    </tr>\n",
       "    <tr>\n",
       "      <th>216</th>\n",
       "      <td>United States</td>\n",
       "      <td>61</td>\n",
       "      <td>38.1</td>\n",
       "      <td>36.8</td>\n",
       "      <td>39.4</td>\n",
       "    </tr>\n",
       "    <tr>\n",
       "      <th>217</th>\n",
       "      <td>Uruguay</td>\n",
       "      <td>78</td>\n",
       "      <td>35.0</td>\n",
       "      <td>33.1</td>\n",
       "      <td>36.7</td>\n",
       "    </tr>\n",
       "    <tr>\n",
       "      <th>218</th>\n",
       "      <td>Uzbekistan</td>\n",
       "      <td>132</td>\n",
       "      <td>28.6</td>\n",
       "      <td>28.0</td>\n",
       "      <td>29.2</td>\n",
       "    </tr>\n",
       "    <tr>\n",
       "      <th>219</th>\n",
       "      <td>Vanuatu</td>\n",
       "      <td>181</td>\n",
       "      <td>22.0</td>\n",
       "      <td>21.6</td>\n",
       "      <td>22.4</td>\n",
       "    </tr>\n",
       "    <tr>\n",
       "      <th>220</th>\n",
       "      <td>Venezuela</td>\n",
       "      <td>134</td>\n",
       "      <td>28.3</td>\n",
       "      <td>27.6</td>\n",
       "      <td>29.0</td>\n",
       "    </tr>\n",
       "    <tr>\n",
       "      <th>221</th>\n",
       "      <td>Vietnam</td>\n",
       "      <td>114</td>\n",
       "      <td>30.5</td>\n",
       "      <td>29.4</td>\n",
       "      <td>31.7</td>\n",
       "    </tr>\n",
       "    <tr>\n",
       "      <th>222</th>\n",
       "      <td>Virgin Islands</td>\n",
       "      <td>44</td>\n",
       "      <td>41.0</td>\n",
       "      <td>39.9</td>\n",
       "      <td>41.9</td>\n",
       "    </tr>\n",
       "    <tr>\n",
       "      <th>223</th>\n",
       "      <td>Wallis and Futuna</td>\n",
       "      <td>104</td>\n",
       "      <td>32.2</td>\n",
       "      <td>31.3</td>\n",
       "      <td>33.4</td>\n",
       "    </tr>\n",
       "    <tr>\n",
       "      <th>224</th>\n",
       "      <td>West Bank</td>\n",
       "      <td>186</td>\n",
       "      <td>21.1</td>\n",
       "      <td>20.9</td>\n",
       "      <td>21.3</td>\n",
       "    </tr>\n",
       "    <tr>\n",
       "      <th>225</th>\n",
       "      <td>Western Sahara</td>\n",
       "      <td>183</td>\n",
       "      <td>21.1</td>\n",
       "      <td>20.9</td>\n",
       "      <td>21.3</td>\n",
       "    </tr>\n",
       "    <tr>\n",
       "      <th>226</th>\n",
       "      <td>World</td>\n",
       "      <td>115</td>\n",
       "      <td>30.4</td>\n",
       "      <td>29.6</td>\n",
       "      <td>31.1</td>\n",
       "    </tr>\n",
       "    <tr>\n",
       "      <th>227</th>\n",
       "      <td>Yemen</td>\n",
       "      <td>202</td>\n",
       "      <td>19.5</td>\n",
       "      <td>19.3</td>\n",
       "      <td>19.6</td>\n",
       "    </tr>\n",
       "    <tr>\n",
       "      <th>228</th>\n",
       "      <td>Zambia</td>\n",
       "      <td>226</td>\n",
       "      <td>16.8</td>\n",
       "      <td>16.6</td>\n",
       "      <td>16.9</td>\n",
       "    </tr>\n",
       "    <tr>\n",
       "      <th>229</th>\n",
       "      <td>Zimbabwe</td>\n",
       "      <td>189</td>\n",
       "      <td>20.0</td>\n",
       "      <td>19.6</td>\n",
       "      <td>20.4</td>\n",
       "    </tr>\n",
       "  </tbody>\n",
       "</table>\n",
       "<p>230 rows × 5 columns</p>\n",
       "</div>"
      ],
      "text/plain": [
       "            Country/Territory  Rank  Average(Years)  Male(Years)  \\\n",
       "0                 Afghanistan   208            18.8         18.8   \n",
       "1                     Albania    95            32.9         31.6   \n",
       "2                     Algeria   136            28.1         27.8   \n",
       "3              American Samoa   122            25.5         25.1   \n",
       "4                     Andorra    10            44.3         44.4   \n",
       "5                      Angola   214            15.9         15.4   \n",
       "6                    Anguilla    79            34.8         32.9   \n",
       "7         Antigua and Barbuda   102            31.9         30.0   \n",
       "8                   Argentina   105            31.7         30.5   \n",
       "9                     Armenia    80            35.1         33.3   \n",
       "10                      Aruba    55            39.3         37.5   \n",
       "11                  Australia    58            38.7         37.9   \n",
       "12                    Austria    13            44.0         42.8   \n",
       "13                 Azerbaijan   107            31.3         29.8   \n",
       "14                The Bahamas   100            32.0         30.9   \n",
       "15                    Bahrain    99            32.3         33.8   \n",
       "16                 Bangladesh   148            26.7         26.0   \n",
       "17                   Barbados    59            38.6         37.5   \n",
       "18                    Belarus    51            40.0         37.1   \n",
       "19                    Belgium    39            41.4         40.2   \n",
       "20                     Belize   177            22.7         22.5   \n",
       "21                      Benin   216            18.2         17.9   \n",
       "22                    Bermuda    17            43.4         41.5   \n",
       "23                     Bhutan   144            27.6         28.2   \n",
       "24                    Bolivia   162            24.3         23.6   \n",
       "25     Bosnia and Herzegovina    32            42.1         40.5   \n",
       "26                   Botswana   170            24.5         23.5   \n",
       "27                     Brazil   103            32.0         31.1   \n",
       "28     British Virgin Islands    72            36.5         36.3   \n",
       "29                     Brunei   116            30.2         29.7   \n",
       "..                        ...   ...             ...          ...   \n",
       "200                Tajikistan   160            24.5         23.9   \n",
       "201                  Tanzania   220            17.7         17.5   \n",
       "202                  Thailand    66            37.7         36.6   \n",
       "203                East Timor   206            18.9         18.3   \n",
       "204                      Togo   194            19.8         19.5   \n",
       "205                     Tonga   176            23.0         22.5   \n",
       "206       Trinidad and Tobago    75            36.0         35.6   \n",
       "207                   Tunisia    97            31.6         31.0   \n",
       "208                    Turkey   110            30.9         30.5   \n",
       "209              Turkmenistan   142            27.9         27.5   \n",
       "210  Turks and Caicos Islands    92            33.3         33.6   \n",
       "211                    Tuvalu   155            25.7         24.7   \n",
       "212                    Uganda   229            15.8         15.7   \n",
       "213                   Ukraine    48            40.6         37.4   \n",
       "214      United Arab Emirates   113            30.3         32.1   \n",
       "215            United Kingdom    50            40.5         39.3   \n",
       "216             United States    61            38.1         36.8   \n",
       "217                   Uruguay    78            35.0         33.1   \n",
       "218                Uzbekistan   132            28.6         28.0   \n",
       "219                   Vanuatu   181            22.0         21.6   \n",
       "220                 Venezuela   134            28.3         27.6   \n",
       "221                   Vietnam   114            30.5         29.4   \n",
       "222            Virgin Islands    44            41.0         39.9   \n",
       "223         Wallis and Futuna   104            32.2         31.3   \n",
       "224                 West Bank   186            21.1         20.9   \n",
       "225            Western Sahara   183            21.1         20.9   \n",
       "226                     World   115            30.4         29.6   \n",
       "227                     Yemen   202            19.5         19.3   \n",
       "228                    Zambia   226            16.8         16.6   \n",
       "229                  Zimbabwe   189            20.0         19.6   \n",
       "\n",
       "     Female (Years)  \n",
       "0              18.9  \n",
       "1              34.3  \n",
       "2              28.4  \n",
       "3              26.0  \n",
       "4              44.1  \n",
       "5              16.3  \n",
       "6              36.7  \n",
       "7              33.5  \n",
       "8              32.9  \n",
       "9              36.9  \n",
       "10             41.1  \n",
       "11             39.5  \n",
       "12             45.1  \n",
       "13             33.0  \n",
       "14             33.2  \n",
       "15             29.5  \n",
       "16             27.3  \n",
       "17             39.8  \n",
       "18             43.1  \n",
       "19             42.7  \n",
       "20             22.9  \n",
       "21             18.6  \n",
       "22             45.3  \n",
       "23             27.1  \n",
       "24             25.0  \n",
       "25             43.5  \n",
       "26             25.6  \n",
       "27             32.8  \n",
       "28             36.6  \n",
       "29             30.7  \n",
       "..              ...  \n",
       "200            25.1  \n",
       "201            18.0  \n",
       "202            38.7  \n",
       "203            19.6  \n",
       "204            20.1  \n",
       "205            23.4  \n",
       "206            36.6  \n",
       "207            32.2  \n",
       "208            31.4  \n",
       "209            28.4  \n",
       "210            33.0  \n",
       "211            26.9  \n",
       "212            15.9  \n",
       "213            43.7  \n",
       "214            25.0  \n",
       "215            41.7  \n",
       "216            39.4  \n",
       "217            36.7  \n",
       "218            29.2  \n",
       "219            22.4  \n",
       "220            29.0  \n",
       "221            31.7  \n",
       "222            41.9  \n",
       "223            33.4  \n",
       "224            21.3  \n",
       "225            21.3  \n",
       "226            31.1  \n",
       "227            19.6  \n",
       "228            16.9  \n",
       "229            20.4  \n",
       "\n",
       "[230 rows x 5 columns]"
      ]
     },
     "execution_count": 5,
     "metadata": {},
     "output_type": "execute_result"
    }
   ],
   "source": [
    "pd.read_html('https://en.wikipedia.org/wiki/List_of_countries_by_median_age', header=0)[0]"
   ]
  },
  {
   "cell_type": "markdown",
   "metadata": {},
   "source": [
    "Now we can turn this into a local dataframe and work with it!"
   ]
  },
  {
   "cell_type": "code",
   "execution_count": 6,
   "metadata": {
    "collapsed": true
   },
   "outputs": [],
   "source": [
    "df = pd.read_html('https://en.wikipedia.org/wiki/List_of_countries_by_median_age', header=0)[0]"
   ]
  },
  {
   "cell_type": "markdown",
   "metadata": {},
   "source": [
    "As we covered last week, we can use the 'head' function to preview the first five rows of the dataframe."
   ]
  },
  {
   "cell_type": "code",
   "execution_count": 7,
   "metadata": {},
   "outputs": [
    {
     "data": {
      "text/html": [
       "<div>\n",
       "<style scoped>\n",
       "    .dataframe tbody tr th:only-of-type {\n",
       "        vertical-align: middle;\n",
       "    }\n",
       "\n",
       "    .dataframe tbody tr th {\n",
       "        vertical-align: top;\n",
       "    }\n",
       "\n",
       "    .dataframe thead th {\n",
       "        text-align: right;\n",
       "    }\n",
       "</style>\n",
       "<table border=\"1\" class=\"dataframe\">\n",
       "  <thead>\n",
       "    <tr style=\"text-align: right;\">\n",
       "      <th></th>\n",
       "      <th>Country/Territory</th>\n",
       "      <th>Rank</th>\n",
       "      <th>Average(Years)</th>\n",
       "      <th>Male(Years)</th>\n",
       "      <th>Female (Years)</th>\n",
       "    </tr>\n",
       "  </thead>\n",
       "  <tbody>\n",
       "    <tr>\n",
       "      <th>0</th>\n",
       "      <td>Afghanistan</td>\n",
       "      <td>208</td>\n",
       "      <td>18.8</td>\n",
       "      <td>18.8</td>\n",
       "      <td>18.9</td>\n",
       "    </tr>\n",
       "    <tr>\n",
       "      <th>1</th>\n",
       "      <td>Albania</td>\n",
       "      <td>95</td>\n",
       "      <td>32.9</td>\n",
       "      <td>31.6</td>\n",
       "      <td>34.3</td>\n",
       "    </tr>\n",
       "    <tr>\n",
       "      <th>2</th>\n",
       "      <td>Algeria</td>\n",
       "      <td>136</td>\n",
       "      <td>28.1</td>\n",
       "      <td>27.8</td>\n",
       "      <td>28.4</td>\n",
       "    </tr>\n",
       "    <tr>\n",
       "      <th>3</th>\n",
       "      <td>American Samoa</td>\n",
       "      <td>122</td>\n",
       "      <td>25.5</td>\n",
       "      <td>25.1</td>\n",
       "      <td>26.0</td>\n",
       "    </tr>\n",
       "    <tr>\n",
       "      <th>4</th>\n",
       "      <td>Andorra</td>\n",
       "      <td>10</td>\n",
       "      <td>44.3</td>\n",
       "      <td>44.4</td>\n",
       "      <td>44.1</td>\n",
       "    </tr>\n",
       "  </tbody>\n",
       "</table>\n",
       "</div>"
      ],
      "text/plain": [
       "  Country/Territory  Rank  Average(Years)  Male(Years)  Female (Years)\n",
       "0       Afghanistan   208            18.8         18.8            18.9\n",
       "1           Albania    95            32.9         31.6            34.3\n",
       "2           Algeria   136            28.1         27.8            28.4\n",
       "3    American Samoa   122            25.5         25.1            26.0\n",
       "4           Andorra    10            44.3         44.4            44.1"
      ]
     },
     "execution_count": 7,
     "metadata": {},
     "output_type": "execute_result"
    }
   ],
   "source": [
    "df.head()"
   ]
  },
  {
   "cell_type": "markdown",
   "metadata": {},
   "source": [
    "## Part Two - Data Visualization"
   ]
  },
  {
   "cell_type": "markdown",
   "metadata": {},
   "source": [
    "Now that we've seen our way around Pandas, we can look at some actual data using the techniques and metrics we saw in the lecture.\n",
    "\n",
    "The 'Average(Years)' column in our dataframe is the median age for every country in the world. Let's see what the distribution is like and find out more about it.\n",
    "\n",
    "First, let's plot a histogram to see the distribution using Seaborn and Matplotlib. Matplotlib is a core Python visualization library while Seaborn is a package built on top of it. You could go a mile deep into what these two packages are capable of, as you'll see in the readings this week. We want to keep it simple without it getting overwhelming for now. We'll learn the new tools as we need them."
   ]
  },
  {
   "cell_type": "code",
   "execution_count": 8,
   "metadata": {},
   "outputs": [
    {
     "data": {
      "text/plain": [
       "(array([ 28.,  27.,  29.,  33.,  28.,  24.,  25.,  32.,   3.,   1.]),\n",
       " array([ 15.4 ,  19.17,  22.94,  26.71,  30.48,  34.25,  38.02,  41.79,\n",
       "         45.56,  49.33,  53.1 ]),\n",
       " <a list of 10 Patch objects>)"
      ]
     },
     "execution_count": 8,
     "metadata": {},
     "output_type": "execute_result"
    },
    {
     "data": {
      "image/png": "[encoded data removed]",
      "text/plain": [
       "<matplotlib.figure.Figure at 0x117ef6c88>"
      ]
     },
     "metadata": {},
     "output_type": "display_data"
    }
   ],
   "source": [
    "#Plot a Histogram\n",
    "plt.hist(df['Average(Years)'])"
   ]
  },
  {
   "cell_type": "markdown",
   "metadata": {},
   "source": [
    "Looks like the median ages of countries are pretty evenly dispersed between ages 15 and 45, with a few countries that might have a higher age."
   ]
  },
  {
   "cell_type": "code",
   "execution_count": 9,
   "metadata": {},
   "outputs": [
    {
     "data": {
      "text/plain": [
       "<matplotlib.axes._subplots.AxesSubplot at 0x117c73d30>"
      ]
     },
     "execution_count": 9,
     "metadata": {},
     "output_type": "execute_result"
    },
    {
     "data": {
      "image/png": "[encoded data removed]",
      "text/plain": [
       "<matplotlib.figure.Figure at 0x117ef6550>"
      ]
     },
     "metadata": {},
     "output_type": "display_data"
    }
   ],
   "source": [
    "#Plot a Swarmplot\n",
    "sns.swarmplot(data=df['Average(Years)'])"
   ]
  },
  {
   "cell_type": "markdown",
   "metadata": {},
   "source": [
    "The swarmplot shows us that there's a country with an age between 50 and 55 that really sticks out."
   ]
  },
  {
   "cell_type": "code",
   "execution_count": 10,
   "metadata": {},
   "outputs": [
    {
     "data": {
      "text/plain": [
       "{'boxes': [<matplotlib.lines.Line2D at 0x117fcad68>],\n",
       " 'caps': [<matplotlib.lines.Line2D at 0x117fe1780>,\n",
       "  <matplotlib.lines.Line2D at 0x117fe1f98>],\n",
       " 'fliers': [<matplotlib.lines.Line2D at 0x117fe8f60>],\n",
       " 'means': [],\n",
       " 'medians': [<matplotlib.lines.Line2D at 0x117fe8198>],\n",
       " 'whiskers': [<matplotlib.lines.Line2D at 0x117fcaf28>,\n",
       "  <matplotlib.lines.Line2D at 0x117fd7f28>]}"
      ]
     },
     "execution_count": 10,
     "metadata": {},
     "output_type": "execute_result"
    },
    {
     "data": {
      "image/png": "[encoded data removed]",
      "text/plain": [
       "<matplotlib.figure.Figure at 0x118090208>"
      ]
     },
     "metadata": {},
     "output_type": "display_data"
    }
   ],
   "source": [
    "#Plot a Boxplot\n",
    "plt.boxplot(x=df['Average(Years)'])"
   ]
  },
  {
   "cell_type": "markdown",
   "metadata": {},
   "source": [
    "The boxplot shows that the country with the median age of 55 isn't officially considered an outlier.\n",
    "\n",
    "Hopefully you can see how using multiple visualizations can give you a more complete understanding of your distribution!"
   ]
  },
  {
   "cell_type": "markdown",
   "metadata": {},
   "source": [
    "## Part Three - Summary Statistics"
   ]
  },
  {
   "cell_type": "markdown",
   "metadata": {},
   "source": [
    "First, let's get the mean and median values of our dataset."
   ]
  },
  {
   "cell_type": "code",
   "execution_count": 11,
   "metadata": {},
   "outputs": [
    {
     "data": {
      "text/plain": [
       "30.738695652173924"
      ]
     },
     "execution_count": 11,
     "metadata": {},
     "output_type": "execute_result"
    }
   ],
   "source": [
    "#Mean\n",
    "np.mean(df['Average(Years)'])"
   ]
  },
  {
   "cell_type": "code",
   "execution_count": 12,
   "metadata": {},
   "outputs": [
    {
     "data": {
      "text/plain": [
       "30.300000000000001"
      ]
     },
     "execution_count": 12,
     "metadata": {},
     "output_type": "execute_result"
    }
   ],
   "source": [
    "#Median\n",
    "np.median(df['Average(Years)'])"
   ]
  },
  {
   "cell_type": "markdown",
   "metadata": {},
   "source": [
    "The mean and the median being close make sense, since the data is fairly evenly distributed (had the data been highly skewed, the mean and the median would be further apart).\n",
    "\n",
    "Now let's look at the variance and standard deviation."
   ]
  },
  {
   "cell_type": "code",
   "execution_count": 13,
   "metadata": {},
   "outputs": [
    {
     "data": {
      "text/plain": [
       "78.67019829867668"
      ]
     },
     "execution_count": 13,
     "metadata": {},
     "output_type": "execute_result"
    }
   ],
   "source": [
    "#Variance\n",
    "np.var(df['Average(Years)'])"
   ]
  },
  {
   "cell_type": "code",
   "execution_count": 14,
   "metadata": {},
   "outputs": [
    {
     "data": {
      "text/plain": [
       "8.869622218486912"
      ]
     },
     "execution_count": 14,
     "metadata": {},
     "output_type": "execute_result"
    }
   ],
   "source": [
    "#Standard Deviation\n",
    "np.std(df['Average(Years)'])"
   ]
  },
  {
   "cell_type": "markdown",
   "metadata": {},
   "source": [
    "These numbers don't really provide much information by themselves."
   ]
  },
  {
   "cell_type": "code",
   "execution_count": 15,
   "metadata": {},
   "outputs": [
    {
     "data": {
      "text/plain": [
       "8.8696222184869118"
      ]
     },
     "execution_count": 15,
     "metadata": {},
     "output_type": "execute_result"
    }
   ],
   "source": [
    "np.sqrt(np.var(df['Average(Years)']))"
   ]
  },
  {
   "cell_type": "markdown",
   "metadata": {},
   "source": [
    "Here we can see that the square root of the variance is indeed the standard deviation."
   ]
  },
  {
   "cell_type": "code",
   "execution_count": 16,
   "metadata": {},
   "outputs": [
    {
     "name": "stdout",
     "output_type": "stream",
     "text": [
      "78.6701982987\n"
     ]
    }
   ],
   "source": [
    "total_variance = 0\n",
    "for i in df['Average(Years)']:\n",
    "    deviation = i - df['Average(Years)'].mean()\n",
    "    squared_deviation = np.power(deviation, 2)\n",
    "    total_variance += squared_deviation\n",
    "print(total_variance/len(df['Average(Years)']))"
   ]
  },
  {
   "cell_type": "markdown",
   "metadata": {},
   "source": [
    "For those curious, above is the variance executed by 'hand'. Note that this is the same value as the variance calculated above."
   ]
  },
  {
   "cell_type": "code",
   "execution_count": 17,
   "metadata": {},
   "outputs": [
    {
     "data": {
      "text/plain": [
       "53.100000000000001"
      ]
     },
     "execution_count": 17,
     "metadata": {},
     "output_type": "execute_result"
    }
   ],
   "source": [
    "#Maximum\n",
    "np.max(df['Average(Years)'])"
   ]
  },
  {
   "cell_type": "code",
   "execution_count": 18,
   "metadata": {},
   "outputs": [
    {
     "data": {
      "text/plain": [
       "15.4"
      ]
     },
     "execution_count": 18,
     "metadata": {},
     "output_type": "execute_result"
    }
   ],
   "source": [
    "#Minimum\n",
    "np.min(df['Average(Years)'])"
   ]
  },
  {
   "cell_type": "code",
   "execution_count": 19,
   "metadata": {},
   "outputs": [
    {
     "data": {
      "text/plain": [
       "37.700000000000003"
      ]
     },
     "execution_count": 19,
     "metadata": {},
     "output_type": "execute_result"
    }
   ],
   "source": [
    "#Range\n",
    "np.max(df['Average(Years)']) - np.min(df['Average(Years)'])"
   ]
  },
  {
   "cell_type": "markdown",
   "metadata": {},
   "source": [
    "Above is the maximum, minimum, and range."
   ]
  },
  {
   "cell_type": "code",
   "execution_count": 20,
   "metadata": {},
   "outputs": [
    {
     "data": {
      "text/plain": [
       "23.0"
      ]
     },
     "execution_count": 20,
     "metadata": {},
     "output_type": "execute_result"
    }
   ],
   "source": [
    "#First Quartile\n",
    "df['Average(Years)'].quantile(0.25)"
   ]
  },
  {
   "cell_type": "code",
   "execution_count": 21,
   "metadata": {},
   "outputs": [
    {
     "data": {
      "text/plain": [
       "30.3"
      ]
     },
     "execution_count": 21,
     "metadata": {},
     "output_type": "execute_result"
    }
   ],
   "source": [
    "#Second Quartile\n",
    "df['Average(Years)'].quantile(0.5)"
   ]
  },
  {
   "cell_type": "code",
   "execution_count": 22,
   "metadata": {},
   "outputs": [
    {
     "data": {
      "text/plain": [
       "38.675000000000004"
      ]
     },
     "execution_count": 22,
     "metadata": {},
     "output_type": "execute_result"
    }
   ],
   "source": [
    "#Third Quartile\n",
    "df['Average(Years)'].quantile(0.75)"
   ]
  },
  {
   "cell_type": "code",
   "execution_count": 23,
   "metadata": {},
   "outputs": [
    {
     "data": {
      "text/plain": [
       "15.675000000000004"
      ]
     },
     "execution_count": 23,
     "metadata": {},
     "output_type": "execute_result"
    }
   ],
   "source": [
    "#Interquartile Range\n",
    "df['Average(Years)'].quantile(0.75) - df['Average(Years)'].quantile(0.25)"
   ]
  },
  {
   "cell_type": "markdown",
   "metadata": {},
   "source": [
    "Above are the first, second, and third quartiles. A few things here:\n",
    "\n",
    "* Note that the value of the second quartile is equivalent to the median which we found earlier.\n",
    "* Note that the difference between the first quartile and second quartile and the difference between the second quratile and third quartile are pretty close to each other, confirming that the data is pretty evenly distributed between these quartiles. The difference between the minimum value and the first quartile is also pretty close these values, however the diference between the third quartile and the maximum value is slightly larger than these, confirming our visual understanding that this distribution is fairly uniform besides a few high outliers."
   ]
  },
  {
   "cell_type": "markdown",
   "metadata": {},
   "source": [
    "Note that below is the unofficial equation for what constitutes a cutoff - anything above this value is technically an outlier."
   ]
  },
  {
   "cell_type": "code",
   "execution_count": 24,
   "metadata": {},
   "outputs": [
    {
     "data": {
      "text/plain": [
       "62.187500000000014"
      ]
     },
     "execution_count": 24,
     "metadata": {},
     "output_type": "execute_result"
    }
   ],
   "source": [
    "np.percentile(df['Average(Years)'], q=75) + (np.percentile(df['Average(Years)'], q=75) - np.percentile(df['Average(Years)'], q=25)) * 1.5"
   ]
  },
  {
   "cell_type": "markdown",
   "metadata": {},
   "source": [
    "And anything below this value is techincally an outlier. Obviously someone's age can't be negative, so this measure isn't perfect in this case."
   ]
  },
  {
   "cell_type": "code",
   "execution_count": 25,
   "metadata": {},
   "outputs": [
    {
     "data": {
      "text/plain": [
       "-0.51250000000000639"
      ]
     },
     "execution_count": 25,
     "metadata": {},
     "output_type": "execute_result"
    }
   ],
   "source": [
    "np.percentile(df['Average(Years)'], q=25) - (np.percentile(df['Average(Years)'], q=75) - np.percentile(df['Average(Years)'], q=25)) * 1.5"
   ]
  },
  {
   "cell_type": "markdown",
   "metadata": {},
   "source": [
    "## Part Four - Pandas Wrangling"
   ]
  },
  {
   "cell_type": "markdown",
   "metadata": {},
   "source": [
    "Now we can do some brief Pandas wrangling to find out a few things. First we can see which country had the highest median age."
   ]
  },
  {
   "cell_type": "code",
   "execution_count": 26,
   "metadata": {},
   "outputs": [
    {
     "data": {
      "text/plain": [
       "53.100000000000001"
      ]
     },
     "execution_count": 26,
     "metadata": {},
     "output_type": "execute_result"
    }
   ],
   "source": [
    "#Maximum Median Age as Found Earlier\n",
    "np.max(df['Average(Years)'])"
   ]
  },
  {
   "cell_type": "markdown",
   "metadata": {},
   "source": [
    "Here we can do a query within Pandas to see which row has a median age of 53.1. The below statement is a Boolean statement which is checking whether every row of the Dataframe has a median age equal to 53.1"
   ]
  },
  {
   "cell_type": "code",
   "execution_count": 27,
   "metadata": {},
   "outputs": [
    {
     "data": {
      "text/plain": [
       "0      False\n",
       "1      False\n",
       "2      False\n",
       "3      False\n",
       "4      False\n",
       "5      False\n",
       "6      False\n",
       "7      False\n",
       "8      False\n",
       "9      False\n",
       "10     False\n",
       "11     False\n",
       "12     False\n",
       "13     False\n",
       "14     False\n",
       "15     False\n",
       "16     False\n",
       "17     False\n",
       "18     False\n",
       "19     False\n",
       "20     False\n",
       "21     False\n",
       "22     False\n",
       "23     False\n",
       "24     False\n",
       "25     False\n",
       "26     False\n",
       "27     False\n",
       "28     False\n",
       "29     False\n",
       "       ...  \n",
       "200    False\n",
       "201    False\n",
       "202    False\n",
       "203    False\n",
       "204    False\n",
       "205    False\n",
       "206    False\n",
       "207    False\n",
       "208    False\n",
       "209    False\n",
       "210    False\n",
       "211    False\n",
       "212    False\n",
       "213    False\n",
       "214    False\n",
       "215    False\n",
       "216    False\n",
       "217    False\n",
       "218    False\n",
       "219    False\n",
       "220    False\n",
       "221    False\n",
       "222    False\n",
       "223    False\n",
       "224    False\n",
       "225    False\n",
       "226    False\n",
       "227    False\n",
       "228    False\n",
       "229    False\n",
       "Name: Average(Years), Length: 230, dtype: bool"
      ]
     },
     "execution_count": 27,
     "metadata": {},
     "output_type": "execute_result"
    }
   ],
   "source": [
    "df['Average(Years)'] == 53.1"
   ]
  },
  {
   "cell_type": "markdown",
   "metadata": {},
   "source": [
    "We can query the dataframe to see where the above Boolean statement is true."
   ]
  },
  {
   "cell_type": "code",
   "execution_count": 28,
   "metadata": {},
   "outputs": [
    {
     "data": {
      "text/html": [
       "<div>\n",
       "<style scoped>\n",
       "    .dataframe tbody tr th:only-of-type {\n",
       "        vertical-align: middle;\n",
       "    }\n",
       "\n",
       "    .dataframe tbody tr th {\n",
       "        vertical-align: top;\n",
       "    }\n",
       "\n",
       "    .dataframe thead th {\n",
       "        text-align: right;\n",
       "    }\n",
       "</style>\n",
       "<table border=\"1\" class=\"dataframe\">\n",
       "  <thead>\n",
       "    <tr style=\"text-align: right;\">\n",
       "      <th></th>\n",
       "      <th>Country/Territory</th>\n",
       "      <th>Rank</th>\n",
       "      <th>Average(Years)</th>\n",
       "      <th>Male(Years)</th>\n",
       "      <th>Female (Years)</th>\n",
       "    </tr>\n",
       "  </thead>\n",
       "  <tbody>\n",
       "    <tr>\n",
       "      <th>137</th>\n",
       "      <td>Monaco</td>\n",
       "      <td>1</td>\n",
       "      <td>53.1</td>\n",
       "      <td>51.7</td>\n",
       "      <td>54.5</td>\n",
       "    </tr>\n",
       "  </tbody>\n",
       "</table>\n",
       "</div>"
      ],
      "text/plain": [
       "    Country/Territory  Rank  Average(Years)  Male(Years)  Female (Years)\n",
       "137            Monaco     1            53.1         51.7            54.5"
      ]
     },
     "execution_count": 28,
     "metadata": {},
     "output_type": "execute_result"
    }
   ],
   "source": [
    "df[df['Average(Years)'] == 53.1]"
   ]
  },
  {
   "cell_type": "markdown",
   "metadata": {},
   "source": [
    "Here it is - one step shorter."
   ]
  },
  {
   "cell_type": "code",
   "execution_count": 29,
   "metadata": {},
   "outputs": [
    {
     "data": {
      "text/html": [
       "<div>\n",
       "<style scoped>\n",
       "    .dataframe tbody tr th:only-of-type {\n",
       "        vertical-align: middle;\n",
       "    }\n",
       "\n",
       "    .dataframe tbody tr th {\n",
       "        vertical-align: top;\n",
       "    }\n",
       "\n",
       "    .dataframe thead th {\n",
       "        text-align: right;\n",
       "    }\n",
       "</style>\n",
       "<table border=\"1\" class=\"dataframe\">\n",
       "  <thead>\n",
       "    <tr style=\"text-align: right;\">\n",
       "      <th></th>\n",
       "      <th>Country/Territory</th>\n",
       "      <th>Rank</th>\n",
       "      <th>Average(Years)</th>\n",
       "      <th>Male(Years)</th>\n",
       "      <th>Female (Years)</th>\n",
       "    </tr>\n",
       "  </thead>\n",
       "  <tbody>\n",
       "    <tr>\n",
       "      <th>137</th>\n",
       "      <td>Monaco</td>\n",
       "      <td>1</td>\n",
       "      <td>53.1</td>\n",
       "      <td>51.7</td>\n",
       "      <td>54.5</td>\n",
       "    </tr>\n",
       "  </tbody>\n",
       "</table>\n",
       "</div>"
      ],
      "text/plain": [
       "    Country/Territory  Rank  Average(Years)  Male(Years)  Female (Years)\n",
       "137            Monaco     1            53.1         51.7            54.5"
      ]
     },
     "execution_count": 29,
     "metadata": {},
     "output_type": "execute_result"
    }
   ],
   "source": [
    "#Country With Maximum Median Age\n",
    "df[df['Average(Years)'] == np.max(df['Average(Years)'])]"
   ]
  },
  {
   "cell_type": "code",
   "execution_count": 30,
   "metadata": {},
   "outputs": [
    {
     "data": {
      "text/html": [
       "<div>\n",
       "<style scoped>\n",
       "    .dataframe tbody tr th:only-of-type {\n",
       "        vertical-align: middle;\n",
       "    }\n",
       "\n",
       "    .dataframe tbody tr th {\n",
       "        vertical-align: top;\n",
       "    }\n",
       "\n",
       "    .dataframe thead th {\n",
       "        text-align: right;\n",
       "    }\n",
       "</style>\n",
       "<table border=\"1\" class=\"dataframe\">\n",
       "  <thead>\n",
       "    <tr style=\"text-align: right;\">\n",
       "      <th></th>\n",
       "      <th>Country/Territory</th>\n",
       "      <th>Rank</th>\n",
       "      <th>Average(Years)</th>\n",
       "      <th>Male(Years)</th>\n",
       "      <th>Female (Years)</th>\n",
       "    </tr>\n",
       "  </thead>\n",
       "  <tbody>\n",
       "    <tr>\n",
       "      <th>151</th>\n",
       "      <td>Niger</td>\n",
       "      <td>230</td>\n",
       "      <td>15.4</td>\n",
       "      <td>15.3</td>\n",
       "      <td>15.5</td>\n",
       "    </tr>\n",
       "  </tbody>\n",
       "</table>\n",
       "</div>"
      ],
      "text/plain": [
       "    Country/Territory  Rank  Average(Years)  Male(Years)  Female (Years)\n",
       "151             Niger   230            15.4         15.3            15.5"
      ]
     },
     "execution_count": 30,
     "metadata": {},
     "output_type": "execute_result"
    }
   ],
   "source": [
    "#Country With Minimum Median Age\n",
    "df[df['Average(Years)'] == np.min(df['Average(Years)'])]"
   ]
  },
  {
   "cell_type": "markdown",
   "metadata": {},
   "source": [
    "We can also input different numbers by value - for example below we'll see which countries had a median age above 45."
   ]
  },
  {
   "cell_type": "code",
   "execution_count": 31,
   "metadata": {},
   "outputs": [
    {
     "data": {
      "text/html": [
       "<div>\n",
       "<style scoped>\n",
       "    .dataframe tbody tr th:only-of-type {\n",
       "        vertical-align: middle;\n",
       "    }\n",
       "\n",
       "    .dataframe tbody tr th {\n",
       "        vertical-align: top;\n",
       "    }\n",
       "\n",
       "    .dataframe thead th {\n",
       "        text-align: right;\n",
       "    }\n",
       "</style>\n",
       "<table border=\"1\" class=\"dataframe\">\n",
       "  <thead>\n",
       "    <tr style=\"text-align: right;\">\n",
       "      <th></th>\n",
       "      <th>Country/Territory</th>\n",
       "      <th>Rank</th>\n",
       "      <th>Average(Years)</th>\n",
       "      <th>Male(Years)</th>\n",
       "      <th>Female (Years)</th>\n",
       "    </tr>\n",
       "  </thead>\n",
       "  <tbody>\n",
       "    <tr>\n",
       "      <th>77</th>\n",
       "      <td>Germany</td>\n",
       "      <td>3</td>\n",
       "      <td>47.1</td>\n",
       "      <td>46.0</td>\n",
       "      <td>48.2</td>\n",
       "    </tr>\n",
       "    <tr>\n",
       "      <th>101</th>\n",
       "      <td>Italy</td>\n",
       "      <td>5</td>\n",
       "      <td>45.5</td>\n",
       "      <td>44.4</td>\n",
       "      <td>46.5</td>\n",
       "    </tr>\n",
       "    <tr>\n",
       "      <th>103</th>\n",
       "      <td>Japan</td>\n",
       "      <td>2</td>\n",
       "      <td>47.3</td>\n",
       "      <td>46.0</td>\n",
       "      <td>48.7</td>\n",
       "    </tr>\n",
       "    <tr>\n",
       "      <th>137</th>\n",
       "      <td>Monaco</td>\n",
       "      <td>1</td>\n",
       "      <td>53.1</td>\n",
       "      <td>51.7</td>\n",
       "      <td>54.5</td>\n",
       "    </tr>\n",
       "    <tr>\n",
       "      <th>174</th>\n",
       "      <td>Saint Pierre and Miquelon</td>\n",
       "      <td>4</td>\n",
       "      <td>46.5</td>\n",
       "      <td>46.0</td>\n",
       "      <td>47.0</td>\n",
       "    </tr>\n",
       "  </tbody>\n",
       "</table>\n",
       "</div>"
      ],
      "text/plain": [
       "             Country/Territory  Rank  Average(Years)  Male(Years)  \\\n",
       "77                     Germany     3            47.1         46.0   \n",
       "101                      Italy     5            45.5         44.4   \n",
       "103                      Japan     2            47.3         46.0   \n",
       "137                     Monaco     1            53.1         51.7   \n",
       "174  Saint Pierre and Miquelon     4            46.5         46.0   \n",
       "\n",
       "     Female (Years)  \n",
       "77             48.2  \n",
       "101            46.5  \n",
       "103            48.7  \n",
       "137            54.5  \n",
       "174            47.0  "
      ]
     },
     "execution_count": 31,
     "metadata": {},
     "output_type": "execute_result"
    }
   ],
   "source": [
    "df[df['Average(Years)'] >= 45]"
   ]
  },
  {
   "cell_type": "markdown",
   "metadata": {},
   "source": [
    "And below are all countries with a median age below 17."
   ]
  },
  {
   "cell_type": "code",
   "execution_count": 32,
   "metadata": {},
   "outputs": [
    {
     "data": {
      "text/html": [
       "<div>\n",
       "<style scoped>\n",
       "    .dataframe tbody tr th:only-of-type {\n",
       "        vertical-align: middle;\n",
       "    }\n",
       "\n",
       "    .dataframe tbody tr th {\n",
       "        vertical-align: top;\n",
       "    }\n",
       "\n",
       "    .dataframe thead th {\n",
       "        text-align: right;\n",
       "    }\n",
       "</style>\n",
       "<table border=\"1\" class=\"dataframe\">\n",
       "  <thead>\n",
       "    <tr style=\"text-align: right;\">\n",
       "      <th></th>\n",
       "      <th>Country/Territory</th>\n",
       "      <th>Rank</th>\n",
       "      <th>Average(Years)</th>\n",
       "      <th>Male(Years)</th>\n",
       "      <th>Female (Years)</th>\n",
       "    </tr>\n",
       "  </thead>\n",
       "  <tbody>\n",
       "    <tr>\n",
       "      <th>5</th>\n",
       "      <td>Angola</td>\n",
       "      <td>214</td>\n",
       "      <td>15.9</td>\n",
       "      <td>15.4</td>\n",
       "      <td>16.3</td>\n",
       "    </tr>\n",
       "    <tr>\n",
       "      <th>33</th>\n",
       "      <td>Burundi</td>\n",
       "      <td>224</td>\n",
       "      <td>17.0</td>\n",
       "      <td>16.8</td>\n",
       "      <td>17.3</td>\n",
       "    </tr>\n",
       "    <tr>\n",
       "      <th>126</th>\n",
       "      <td>Malawi</td>\n",
       "      <td>227</td>\n",
       "      <td>16.5</td>\n",
       "      <td>16.4</td>\n",
       "      <td>16.7</td>\n",
       "    </tr>\n",
       "    <tr>\n",
       "      <th>129</th>\n",
       "      <td>Mali</td>\n",
       "      <td>228</td>\n",
       "      <td>15.8</td>\n",
       "      <td>15.1</td>\n",
       "      <td>16.4</td>\n",
       "    </tr>\n",
       "    <tr>\n",
       "      <th>151</th>\n",
       "      <td>Niger</td>\n",
       "      <td>230</td>\n",
       "      <td>15.4</td>\n",
       "      <td>15.3</td>\n",
       "      <td>15.5</td>\n",
       "    </tr>\n",
       "    <tr>\n",
       "      <th>212</th>\n",
       "      <td>Uganda</td>\n",
       "      <td>229</td>\n",
       "      <td>15.8</td>\n",
       "      <td>15.7</td>\n",
       "      <td>15.9</td>\n",
       "    </tr>\n",
       "    <tr>\n",
       "      <th>228</th>\n",
       "      <td>Zambia</td>\n",
       "      <td>226</td>\n",
       "      <td>16.8</td>\n",
       "      <td>16.6</td>\n",
       "      <td>16.9</td>\n",
       "    </tr>\n",
       "  </tbody>\n",
       "</table>\n",
       "</div>"
      ],
      "text/plain": [
       "    Country/Territory  Rank  Average(Years)  Male(Years)  Female (Years)\n",
       "5              Angola   214            15.9         15.4            16.3\n",
       "33            Burundi   224            17.0         16.8            17.3\n",
       "126            Malawi   227            16.5         16.4            16.7\n",
       "129              Mali   228            15.8         15.1            16.4\n",
       "151             Niger   230            15.4         15.3            15.5\n",
       "212            Uganda   229            15.8         15.7            15.9\n",
       "228            Zambia   226            16.8         16.6            16.9"
      ]
     },
     "execution_count": 32,
     "metadata": {},
     "output_type": "execute_result"
    }
   ],
   "source": [
    "df[df['Average(Years)'] <= 17]"
   ]
  },
  {
   "cell_type": "markdown",
   "metadata": {},
   "source": [
    "We can also query for more than one condition."
   ]
  },
  {
   "cell_type": "code",
   "execution_count": 33,
   "metadata": {},
   "outputs": [
    {
     "data": {
      "text/html": [
       "<div>\n",
       "<style scoped>\n",
       "    .dataframe tbody tr th:only-of-type {\n",
       "        vertical-align: middle;\n",
       "    }\n",
       "\n",
       "    .dataframe tbody tr th {\n",
       "        vertical-align: top;\n",
       "    }\n",
       "\n",
       "    .dataframe thead th {\n",
       "        text-align: right;\n",
       "    }\n",
       "</style>\n",
       "<table border=\"1\" class=\"dataframe\">\n",
       "  <thead>\n",
       "    <tr style=\"text-align: right;\">\n",
       "      <th></th>\n",
       "      <th>Country/Territory</th>\n",
       "      <th>Rank</th>\n",
       "      <th>Average(Years)</th>\n",
       "      <th>Male(Years)</th>\n",
       "      <th>Female (Years)</th>\n",
       "    </tr>\n",
       "  </thead>\n",
       "  <tbody>\n",
       "    <tr>\n",
       "      <th>9</th>\n",
       "      <td>Armenia</td>\n",
       "      <td>80</td>\n",
       "      <td>35.1</td>\n",
       "      <td>33.3</td>\n",
       "      <td>36.9</td>\n",
       "    </tr>\n",
       "    <tr>\n",
       "      <th>10</th>\n",
       "      <td>Aruba</td>\n",
       "      <td>55</td>\n",
       "      <td>39.3</td>\n",
       "      <td>37.5</td>\n",
       "      <td>41.1</td>\n",
       "    </tr>\n",
       "    <tr>\n",
       "      <th>11</th>\n",
       "      <td>Australia</td>\n",
       "      <td>58</td>\n",
       "      <td>38.7</td>\n",
       "      <td>37.9</td>\n",
       "      <td>39.5</td>\n",
       "    </tr>\n",
       "    <tr>\n",
       "      <th>17</th>\n",
       "      <td>Barbados</td>\n",
       "      <td>59</td>\n",
       "      <td>38.6</td>\n",
       "      <td>37.5</td>\n",
       "      <td>39.8</td>\n",
       "    </tr>\n",
       "    <tr>\n",
       "      <th>18</th>\n",
       "      <td>Belarus</td>\n",
       "      <td>51</td>\n",
       "      <td>40.0</td>\n",
       "      <td>37.1</td>\n",
       "      <td>43.1</td>\n",
       "    </tr>\n",
       "    <tr>\n",
       "      <th>28</th>\n",
       "      <td>British Virgin Islands</td>\n",
       "      <td>72</td>\n",
       "      <td>36.5</td>\n",
       "      <td>36.3</td>\n",
       "      <td>36.6</td>\n",
       "    </tr>\n",
       "    <tr>\n",
       "      <th>38</th>\n",
       "      <td>Cayman Islands</td>\n",
       "      <td>52</td>\n",
       "      <td>40.0</td>\n",
       "      <td>39.3</td>\n",
       "      <td>40.7</td>\n",
       "    </tr>\n",
       "    <tr>\n",
       "      <th>42</th>\n",
       "      <td>China</td>\n",
       "      <td>67</td>\n",
       "      <td>37.4</td>\n",
       "      <td>36.5</td>\n",
       "      <td>38.4</td>\n",
       "    </tr>\n",
       "    <tr>\n",
       "      <th>47</th>\n",
       "      <td>Cook Islands</td>\n",
       "      <td>74</td>\n",
       "      <td>36.5</td>\n",
       "      <td>36.0</td>\n",
       "      <td>37.0</td>\n",
       "    </tr>\n",
       "    <tr>\n",
       "      <th>52</th>\n",
       "      <td>Curacao</td>\n",
       "      <td>73</td>\n",
       "      <td>36.1</td>\n",
       "      <td>33.5</td>\n",
       "      <td>39.7</td>\n",
       "    </tr>\n",
       "    <tr>\n",
       "      <th>53</th>\n",
       "      <td>Cyprus</td>\n",
       "      <td>68</td>\n",
       "      <td>36.8</td>\n",
       "      <td>35.5</td>\n",
       "      <td>38.3</td>\n",
       "    </tr>\n",
       "    <tr>\n",
       "      <th>68</th>\n",
       "      <td>Faroe Islands</td>\n",
       "      <td>64</td>\n",
       "      <td>37.6</td>\n",
       "      <td>37.1</td>\n",
       "      <td>38.3</td>\n",
       "    </tr>\n",
       "    <tr>\n",
       "      <th>76</th>\n",
       "      <td>Georgia</td>\n",
       "      <td>60</td>\n",
       "      <td>38.1</td>\n",
       "      <td>35.3</td>\n",
       "      <td>40.9</td>\n",
       "    </tr>\n",
       "    <tr>\n",
       "      <th>93</th>\n",
       "      <td>Iceland</td>\n",
       "      <td>70</td>\n",
       "      <td>36.5</td>\n",
       "      <td>35.9</td>\n",
       "      <td>37.1</td>\n",
       "    </tr>\n",
       "    <tr>\n",
       "      <th>98</th>\n",
       "      <td>Ireland</td>\n",
       "      <td>69</td>\n",
       "      <td>36.8</td>\n",
       "      <td>36.4</td>\n",
       "      <td>37.1</td>\n",
       "    </tr>\n",
       "    <tr>\n",
       "      <th>104</th>\n",
       "      <td>Jersey</td>\n",
       "      <td>62</td>\n",
       "      <td>38.0</td>\n",
       "      <td>36.3</td>\n",
       "      <td>40.7</td>\n",
       "    </tr>\n",
       "    <tr>\n",
       "      <th>122</th>\n",
       "      <td>Luxembourg</td>\n",
       "      <td>54</td>\n",
       "      <td>39.3</td>\n",
       "      <td>38.7</td>\n",
       "      <td>39.9</td>\n",
       "    </tr>\n",
       "    <tr>\n",
       "      <th>123</th>\n",
       "      <td>Macau</td>\n",
       "      <td>56</td>\n",
       "      <td>39.3</td>\n",
       "      <td>39.5</td>\n",
       "      <td>39.1</td>\n",
       "    </tr>\n",
       "    <tr>\n",
       "      <th>124</th>\n",
       "      <td>North Macedonia</td>\n",
       "      <td>65</td>\n",
       "      <td>37.9</td>\n",
       "      <td>36.8</td>\n",
       "      <td>39.0</td>\n",
       "    </tr>\n",
       "    <tr>\n",
       "      <th>133</th>\n",
       "      <td>Mauritius</td>\n",
       "      <td>77</td>\n",
       "      <td>35.3</td>\n",
       "      <td>34.2</td>\n",
       "      <td>36.3</td>\n",
       "    </tr>\n",
       "    <tr>\n",
       "      <th>136</th>\n",
       "      <td>Moldova</td>\n",
       "      <td>71</td>\n",
       "      <td>36.7</td>\n",
       "      <td>34.9</td>\n",
       "      <td>38.6</td>\n",
       "    </tr>\n",
       "    <tr>\n",
       "      <th>148</th>\n",
       "      <td>New Zealand</td>\n",
       "      <td>63</td>\n",
       "      <td>37.9</td>\n",
       "      <td>37.1</td>\n",
       "      <td>38.8</td>\n",
       "    </tr>\n",
       "    <tr>\n",
       "      <th>153</th>\n",
       "      <td>Norway</td>\n",
       "      <td>57</td>\n",
       "      <td>39.2</td>\n",
       "      <td>38.4</td>\n",
       "      <td>40.0</td>\n",
       "    </tr>\n",
       "    <tr>\n",
       "      <th>167</th>\n",
       "      <td>Russia</td>\n",
       "      <td>53</td>\n",
       "      <td>39.6</td>\n",
       "      <td>36.6</td>\n",
       "      <td>42.5</td>\n",
       "    </tr>\n",
       "    <tr>\n",
       "      <th>171</th>\n",
       "      <td>Saint Kitts and Nevis</td>\n",
       "      <td>82</td>\n",
       "      <td>35.0</td>\n",
       "      <td>35.2</td>\n",
       "      <td>34.8</td>\n",
       "    </tr>\n",
       "    <tr>\n",
       "      <th>182</th>\n",
       "      <td>Seychelles</td>\n",
       "      <td>76</td>\n",
       "      <td>35.4</td>\n",
       "      <td>34.9</td>\n",
       "      <td>36.0</td>\n",
       "    </tr>\n",
       "    <tr>\n",
       "      <th>202</th>\n",
       "      <td>Thailand</td>\n",
       "      <td>66</td>\n",
       "      <td>37.7</td>\n",
       "      <td>36.6</td>\n",
       "      <td>38.7</td>\n",
       "    </tr>\n",
       "    <tr>\n",
       "      <th>206</th>\n",
       "      <td>Trinidad and Tobago</td>\n",
       "      <td>75</td>\n",
       "      <td>36.0</td>\n",
       "      <td>35.6</td>\n",
       "      <td>36.6</td>\n",
       "    </tr>\n",
       "    <tr>\n",
       "      <th>216</th>\n",
       "      <td>United States</td>\n",
       "      <td>61</td>\n",
       "      <td>38.1</td>\n",
       "      <td>36.8</td>\n",
       "      <td>39.4</td>\n",
       "    </tr>\n",
       "    <tr>\n",
       "      <th>217</th>\n",
       "      <td>Uruguay</td>\n",
       "      <td>78</td>\n",
       "      <td>35.0</td>\n",
       "      <td>33.1</td>\n",
       "      <td>36.7</td>\n",
       "    </tr>\n",
       "  </tbody>\n",
       "</table>\n",
       "</div>"
      ],
      "text/plain": [
       "          Country/Territory  Rank  Average(Years)  Male(Years)  Female (Years)\n",
       "9                   Armenia    80            35.1         33.3            36.9\n",
       "10                    Aruba    55            39.3         37.5            41.1\n",
       "11                Australia    58            38.7         37.9            39.5\n",
       "17                 Barbados    59            38.6         37.5            39.8\n",
       "18                  Belarus    51            40.0         37.1            43.1\n",
       "28   British Virgin Islands    72            36.5         36.3            36.6\n",
       "38           Cayman Islands    52            40.0         39.3            40.7\n",
       "42                    China    67            37.4         36.5            38.4\n",
       "47             Cook Islands    74            36.5         36.0            37.0\n",
       "52                  Curacao    73            36.1         33.5            39.7\n",
       "53                   Cyprus    68            36.8         35.5            38.3\n",
       "68            Faroe Islands    64            37.6         37.1            38.3\n",
       "76                  Georgia    60            38.1         35.3            40.9\n",
       "93                  Iceland    70            36.5         35.9            37.1\n",
       "98                  Ireland    69            36.8         36.4            37.1\n",
       "104                  Jersey    62            38.0         36.3            40.7\n",
       "122              Luxembourg    54            39.3         38.7            39.9\n",
       "123                   Macau    56            39.3         39.5            39.1\n",
       "124         North Macedonia    65            37.9         36.8            39.0\n",
       "133               Mauritius    77            35.3         34.2            36.3\n",
       "136                 Moldova    71            36.7         34.9            38.6\n",
       "148             New Zealand    63            37.9         37.1            38.8\n",
       "153                  Norway    57            39.2         38.4            40.0\n",
       "167                  Russia    53            39.6         36.6            42.5\n",
       "171   Saint Kitts and Nevis    82            35.0         35.2            34.8\n",
       "182              Seychelles    76            35.4         34.9            36.0\n",
       "202                Thailand    66            37.7         36.6            38.7\n",
       "206     Trinidad and Tobago    75            36.0         35.6            36.6\n",
       "216           United States    61            38.1         36.8            39.4\n",
       "217                 Uruguay    78            35.0         33.1            36.7"
      ]
     },
     "execution_count": 33,
     "metadata": {},
     "output_type": "execute_result"
    }
   ],
   "source": [
    "df[(df['Average(Years)'] >= 35) & (df['Average(Years)'] <= 40)]"
   ]
  },
  {
   "cell_type": "markdown",
   "metadata": {},
   "source": [
    "## Part Five - Grouped Data"
   ]
  },
  {
   "cell_type": "markdown",
   "metadata": {},
   "source": [
    "Now we'll import the associated continents for each country to look at this data by continent. We'll use the 'Read CSV' function, which reads in a CSV file."
   ]
  },
  {
   "cell_type": "code",
   "execution_count": 34,
   "metadata": {},
   "outputs": [
    {
     "data": {
      "text/html": [
       "<div>\n",
       "<style scoped>\n",
       "    .dataframe tbody tr th:only-of-type {\n",
       "        vertical-align: middle;\n",
       "    }\n",
       "\n",
       "    .dataframe tbody tr th {\n",
       "        vertical-align: top;\n",
       "    }\n",
       "\n",
       "    .dataframe thead th {\n",
       "        text-align: right;\n",
       "    }\n",
       "</style>\n",
       "<table border=\"1\" class=\"dataframe\">\n",
       "  <thead>\n",
       "    <tr style=\"text-align: right;\">\n",
       "      <th></th>\n",
       "      <th>Country(or dependent territory)</th>\n",
       "      <th>Continent</th>\n",
       "    </tr>\n",
       "  </thead>\n",
       "  <tbody>\n",
       "    <tr>\n",
       "      <th>0</th>\n",
       "      <td>Nigeria</td>\n",
       "      <td>Africa</td>\n",
       "    </tr>\n",
       "    <tr>\n",
       "      <th>1</th>\n",
       "      <td>Ethiopia</td>\n",
       "      <td>Africa</td>\n",
       "    </tr>\n",
       "    <tr>\n",
       "      <th>2</th>\n",
       "      <td>Egypt</td>\n",
       "      <td>Africa</td>\n",
       "    </tr>\n",
       "    <tr>\n",
       "      <th>3</th>\n",
       "      <td>Democratic Republic of the Congo</td>\n",
       "      <td>Africa</td>\n",
       "    </tr>\n",
       "    <tr>\n",
       "      <th>4</th>\n",
       "      <td>South Africa</td>\n",
       "      <td>Africa</td>\n",
       "    </tr>\n",
       "  </tbody>\n",
       "</table>\n",
       "</div>"
      ],
      "text/plain": [
       "    Country(or dependent territory) Continent\n",
       "0                           Nigeria    Africa\n",
       "1                          Ethiopia    Africa\n",
       "2                             Egypt    Africa\n",
       "3  Democratic Republic of the Congo    Africa\n",
       "4                      South Africa    Africa"
      ]
     },
     "execution_count": 34,
     "metadata": {},
     "output_type": "execute_result"
    }
   ],
   "source": [
    "continents = pd.read_csv('continents.csv')\n",
    "continents.head()"
   ]
  },
  {
   "cell_type": "markdown",
   "metadata": {},
   "source": [
    "We can add this information using the merge function (this isn't vital to know right now)."
   ]
  },
  {
   "cell_type": "code",
   "execution_count": 35,
   "metadata": {},
   "outputs": [
    {
     "data": {
      "text/html": [
       "<div>\n",
       "<style scoped>\n",
       "    .dataframe tbody tr th:only-of-type {\n",
       "        vertical-align: middle;\n",
       "    }\n",
       "\n",
       "    .dataframe tbody tr th {\n",
       "        vertical-align: top;\n",
       "    }\n",
       "\n",
       "    .dataframe thead th {\n",
       "        text-align: right;\n",
       "    }\n",
       "</style>\n",
       "<table border=\"1\" class=\"dataframe\">\n",
       "  <thead>\n",
       "    <tr style=\"text-align: right;\">\n",
       "      <th></th>\n",
       "      <th>Country/Territory</th>\n",
       "      <th>Average(Years)</th>\n",
       "      <th>Male(Years)</th>\n",
       "      <th>Female (Years)</th>\n",
       "      <th>Continent</th>\n",
       "    </tr>\n",
       "  </thead>\n",
       "  <tbody>\n",
       "    <tr>\n",
       "      <th>0</th>\n",
       "      <td>Afghanistan</td>\n",
       "      <td>18.8</td>\n",
       "      <td>18.8</td>\n",
       "      <td>18.9</td>\n",
       "      <td>Asia</td>\n",
       "    </tr>\n",
       "    <tr>\n",
       "      <th>1</th>\n",
       "      <td>Albania</td>\n",
       "      <td>32.9</td>\n",
       "      <td>31.6</td>\n",
       "      <td>34.3</td>\n",
       "      <td>Europe</td>\n",
       "    </tr>\n",
       "    <tr>\n",
       "      <th>2</th>\n",
       "      <td>Algeria</td>\n",
       "      <td>28.1</td>\n",
       "      <td>27.8</td>\n",
       "      <td>28.4</td>\n",
       "      <td>Africa</td>\n",
       "    </tr>\n",
       "    <tr>\n",
       "      <th>3</th>\n",
       "      <td>American Samoa</td>\n",
       "      <td>25.5</td>\n",
       "      <td>25.1</td>\n",
       "      <td>26.0</td>\n",
       "      <td>Oceania</td>\n",
       "    </tr>\n",
       "    <tr>\n",
       "      <th>4</th>\n",
       "      <td>Andorra</td>\n",
       "      <td>44.3</td>\n",
       "      <td>44.4</td>\n",
       "      <td>44.1</td>\n",
       "      <td>Europe</td>\n",
       "    </tr>\n",
       "  </tbody>\n",
       "</table>\n",
       "</div>"
      ],
      "text/plain": [
       "  Country/Territory  Average(Years)  Male(Years)  Female (Years) Continent\n",
       "0       Afghanistan            18.8         18.8            18.9      Asia\n",
       "1           Albania            32.9         31.6            34.3    Europe\n",
       "2           Algeria            28.1         27.8            28.4    Africa\n",
       "3    American Samoa            25.5         25.1            26.0   Oceania\n",
       "4           Andorra            44.3         44.4            44.1    Europe"
      ]
     },
     "execution_count": 35,
     "metadata": {},
     "output_type": "execute_result"
    }
   ],
   "source": [
    "new_df = df.merge(continents, how='inner', left_on='Country/Territory', right_on='Country(or dependent territory)')\n",
    "new_df = new_df[['Country/Territory', 'Average(Years)', 'Male(Years)','Female (Years)','Continent']]\n",
    "new_df.head()"
   ]
  },
  {
   "cell_type": "markdown",
   "metadata": {},
   "source": [
    "We can see how many countries are in each continent by using the 'value counts' function."
   ]
  },
  {
   "cell_type": "code",
   "execution_count": 36,
   "metadata": {},
   "outputs": [
    {
     "data": {
      "text/plain": [
       "Europe           54\n",
       "Africa           50\n",
       "Asia             48\n",
       "North America    33\n",
       "Oceania          21\n",
       "South America    12\n",
       "Name: Continent, dtype: int64"
      ]
     },
     "execution_count": 36,
     "metadata": {},
     "output_type": "execute_result"
    }
   ],
   "source": [
    "new_df['Continent'].value_counts()"
   ]
  },
  {
   "cell_type": "markdown",
   "metadata": {},
   "source": [
    "We can also use the \"normalize\" argument to see the percentage of total countries in each continent."
   ]
  },
  {
   "cell_type": "code",
   "execution_count": 37,
   "metadata": {},
   "outputs": [
    {
     "data": {
      "text/plain": [
       "Europe           0.247706\n",
       "Africa           0.229358\n",
       "Asia             0.220183\n",
       "North America    0.151376\n",
       "Oceania          0.096330\n",
       "South America    0.055046\n",
       "Name: Continent, dtype: float64"
      ]
     },
     "execution_count": 37,
     "metadata": {},
     "output_type": "execute_result"
    }
   ],
   "source": [
    "new_df['Continent'].value_counts(normalize=True)"
   ]
  },
  {
   "cell_type": "markdown",
   "metadata": {},
   "source": [
    "We can single out a single continent by using the code below."
   ]
  },
  {
   "cell_type": "code",
   "execution_count": 38,
   "metadata": {},
   "outputs": [
    {
     "data": {
      "text/html": [
       "<div>\n",
       "<style scoped>\n",
       "    .dataframe tbody tr th:only-of-type {\n",
       "        vertical-align: middle;\n",
       "    }\n",
       "\n",
       "    .dataframe tbody tr th {\n",
       "        vertical-align: top;\n",
       "    }\n",
       "\n",
       "    .dataframe thead th {\n",
       "        text-align: right;\n",
       "    }\n",
       "</style>\n",
       "<table border=\"1\" class=\"dataframe\">\n",
       "  <thead>\n",
       "    <tr style=\"text-align: right;\">\n",
       "      <th></th>\n",
       "      <th>Country/Territory</th>\n",
       "      <th>Average(Years)</th>\n",
       "      <th>Male(Years)</th>\n",
       "      <th>Female (Years)</th>\n",
       "      <th>Continent</th>\n",
       "    </tr>\n",
       "  </thead>\n",
       "  <tbody>\n",
       "    <tr>\n",
       "      <th>0</th>\n",
       "      <td>Afghanistan</td>\n",
       "      <td>18.8</td>\n",
       "      <td>18.8</td>\n",
       "      <td>18.9</td>\n",
       "      <td>Asia</td>\n",
       "    </tr>\n",
       "    <tr>\n",
       "      <th>9</th>\n",
       "      <td>Armenia</td>\n",
       "      <td>35.1</td>\n",
       "      <td>33.3</td>\n",
       "      <td>36.9</td>\n",
       "      <td>Asia</td>\n",
       "    </tr>\n",
       "    <tr>\n",
       "      <th>13</th>\n",
       "      <td>Azerbaijan</td>\n",
       "      <td>31.3</td>\n",
       "      <td>29.8</td>\n",
       "      <td>33.0</td>\n",
       "      <td>Asia</td>\n",
       "    </tr>\n",
       "    <tr>\n",
       "      <th>15</th>\n",
       "      <td>Bahrain</td>\n",
       "      <td>32.3</td>\n",
       "      <td>33.8</td>\n",
       "      <td>29.5</td>\n",
       "      <td>Asia</td>\n",
       "    </tr>\n",
       "    <tr>\n",
       "      <th>16</th>\n",
       "      <td>Bangladesh</td>\n",
       "      <td>26.7</td>\n",
       "      <td>26.0</td>\n",
       "      <td>27.3</td>\n",
       "      <td>Asia</td>\n",
       "    </tr>\n",
       "  </tbody>\n",
       "</table>\n",
       "</div>"
      ],
      "text/plain": [
       "   Country/Territory  Average(Years)  Male(Years)  Female (Years) Continent\n",
       "0        Afghanistan            18.8         18.8            18.9      Asia\n",
       "9            Armenia            35.1         33.3            36.9      Asia\n",
       "13        Azerbaijan            31.3         29.8            33.0      Asia\n",
       "15           Bahrain            32.3         33.8            29.5      Asia\n",
       "16        Bangladesh            26.7         26.0            27.3      Asia"
      ]
     },
     "execution_count": 38,
     "metadata": {},
     "output_type": "execute_result"
    }
   ],
   "source": [
    "new_df[new_df['Continent'] == 'Asia'].head()"
   ]
  },
  {
   "cell_type": "markdown",
   "metadata": {},
   "source": [
    "Again, just like before, we can run multiple queries"
   ]
  },
  {
   "cell_type": "markdown",
   "metadata": {},
   "source": [
    "We can do a **groupby** function to get the average age, variance, and standard deviation for each continent."
   ]
  },
  {
   "cell_type": "code",
   "execution_count": 39,
   "metadata": {},
   "outputs": [
    {
     "data": {
      "text/plain": [
       "Continent\n",
       "Africa           20.728000\n",
       "Asia             30.310417\n",
       "Europe           40.575926\n",
       "North America    33.327273\n",
       "Oceania          28.538095\n",
       "South America    29.633333\n",
       "Name: Average(Years), dtype: float64"
      ]
     },
     "execution_count": 39,
     "metadata": {},
     "output_type": "execute_result"
    }
   ],
   "source": [
    "new_df.groupby('Continent')['Average(Years)'].mean()"
   ]
  },
  {
   "cell_type": "code",
   "execution_count": 40,
   "metadata": {},
   "outputs": [
    {
     "data": {
      "text/plain": [
       "Continent\n",
       "Africa           19.70\n",
       "Asia             30.05\n",
       "Europe           41.60\n",
       "North America    33.50\n",
       "Oceania          26.40\n",
       "South America    29.05\n",
       "Name: Average(Years), dtype: float64"
      ]
     },
     "execution_count": 40,
     "metadata": {},
     "output_type": "execute_result"
    }
   ],
   "source": [
    "new_df.groupby('Continent')['Average(Years)'].median()"
   ]
  },
  {
   "cell_type": "code",
   "execution_count": 41,
   "metadata": {},
   "outputs": [
    {
     "data": {
      "text/plain": [
       "Continent\n",
       "Africa           22.464914\n",
       "Asia             40.843932\n",
       "Europe           19.169410\n",
       "North America    42.150170\n",
       "Oceania          28.907476\n",
       "South America    10.184242\n",
       "Name: Average(Years), dtype: float64"
      ]
     },
     "execution_count": 41,
     "metadata": {},
     "output_type": "execute_result"
    }
   ],
   "source": [
    "new_df.groupby('Continent')['Average(Years)'].var()"
   ]
  },
  {
   "cell_type": "code",
   "execution_count": 42,
   "metadata": {},
   "outputs": [
    {
     "data": {
      "text/plain": [
       "Continent\n",
       "Africa           4.739717\n",
       "Asia             6.390926\n",
       "Europe           4.378288\n",
       "North America    6.492316\n",
       "Oceania          5.376567\n",
       "South America    3.191276\n",
       "Name: Average(Years), dtype: float64"
      ]
     },
     "execution_count": 42,
     "metadata": {},
     "output_type": "execute_result"
    }
   ],
   "source": [
    "new_df.groupby('Continent')['Average(Years)'].std()"
   ]
  },
  {
   "cell_type": "markdown",
   "metadata": {},
   "source": [
    "Earlier we said that a variance or standard deviation on its own wasn't incredibly valuable - however now we can compare standard deviations and variances between continents!"
   ]
  },
  {
   "cell_type": "markdown",
   "metadata": {},
   "source": [
    "We can lay the histograms for each of the continents on top of each other using a for loop."
   ]
  },
  {
   "cell_type": "code",
   "execution_count": 43,
   "metadata": {},
   "outputs": [
    {
     "data": {
      "text/plain": [
       "<matplotlib.legend.Legend at 0x117bfb438>"
      ]
     },
     "execution_count": 43,
     "metadata": {},
     "output_type": "execute_result"
    },
    {
     "data": {
      "image/png": "[encoded data removed]",
      "text/plain": [
       "<matplotlib.figure.Figure at 0x117beaa90>"
      ]
     },
     "metadata": {},
     "output_type": "display_data"
    }
   ],
   "source": [
    "#Note this top piece of code that will make the image bigger.\n",
    "fig = plt.figure(figsize=(10,10))\n",
    "for continent in new_df['Continent'].unique():\n",
    "    plt.hist(new_df[new_df['Continent'] == continent]['Average(Years)'], normed=True)\n",
    "plt.gca().legend(new_df['Continent'].unique())"
   ]
  },
  {
   "cell_type": "markdown",
   "metadata": {},
   "source": [
    "Unfortunately this looks extremely cluttered and isn't really helpful in our analysis. Histograms aren't great for this. Let's try a bee swarm and box plot. Look below - what information can we gather from these"
   ]
  },
  {
   "cell_type": "code",
   "execution_count": 44,
   "metadata": {},
   "outputs": [
    {
     "data": {
      "text/plain": [
       "<matplotlib.legend.Legend at 0x117bea940>"
      ]
     },
     "execution_count": 44,
     "metadata": {},
     "output_type": "execute_result"
    },
    {
     "data": {
      "image/png": "[encoded data removed]",
      "text/plain": [
       "<matplotlib.figure.Figure at 0x11c3ed080>"
      ]
     },
     "metadata": {},
     "output_type": "display_data"
    }
   ],
   "source": [
    "fig = plt.figure(figsize=(10,10))\n",
    "sns.swarmplot(x='Continent', y='Average(Years)', data=new_df)\n",
    "plt.gca().legend(new_df['Continent'].unique())"
   ]
  },
  {
   "cell_type": "code",
   "execution_count": 45,
   "metadata": {},
   "outputs": [
    {
     "name": "stderr",
     "output_type": "stream",
     "text": [
      "/Users/evanagovino/anaconda/lib/python3.6/site-packages/seaborn/categorical.py:462: FutureWarning: remove_na is deprecated and is a private function. Do not use.\n",
      "  box_data = remove_na(group_data)\n"
     ]
    },
    {
     "data": {
      "text/plain": [
       "<matplotlib.legend.Legend at 0x11c828ef0>"
      ]
     },
     "execution_count": 45,
     "metadata": {},
     "output_type": "execute_result"
    },
    {
     "data": {
      "image/png": "[encoded data removed]",
      "text/plain": [
       "<matplotlib.figure.Figure at 0x11c8175f8>"
      ]
     },
     "metadata": {},
     "output_type": "display_data"
    }
   ],
   "source": [
    "fig = plt.figure(figsize=(10,10))\n",
    "sns.boxplot(x='Continent', y='Average(Years)', data=new_df)\n",
    "plt.gca().legend(new_df['Continent'].unique())"
   ]
  },
  {
   "cell_type": "markdown",
   "metadata": {},
   "source": [
    "## Part Six - Your Turn"
   ]
  },
  {
   "cell_type": "markdown",
   "metadata": {},
   "source": [
    "Now it's your turn! You'll be looking at the difference between the median lifespan of females compared to the median lifespan of males for each country in the world."
   ]
  },
  {
   "cell_type": "code",
   "execution_count": 46,
   "metadata": {
    "collapsed": true
   },
   "outputs": [],
   "source": [
    "new_df['Female_Minus_Male'] = new_df['Female (Years)'] - new_df['Male(Years)'] "
   ]
  },
  {
   "cell_type": "markdown",
   "metadata": {},
   "source": [
    "#### 1. Plot the histogram, swarmplot and boxplot of this column. How does this histogram differ from the histogram we saw of the median age above? Are there any outliers?"
   ]
  },
  {
   "cell_type": "markdown",
   "metadata": {},
   "source": [
    "#### 2. Find the mean, median, variance, standard deviation, maximum, minimum, range, and Interquartile Range of this column."
   ]
  },
  {
   "cell_type": "markdown",
   "metadata": {},
   "source": [
    "#### 3. Which country has the longest lifespan for females compared to males? Which country has the longest lifespan for males compared to females? Which countries are outliers? What constitutes the cutoff for an outlier in this case?"
   ]
  },
  {
   "cell_type": "markdown",
   "metadata": {},
   "source": [
    "#### 4. Find the mean, median, and standard deviation of the data grouped by continent. Which continent has the highest absolute difference between its mean and median? What does the difference between mean and median say about the distribution of values for that continent?"
   ]
  },
  {
   "cell_type": "markdown",
   "metadata": {},
   "source": [
    "#### 5. Plot a swarmplot and boxplot of the data grouped by continent."
   ]
  },
  {
   "cell_type": "markdown",
   "metadata": {},
   "source": [
    "#### 6. Given your observations from the previous two questions, what may be a cause of why the continent with the largest spread is that way? Hint: Look at the outliers for that country."
   ]
  },
  {
   "cell_type": "markdown",
   "metadata": {},
   "source": [
    "## Part Seven - Extra Data Wrangling"
   ]
  },
  {
   "cell_type": "markdown",
   "metadata": {},
   "source": [
    "Some of these functions were beyond our crash course, but will be useful for this week's homework and beyond."
   ]
  },
  {
   "cell_type": "markdown",
   "metadata": {},
   "source": [
    "The 'describe' command can quickly pull out some relevant information that we looked at earlier."
   ]
  },
  {
   "cell_type": "code",
   "execution_count": 47,
   "metadata": {},
   "outputs": [
    {
     "data": {
      "text/html": [
       "<div>\n",
       "<style scoped>\n",
       "    .dataframe tbody tr th:only-of-type {\n",
       "        vertical-align: middle;\n",
       "    }\n",
       "\n",
       "    .dataframe tbody tr th {\n",
       "        vertical-align: top;\n",
       "    }\n",
       "\n",
       "    .dataframe thead th {\n",
       "        text-align: right;\n",
       "    }\n",
       "</style>\n",
       "<table border=\"1\" class=\"dataframe\">\n",
       "  <thead>\n",
       "    <tr style=\"text-align: right;\">\n",
       "      <th></th>\n",
       "      <th>Average(Years)</th>\n",
       "      <th>Male(Years)</th>\n",
       "      <th>Female (Years)</th>\n",
       "      <th>Female_Minus_Male</th>\n",
       "    </tr>\n",
       "  </thead>\n",
       "  <tbody>\n",
       "    <tr>\n",
       "      <th>count</th>\n",
       "      <td>218.000000</td>\n",
       "      <td>218.000000</td>\n",
       "      <td>218.000000</td>\n",
       "      <td>218.000000</td>\n",
       "    </tr>\n",
       "    <tr>\n",
       "      <th>mean</th>\n",
       "      <td>30.904128</td>\n",
       "      <td>30.130275</td>\n",
       "      <td>31.639908</td>\n",
       "      <td>1.509633</td>\n",
       "    </tr>\n",
       "    <tr>\n",
       "      <th>std</th>\n",
       "      <td>8.760002</td>\n",
       "      <td>8.357557</td>\n",
       "      <td>9.232147</td>\n",
       "      <td>1.799859</td>\n",
       "    </tr>\n",
       "    <tr>\n",
       "      <th>min</th>\n",
       "      <td>15.400000</td>\n",
       "      <td>15.100000</td>\n",
       "      <td>15.500000</td>\n",
       "      <td>-7.100000</td>\n",
       "    </tr>\n",
       "    <tr>\n",
       "      <th>25%</th>\n",
       "      <td>23.825000</td>\n",
       "      <td>23.125000</td>\n",
       "      <td>24.050000</td>\n",
       "      <td>0.500000</td>\n",
       "    </tr>\n",
       "    <tr>\n",
       "      <th>50%</th>\n",
       "      <td>30.550000</td>\n",
       "      <td>29.850000</td>\n",
       "      <td>31.050000</td>\n",
       "      <td>1.350000</td>\n",
       "    </tr>\n",
       "    <tr>\n",
       "      <th>75%</th>\n",
       "      <td>38.475000</td>\n",
       "      <td>37.025000</td>\n",
       "      <td>39.875000</td>\n",
       "      <td>2.375000</td>\n",
       "    </tr>\n",
       "    <tr>\n",
       "      <th>max</th>\n",
       "      <td>53.100000</td>\n",
       "      <td>51.700000</td>\n",
       "      <td>54.500000</td>\n",
       "      <td>7.400000</td>\n",
       "    </tr>\n",
       "  </tbody>\n",
       "</table>\n",
       "</div>"
      ],
      "text/plain": [
       "       Average(Years)  Male(Years)  Female (Years)  Female_Minus_Male\n",
       "count      218.000000   218.000000      218.000000         218.000000\n",
       "mean        30.904128    30.130275       31.639908           1.509633\n",
       "std          8.760002     8.357557        9.232147           1.799859\n",
       "min         15.400000    15.100000       15.500000          -7.100000\n",
       "25%         23.825000    23.125000       24.050000           0.500000\n",
       "50%         30.550000    29.850000       31.050000           1.350000\n",
       "75%         38.475000    37.025000       39.875000           2.375000\n",
       "max         53.100000    51.700000       54.500000           7.400000"
      ]
     },
     "execution_count": 47,
     "metadata": {},
     "output_type": "execute_result"
    }
   ],
   "source": [
    "new_df.describe()"
   ]
  },
  {
   "cell_type": "markdown",
   "metadata": {},
   "source": [
    "We can filter our dataframe by looking at, for example, just countries where the male median age is higher than the female median age."
   ]
  },
  {
   "cell_type": "code",
   "execution_count": 48,
   "metadata": {},
   "outputs": [
    {
     "data": {
      "text/html": [
       "<div>\n",
       "<style scoped>\n",
       "    .dataframe tbody tr th:only-of-type {\n",
       "        vertical-align: middle;\n",
       "    }\n",
       "\n",
       "    .dataframe tbody tr th {\n",
       "        vertical-align: top;\n",
       "    }\n",
       "\n",
       "    .dataframe thead th {\n",
       "        text-align: right;\n",
       "    }\n",
       "</style>\n",
       "<table border=\"1\" class=\"dataframe\">\n",
       "  <thead>\n",
       "    <tr style=\"text-align: right;\">\n",
       "      <th></th>\n",
       "      <th>Country/Territory</th>\n",
       "      <th>Average(Years)</th>\n",
       "      <th>Male(Years)</th>\n",
       "      <th>Female (Years)</th>\n",
       "      <th>Continent</th>\n",
       "      <th>Female_Minus_Male</th>\n",
       "    </tr>\n",
       "  </thead>\n",
       "  <tbody>\n",
       "    <tr>\n",
       "      <th>4</th>\n",
       "      <td>Andorra</td>\n",
       "      <td>44.3</td>\n",
       "      <td>44.4</td>\n",
       "      <td>44.1</td>\n",
       "      <td>Europe</td>\n",
       "      <td>-0.3</td>\n",
       "    </tr>\n",
       "    <tr>\n",
       "      <th>15</th>\n",
       "      <td>Bahrain</td>\n",
       "      <td>32.3</td>\n",
       "      <td>33.8</td>\n",
       "      <td>29.5</td>\n",
       "      <td>Asia</td>\n",
       "      <td>-4.3</td>\n",
       "    </tr>\n",
       "    <tr>\n",
       "      <th>23</th>\n",
       "      <td>Bhutan</td>\n",
       "      <td>27.6</td>\n",
       "      <td>28.2</td>\n",
       "      <td>27.1</td>\n",
       "      <td>Asia</td>\n",
       "      <td>-1.1</td>\n",
       "    </tr>\n",
       "    <tr>\n",
       "      <th>74</th>\n",
       "      <td>Greenland</td>\n",
       "      <td>33.9</td>\n",
       "      <td>35.0</td>\n",
       "      <td>32.7</td>\n",
       "      <td>North America</td>\n",
       "      <td>-2.3</td>\n",
       "    </tr>\n",
       "    <tr>\n",
       "      <th>98</th>\n",
       "      <td>Jordan</td>\n",
       "      <td>22.5</td>\n",
       "      <td>22.9</td>\n",
       "      <td>22.0</td>\n",
       "      <td>Asia</td>\n",
       "      <td>-0.9</td>\n",
       "    </tr>\n",
       "    <tr>\n",
       "      <th>106</th>\n",
       "      <td>Kuwait</td>\n",
       "      <td>29.3</td>\n",
       "      <td>30.4</td>\n",
       "      <td>27.4</td>\n",
       "      <td>Asia</td>\n",
       "      <td>-3.0</td>\n",
       "    </tr>\n",
       "    <tr>\n",
       "      <th>113</th>\n",
       "      <td>Libya</td>\n",
       "      <td>28.9</td>\n",
       "      <td>29.1</td>\n",
       "      <td>28.7</td>\n",
       "      <td>Africa</td>\n",
       "      <td>-0.4</td>\n",
       "    </tr>\n",
       "    <tr>\n",
       "      <th>117</th>\n",
       "      <td>Macau</td>\n",
       "      <td>39.3</td>\n",
       "      <td>39.5</td>\n",
       "      <td>39.1</td>\n",
       "      <td>Asia</td>\n",
       "      <td>-0.4</td>\n",
       "    </tr>\n",
       "    <tr>\n",
       "      <th>137</th>\n",
       "      <td>Nauru</td>\n",
       "      <td>26.4</td>\n",
       "      <td>27.0</td>\n",
       "      <td>25.7</td>\n",
       "      <td>Oceania</td>\n",
       "      <td>-1.3</td>\n",
       "    </tr>\n",
       "    <tr>\n",
       "      <th>147</th>\n",
       "      <td>Oman</td>\n",
       "      <td>25.6</td>\n",
       "      <td>26.6</td>\n",
       "      <td>24.2</td>\n",
       "      <td>Asia</td>\n",
       "      <td>-2.4</td>\n",
       "    </tr>\n",
       "    <tr>\n",
       "      <th>151</th>\n",
       "      <td>Papua New Guinea</td>\n",
       "      <td>23.1</td>\n",
       "      <td>23.2</td>\n",
       "      <td>23.1</td>\n",
       "      <td>Oceania</td>\n",
       "      <td>-0.1</td>\n",
       "    </tr>\n",
       "    <tr>\n",
       "      <th>158</th>\n",
       "      <td>Qatar</td>\n",
       "      <td>33.2</td>\n",
       "      <td>34.3</td>\n",
       "      <td>28.1</td>\n",
       "      <td>Asia</td>\n",
       "      <td>-6.2</td>\n",
       "    </tr>\n",
       "    <tr>\n",
       "      <th>163</th>\n",
       "      <td>Saint Kitts and Nevis</td>\n",
       "      <td>35.0</td>\n",
       "      <td>35.2</td>\n",
       "      <td>34.8</td>\n",
       "      <td>North America</td>\n",
       "      <td>-0.4</td>\n",
       "    </tr>\n",
       "    <tr>\n",
       "      <th>167</th>\n",
       "      <td>Saint Vincent and the Grenadines</td>\n",
       "      <td>33.6</td>\n",
       "      <td>33.8</td>\n",
       "      <td>33.4</td>\n",
       "      <td>North America</td>\n",
       "      <td>-0.4</td>\n",
       "    </tr>\n",
       "    <tr>\n",
       "      <th>170</th>\n",
       "      <td>Saudi Arabia</td>\n",
       "      <td>27.5</td>\n",
       "      <td>28.2</td>\n",
       "      <td>26.7</td>\n",
       "      <td>Asia</td>\n",
       "      <td>-1.5</td>\n",
       "    </tr>\n",
       "    <tr>\n",
       "      <th>180</th>\n",
       "      <td>Somalia</td>\n",
       "      <td>18.1</td>\n",
       "      <td>18.3</td>\n",
       "      <td>17.9</td>\n",
       "      <td>Africa</td>\n",
       "      <td>-0.4</td>\n",
       "    </tr>\n",
       "    <tr>\n",
       "      <th>201</th>\n",
       "      <td>Turks and Caicos Islands</td>\n",
       "      <td>33.3</td>\n",
       "      <td>33.6</td>\n",
       "      <td>33.0</td>\n",
       "      <td>North America</td>\n",
       "      <td>-0.6</td>\n",
       "    </tr>\n",
       "    <tr>\n",
       "      <th>205</th>\n",
       "      <td>United Arab Emirates</td>\n",
       "      <td>30.3</td>\n",
       "      <td>32.1</td>\n",
       "      <td>25.0</td>\n",
       "      <td>Asia</td>\n",
       "      <td>-7.1</td>\n",
       "    </tr>\n",
       "  </tbody>\n",
       "</table>\n",
       "</div>"
      ],
      "text/plain": [
       "                    Country/Territory  Average(Years)  Male(Years)  \\\n",
       "4                             Andorra            44.3         44.4   \n",
       "15                            Bahrain            32.3         33.8   \n",
       "23                             Bhutan            27.6         28.2   \n",
       "74                          Greenland            33.9         35.0   \n",
       "98                             Jordan            22.5         22.9   \n",
       "106                            Kuwait            29.3         30.4   \n",
       "113                             Libya            28.9         29.1   \n",
       "117                             Macau            39.3         39.5   \n",
       "137                             Nauru            26.4         27.0   \n",
       "147                              Oman            25.6         26.6   \n",
       "151                  Papua New Guinea            23.1         23.2   \n",
       "158                             Qatar            33.2         34.3   \n",
       "163             Saint Kitts and Nevis            35.0         35.2   \n",
       "167  Saint Vincent and the Grenadines            33.6         33.8   \n",
       "170                      Saudi Arabia            27.5         28.2   \n",
       "180                           Somalia            18.1         18.3   \n",
       "201          Turks and Caicos Islands            33.3         33.6   \n",
       "205              United Arab Emirates            30.3         32.1   \n",
       "\n",
       "     Female (Years)      Continent  Female_Minus_Male  \n",
       "4              44.1         Europe               -0.3  \n",
       "15             29.5           Asia               -4.3  \n",
       "23             27.1           Asia               -1.1  \n",
       "74             32.7  North America               -2.3  \n",
       "98             22.0           Asia               -0.9  \n",
       "106            27.4           Asia               -3.0  \n",
       "113            28.7         Africa               -0.4  \n",
       "117            39.1           Asia               -0.4  \n",
       "137            25.7        Oceania               -1.3  \n",
       "147            24.2           Asia               -2.4  \n",
       "151            23.1        Oceania               -0.1  \n",
       "158            28.1           Asia               -6.2  \n",
       "163            34.8  North America               -0.4  \n",
       "167            33.4  North America               -0.4  \n",
       "170            26.7           Asia               -1.5  \n",
       "180            17.9         Africa               -0.4  \n",
       "201            33.0  North America               -0.6  \n",
       "205            25.0           Asia               -7.1  "
      ]
     },
     "execution_count": 48,
     "metadata": {},
     "output_type": "execute_result"
    }
   ],
   "source": [
    "new_df[new_df['Male(Years)'] > new_df['Female (Years)']]"
   ]
  },
  {
   "cell_type": "markdown",
   "metadata": {},
   "source": [
    "We can also run functions on entire series such as multiplication or division. We can even multiply, add, subtract or divide numerical columns by each other and form new columns with them."
   ]
  },
  {
   "cell_type": "code",
   "execution_count": 49,
   "metadata": {},
   "outputs": [
    {
     "data": {
      "text/plain": [
       "0     9.45\n",
       "1    17.15\n",
       "2    14.20\n",
       "3    13.00\n",
       "4    22.05\n",
       "Name: Female (Years), dtype: float64"
      ]
     },
     "execution_count": 49,
     "metadata": {},
     "output_type": "execute_result"
    }
   ],
   "source": [
    "(new_df['Female (Years)'] / 2).head()"
   ]
  },
  {
   "cell_type": "markdown",
   "metadata": {},
   "source": [
    "We can use numpy's 'power' function to square a series"
   ]
  },
  {
   "cell_type": "code",
   "execution_count": 50,
   "metadata": {},
   "outputs": [
    {
     "data": {
      "text/plain": [
       "0     357.21\n",
       "1    1176.49\n",
       "2     806.56\n",
       "3     676.00\n",
       "4    1944.81\n",
       "Name: Female (Years), dtype: float64"
      ]
     },
     "execution_count": 50,
     "metadata": {},
     "output_type": "execute_result"
    }
   ],
   "source": [
    "(np.power(new_df['Female (Years)'], 2)).head()"
   ]
  },
  {
   "cell_type": "markdown",
   "metadata": {},
   "source": [
    "You can also groupby more than one feature (hint for the homework)"
   ]
  },
  {
   "cell_type": "code",
   "execution_count": 51,
   "metadata": {},
   "outputs": [
    {
     "data": {
      "text/plain": [
       "Continent      Country/Territory               \n",
       "Africa         Algeria                             0.6\n",
       "               Angola                              0.9\n",
       "               Benin                               0.7\n",
       "               Botswana                            2.1\n",
       "               Burkina Faso                        0.3\n",
       "               Burundi                             0.5\n",
       "               Cameroon                            0.3\n",
       "               Central African Republic            0.6\n",
       "               Chad                                2.0\n",
       "               Comoros                             1.3\n",
       "               Democratic Republic of the Congo    0.5\n",
       "               Djibouti                            3.2\n",
       "               Egypt                               0.6\n",
       "               Equatorial Guinea                   1.0\n",
       "               Eritrea                             0.9\n",
       "               Ethiopia                            0.4\n",
       "               Gabon                               0.4\n",
       "               Ghana                               1.0\n",
       "               Guinea                              0.4\n",
       "               Guinea-Bissau                       0.9\n",
       "               Kenya                               0.3\n",
       "               Lesotho                             0.0\n",
       "               Liberia                             0.5\n",
       "               Libya                              -0.4\n",
       "               Madagascar                          0.4\n",
       "               Malawi                              0.3\n",
       "               Mali                                1.3\n",
       "               Mauritania                          1.9\n",
       "               Mauritius                           2.1\n",
       "               Morocco                             1.3\n",
       "                                                  ... \n",
       "Oceania        Federated States of Micronesia      1.4\n",
       "               Fiji                                0.4\n",
       "               French Polynesia                    0.4\n",
       "               Guam                                1.4\n",
       "               Kiribati                            1.7\n",
       "               Marshall Islands                    0.2\n",
       "               Nauru                              -1.3\n",
       "               New Caledonia                       1.4\n",
       "               New Zealand                         1.7\n",
       "               Northern Mariana Islands            1.6\n",
       "               Palau                               2.3\n",
       "               Papua New Guinea                   -0.1\n",
       "               Samoa                               0.5\n",
       "               Solomon Islands                     0.5\n",
       "               Tonga                               0.9\n",
       "               Tuvalu                              2.2\n",
       "               Vanuatu                             0.8\n",
       "               Wallis and Futuna                   2.1\n",
       "South America  Argentina                           2.4\n",
       "               Bolivia                             1.4\n",
       "               Brazil                              1.7\n",
       "               Chile                               2.4\n",
       "               Colombia                            2.0\n",
       "               Ecuador                             1.4\n",
       "               Guyana                              0.7\n",
       "               Paraguay                            0.5\n",
       "               Peru                                1.6\n",
       "               Suriname                            0.8\n",
       "               Uruguay                             3.6\n",
       "               Venezuela                           1.4\n",
       "Name: Female_Minus_Male, Length: 218, dtype: float64"
      ]
     },
     "execution_count": 51,
     "metadata": {},
     "output_type": "execute_result"
    }
   ],
   "source": [
    "new_df.groupby(['Continent', 'Country/Territory'])['Female_Minus_Male'].mean()"
   ]
  },
  {
   "cell_type": "code",
   "execution_count": null,
   "metadata": {
    "collapsed": true
   },
   "outputs": [],
   "source": []
  }
 ],
 "metadata": {
  "kernelspec": {
   "display_name": "Python 3",
   "language": "python",
   "name": "python3"
  },
  "language_info": {
   "codemirror_mode": {
    "name": "ipython",
    "version": 3
   },
   "file_extension": ".py",
   "mimetype": "text/x-python",
   "name": "python",
   "nbconvert_exporter": "python",
   "pygments_lexer": "ipython3",
   "version": "3.6.2"
  }
 },
 "nbformat": 4,
 "nbformat_minor": 2
}
