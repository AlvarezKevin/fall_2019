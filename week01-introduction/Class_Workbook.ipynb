{
 "cells": [
  {
   "cell_type": "markdown",
   "metadata": {},
   "source": [
    "## Class Workbook: Week One\n",
    "\n",
    "Let's dive in and get familiar with Python! We will be using Python 3.6 throughout the course.\n",
    "\n",
    "Right now, we're using Jupyter Notebook, a browser-based interactive environment that lets you execute \"cells\" or blocks of code in chunks. Any variables you assign will persist across diffrent cells. You can also make certain cells 'Markdown' cells that contain text, such as this one.\n",
    "\n",
    "To execute a block of code, hit \"shift\" and \"enter\"\n",
    "\n",
    "Below is a print function, where we can print a statement. Try it out!"
   ]
  },
  {
   "cell_type": "code",
   "execution_count": 1,
   "metadata": {},
   "outputs": [
    {
     "name": "stdout",
     "output_type": "stream",
     "text": [
      "Here is my first line of Python code!\n"
     ]
    }
   ],
   "source": [
    "print('Here is my first line of Python code!')"
   ]
  },
  {
   "cell_type": "markdown",
   "metadata": {},
   "source": [
    "Note that in Jupyter Notebook you can return a value without formally printing it, like below"
   ]
  },
  {
   "cell_type": "code",
   "execution_count": 2,
   "metadata": {},
   "outputs": [
    {
     "data": {
      "text/plain": [
       "'Here is my second line of Python code!'"
      ]
     },
     "execution_count": 2,
     "metadata": {},
     "output_type": "execute_result"
    }
   ],
   "source": [
    "'Here is my second line of Python code!'"
   ]
  },
  {
   "cell_type": "markdown",
   "metadata": {},
   "source": [
    "We can also define variables as strings or integers, among many other things. Variables defined in one cell will persist across the notebook until you redefine them."
   ]
  },
  {
   "cell_type": "code",
   "execution_count": 3,
   "metadata": {},
   "outputs": [
    {
     "name": "stdout",
     "output_type": "stream",
     "text": [
      "Here is my first variable: 3\n",
      "Now the variable has changed: 5\n"
     ]
    }
   ],
   "source": [
    "a = 3\n",
    "print('Here is my first variable:', a)\n",
    "a = 5\n",
    "print('Now the variable has changed:', a)"
   ]
  },
  {
   "cell_type": "markdown",
   "metadata": {},
   "source": [
    "In a Jupyter notebook, you can also simply enter a variable into a cell to display its value, rather than using the print function. This only works if the variable is the last line of the cell or is alone."
   ]
  },
  {
   "cell_type": "code",
   "execution_count": 4,
   "metadata": {},
   "outputs": [
    {
     "data": {
      "text/plain": [
       "3"
      ]
     },
     "execution_count": 4,
     "metadata": {},
     "output_type": "execute_result"
    }
   ],
   "source": [
    "a = 3\n",
    "a"
   ]
  },
  {
   "cell_type": "code",
   "execution_count": 5,
   "metadata": {
    "collapsed": true
   },
   "outputs": [],
   "source": [
    "a = 3\n",
    "a\n",
    "b = 4"
   ]
  },
  {
   "cell_type": "markdown",
   "metadata": {},
   "source": [
    "You can use the 'type' function to get the type of variable - some common ones include integers, floats and strings."
   ]
  },
  {
   "cell_type": "code",
   "execution_count": 6,
   "metadata": {},
   "outputs": [
    {
     "name": "stdout",
     "output_type": "stream",
     "text": [
      "3 <class 'int'>\n",
      "3.0 <class 'float'>\n",
      "example_string <class 'str'>\n"
     ]
    }
   ],
   "source": [
    "a = 3\n",
    "print(a, type(a))\n",
    "a = 3.0\n",
    "print(a, type(a))\n",
    "a = 'example_string'\n",
    "print(a, type(a))"
   ]
  },
  {
   "cell_type": "markdown",
   "metadata": {},
   "source": [
    "You can also do numeric operations in Python, with raw numbers or variables."
   ]
  },
  {
   "cell_type": "code",
   "execution_count": 7,
   "metadata": {},
   "outputs": [
    {
     "name": "stdout",
     "output_type": "stream",
     "text": [
      "3 + 4 = 7\n",
      "3 - 4 = -1\n",
      "3 * 4 = 12\n",
      "3 / 4 = 0.75\n",
      "3 / 4 = 0.75\n"
     ]
    }
   ],
   "source": [
    "print('3 + 4 =', 3 + 4)\n",
    "print('3 - 4 =', 3 - 4)\n",
    "print('3 * 4 =', 3 * 4)\n",
    "print('3 / 4 =', 3 / 4)\n",
    "a = 3\n",
    "b = 4\n",
    "print('3 / 4 =', a/b)"
   ]
  },
  {
   "cell_type": "markdown",
   "metadata": {},
   "source": [
    "You can also store numbers or strings in different formats. You can use a **list** to store an array of items."
   ]
  },
  {
   "cell_type": "code",
   "execution_count": 8,
   "metadata": {},
   "outputs": [
    {
     "name": "stdout",
     "output_type": "stream",
     "text": [
      "3\n",
      "['list', 'of', 'strings']\n"
     ]
    }
   ],
   "source": [
    "list_of_strings = ['list', 'of', 'strings']\n",
    "list_of_numbers = [0,1,2]\n",
    "print(len(list_of_strings))\n",
    "print(list_of_strings)"
   ]
  },
  {
   "cell_type": "markdown",
   "metadata": {},
   "source": [
    "Python uses 0-based indexing, meaning that if you want to access the first item in a list, you refer to the item in the 0-th position."
   ]
  },
  {
   "cell_type": "code",
   "execution_count": 9,
   "metadata": {},
   "outputs": [
    {
     "data": {
      "text/plain": [
       "'list'"
      ]
     },
     "execution_count": 9,
     "metadata": {},
     "output_type": "execute_result"
    }
   ],
   "source": [
    "list_of_strings[0]"
   ]
  },
  {
   "cell_type": "markdown",
   "metadata": {},
   "source": [
    "You can also use negative numbers to refer to the end of a list - the last item in a list would have a value of **negative 1**."
   ]
  },
  {
   "cell_type": "code",
   "execution_count": 10,
   "metadata": {},
   "outputs": [
    {
     "data": {
      "text/plain": [
       "2"
      ]
     },
     "execution_count": 10,
     "metadata": {},
     "output_type": "execute_result"
    }
   ],
   "source": [
    "list_of_numbers[-1]"
   ]
  },
  {
   "cell_type": "markdown",
   "metadata": {},
   "source": [
    "Lists are **mutable**, meaning you can edit values in the list after they are created."
   ]
  },
  {
   "cell_type": "code",
   "execution_count": 11,
   "metadata": {},
   "outputs": [
    {
     "data": {
      "text/plain": [
       "['new_value', 'of', 'strings']"
      ]
     },
     "execution_count": 11,
     "metadata": {},
     "output_type": "execute_result"
    }
   ],
   "source": [
    "list_of_strings[0] = 'new_value'\n",
    "list_of_strings"
   ]
  },
  {
   "cell_type": "markdown",
   "metadata": {},
   "source": [
    "You can easily add more items to a list once it's created using the **append** function."
   ]
  },
  {
   "cell_type": "code",
   "execution_count": 12,
   "metadata": {},
   "outputs": [
    {
     "data": {
      "text/plain": [
       "['new_value', 'of', 'strings', 'appended_value']"
      ]
     },
     "execution_count": 12,
     "metadata": {},
     "output_type": "execute_result"
    }
   ],
   "source": [
    "list_of_strings.append('appended_value')\n",
    "list_of_strings"
   ]
  },
  {
   "cell_type": "markdown",
   "metadata": {},
   "source": [
    "You can use a for loop to iterate through a list and perform an operation on it."
   ]
  },
  {
   "cell_type": "code",
   "execution_count": 13,
   "metadata": {},
   "outputs": [
    {
     "name": "stdout",
     "output_type": "stream",
     "text": [
      "1\n",
      "2\n",
      "3\n"
     ]
    }
   ],
   "source": [
    "for i in list_of_numbers: #note this i can be anything\n",
    "    print(i + 1)"
   ]
  },
  {
   "cell_type": "code",
   "execution_count": 14,
   "metadata": {},
   "outputs": [
    {
     "name": "stdout",
     "output_type": "stream",
     "text": [
      "1\n",
      "2\n",
      "3\n"
     ]
    }
   ],
   "source": [
    "for j in list_of_numbers:\n",
    "    print(j + 1)"
   ]
  },
  {
   "cell_type": "markdown",
   "metadata": {},
   "source": [
    "The homework this week will go in depth to some of these core functions and much more - let's look into **importing packages**."
   ]
  },
  {
   "cell_type": "code",
   "execution_count": 15,
   "metadata": {
    "collapsed": true
   },
   "outputs": [],
   "source": [
    "import random\n",
    "import scipy.stats as stats\n",
    "import statsmodels.api as sm\n",
    "import numpy as np\n",
    "import pandas as pd\n",
    "import matplotlib.pyplot as plt\n",
    "import seaborn as sns\n",
    "%matplotlib inline"
   ]
  },
  {
   "cell_type": "markdown",
   "metadata": {},
   "source": [
    "You can then cite these packages by name in your code. We'll obviously cover this in much more detail, but here are some brief examples."
   ]
  },
  {
   "cell_type": "code",
   "execution_count": 16,
   "metadata": {},
   "outputs": [
    {
     "name": "stdout",
     "output_type": "stream",
     "text": [
      "Pick a random number between 1 and 100: 99\n",
      "Create a Numpy Array: [1 2 3 4 5]\n",
      "Retrieve the Number One Singles of 2019 using Pandas\n"
     ]
    },
    {
     "data": {
      "text/html": [
       "<div>\n",
       "<style scoped>\n",
       "    .dataframe tbody tr th:only-of-type {\n",
       "        vertical-align: middle;\n",
       "    }\n",
       "\n",
       "    .dataframe tbody tr th {\n",
       "        vertical-align: top;\n",
       "    }\n",
       "\n",
       "    .dataframe thead th {\n",
       "        text-align: right;\n",
       "    }\n",
       "</style>\n",
       "<table border=\"1\" class=\"dataframe\">\n",
       "  <thead>\n",
       "    <tr style=\"text-align: right;\">\n",
       "      <th></th>\n",
       "      <th>No.</th>\n",
       "      <th>Issue date</th>\n",
       "      <th>Song</th>\n",
       "      <th>Artist(s)</th>\n",
       "      <th>Ref.</th>\n",
       "    </tr>\n",
       "  </thead>\n",
       "  <tbody>\n",
       "    <tr>\n",
       "      <th>0</th>\n",
       "      <td>re</td>\n",
       "      <td>January 5</td>\n",
       "      <td>\"Thank U, Next\"</td>\n",
       "      <td>Ariana Grande</td>\n",
       "      <td>[1]</td>\n",
       "    </tr>\n",
       "    <tr>\n",
       "      <th>1</th>\n",
       "      <td>1081</td>\n",
       "      <td>January 12</td>\n",
       "      <td>\"Without Me\"</td>\n",
       "      <td>Halsey</td>\n",
       "      <td>[2]</td>\n",
       "    </tr>\n",
       "    <tr>\n",
       "      <th>2</th>\n",
       "      <td>1082</td>\n",
       "      <td>January 19</td>\n",
       "      <td>\"Sunflower\"</td>\n",
       "      <td>Post Malone and Swae Lee</td>\n",
       "      <td>[3]</td>\n",
       "    </tr>\n",
       "    <tr>\n",
       "      <th>3</th>\n",
       "      <td>re</td>\n",
       "      <td>January 26</td>\n",
       "      <td>\"Without Me\"</td>\n",
       "      <td>Halsey</td>\n",
       "      <td>[4]</td>\n",
       "    </tr>\n",
       "    <tr>\n",
       "      <th>4</th>\n",
       "      <td>1083</td>\n",
       "      <td>February 2</td>\n",
       "      <td>\"7 Rings\"</td>\n",
       "      <td>Ariana Grande</td>\n",
       "      <td>[5]</td>\n",
       "    </tr>\n",
       "    <tr>\n",
       "      <th>5</th>\n",
       "      <td>1083</td>\n",
       "      <td>February 9</td>\n",
       "      <td>\"7 Rings\"</td>\n",
       "      <td>Ariana Grande</td>\n",
       "      <td>[6]</td>\n",
       "    </tr>\n",
       "    <tr>\n",
       "      <th>6</th>\n",
       "      <td>1083</td>\n",
       "      <td>February 16</td>\n",
       "      <td>\"7 Rings\"</td>\n",
       "      <td>Ariana Grande</td>\n",
       "      <td>[7]</td>\n",
       "    </tr>\n",
       "    <tr>\n",
       "      <th>7</th>\n",
       "      <td>1083</td>\n",
       "      <td>February 23</td>\n",
       "      <td>\"7 Rings\"</td>\n",
       "      <td>Ariana Grande</td>\n",
       "      <td>[8]</td>\n",
       "    </tr>\n",
       "    <tr>\n",
       "      <th>8</th>\n",
       "      <td>1083</td>\n",
       "      <td>March 2</td>\n",
       "      <td>\"7 Rings\"</td>\n",
       "      <td>Ariana Grande</td>\n",
       "      <td>[9]</td>\n",
       "    </tr>\n",
       "    <tr>\n",
       "      <th>9</th>\n",
       "      <td>1084</td>\n",
       "      <td>March 9</td>\n",
       "      <td>\"Shallow\"</td>\n",
       "      <td>Lady Gaga and Bradley Cooper</td>\n",
       "      <td>[10]</td>\n",
       "    </tr>\n",
       "    <tr>\n",
       "      <th>10</th>\n",
       "      <td>1085</td>\n",
       "      <td>March 16</td>\n",
       "      <td>\"Sucker\"</td>\n",
       "      <td>Jonas Brothers</td>\n",
       "      <td>[11]</td>\n",
       "    </tr>\n",
       "    <tr>\n",
       "      <th>11</th>\n",
       "      <td>re</td>\n",
       "      <td>March 23</td>\n",
       "      <td>\"7 Rings\"</td>\n",
       "      <td>Ariana Grande</td>\n",
       "      <td>[12]</td>\n",
       "    </tr>\n",
       "    <tr>\n",
       "      <th>12</th>\n",
       "      <td>re</td>\n",
       "      <td>March 30</td>\n",
       "      <td>\"7 Rings\"</td>\n",
       "      <td>Ariana Grande</td>\n",
       "      <td>[13]</td>\n",
       "    </tr>\n",
       "    <tr>\n",
       "      <th>13</th>\n",
       "      <td>re</td>\n",
       "      <td>April 6</td>\n",
       "      <td>\"7 Rings\"</td>\n",
       "      <td>Ariana Grande</td>\n",
       "      <td>[14]</td>\n",
       "    </tr>\n",
       "    <tr>\n",
       "      <th>14</th>\n",
       "      <td>1086</td>\n",
       "      <td>April 13</td>\n",
       "      <td>\"Old Town Road\"</td>\n",
       "      <td>Lil Nas X</td>\n",
       "      <td>[15]</td>\n",
       "    </tr>\n",
       "    <tr>\n",
       "      <th>15</th>\n",
       "      <td>1086</td>\n",
       "      <td>April 20</td>\n",
       "      <td>\"Old Town Road\"</td>\n",
       "      <td>Lil Nas X featuring Billy Ray Cyrus[a]</td>\n",
       "      <td>[16]</td>\n",
       "    </tr>\n",
       "    <tr>\n",
       "      <th>16</th>\n",
       "      <td>1086</td>\n",
       "      <td>April 27</td>\n",
       "      <td>\"Old Town Road\"</td>\n",
       "      <td>Lil Nas X featuring Billy Ray Cyrus[a]</td>\n",
       "      <td>[17]</td>\n",
       "    </tr>\n",
       "    <tr>\n",
       "      <th>17</th>\n",
       "      <td>1086</td>\n",
       "      <td>May 4</td>\n",
       "      <td>\"Old Town Road\"</td>\n",
       "      <td>Lil Nas X featuring Billy Ray Cyrus[a]</td>\n",
       "      <td>[18]</td>\n",
       "    </tr>\n",
       "    <tr>\n",
       "      <th>18</th>\n",
       "      <td>1086</td>\n",
       "      <td>May 11</td>\n",
       "      <td>\"Old Town Road\"</td>\n",
       "      <td>Lil Nas X featuring Billy Ray Cyrus[a]</td>\n",
       "      <td>[19]</td>\n",
       "    </tr>\n",
       "    <tr>\n",
       "      <th>19</th>\n",
       "      <td>1086</td>\n",
       "      <td>May 18</td>\n",
       "      <td>\"Old Town Road\"</td>\n",
       "      <td>Lil Nas X featuring Billy Ray Cyrus[a]</td>\n",
       "      <td>[20]</td>\n",
       "    </tr>\n",
       "    <tr>\n",
       "      <th>20</th>\n",
       "      <td>1086</td>\n",
       "      <td>May 25</td>\n",
       "      <td>\"Old Town Road\"</td>\n",
       "      <td>Lil Nas X featuring Billy Ray Cyrus[a]</td>\n",
       "      <td>[21]</td>\n",
       "    </tr>\n",
       "    <tr>\n",
       "      <th>21</th>\n",
       "      <td>1086</td>\n",
       "      <td>June 1</td>\n",
       "      <td>\"Old Town Road\"</td>\n",
       "      <td>Lil Nas X featuring Billy Ray Cyrus[a]</td>\n",
       "      <td>[22]</td>\n",
       "    </tr>\n",
       "    <tr>\n",
       "      <th>22</th>\n",
       "      <td>1086</td>\n",
       "      <td>June 8</td>\n",
       "      <td>\"Old Town Road\"</td>\n",
       "      <td>Lil Nas X featuring Billy Ray Cyrus[a]</td>\n",
       "      <td>[23]</td>\n",
       "    </tr>\n",
       "    <tr>\n",
       "      <th>23</th>\n",
       "      <td>1086</td>\n",
       "      <td>June 15</td>\n",
       "      <td>\"Old Town Road\"</td>\n",
       "      <td>Lil Nas X featuring Billy Ray Cyrus[a]</td>\n",
       "      <td>[24]</td>\n",
       "    </tr>\n",
       "    <tr>\n",
       "      <th>24</th>\n",
       "      <td>1086</td>\n",
       "      <td>June 22</td>\n",
       "      <td>\"Old Town Road\"</td>\n",
       "      <td>Lil Nas X featuring Billy Ray Cyrus[a]</td>\n",
       "      <td>[25]</td>\n",
       "    </tr>\n",
       "    <tr>\n",
       "      <th>25</th>\n",
       "      <td>1086</td>\n",
       "      <td>June 29</td>\n",
       "      <td>\"Old Town Road\"</td>\n",
       "      <td>Lil Nas X featuring Billy Ray Cyrus[a]</td>\n",
       "      <td>[26]</td>\n",
       "    </tr>\n",
       "    <tr>\n",
       "      <th>26</th>\n",
       "      <td>1086</td>\n",
       "      <td>July 6</td>\n",
       "      <td>\"Old Town Road\"</td>\n",
       "      <td>Lil Nas X featuring Billy Ray Cyrus[a]</td>\n",
       "      <td>[27]</td>\n",
       "    </tr>\n",
       "    <tr>\n",
       "      <th>27</th>\n",
       "      <td>1086</td>\n",
       "      <td>July 13</td>\n",
       "      <td>\"Old Town Road\"</td>\n",
       "      <td>Lil Nas X featuring Billy Ray Cyrus[a]</td>\n",
       "      <td>[28]</td>\n",
       "    </tr>\n",
       "    <tr>\n",
       "      <th>28</th>\n",
       "      <td>1086</td>\n",
       "      <td>July 20</td>\n",
       "      <td>\"Old Town Road\"</td>\n",
       "      <td>Lil Nas X featuring Billy Ray Cyrus[a]</td>\n",
       "      <td>[29]</td>\n",
       "    </tr>\n",
       "    <tr>\n",
       "      <th>29</th>\n",
       "      <td>1086</td>\n",
       "      <td>July 27</td>\n",
       "      <td>\"Old Town Road\"</td>\n",
       "      <td>Lil Nas X featuring Billy Ray Cyrus[a]</td>\n",
       "      <td>[30]</td>\n",
       "    </tr>\n",
       "    <tr>\n",
       "      <th>30</th>\n",
       "      <td>1086</td>\n",
       "      <td>August 3</td>\n",
       "      <td>\"Old Town Road\"</td>\n",
       "      <td>Lil Nas X featuring Billy Ray Cyrus[a]</td>\n",
       "      <td>[31]</td>\n",
       "    </tr>\n",
       "    <tr>\n",
       "      <th>31</th>\n",
       "      <td>1086</td>\n",
       "      <td>August 10</td>\n",
       "      <td>\"Old Town Road\"</td>\n",
       "      <td>Lil Nas X featuring Billy Ray Cyrus[a]</td>\n",
       "      <td>[32]</td>\n",
       "    </tr>\n",
       "    <tr>\n",
       "      <th>32</th>\n",
       "      <td>1086</td>\n",
       "      <td>August 17</td>\n",
       "      <td>\"Old Town Road\"</td>\n",
       "      <td>Lil Nas X featuring Billy Ray Cyrus[a]</td>\n",
       "      <td>[33]</td>\n",
       "    </tr>\n",
       "    <tr>\n",
       "      <th>33</th>\n",
       "      <td>1087</td>\n",
       "      <td>August 24</td>\n",
       "      <td>\"Bad Guy\"</td>\n",
       "      <td>Billie Eilish</td>\n",
       "      <td>[34]</td>\n",
       "    </tr>\n",
       "    <tr>\n",
       "      <th>34</th>\n",
       "      <td>1088</td>\n",
       "      <td>August 31</td>\n",
       "      <td>\"Señorita\"</td>\n",
       "      <td>Shawn Mendes and Camila Cabello</td>\n",
       "      <td>[35]</td>\n",
       "    </tr>\n",
       "  </tbody>\n",
       "</table>\n",
       "</div>"
      ],
      "text/plain": [
       "     No.   Issue date             Song  \\\n",
       "0     re    January 5  \"Thank U, Next\"   \n",
       "1   1081   January 12     \"Without Me\"   \n",
       "2   1082   January 19      \"Sunflower\"   \n",
       "3     re   January 26     \"Without Me\"   \n",
       "4   1083   February 2        \"7 Rings\"   \n",
       "5   1083   February 9        \"7 Rings\"   \n",
       "6   1083  February 16        \"7 Rings\"   \n",
       "7   1083  February 23        \"7 Rings\"   \n",
       "8   1083      March 2        \"7 Rings\"   \n",
       "9   1084      March 9        \"Shallow\"   \n",
       "10  1085     March 16         \"Sucker\"   \n",
       "11    re     March 23        \"7 Rings\"   \n",
       "12    re     March 30        \"7 Rings\"   \n",
       "13    re      April 6        \"7 Rings\"   \n",
       "14  1086     April 13  \"Old Town Road\"   \n",
       "15  1086     April 20  \"Old Town Road\"   \n",
       "16  1086     April 27  \"Old Town Road\"   \n",
       "17  1086        May 4  \"Old Town Road\"   \n",
       "18  1086       May 11  \"Old Town Road\"   \n",
       "19  1086       May 18  \"Old Town Road\"   \n",
       "20  1086       May 25  \"Old Town Road\"   \n",
       "21  1086       June 1  \"Old Town Road\"   \n",
       "22  1086       June 8  \"Old Town Road\"   \n",
       "23  1086      June 15  \"Old Town Road\"   \n",
       "24  1086      June 22  \"Old Town Road\"   \n",
       "25  1086      June 29  \"Old Town Road\"   \n",
       "26  1086       July 6  \"Old Town Road\"   \n",
       "27  1086      July 13  \"Old Town Road\"   \n",
       "28  1086      July 20  \"Old Town Road\"   \n",
       "29  1086      July 27  \"Old Town Road\"   \n",
       "30  1086     August 3  \"Old Town Road\"   \n",
       "31  1086    August 10  \"Old Town Road\"   \n",
       "32  1086    August 17  \"Old Town Road\"   \n",
       "33  1087    August 24        \"Bad Guy\"   \n",
       "34  1088    August 31       \"Señorita\"   \n",
       "\n",
       "                                 Artist(s)  Ref.  \n",
       "0                            Ariana Grande   [1]  \n",
       "1                                   Halsey   [2]  \n",
       "2                 Post Malone and Swae Lee   [3]  \n",
       "3                                   Halsey   [4]  \n",
       "4                            Ariana Grande   [5]  \n",
       "5                            Ariana Grande   [6]  \n",
       "6                            Ariana Grande   [7]  \n",
       "7                            Ariana Grande   [8]  \n",
       "8                            Ariana Grande   [9]  \n",
       "9             Lady Gaga and Bradley Cooper  [10]  \n",
       "10                          Jonas Brothers  [11]  \n",
       "11                           Ariana Grande  [12]  \n",
       "12                           Ariana Grande  [13]  \n",
       "13                           Ariana Grande  [14]  \n",
       "14                               Lil Nas X  [15]  \n",
       "15  Lil Nas X featuring Billy Ray Cyrus[a]  [16]  \n",
       "16  Lil Nas X featuring Billy Ray Cyrus[a]  [17]  \n",
       "17  Lil Nas X featuring Billy Ray Cyrus[a]  [18]  \n",
       "18  Lil Nas X featuring Billy Ray Cyrus[a]  [19]  \n",
       "19  Lil Nas X featuring Billy Ray Cyrus[a]  [20]  \n",
       "20  Lil Nas X featuring Billy Ray Cyrus[a]  [21]  \n",
       "21  Lil Nas X featuring Billy Ray Cyrus[a]  [22]  \n",
       "22  Lil Nas X featuring Billy Ray Cyrus[a]  [23]  \n",
       "23  Lil Nas X featuring Billy Ray Cyrus[a]  [24]  \n",
       "24  Lil Nas X featuring Billy Ray Cyrus[a]  [25]  \n",
       "25  Lil Nas X featuring Billy Ray Cyrus[a]  [26]  \n",
       "26  Lil Nas X featuring Billy Ray Cyrus[a]  [27]  \n",
       "27  Lil Nas X featuring Billy Ray Cyrus[a]  [28]  \n",
       "28  Lil Nas X featuring Billy Ray Cyrus[a]  [29]  \n",
       "29  Lil Nas X featuring Billy Ray Cyrus[a]  [30]  \n",
       "30  Lil Nas X featuring Billy Ray Cyrus[a]  [31]  \n",
       "31  Lil Nas X featuring Billy Ray Cyrus[a]  [32]  \n",
       "32  Lil Nas X featuring Billy Ray Cyrus[a]  [33]  \n",
       "33                           Billie Eilish  [34]  \n",
       "34         Shawn Mendes and Camila Cabello  [35]  "
      ]
     },
     "execution_count": 16,
     "metadata": {},
     "output_type": "execute_result"
    }
   ],
   "source": [
    "print('Pick a random number between 1 and 100:', random.randint(1, 100))\n",
    "print('Create a Numpy Array:', np.array([1,2,3,4,5]))\n",
    "print('Retrieve the Number One Singles of 2019 using Pandas')\n",
    "df = pd.read_html('https://en.wikipedia.org/wiki/List_of_Billboard_Hot_100_number-one_singles_of_2019', header=0)[0]\n",
    "df"
   ]
  },
  {
   "cell_type": "markdown",
   "metadata": {},
   "source": [
    "### What just happened?\n",
    "\n",
    "In one line of code, we were able to scrape Wikipedia and retrieve a **dataframe** from an HTML table on the page using Pandas.\n",
    "\n",
    "We will be using Pandas often in class - it is essential to the course that you become comfortable with it. The homework will cover Pandas functions, and we will continue to work through them next week. Let's run through a few quick introductory functions."
   ]
  },
  {
   "cell_type": "code",
   "execution_count": 17,
   "metadata": {},
   "outputs": [
    {
     "data": {
      "text/plain": [
       "(35, 5)"
      ]
     },
     "execution_count": 17,
     "metadata": {},
     "output_type": "execute_result"
    }
   ],
   "source": [
    "#Retrieve the shape of the DataFrame\n",
    "df.shape"
   ]
  },
  {
   "cell_type": "markdown",
   "metadata": {},
   "source": [
    "The dataframe has 35 rows and 5 columns."
   ]
  },
  {
   "cell_type": "code",
   "execution_count": 18,
   "metadata": {},
   "outputs": [
    {
     "data": {
      "text/plain": [
       "Index(['No.', 'Issue date', 'Song', 'Artist(s)', 'Ref.'], dtype='object')"
      ]
     },
     "execution_count": 18,
     "metadata": {},
     "output_type": "execute_result"
    }
   ],
   "source": [
    "#List the columns of the dataframe\n",
    "df.columns"
   ]
  },
  {
   "cell_type": "code",
   "execution_count": 19,
   "metadata": {},
   "outputs": [
    {
     "data": {
      "text/plain": [
       "No.           object\n",
       "Issue date    object\n",
       "Song          object\n",
       "Artist(s)     object\n",
       "Ref.          object\n",
       "dtype: object"
      ]
     },
     "execution_count": 19,
     "metadata": {},
     "output_type": "execute_result"
    }
   ],
   "source": [
    "#Get the types of variables in each column.\n",
    "df.dtypes"
   ]
  },
  {
   "cell_type": "code",
   "execution_count": 20,
   "metadata": {},
   "outputs": [
    {
     "data": {
      "text/plain": [
       "0     \"Thank U, Next\"\n",
       "1        \"Without Me\"\n",
       "2         \"Sunflower\"\n",
       "3        \"Without Me\"\n",
       "4           \"7 Rings\"\n",
       "5           \"7 Rings\"\n",
       "6           \"7 Rings\"\n",
       "7           \"7 Rings\"\n",
       "8           \"7 Rings\"\n",
       "9           \"Shallow\"\n",
       "10           \"Sucker\"\n",
       "11          \"7 Rings\"\n",
       "12          \"7 Rings\"\n",
       "13          \"7 Rings\"\n",
       "14    \"Old Town Road\"\n",
       "15    \"Old Town Road\"\n",
       "16    \"Old Town Road\"\n",
       "17    \"Old Town Road\"\n",
       "18    \"Old Town Road\"\n",
       "19    \"Old Town Road\"\n",
       "20    \"Old Town Road\"\n",
       "21    \"Old Town Road\"\n",
       "22    \"Old Town Road\"\n",
       "23    \"Old Town Road\"\n",
       "24    \"Old Town Road\"\n",
       "25    \"Old Town Road\"\n",
       "26    \"Old Town Road\"\n",
       "27    \"Old Town Road\"\n",
       "28    \"Old Town Road\"\n",
       "29    \"Old Town Road\"\n",
       "30    \"Old Town Road\"\n",
       "31    \"Old Town Road\"\n",
       "32    \"Old Town Road\"\n",
       "33          \"Bad Guy\"\n",
       "34         \"Señorita\"\n",
       "Name: Song, dtype: object"
      ]
     },
     "execution_count": 20,
     "metadata": {},
     "output_type": "execute_result"
    }
   ],
   "source": [
    "#Look at just a single column\n",
    "df['Song']"
   ]
  },
  {
   "cell_type": "code",
   "execution_count": 21,
   "metadata": {},
   "outputs": [
    {
     "data": {
      "text/html": [
       "<div>\n",
       "<style scoped>\n",
       "    .dataframe tbody tr th:only-of-type {\n",
       "        vertical-align: middle;\n",
       "    }\n",
       "\n",
       "    .dataframe tbody tr th {\n",
       "        vertical-align: top;\n",
       "    }\n",
       "\n",
       "    .dataframe thead th {\n",
       "        text-align: right;\n",
       "    }\n",
       "</style>\n",
       "<table border=\"1\" class=\"dataframe\">\n",
       "  <thead>\n",
       "    <tr style=\"text-align: right;\">\n",
       "      <th></th>\n",
       "      <th>Song</th>\n",
       "      <th>Artist(s)</th>\n",
       "    </tr>\n",
       "  </thead>\n",
       "  <tbody>\n",
       "    <tr>\n",
       "      <th>0</th>\n",
       "      <td>\"Thank U, Next\"</td>\n",
       "      <td>Ariana Grande</td>\n",
       "    </tr>\n",
       "    <tr>\n",
       "      <th>1</th>\n",
       "      <td>\"Without Me\"</td>\n",
       "      <td>Halsey</td>\n",
       "    </tr>\n",
       "    <tr>\n",
       "      <th>2</th>\n",
       "      <td>\"Sunflower\"</td>\n",
       "      <td>Post Malone and Swae Lee</td>\n",
       "    </tr>\n",
       "    <tr>\n",
       "      <th>3</th>\n",
       "      <td>\"Without Me\"</td>\n",
       "      <td>Halsey</td>\n",
       "    </tr>\n",
       "    <tr>\n",
       "      <th>4</th>\n",
       "      <td>\"7 Rings\"</td>\n",
       "      <td>Ariana Grande</td>\n",
       "    </tr>\n",
       "    <tr>\n",
       "      <th>5</th>\n",
       "      <td>\"7 Rings\"</td>\n",
       "      <td>Ariana Grande</td>\n",
       "    </tr>\n",
       "    <tr>\n",
       "      <th>6</th>\n",
       "      <td>\"7 Rings\"</td>\n",
       "      <td>Ariana Grande</td>\n",
       "    </tr>\n",
       "    <tr>\n",
       "      <th>7</th>\n",
       "      <td>\"7 Rings\"</td>\n",
       "      <td>Ariana Grande</td>\n",
       "    </tr>\n",
       "    <tr>\n",
       "      <th>8</th>\n",
       "      <td>\"7 Rings\"</td>\n",
       "      <td>Ariana Grande</td>\n",
       "    </tr>\n",
       "    <tr>\n",
       "      <th>9</th>\n",
       "      <td>\"Shallow\"</td>\n",
       "      <td>Lady Gaga and Bradley Cooper</td>\n",
       "    </tr>\n",
       "    <tr>\n",
       "      <th>10</th>\n",
       "      <td>\"Sucker\"</td>\n",
       "      <td>Jonas Brothers</td>\n",
       "    </tr>\n",
       "    <tr>\n",
       "      <th>11</th>\n",
       "      <td>\"7 Rings\"</td>\n",
       "      <td>Ariana Grande</td>\n",
       "    </tr>\n",
       "    <tr>\n",
       "      <th>12</th>\n",
       "      <td>\"7 Rings\"</td>\n",
       "      <td>Ariana Grande</td>\n",
       "    </tr>\n",
       "    <tr>\n",
       "      <th>13</th>\n",
       "      <td>\"7 Rings\"</td>\n",
       "      <td>Ariana Grande</td>\n",
       "    </tr>\n",
       "    <tr>\n",
       "      <th>14</th>\n",
       "      <td>\"Old Town Road\"</td>\n",
       "      <td>Lil Nas X</td>\n",
       "    </tr>\n",
       "    <tr>\n",
       "      <th>15</th>\n",
       "      <td>\"Old Town Road\"</td>\n",
       "      <td>Lil Nas X featuring Billy Ray Cyrus[a]</td>\n",
       "    </tr>\n",
       "    <tr>\n",
       "      <th>16</th>\n",
       "      <td>\"Old Town Road\"</td>\n",
       "      <td>Lil Nas X featuring Billy Ray Cyrus[a]</td>\n",
       "    </tr>\n",
       "    <tr>\n",
       "      <th>17</th>\n",
       "      <td>\"Old Town Road\"</td>\n",
       "      <td>Lil Nas X featuring Billy Ray Cyrus[a]</td>\n",
       "    </tr>\n",
       "    <tr>\n",
       "      <th>18</th>\n",
       "      <td>\"Old Town Road\"</td>\n",
       "      <td>Lil Nas X featuring Billy Ray Cyrus[a]</td>\n",
       "    </tr>\n",
       "    <tr>\n",
       "      <th>19</th>\n",
       "      <td>\"Old Town Road\"</td>\n",
       "      <td>Lil Nas X featuring Billy Ray Cyrus[a]</td>\n",
       "    </tr>\n",
       "    <tr>\n",
       "      <th>20</th>\n",
       "      <td>\"Old Town Road\"</td>\n",
       "      <td>Lil Nas X featuring Billy Ray Cyrus[a]</td>\n",
       "    </tr>\n",
       "    <tr>\n",
       "      <th>21</th>\n",
       "      <td>\"Old Town Road\"</td>\n",
       "      <td>Lil Nas X featuring Billy Ray Cyrus[a]</td>\n",
       "    </tr>\n",
       "    <tr>\n",
       "      <th>22</th>\n",
       "      <td>\"Old Town Road\"</td>\n",
       "      <td>Lil Nas X featuring Billy Ray Cyrus[a]</td>\n",
       "    </tr>\n",
       "    <tr>\n",
       "      <th>23</th>\n",
       "      <td>\"Old Town Road\"</td>\n",
       "      <td>Lil Nas X featuring Billy Ray Cyrus[a]</td>\n",
       "    </tr>\n",
       "    <tr>\n",
       "      <th>24</th>\n",
       "      <td>\"Old Town Road\"</td>\n",
       "      <td>Lil Nas X featuring Billy Ray Cyrus[a]</td>\n",
       "    </tr>\n",
       "    <tr>\n",
       "      <th>25</th>\n",
       "      <td>\"Old Town Road\"</td>\n",
       "      <td>Lil Nas X featuring Billy Ray Cyrus[a]</td>\n",
       "    </tr>\n",
       "    <tr>\n",
       "      <th>26</th>\n",
       "      <td>\"Old Town Road\"</td>\n",
       "      <td>Lil Nas X featuring Billy Ray Cyrus[a]</td>\n",
       "    </tr>\n",
       "    <tr>\n",
       "      <th>27</th>\n",
       "      <td>\"Old Town Road\"</td>\n",
       "      <td>Lil Nas X featuring Billy Ray Cyrus[a]</td>\n",
       "    </tr>\n",
       "    <tr>\n",
       "      <th>28</th>\n",
       "      <td>\"Old Town Road\"</td>\n",
       "      <td>Lil Nas X featuring Billy Ray Cyrus[a]</td>\n",
       "    </tr>\n",
       "    <tr>\n",
       "      <th>29</th>\n",
       "      <td>\"Old Town Road\"</td>\n",
       "      <td>Lil Nas X featuring Billy Ray Cyrus[a]</td>\n",
       "    </tr>\n",
       "    <tr>\n",
       "      <th>30</th>\n",
       "      <td>\"Old Town Road\"</td>\n",
       "      <td>Lil Nas X featuring Billy Ray Cyrus[a]</td>\n",
       "    </tr>\n",
       "    <tr>\n",
       "      <th>31</th>\n",
       "      <td>\"Old Town Road\"</td>\n",
       "      <td>Lil Nas X featuring Billy Ray Cyrus[a]</td>\n",
       "    </tr>\n",
       "    <tr>\n",
       "      <th>32</th>\n",
       "      <td>\"Old Town Road\"</td>\n",
       "      <td>Lil Nas X featuring Billy Ray Cyrus[a]</td>\n",
       "    </tr>\n",
       "    <tr>\n",
       "      <th>33</th>\n",
       "      <td>\"Bad Guy\"</td>\n",
       "      <td>Billie Eilish</td>\n",
       "    </tr>\n",
       "    <tr>\n",
       "      <th>34</th>\n",
       "      <td>\"Señorita\"</td>\n",
       "      <td>Shawn Mendes and Camila Cabello</td>\n",
       "    </tr>\n",
       "  </tbody>\n",
       "</table>\n",
       "</div>"
      ],
      "text/plain": [
       "               Song                               Artist(s)\n",
       "0   \"Thank U, Next\"                           Ariana Grande\n",
       "1      \"Without Me\"                                  Halsey\n",
       "2       \"Sunflower\"                Post Malone and Swae Lee\n",
       "3      \"Without Me\"                                  Halsey\n",
       "4         \"7 Rings\"                           Ariana Grande\n",
       "5         \"7 Rings\"                           Ariana Grande\n",
       "6         \"7 Rings\"                           Ariana Grande\n",
       "7         \"7 Rings\"                           Ariana Grande\n",
       "8         \"7 Rings\"                           Ariana Grande\n",
       "9         \"Shallow\"            Lady Gaga and Bradley Cooper\n",
       "10         \"Sucker\"                          Jonas Brothers\n",
       "11        \"7 Rings\"                           Ariana Grande\n",
       "12        \"7 Rings\"                           Ariana Grande\n",
       "13        \"7 Rings\"                           Ariana Grande\n",
       "14  \"Old Town Road\"                               Lil Nas X\n",
       "15  \"Old Town Road\"  Lil Nas X featuring Billy Ray Cyrus[a]\n",
       "16  \"Old Town Road\"  Lil Nas X featuring Billy Ray Cyrus[a]\n",
       "17  \"Old Town Road\"  Lil Nas X featuring Billy Ray Cyrus[a]\n",
       "18  \"Old Town Road\"  Lil Nas X featuring Billy Ray Cyrus[a]\n",
       "19  \"Old Town Road\"  Lil Nas X featuring Billy Ray Cyrus[a]\n",
       "20  \"Old Town Road\"  Lil Nas X featuring Billy Ray Cyrus[a]\n",
       "21  \"Old Town Road\"  Lil Nas X featuring Billy Ray Cyrus[a]\n",
       "22  \"Old Town Road\"  Lil Nas X featuring Billy Ray Cyrus[a]\n",
       "23  \"Old Town Road\"  Lil Nas X featuring Billy Ray Cyrus[a]\n",
       "24  \"Old Town Road\"  Lil Nas X featuring Billy Ray Cyrus[a]\n",
       "25  \"Old Town Road\"  Lil Nas X featuring Billy Ray Cyrus[a]\n",
       "26  \"Old Town Road\"  Lil Nas X featuring Billy Ray Cyrus[a]\n",
       "27  \"Old Town Road\"  Lil Nas X featuring Billy Ray Cyrus[a]\n",
       "28  \"Old Town Road\"  Lil Nas X featuring Billy Ray Cyrus[a]\n",
       "29  \"Old Town Road\"  Lil Nas X featuring Billy Ray Cyrus[a]\n",
       "30  \"Old Town Road\"  Lil Nas X featuring Billy Ray Cyrus[a]\n",
       "31  \"Old Town Road\"  Lil Nas X featuring Billy Ray Cyrus[a]\n",
       "32  \"Old Town Road\"  Lil Nas X featuring Billy Ray Cyrus[a]\n",
       "33        \"Bad Guy\"                           Billie Eilish\n",
       "34       \"Señorita\"         Shawn Mendes and Camila Cabello"
      ]
     },
     "execution_count": 21,
     "metadata": {},
     "output_type": "execute_result"
    }
   ],
   "source": [
    "#Look at multiple columns\n",
    "df[['Song', 'Artist(s)']]"
   ]
  },
  {
   "cell_type": "code",
   "execution_count": 22,
   "metadata": {},
   "outputs": [
    {
     "data": {
      "text/html": [
       "<div>\n",
       "<style scoped>\n",
       "    .dataframe tbody tr th:only-of-type {\n",
       "        vertical-align: middle;\n",
       "    }\n",
       "\n",
       "    .dataframe tbody tr th {\n",
       "        vertical-align: top;\n",
       "    }\n",
       "\n",
       "    .dataframe thead th {\n",
       "        text-align: right;\n",
       "    }\n",
       "</style>\n",
       "<table border=\"1\" class=\"dataframe\">\n",
       "  <thead>\n",
       "    <tr style=\"text-align: right;\">\n",
       "      <th></th>\n",
       "      <th>No.</th>\n",
       "      <th>Issue date</th>\n",
       "      <th>Song</th>\n",
       "      <th>Artist(s)</th>\n",
       "      <th>Ref.</th>\n",
       "    </tr>\n",
       "  </thead>\n",
       "  <tbody>\n",
       "    <tr>\n",
       "      <th>0</th>\n",
       "      <td>re</td>\n",
       "      <td>January 5</td>\n",
       "      <td>\"Thank U, Next\"</td>\n",
       "      <td>Ariana Grande</td>\n",
       "      <td>[1]</td>\n",
       "    </tr>\n",
       "    <tr>\n",
       "      <th>1</th>\n",
       "      <td>1081</td>\n",
       "      <td>January 12</td>\n",
       "      <td>\"Without Me\"</td>\n",
       "      <td>Halsey</td>\n",
       "      <td>[2]</td>\n",
       "    </tr>\n",
       "    <tr>\n",
       "      <th>2</th>\n",
       "      <td>1082</td>\n",
       "      <td>January 19</td>\n",
       "      <td>\"Sunflower\"</td>\n",
       "      <td>Post Malone and Swae Lee</td>\n",
       "      <td>[3]</td>\n",
       "    </tr>\n",
       "    <tr>\n",
       "      <th>3</th>\n",
       "      <td>re</td>\n",
       "      <td>January 26</td>\n",
       "      <td>\"Without Me\"</td>\n",
       "      <td>Halsey</td>\n",
       "      <td>[4]</td>\n",
       "    </tr>\n",
       "    <tr>\n",
       "      <th>4</th>\n",
       "      <td>1083</td>\n",
       "      <td>February 2</td>\n",
       "      <td>\"7 Rings\"</td>\n",
       "      <td>Ariana Grande</td>\n",
       "      <td>[5]</td>\n",
       "    </tr>\n",
       "  </tbody>\n",
       "</table>\n",
       "</div>"
      ],
      "text/plain": [
       "    No.  Issue date             Song                 Artist(s) Ref.\n",
       "0    re   January 5  \"Thank U, Next\"             Ariana Grande  [1]\n",
       "1  1081  January 12     \"Without Me\"                    Halsey  [2]\n",
       "2  1082  January 19      \"Sunflower\"  Post Malone and Swae Lee  [3]\n",
       "3    re  January 26     \"Without Me\"                    Halsey  [4]\n",
       "4  1083  February 2        \"7 Rings\"             Ariana Grande  [5]"
      ]
     },
     "execution_count": 22,
     "metadata": {},
     "output_type": "execute_result"
    }
   ],
   "source": [
    "#Look at just the first five rows of the dataframe\n",
    "df.head()"
   ]
  },
  {
   "cell_type": "code",
   "execution_count": 23,
   "metadata": {},
   "outputs": [
    {
     "data": {
      "text/html": [
       "<div>\n",
       "<style scoped>\n",
       "    .dataframe tbody tr th:only-of-type {\n",
       "        vertical-align: middle;\n",
       "    }\n",
       "\n",
       "    .dataframe tbody tr th {\n",
       "        vertical-align: top;\n",
       "    }\n",
       "\n",
       "    .dataframe thead th {\n",
       "        text-align: right;\n",
       "    }\n",
       "</style>\n",
       "<table border=\"1\" class=\"dataframe\">\n",
       "  <thead>\n",
       "    <tr style=\"text-align: right;\">\n",
       "      <th></th>\n",
       "      <th>No.</th>\n",
       "      <th>Issue date</th>\n",
       "      <th>Song</th>\n",
       "      <th>Artist(s)</th>\n",
       "      <th>Ref.</th>\n",
       "    </tr>\n",
       "  </thead>\n",
       "  <tbody>\n",
       "    <tr>\n",
       "      <th>30</th>\n",
       "      <td>1086</td>\n",
       "      <td>August 3</td>\n",
       "      <td>\"Old Town Road\"</td>\n",
       "      <td>Lil Nas X featuring Billy Ray Cyrus[a]</td>\n",
       "      <td>[31]</td>\n",
       "    </tr>\n",
       "    <tr>\n",
       "      <th>31</th>\n",
       "      <td>1086</td>\n",
       "      <td>August 10</td>\n",
       "      <td>\"Old Town Road\"</td>\n",
       "      <td>Lil Nas X featuring Billy Ray Cyrus[a]</td>\n",
       "      <td>[32]</td>\n",
       "    </tr>\n",
       "    <tr>\n",
       "      <th>32</th>\n",
       "      <td>1086</td>\n",
       "      <td>August 17</td>\n",
       "      <td>\"Old Town Road\"</td>\n",
       "      <td>Lil Nas X featuring Billy Ray Cyrus[a]</td>\n",
       "      <td>[33]</td>\n",
       "    </tr>\n",
       "    <tr>\n",
       "      <th>33</th>\n",
       "      <td>1087</td>\n",
       "      <td>August 24</td>\n",
       "      <td>\"Bad Guy\"</td>\n",
       "      <td>Billie Eilish</td>\n",
       "      <td>[34]</td>\n",
       "    </tr>\n",
       "    <tr>\n",
       "      <th>34</th>\n",
       "      <td>1088</td>\n",
       "      <td>August 31</td>\n",
       "      <td>\"Señorita\"</td>\n",
       "      <td>Shawn Mendes and Camila Cabello</td>\n",
       "      <td>[35]</td>\n",
       "    </tr>\n",
       "  </tbody>\n",
       "</table>\n",
       "</div>"
      ],
      "text/plain": [
       "     No. Issue date             Song                               Artist(s)  \\\n",
       "30  1086   August 3  \"Old Town Road\"  Lil Nas X featuring Billy Ray Cyrus[a]   \n",
       "31  1086  August 10  \"Old Town Road\"  Lil Nas X featuring Billy Ray Cyrus[a]   \n",
       "32  1086  August 17  \"Old Town Road\"  Lil Nas X featuring Billy Ray Cyrus[a]   \n",
       "33  1087  August 24        \"Bad Guy\"                           Billie Eilish   \n",
       "34  1088  August 31       \"Señorita\"         Shawn Mendes and Camila Cabello   \n",
       "\n",
       "    Ref.  \n",
       "30  [31]  \n",
       "31  [32]  \n",
       "32  [33]  \n",
       "33  [34]  \n",
       "34  [35]  "
      ]
     },
     "execution_count": 23,
     "metadata": {},
     "output_type": "execute_result"
    }
   ],
   "source": [
    "#Look at just the last five rows of the dataframe\n",
    "df.tail()"
   ]
  },
  {
   "cell_type": "code",
   "execution_count": 24,
   "metadata": {},
   "outputs": [
    {
     "data": {
      "text/plain": [
       "\"Old Town Road\"    19\n",
       "\"7 Rings\"           8\n",
       "\"Without Me\"        2\n",
       "\"Thank U, Next\"     1\n",
       "\"Shallow\"           1\n",
       "\"Bad Guy\"           1\n",
       "\"Sucker\"            1\n",
       "\"Señorita\"          1\n",
       "\"Sunflower\"         1\n",
       "Name: Song, dtype: int64"
      ]
     },
     "execution_count": 24,
     "metadata": {},
     "output_type": "execute_result"
    }
   ],
   "source": [
    "#Get the number of times each song appears in the dataset.\n",
    "df['Song'].value_counts()"
   ]
  },
  {
   "cell_type": "markdown",
   "metadata": {},
   "source": [
    "## A bit about these packages\n",
    "\n",
    "The **random** and **stats** packages will be most useful for the probability section of the course, where we will learn about distributions and even simulate distributions with them. We'll use the **statsmodels** package later in the course when we do regression.\n",
    "\n",
    "We will start using **numpy** and **pandas** packages next week for data exploration. Numpy is an extremely powerful package for storing data arrays, so much so that it actually powers **pandas**. **Pandas** helps you explore data by working with dataframes, similar to a SQL database or even an Excel spreadsheet.\n",
    "\n",
    "The **matplotlib** and **seaborn** packages are for data visualization.\n",
    "\n",
    "## More on Jupyter Notebook\n",
    "\n",
    "#### Change from Code to Markdown\n",
    "\n",
    "In the dropdown menu above (under Kernel/Widgets), you can change from code to markdown or vice versa for the given cell you're in. If you are in command mode, you can press Shift+M to go into Markdown mode. or Shift+Y to go into Code mode.\n",
    "\n",
    "#### Edit Mode and Command Mode\n",
    "\n",
    "There are two 'modes' to Jupyter: edit mode and command mode. When you are in edit mode, the bar to the left will be green, and you can actively type in the cell; the keyboard will act as normal. When you are in command mode, the bar to the left will be blue. Note that when you are in command mode you can press up or down to move between cells. To get to command mode from edit mode, press escape in the cell that you are currently in.\n",
    "\n",
    "\n",
    "#### Adding/Deleting Cells\n",
    "\n",
    "When you are in command mode, you can delete the cell you are currently in by pressing DD (capitalized). To undo a deleted cell, press Z while in command mode. To create a new cell above your current cell by pressing A (capitalized). Or, you can create a new cell *below* your current cell by pressing B (capitalized). Of course you can also use the dropdown menu to perform these actions.\n",
    "\n",
    "#### Exporting Your File:\n",
    "\n",
    "On the upper left, note that you can go to 'Download as' and download the notebook as an 'ipynb' file. When you submit your homework to me this week, please email me the ipynb file you downloaded.\n",
    "\n",
    "Also please note that you are not restricted to the workbooks that are in this repository! You can create a new workbook, import any of the above packages you need, and go from there.\n",
    "\n",
    "## Using Binder\n",
    "\n",
    "I chose Binder for this course because it requires the least amount of setup - all you need to do is click a link and an interactive environment with everything you need will be loaded within seconds. That said - it certainly has its limitations:\n",
    "\n",
    "1) A notebook will only last 12 hours in total, and may timeout after 10 minutes of 'inactivity'. Binder is a playground to test around code with, but I would store any answers or anything you plan on submitting elsewhere while you're working on it. **SAVE OFTEN, BE OCD ABOUT HITTING CTRL + S**\n",
    "\n",
    "2) Binder has a limit of 1 - 2 GB of RAM for a given notebook. We should not come anything close to that since we'll be working on relatively small datasets, but it's something to keep in mind.\n",
    "\n",
    "3) If you want to work on something, save it, and work on it later, you can download your file (File -> Download as ipynb) and then upload it later on a new Binder instance. This is a bit primitive, but failsafe.\n",
    "\n",
    "While you can also download Python onto your machine (instructions will be in this week's homework) and work that way, I'm sure there will be issues that come up given the different types of machines and operating systems people have. Fundamentally you should be able to complete this course using just Binder."
   ]
  }
 ],
 "metadata": {
  "kernelspec": {
   "display_name": "Python 3",
   "language": "python",
   "name": "python3"
  },
  "language_info": {
   "codemirror_mode": {
    "name": "ipython",
    "version": 3
   },
   "file_extension": ".py",
   "mimetype": "text/x-python",
   "name": "python",
   "nbconvert_exporter": "python",
   "pygments_lexer": "ipython3",
   "version": "3.6.8"
  }
 },
 "nbformat": 4,
 "nbformat_minor": 2
}
