{
 "cells": [
  {
   "cell_type": "markdown",
   "metadata": {},
   "source": [
    "I've put a few of the common features we've been using into a 'utils' package that we can use for the class or your projects."
   ]
  },
  {
   "cell_type": "code",
   "execution_count": 1,
   "metadata": {},
   "outputs": [],
   "source": [
    "import os\n",
    "import sys\n",
    "import numpy as np\n",
    "import pandas as pd\n",
    "sys.path.append(os.path.abspath(os.path.join(os.getcwd(), '../utils')))\n",
    "import _utils as utils"
   ]
  },
  {
   "cell_type": "markdown",
   "metadata": {},
   "source": [
    "Note that in order for this to work, you must be in a subfolder of the repo such as 'week10-regression', otherwise you'll have to append the correct path above (instead of '../utils')\n",
    "\n",
    "If you want to use these functions for your project, it may be easier to copy and paste the functions directly into your project and use it from there."
   ]
  },
  {
   "cell_type": "code",
   "execution_count": 2,
   "metadata": {},
   "outputs": [],
   "source": [
    "a = [1,2,3]\n",
    "b = [3,4,5]"
   ]
  },
  {
   "cell_type": "code",
   "execution_count": 3,
   "metadata": {},
   "outputs": [],
   "source": [
    "def evaluate_linear_relationship(a, b):\n",
    "    \"\"\"\n",
    "\n",
    "    Evaluate the linear relationship between two variables via least squares \n",
    "    and return the slope, intercept, predictions and residuals of the model.\n",
    "\n",
    "    Parameters\n",
    "    ----------\n",
    "\n",
    "    a: list, numpy array or Pandas series\n",
    "        The independent variable\n",
    "    b: list, numpy array, or Pandas series\n",
    "        The dependent variable\n",
    "\n",
    "    Returns\n",
    "    -------\n",
    "\n",
    "    slope: float\n",
    "        The slope of the linear relationship\n",
    "    intercept: float\n",
    "        The intercept of the linear relationship\n",
    "    predictions: numpy array\n",
    "        A list of predicted values for b given a\n",
    "    residuals: numpy array\n",
    "        The absolute difference between the predicted values and actual values\n",
    "        of b\n",
    "\n",
    "\n",
    "    slope:\n",
    "    \"\"\"\n",
    "    assert (type(a) == list) or (type(a) == np.array) or (type(a) == pd.Series)\n",
    "    assert (type(b) == list) or (type(b) == np.array) or (type(b) == pd.Series)\n",
    "    if type(a) != np.array:\n",
    "        a = np.array(a)\n",
    "    if type(b) != np.array:\n",
    "        b = np.array(b)\n",
    "    slope = np.cov(a, b, bias=True)[0][1] / np.var(a)\n",
    "    intercept = np.mean(b) - (slope * np.mean(a))\n",
    "    predictions = (slope * a) + intercept\n",
    "    residuals = b - predictions\n",
    "    return slope, intercept, predictions, residuals"
   ]
  },
  {
   "cell_type": "code",
   "execution_count": 4,
   "metadata": {},
   "outputs": [],
   "source": [
    "#Using locally defined function\n",
    "slope, intercept, predictions, residuals = evaluate_linear_relationship(a, b)"
   ]
  },
  {
   "cell_type": "code",
   "execution_count": 5,
   "metadata": {},
   "outputs": [],
   "source": [
    "#Using function from utils function\n",
    "slope, intercept, predictions, residuals = utils.evaluate_linear_relationship(a, b)"
   ]
  },
  {
   "cell_type": "code",
   "execution_count": 6,
   "metadata": {},
   "outputs": [],
   "source": [
    "def pooled_variance(a, b):\n",
    "    \"\"\"\n",
    "\n",
    "    Return the pooled variance of two distributions for a two-sided T test.\n",
    "\n",
    "    Parameters\n",
    "    ----------\n",
    "\n",
    "    a: list, numpy array or Pandas series\n",
    "        The first distribution\n",
    "    b: list, numpy array, or Pandas series\n",
    "        The second distribution\n",
    "\n",
    "    Returns\n",
    "    -------\n",
    "\n",
    "    pooled_variance: float\n",
    "        The pooled variance of the two variables.\n",
    "    \"\"\"\n",
    "    return ((((len(a) - 1) * np.var(a, ddof=1)) + ((len(b) - 1) * np.var(b, ddof=1))) / (len(a) + len(b) - 2)) * ((1/len(a)) + 1/len(b))"
   ]
  },
  {
   "cell_type": "code",
   "execution_count": 7,
   "metadata": {},
   "outputs": [],
   "source": [
    "#Using locally defined function\n",
    "pooled_var = pooled_variance(a, b)"
   ]
  },
  {
   "cell_type": "code",
   "execution_count": 8,
   "metadata": {},
   "outputs": [],
   "source": [
    "#Using function defined from utils function\n",
    "pooled_var = utils.pooled_variance(a, b)"
   ]
  },
  {
   "cell_type": "code",
   "execution_count": 9,
   "metadata": {},
   "outputs": [],
   "source": [
    "def bootstrap_mean_diff(a, b, number_of_simulations=10000, seed_value=42):\n",
    "    \"\"\"\n",
    "\n",
    "    Run a bootstrap simulation and return an array of simulated differences\n",
    "    in the mean between two arrays (of a - b)\n",
    "\n",
    "    Parameters\n",
    "    ----------\n",
    "\n",
    "    a: list, numpy array or Pandas series\n",
    "        The first distribution\n",
    "    b: list, numpy array, or Pandas series\n",
    "        The second distribution\n",
    "    number_of_simulations: int, optional\n",
    "        The number of simulations to run. Default is 10,000.\n",
    "    seed_value: int, optional\n",
    "        The seed value to use for repeatable test results. Default is 42.\n",
    "\n",
    "    Returns\n",
    "    -------\n",
    "\n",
    "    pooled_variance: float\n",
    "        The pooled variance of the two variables.\n",
    "\n",
    "\n",
    "    \"\"\"\n",
    "    np.random.seed(seed_value)\n",
    "    diff = []\n",
    "    for i in range(number_of_simulations):\n",
    "        total = np.concatenate((a, b), axis=None)\n",
    "        np.random.shuffle(total)\n",
    "        new_a = total[:len(a)]\n",
    "        new_b = total[len(a):]\n",
    "        diff.append(np.mean(new_a) - np.mean(new_b))\n",
    "    return diff"
   ]
  },
  {
   "cell_type": "code",
   "execution_count": 10,
   "metadata": {},
   "outputs": [],
   "source": [
    "#Using locally defined function\n",
    "diff = bootstrap_mean_diff(a, b)"
   ]
  },
  {
   "cell_type": "code",
   "execution_count": 11,
   "metadata": {},
   "outputs": [],
   "source": [
    "#Using function defined from utils function\n",
    "diff = utils.bootstrap_mean_diff(a, b)"
   ]
  },
  {
   "cell_type": "code",
   "execution_count": null,
   "metadata": {},
   "outputs": [],
   "source": []
  }
 ],
 "metadata": {
  "kernelspec": {
   "display_name": "Python 3",
   "language": "python",
   "name": "python3"
  },
  "language_info": {
   "codemirror_mode": {
    "name": "ipython",
    "version": 3
   },
   "file_extension": ".py",
   "mimetype": "text/x-python",
   "name": "python",
   "nbconvert_exporter": "python",
   "pygments_lexer": "ipython3",
   "version": "3.7.3"
  }
 },
 "nbformat": 4,
 "nbformat_minor": 2
}
