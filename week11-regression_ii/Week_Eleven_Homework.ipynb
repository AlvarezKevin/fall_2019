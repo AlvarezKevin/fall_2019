{
 "cells": [
  {
   "cell_type": "markdown",
   "metadata": {},
   "source": [
    "# Kevin Alvarez CSC 217 Fall 2019 Homework 11"
   ]
  },
  {
   "cell_type": "code",
   "execution_count": 1,
   "metadata": {},
   "outputs": [],
   "source": [
    "import numpy as np\n",
    "import pandas as pd\n",
    "import matplotlib.pyplot as plt\n",
    "import scipy.stats as stats\n",
    "import seaborn as sns\n",
    "import statsmodels.formula.api as smf\n",
    "import os\n",
    "import sys\n",
    "sys.path.append(os.path.abspath(os.path.join(os.getcwd(), '../utils')))\n",
    "import _utils as utils\n",
    "%matplotlib inline"
   ]
  },
  {
   "cell_type": "markdown",
   "metadata": {},
   "source": [
    "This week, we'll be looking at a dataset showing the housing values in the suburbs of Boston. Every row is a different town.\n",
    "\n",
    "## Housing Values in Suburbs of Boston\n",
    "\n",
    "The medv variable is the target variable.\n",
    "\n",
    "Data description  \n",
    "The Boston data frame has **506 rows and 14 columns**.\n",
    "\n",
    "This data frame contains the following columns:\n",
    "\n",
    "**crim**  \n",
    "per capita crime rate by town.\n",
    "\n",
    "**zn**  \n",
    "proportion of residential land zoned for lots over 25,000 sq.ft.\n",
    "\n",
    "**indus**  \n",
    "proportion of non-retail business acres per town.\n",
    "\n",
    "**chas**  \n",
    "Charles River dummy variable (= 1 if tract bounds river; 0 otherwise).\n",
    "\n",
    "**nox**  \n",
    "nitrogen oxides concentration (parts per 10 million).\n",
    "\n",
    "**rm**  \n",
    "average number of rooms per dwelling.\n",
    "\n",
    "**age**  \n",
    "proportion of owner-occupied units built prior to 1940.\n",
    "\n",
    "**dis**  \n",
    "weighted mean of distances to five Boston employment centres.\n",
    "\n",
    "**rad**  \n",
    "index of accessibility to radial highways.\n",
    "\n",
    "**tax**  \n",
    "full-value property-tax rate per $10,000.\n",
    "\n",
    "**ptratio**   \n",
    "pupil-teacher ratio by town.\n",
    "\n",
    "**lstat**  \n",
    "lower status of the population (percent).\n",
    "\n",
    "**medv**  \n",
    "median value of owner-occupied homes in $1000s.\n",
    "\n",
    "I've also added:  \n",
    "\n",
    "**RM_Discrete**  \n",
    "1 if average number of rooms per dwelling is greater than 7, 0 if it's 7 or less"
   ]
  },
  {
   "cell_type": "code",
   "execution_count": 2,
   "metadata": {},
   "outputs": [
    {
     "data": {
      "text/html": [
       "<div>\n",
       "<style scoped>\n",
       "    .dataframe tbody tr th:only-of-type {\n",
       "        vertical-align: middle;\n",
       "    }\n",
       "\n",
       "    .dataframe tbody tr th {\n",
       "        vertical-align: top;\n",
       "    }\n",
       "\n",
       "    .dataframe thead th {\n",
       "        text-align: right;\n",
       "    }\n",
       "</style>\n",
       "<table border=\"1\" class=\"dataframe\">\n",
       "  <thead>\n",
       "    <tr style=\"text-align: right;\">\n",
       "      <th></th>\n",
       "      <th>CRIM</th>\n",
       "      <th>ZN</th>\n",
       "      <th>INDUS</th>\n",
       "      <th>CHAS</th>\n",
       "      <th>NOX</th>\n",
       "      <th>RM</th>\n",
       "      <th>AGE</th>\n",
       "      <th>DIS</th>\n",
       "      <th>RAD</th>\n",
       "      <th>TAX</th>\n",
       "      <th>PTRATIO</th>\n",
       "      <th>LSTAT</th>\n",
       "      <th>MEDV</th>\n",
       "      <th>RM_Discrete</th>\n",
       "    </tr>\n",
       "  </thead>\n",
       "  <tbody>\n",
       "    <tr>\n",
       "      <th>0</th>\n",
       "      <td>0.00632</td>\n",
       "      <td>18.0</td>\n",
       "      <td>2.31</td>\n",
       "      <td>0.0</td>\n",
       "      <td>0.538</td>\n",
       "      <td>6.575</td>\n",
       "      <td>65.2</td>\n",
       "      <td>4.0900</td>\n",
       "      <td>1.0</td>\n",
       "      <td>296.0</td>\n",
       "      <td>15.3</td>\n",
       "      <td>4.98</td>\n",
       "      <td>24.0</td>\n",
       "      <td>0</td>\n",
       "    </tr>\n",
       "    <tr>\n",
       "      <th>1</th>\n",
       "      <td>0.02731</td>\n",
       "      <td>0.0</td>\n",
       "      <td>7.07</td>\n",
       "      <td>0.0</td>\n",
       "      <td>0.469</td>\n",
       "      <td>6.421</td>\n",
       "      <td>78.9</td>\n",
       "      <td>4.9671</td>\n",
       "      <td>2.0</td>\n",
       "      <td>242.0</td>\n",
       "      <td>17.8</td>\n",
       "      <td>9.14</td>\n",
       "      <td>21.6</td>\n",
       "      <td>0</td>\n",
       "    </tr>\n",
       "    <tr>\n",
       "      <th>2</th>\n",
       "      <td>0.02729</td>\n",
       "      <td>0.0</td>\n",
       "      <td>7.07</td>\n",
       "      <td>0.0</td>\n",
       "      <td>0.469</td>\n",
       "      <td>7.185</td>\n",
       "      <td>61.1</td>\n",
       "      <td>4.9671</td>\n",
       "      <td>2.0</td>\n",
       "      <td>242.0</td>\n",
       "      <td>17.8</td>\n",
       "      <td>4.03</td>\n",
       "      <td>34.7</td>\n",
       "      <td>1</td>\n",
       "    </tr>\n",
       "    <tr>\n",
       "      <th>3</th>\n",
       "      <td>0.03237</td>\n",
       "      <td>0.0</td>\n",
       "      <td>2.18</td>\n",
       "      <td>0.0</td>\n",
       "      <td>0.458</td>\n",
       "      <td>6.998</td>\n",
       "      <td>45.8</td>\n",
       "      <td>6.0622</td>\n",
       "      <td>3.0</td>\n",
       "      <td>222.0</td>\n",
       "      <td>18.7</td>\n",
       "      <td>2.94</td>\n",
       "      <td>33.4</td>\n",
       "      <td>0</td>\n",
       "    </tr>\n",
       "    <tr>\n",
       "      <th>4</th>\n",
       "      <td>0.06905</td>\n",
       "      <td>0.0</td>\n",
       "      <td>2.18</td>\n",
       "      <td>0.0</td>\n",
       "      <td>0.458</td>\n",
       "      <td>7.147</td>\n",
       "      <td>54.2</td>\n",
       "      <td>6.0622</td>\n",
       "      <td>3.0</td>\n",
       "      <td>222.0</td>\n",
       "      <td>18.7</td>\n",
       "      <td>5.33</td>\n",
       "      <td>36.2</td>\n",
       "      <td>1</td>\n",
       "    </tr>\n",
       "  </tbody>\n",
       "</table>\n",
       "</div>"
      ],
      "text/plain": [
       "      CRIM    ZN  INDUS  CHAS    NOX     RM   AGE     DIS  RAD    TAX  \\\n",
       "0  0.00632  18.0   2.31   0.0  0.538  6.575  65.2  4.0900  1.0  296.0   \n",
       "1  0.02731   0.0   7.07   0.0  0.469  6.421  78.9  4.9671  2.0  242.0   \n",
       "2  0.02729   0.0   7.07   0.0  0.469  7.185  61.1  4.9671  2.0  242.0   \n",
       "3  0.03237   0.0   2.18   0.0  0.458  6.998  45.8  6.0622  3.0  222.0   \n",
       "4  0.06905   0.0   2.18   0.0  0.458  7.147  54.2  6.0622  3.0  222.0   \n",
       "\n",
       "   PTRATIO  LSTAT  MEDV  RM_Discrete  \n",
       "0     15.3   4.98  24.0            0  \n",
       "1     17.8   9.14  21.6            0  \n",
       "2     17.8   4.03  34.7            1  \n",
       "3     18.7   2.94  33.4            0  \n",
       "4     18.7   5.33  36.2            1  "
      ]
     },
     "execution_count": 2,
     "metadata": {},
     "output_type": "execute_result"
    }
   ],
   "source": [
    "boston = pd.read_csv('data/boston_dataset.csv')\n",
    "boston.head()"
   ]
  },
  {
   "cell_type": "markdown",
   "metadata": {},
   "source": [
    "1) First, let's look at the relationship between the RM variable and MEDV. How does the number of rooms per dwelling impact the median value of a home in a given town?\n",
    "\n",
    "Create a scatterplot between these two variables. Does this look like a strong correlation? Does the relationship look linear?"
   ]
  },
  {
   "cell_type": "code",
   "execution_count": 3,
   "metadata": {},
   "outputs": [
    {
     "data": {
      "text/plain": [
       "Text(0.5, 0.92, 'RM : MEDV Scattler Plot')"
      ]
     },
     "execution_count": 3,
     "metadata": {},
     "output_type": "execute_result"
    },
    {
     "data": {
      "image/png": "[encoded data removed]",
      "text/plain": [
       "<Figure size 720x720 with 1 Axes>"
      ]
     },
     "metadata": {
      "needs_background": "light"
     },
     "output_type": "display_data"
    }
   ],
   "source": [
    "fig = plt.figure(figsize=(10,10))\n",
    "plt.scatter(boston['RM'], boston['MEDV'])\n",
    "plt.xlabel('RM')\n",
    "plt.ylabel('MEDV')\n",
    "fig.suptitle('RM : MEDV Scattler Plot', fontsize=15, y=0.92)"
   ]
  },
  {
   "cell_type": "markdown",
   "metadata": {},
   "source": [
    "2) What is the correlation between these two variables?"
   ]
  },
  {
   "cell_type": "code",
   "execution_count": 4,
   "metadata": {},
   "outputs": [
    {
     "name": "stdout",
     "output_type": "stream",
     "text": [
      "Correlation: 0.6953599470715394\n"
     ]
    }
   ],
   "source": [
    "print('Correlation:', stats.pearsonr(boston['RM'], boston['MEDV'])[0])"
   ]
  },
  {
   "cell_type": "markdown",
   "metadata": {},
   "source": [
    "3) Now fit a regression between these two variables. What is the slope? What is the intercept? What is the R-squared value? Given the R-squared value, how well would you say the number of rooms can help you predict what the price of a home will be?"
   ]
  },
  {
   "cell_type": "code",
   "execution_count": 5,
   "metadata": {},
   "outputs": [
    {
     "name": "stdout",
     "output_type": "stream",
     "text": [
      "Intercept: -34.67062077643854\n",
      "Slope: 9.102108981180306\n",
      "R-Squared Value: 0.48352545599133323\n",
      "RMSE Value: 6.603071389222562\n"
     ]
    }
   ],
   "source": [
    "boston_slope, boston_intercept, boston_predictions, boston_residuals = utils.evaluate_linear_relationship(boston['RM'], boston['MEDV'])\n",
    "print('Intercept:', boston_intercept)\n",
    "print('Slope:', boston_slope)\n",
    "print('R-Squared Value:', utils.get_r2(boston_predictions, boston['MEDV']))\n",
    "print('RMSE Value:', utils.get_rmse(boston_predictions, boston['MEDV']))"
   ]
  },
  {
   "cell_type": "markdown",
   "metadata": {},
   "source": [
    "4) Now re-run this using the statsmodels OLS function (smf.ols). Are the results (slope, intercept, r-squared value) the same?"
   ]
  },
  {
   "cell_type": "code",
   "execution_count": 6,
   "metadata": {},
   "outputs": [
    {
     "data": {
      "text/html": [
       "<table class=\"simpletable\">\n",
       "<caption>OLS Regression Results</caption>\n",
       "<tr>\n",
       "  <th>Dep. Variable:</th>          <td>MEDV</td>       <th>  R-squared:         </th> <td>   0.484</td>\n",
       "</tr>\n",
       "<tr>\n",
       "  <th>Model:</th>                   <td>OLS</td>       <th>  Adj. R-squared:    </th> <td>   0.483</td>\n",
       "</tr>\n",
       "<tr>\n",
       "  <th>Method:</th>             <td>Least Squares</td>  <th>  F-statistic:       </th> <td>   471.8</td>\n",
       "</tr>\n",
       "<tr>\n",
       "  <th>Date:</th>             <td>Wed, 04 Dec 2019</td> <th>  Prob (F-statistic):</th> <td>2.49e-74</td>\n",
       "</tr>\n",
       "<tr>\n",
       "  <th>Time:</th>                 <td>17:42:31</td>     <th>  Log-Likelihood:    </th> <td> -1673.1</td>\n",
       "</tr>\n",
       "<tr>\n",
       "  <th>No. Observations:</th>      <td>   506</td>      <th>  AIC:               </th> <td>   3350.</td>\n",
       "</tr>\n",
       "<tr>\n",
       "  <th>Df Residuals:</th>          <td>   504</td>      <th>  BIC:               </th> <td>   3359.</td>\n",
       "</tr>\n",
       "<tr>\n",
       "  <th>Df Model:</th>              <td>     1</td>      <th>                     </th>     <td> </td>   \n",
       "</tr>\n",
       "<tr>\n",
       "  <th>Covariance Type:</th>      <td>nonrobust</td>    <th>                     </th>     <td> </td>   \n",
       "</tr>\n",
       "</table>\n",
       "<table class=\"simpletable\">\n",
       "<tr>\n",
       "      <td></td>         <th>coef</th>     <th>std err</th>      <th>t</th>      <th>P>|t|</th>  <th>[0.025</th>    <th>0.975]</th>  \n",
       "</tr>\n",
       "<tr>\n",
       "  <th>Intercept</th> <td>  -34.6706</td> <td>    2.650</td> <td>  -13.084</td> <td> 0.000</td> <td>  -39.877</td> <td>  -29.465</td>\n",
       "</tr>\n",
       "<tr>\n",
       "  <th>RM</th>        <td>    9.1021</td> <td>    0.419</td> <td>   21.722</td> <td> 0.000</td> <td>    8.279</td> <td>    9.925</td>\n",
       "</tr>\n",
       "</table>\n",
       "<table class=\"simpletable\">\n",
       "<tr>\n",
       "  <th>Omnibus:</th>       <td>102.585</td> <th>  Durbin-Watson:     </th> <td>   0.684</td> \n",
       "</tr>\n",
       "<tr>\n",
       "  <th>Prob(Omnibus):</th> <td> 0.000</td>  <th>  Jarque-Bera (JB):  </th> <td> 612.449</td> \n",
       "</tr>\n",
       "<tr>\n",
       "  <th>Skew:</th>          <td> 0.726</td>  <th>  Prob(JB):          </th> <td>1.02e-133</td>\n",
       "</tr>\n",
       "<tr>\n",
       "  <th>Kurtosis:</th>      <td> 8.190</td>  <th>  Cond. No.          </th> <td>    58.4</td> \n",
       "</tr>\n",
       "</table><br/><br/>Warnings:<br/>[1] Standard Errors assume that the covariance matrix of the errors is correctly specified."
      ],
      "text/plain": [
       "<class 'statsmodels.iolib.summary.Summary'>\n",
       "\"\"\"\n",
       "                            OLS Regression Results                            \n",
       "==============================================================================\n",
       "Dep. Variable:                   MEDV   R-squared:                       0.484\n",
       "Model:                            OLS   Adj. R-squared:                  0.483\n",
       "Method:                 Least Squares   F-statistic:                     471.8\n",
       "Date:                Wed, 04 Dec 2019   Prob (F-statistic):           2.49e-74\n",
       "Time:                        17:42:31   Log-Likelihood:                -1673.1\n",
       "No. Observations:                 506   AIC:                             3350.\n",
       "Df Residuals:                     504   BIC:                             3359.\n",
       "Df Model:                           1                                         \n",
       "Covariance Type:            nonrobust                                         \n",
       "==============================================================================\n",
       "                 coef    std err          t      P>|t|      [0.025      0.975]\n",
       "------------------------------------------------------------------------------\n",
       "Intercept    -34.6706      2.650    -13.084      0.000     -39.877     -29.465\n",
       "RM             9.1021      0.419     21.722      0.000       8.279       9.925\n",
       "==============================================================================\n",
       "Omnibus:                      102.585   Durbin-Watson:                   0.684\n",
       "Prob(Omnibus):                  0.000   Jarque-Bera (JB):              612.449\n",
       "Skew:                           0.726   Prob(JB):                    1.02e-133\n",
       "Kurtosis:                       8.190   Cond. No.                         58.4\n",
       "==============================================================================\n",
       "\n",
       "Warnings:\n",
       "[1] Standard Errors assume that the covariance matrix of the errors is correctly specified.\n",
       "\"\"\""
      ]
     },
     "execution_count": 6,
     "metadata": {},
     "output_type": "execute_result"
    }
   ],
   "source": [
    "est = smf.ols('MEDV ~ RM',boston).fit()\n",
    "est.summary()"
   ]
  },
  {
   "cell_type": "markdown",
   "metadata": {},
   "source": [
    "5) Now fit a regression between the 'RM_Discrete' variable and the 'MEDV' variable. What is the slope? What is the intercept? What is the interpretation of the slope? What is the R-squared value? Given the R-squared value, how well would you say this binary predictor can help you predict what the price of a home will be?"
   ]
  },
  {
   "cell_type": "code",
   "execution_count": 7,
   "metadata": {},
   "outputs": [
    {
     "name": "stdout",
     "output_type": "stream",
     "text": [
      "Intercept: 20.235746606334846\n",
      "Slope: 18.16112839366516\n",
      "R-Squared Value: 0.4316619841971687\n",
      "RMSE Value: 6.926676189973861\n"
     ]
    }
   ],
   "source": [
    "boston_slope, boston_intercept, boston_predictions, boston_residuals = utils.evaluate_linear_relationship(boston['RM_Discrete'], boston['MEDV'])\n",
    "print('Intercept:', boston_intercept)\n",
    "print('Slope:', boston_slope)\n",
    "print('R-Squared Value:', utils.get_r2(boston_predictions, boston['MEDV']))\n",
    "print('RMSE Value:', utils.get_rmse(boston_predictions, boston['MEDV']))"
   ]
  },
  {
   "cell_type": "markdown",
   "metadata": {},
   "source": [
    "6) Plot the residuals plot for this relationship. Do the residuals look heteroskedastic (not evenly distributed) or homoskedastic (evently distributed)? Remember that values will only show up as 0 or 1 on the x-axis, you are only looking at the distribution on the y-axis."
   ]
  },
  {
   "cell_type": "code",
   "execution_count": 8,
   "metadata": {},
   "outputs": [
    {
     "data": {
      "text/plain": [
       "Text(0.5, 0.92, 'Residuals')"
      ]
     },
     "execution_count": 8,
     "metadata": {},
     "output_type": "execute_result"
    },
    {
     "data": {
      "image/png": "[encoded data removed]",
      "text/plain": [
       "<Figure size 720x720 with 1 Axes>"
      ]
     },
     "metadata": {
      "needs_background": "light"
     },
     "output_type": "display_data"
    }
   ],
   "source": [
    "fig = plt.figure(figsize=(10,10))\n",
    "plt.scatter(boston['RM_Discrete'], boston_residuals)\n",
    "plt.plot([0, boston['RM_Discrete'].max()], [0,0], linestyle='dotted')\n",
    "plt.xlabel('RM_Discrete')\n",
    "plt.ylabel('Residuals')\n",
    "plt.xticks([0,1])\n",
    "fig.suptitle('Residuals', fontsize=15, y=0.92)"
   ]
  },
  {
   "cell_type": "markdown",
   "metadata": {},
   "source": [
    "7) Now let's look at the relationship between the 'LSAT' and 'MEDV' variable. How does the percentage of the 'lower status' of a population in a given town affect the median value of a home in that town?\n",
    "\n",
    "Create a scatterplot between these two variables. Does this look like a strong correlation? Does the relationship look linear?"
   ]
  },
  {
   "cell_type": "code",
   "execution_count": 9,
   "metadata": {},
   "outputs": [
    {
     "data": {
      "text/plain": [
       "Text(0.5, 0.92, 'LSAT : MEDV Scattler Plot')"
      ]
     },
     "execution_count": 9,
     "metadata": {},
     "output_type": "execute_result"
    },
    {
     "data": {
      "image/png": "[encoded data removed]",
      "text/plain": [
       "<Figure size 720x720 with 1 Axes>"
      ]
     },
     "metadata": {
      "needs_background": "light"
     },
     "output_type": "display_data"
    }
   ],
   "source": [
    "fig = plt.figure(figsize=(10,10))\n",
    "plt.scatter(boston['LSTAT'], boston['MEDV'])\n",
    "plt.xlabel('LSAT')\n",
    "plt.ylabel('MEDV')\n",
    "fig.suptitle('LSAT : MEDV Scattler Plot', fontsize=15, y=0.92)"
   ]
  },
  {
   "cell_type": "markdown",
   "metadata": {},
   "source": [
    "8) Now evaluate the RMSE between the relationship between the 'LSTAT' and 'MEDV' columns for the polynomials 1 through 20. Which degree of polynomial has the lowest corresponding RMSE?"
   ]
  },
  {
   "cell_type": "code",
   "execution_count": 10,
   "metadata": {},
   "outputs": [
    {
     "name": "stdout",
     "output_type": "stream",
     "text": [
      "Degree: 1 RMSE: 17.062926948526098\n",
      "Degree: 2 RMSE: 17.30017119004257\n",
      "Degree: 3 RMSE: 17.34191722277036\n",
      "Degree: 4 RMSE: 17.37878913014779\n",
      "Degree: 5 RMSE: 17.399851509550764\n",
      "Degree: 6 RMSE: 17.40225719889113\n",
      "Degree: 7 RMSE: 17.402471264705678\n",
      "Degree: 8 RMSE: 17.405042790987103\n",
      "Degree: 9 RMSE: 17.40906431203859\n",
      "Degree: 10 RMSE: 17.412117989645473\n",
      "Degree: 11 RMSE: 17.41716844864799\n",
      "Degree: 12 RMSE: 17.418134033962943\n",
      "Degree: 13 RMSE: 17.41899240196079\n",
      "Degree: 14 RMSE: 17.426663608455133\n",
      "Degree: 15 RMSE: 17.43095738228653\n",
      "Degree: 16 RMSE: 17.434305548606165\n",
      "Degree: 17 RMSE: 17.434773740705086\n",
      "Degree: 18 RMSE: 17.43499121663019\n",
      "Degree: 19 RMSE: 17.435346449461996\n",
      "Degree: 20 RMSE: 17.43534745090256\n",
      "MIN at degree 20 with RMSE: 17.062926948526098\n"
     ]
    },
    {
     "name": "stderr",
     "output_type": "stream",
     "text": [
      "C:\\Users\\kevin\\Anaconda3\\lib\\site-packages\\ipykernel_launcher.py:4: RankWarning: Polyfit may be poorly conditioned\n",
      "  after removing the cwd from sys.path.\n",
      "C:\\Users\\kevin\\Anaconda3\\lib\\site-packages\\ipykernel_launcher.py:4: RankWarning: Polyfit may be poorly conditioned\n",
      "  after removing the cwd from sys.path.\n",
      "C:\\Users\\kevin\\Anaconda3\\lib\\site-packages\\ipykernel_launcher.py:4: RankWarning: Polyfit may be poorly conditioned\n",
      "  after removing the cwd from sys.path.\n"
     ]
    }
   ],
   "source": [
    "min_degree = 1\n",
    "min_rmse = 200000\n",
    "for i in range(1,21):\n",
    "    order_variables = np.polyfit(boston['LSTAT'], boston['MEDV'], i)\n",
    "    order_function = np.poly1d(order_variables)\n",
    "    order_predictions = order_function(boston['LSTAT'])\n",
    "    rmse = utils.get_rmse(order_predictions, boston['LSTAT'])\n",
    "    if(rmse < min_rmse):\n",
    "        min_degree = i\n",
    "        min_rmse = rmse\n",
    "    print('Degree:', i , 'RMSE:',rmse)\n",
    "print('MIN at degree',i,'with RMSE:',min_rmse)"
   ]
  },
  {
   "cell_type": "markdown",
   "metadata": {},
   "source": [
    "9) Now split the dataset into training and testing sets like we did in class, and evaluate the RMSE for both the training and testing sets. Plot a graph showing the corresponding RMSE values for the training and testing sets. At what degree polynomial do we approximately have the RMSE for the training and testing sets? Remember that we are not looking for the absolute lowest values necessarily, just the point at which the RMSE doesn't seem to be notably improving any further, and certainly not going higher in either the training or testing sets. Feel free to use both a dataframe and graph to analyze this."
   ]
  },
  {
   "cell_type": "code",
   "execution_count": 11,
   "metadata": {},
   "outputs": [
    {
     "name": "stdout",
     "output_type": "stream",
     "text": [
      "train_values - LSTAT: [ 4.98  4.03  2.94  5.33  5.21 12.43 19.15 29.93 17.1  20.45 13.27 15.71\n",
      " 10.26  8.47  6.58 14.67 11.69 11.28 18.72 19.88 16.3  16.51 14.81 17.28\n",
      " 12.8  11.98 22.6  13.04 27.71 18.35  9.68 11.41  8.77 10.13  4.32  1.98\n",
      "  4.84  5.81  9.55 10.21 14.15 18.8   9.43  4.81  5.77  3.95  9.22 13.15\n",
      " 14.44  6.73  9.5   8.05  4.67 10.24  8.1  13.09  8.79  6.72  5.52  7.54\n",
      "  6.78  8.94 11.97 10.27 12.34  9.1   7.22  6.72  7.51  9.62  6.53 12.86\n",
      "  5.7   8.81  8.16  6.21 10.59  6.65 11.34  4.21  3.57  9.42  7.67 13.44\n",
      " 12.33 14.09 12.27 15.55 13.   10.16 16.21 17.09 10.45 15.76 12.04 10.3\n",
      " 15.37 13.61 14.37 17.93 25.41 17.58 14.81 27.26 17.19 15.39 18.34 12.26\n",
      " 11.12 15.03 16.96 16.9  14.59 21.32 18.46 24.16 34.41 26.82 26.42 29.29\n",
      " 27.8  16.65 29.53 28.32 14.1  12.12 15.79 15.12 15.02 16.14  4.59  6.43\n",
      "  7.39  1.92  3.32 11.64  9.81 12.14 11.1  14.43 12.03 14.69  9.04  5.33\n",
      " 10.11  6.29  6.92  5.04  7.56  9.45  4.82  5.68 13.98 13.15  4.45  2.87\n",
      "  5.03  4.38  2.97  4.08  8.61  6.62  4.56  4.45  7.43  3.11  3.81  2.88\n",
      " 10.97 18.06 14.66 23.09 17.27 23.98 16.03  9.38  9.47 13.51 17.92 10.5\n",
      "  9.71 21.46  9.93  7.6   4.14  4.63  3.13  6.36  3.92  3.76 11.65  5.25\n",
      "  2.47  3.95  8.05  9.54  4.73  6.36  7.37 11.38 11.22 12.5  18.46  9.16\n",
      " 10.15  9.52  6.56  5.9   3.59  3.54  6.57  9.25  3.11  7.79  9.59  7.26\n",
      "  5.91 10.45 14.79  7.44  3.16 13.65  6.59  7.73  3.53  2.98  4.16  7.19\n",
      "  4.85  3.76  4.59  3.01  3.16  7.85  8.23 12.93  7.14  7.6   9.51  3.33\n",
      "  3.56  4.7  10.4   6.27  7.39 15.84  4.97  4.74  6.07  9.5   8.67  4.86\n",
      "  6.93  8.93  7.53 12.64  5.98 11.72  9.28 18.33 15.94 10.36  7.2   6.87\n",
      "  7.7  11.74  6.12  5.08  6.15 12.79  7.34 12.43  7.83  5.68  6.75  8.01\n",
      "  9.8  10.56  8.51  9.29  5.49  8.65 12.67  6.36  5.89  5.98  5.49  7.79\n",
      "  4.5   8.05  5.57 17.6  13.27 11.48  7.79 14.19 10.19  5.29  7.12 13.33\n",
      "  3.26  3.73  2.96  9.53 34.77 37.97 13.44 23.24 21.24 23.69 21.78 17.21\n",
      " 21.08 23.6  24.56 30.63 28.28 30.62 17.11 18.76 25.68 15.17 16.35 17.12\n",
      " 19.37 19.92 30.59 29.97 26.77 20.31 19.77 27.38 22.98 23.34 12.13 26.4\n",
      " 19.78 10.11 21.22 34.37 36.98 29.05 25.79 26.64 20.62 15.02 15.7  14.1\n",
      " 23.29 17.16 24.39 15.69 21.52 24.08 19.69 12.03 16.22 15.17 18.05 26.45\n",
      " 34.02 22.88 22.11 19.52 16.59 23.79 17.79 16.44 18.13 19.31 17.44 17.73\n",
      " 17.27 16.74 18.13 19.01 16.94 16.42 14.65 13.99 13.22 14.13 21.32 18.13\n",
      " 14.76 16.29 12.87 14.36 11.66 24.91 18.03 13.11 10.74  7.74  7.01 10.42\n",
      " 10.58 14.98 11.45 18.06 23.97 29.68 13.35 12.01 13.59 17.6  21.14 14.1\n",
      " 12.92 15.1  14.33  9.67  9.08  5.64]\n",
      "test_values - LSTAT: [10.63 23.27  5.99 13.   18.66  9.88  4.56 21.02 10.63 14.27 17.15 29.55\n",
      "  9.09 16.23  8.44  8.88  6.19 12.67 13.28 12.6  21.45  4.54  5.12  7.18\n",
      " 18.07 20.08  8.58 30.81  4.69 18.85  6.05  5.5  14.7   7.9  13.83  3.53\n",
      " 10.88  4.61 30.81 18.14  6.86 11.32 24.1   6.68 10.29 13.    5.39 23.98\n",
      "  9.64 23.98 13.45 14.64 14.8   5.19 12.73  6.48 12.6  13.34  6.47 17.31\n",
      " 21.02  9.97  3.7   6.58 31.99  5.5  11.5   8.26 12.4   7.88  8.1  10.53\n",
      "  5.28 30.81  9.74  8.2  14.   18.85 18.71 14.52 11.25 17.64 20.34 10.87\n",
      "  5.29 22.74 16.2  12.67 31.99  9.14 20.85  8.43 16.47  6.9   9.97 18.68\n",
      "  5.1  20.32  9.69  7.44  1.73]\n",
      "train_values - MEDV: [24.  34.7 33.4 36.2 28.7 22.9 27.1 16.5 18.9 15.  18.9 21.7 18.2 19.9\n",
      " 23.1 17.5 20.2 18.2 15.2 14.5 15.6 13.9 16.6 14.8 18.4 21.  12.7 14.5\n",
      " 13.2 13.1 18.9 20.  21.  24.7 30.8 34.9 26.6 25.3 21.2 19.3 20.  16.6\n",
      " 20.5 35.4 24.7 31.6 19.6 18.7 16.  22.2 25.  33.  23.5 19.4 22.  17.4\n",
      " 20.9 24.2 22.8 23.4 24.1 21.4 20.  20.8 21.2 20.3 23.9 24.8 22.9 23.9\n",
      " 26.6 22.5 28.7 22.6 22.9 25.  20.6 28.4 21.4 38.7 43.8 27.5 26.5 19.3\n",
      " 20.1 20.4 19.8 19.4 21.7 22.8 18.8 18.7 18.5 18.3 21.2 19.2 20.4 19.3\n",
      " 22.  20.5 17.3 18.8 21.4 15.7 16.2 18.  14.3 19.6 23.  18.4 18.1 17.4\n",
      " 17.1 13.3 17.8 14.  14.4 13.4 15.6 11.8 13.8 15.6 14.6 17.8 21.5 15.3\n",
      " 19.4 17.  15.6 13.1 41.3 24.3 23.3 50.  50.  22.7 25.  23.8 23.8 17.4\n",
      " 19.1 23.1 23.6 29.4 23.2 24.6 29.9 37.2 39.8 36.2 37.9 32.5 26.4 29.6\n",
      " 50.  36.4 31.1 29.1 50.  33.3 30.3 34.6 34.9 32.9 24.1 42.3 48.5 50.\n",
      " 24.4 22.5 24.4 20.  21.7 19.3 22.4 28.1 25.  23.3 21.5 23.  26.7 21.7\n",
      " 27.5 30.1 44.8 50.  37.6 31.6 46.7 31.5 24.3 31.7 41.7 48.3 29.  25.1\n",
      " 31.5 23.7 23.3 22.  22.2 17.6 18.5 24.3 20.5 24.5 26.2 24.4 24.8 42.8\n",
      " 21.9 20.9 44.  36.  33.8 43.1 48.8 22.8 30.7 50.  43.5 20.7 25.2 24.4\n",
      " 32.4 32.  33.1 29.1 35.1 45.4 35.4 46.  50.  32.2 22.  20.1 23.2 22.3\n",
      " 24.8 28.5 37.3 27.9 21.7 28.6 27.1 20.3 22.5 29.  24.8 22.  26.4 33.1\n",
      " 36.1 28.4 28.2 16.1 22.1 19.4 23.8 17.8 19.8 23.1 23.8 23.1 20.4 18.5\n",
      " 25.  24.6 23.  22.2 22.6 17.1 19.4 22.2 20.7 21.1 19.5 18.5 20.6 18.7\n",
      " 32.7 16.5 17.2 23.1 26.6 22.9 24.1 18.6 30.1 18.2 20.6 17.8 21.7 22.7\n",
      " 25.  19.9 20.8 21.9 27.5 23.1 50.  50.  50.  50.  13.8 13.8 15.  13.9\n",
      " 13.3 13.1 10.2 10.4 10.9 11.3 12.3  8.8 10.5 10.2 15.1 23.2  9.7 13.8\n",
      " 12.7 13.1 12.5  8.5  5.   6.3  5.6 12.1  8.3  8.5  5.  11.9 27.9 17.2\n",
      " 27.5 15.  17.2 17.9  7.   7.2  7.5 10.4  8.8 16.7 14.2 20.8 13.4 11.7\n",
      "  8.3 10.2 11.   9.5 14.1 16.1 14.3 11.7  9.6  8.7  8.4 12.8 10.5 17.1\n",
      " 18.4 10.8 14.9 12.6 14.1 13.  13.4 15.2 16.1 17.8 14.1 12.7 13.5 16.4\n",
      " 17.7 19.5 21.4 19.9 19.1 19.1 20.1 19.9 19.6 23.2 29.8 12.  14.6 21.4\n",
      " 23.  23.7 25.  21.8 21.2 19.1 20.6 15.2  7.   8.1 20.1 21.8 24.5 23.1\n",
      " 19.7 18.3 21.2 17.5 16.8 22.4 20.6 23.9]\n",
      "test_values - MEDV: [18.6 13.4 24.5 21.1 19.5 21.7 29.8 13.6 18.6 20.3 19.  23.7 19.8 14.9\n",
      " 22.2 50.  33.2 22.6 19.6 19.2 15.4 22.8 50.  23.9 13.6 16.3 23.9  7.2\n",
      " 30.5 15.4 33.2 27.  20.  21.6 19.6 29.6 24.  31.2 14.4 13.8 23.3 22.3\n",
      " 13.3 32.  20.2 21.1 34.9 11.8 22.6 11.8 19.7 16.8 18.9 23.7 21.  22.\n",
      " 19.2 20.6 33.4 15.6 13.6 19.3 50.  35.2  7.4 23.6 16.2 20.4 20.1 11.9\n",
      " 36.5 17.5 25.   7.2 19.  22.  21.9 15.4 14.9 10.9 31.  14.5 13.5 22.6\n",
      " 28.   8.4 19.4 22.6  7.4 21.6 11.5 23.4 19.5 30.1 20.3 16.7 37.   7.2\n",
      " 28.7 24.7 50. ]\n"
     ]
    }
   ],
   "source": [
    "x_train, x_test, y_train, y_test = utils.get_train_test(boston['LSTAT'], boston['MEDV'])\n",
    "print('train_values - LSTAT:', x_train)\n",
    "print('test_values - LSTAT:', x_test)\n",
    "print('train_values - MEDV:', y_train)\n",
    "print('test_values - MEDV:', y_test)"
   ]
  },
  {
   "cell_type": "code",
   "execution_count": 12,
   "metadata": {},
   "outputs": [
    {
     "name": "stderr",
     "output_type": "stream",
     "text": [
      "C:\\Users\\kevin\\Anaconda3\\lib\\site-packages\\ipykernel_launcher.py:6: RankWarning: Polyfit may be poorly conditioned\n",
      "  \n",
      "C:\\Users\\kevin\\Anaconda3\\lib\\site-packages\\ipykernel_launcher.py:6: RankWarning: Polyfit may be poorly conditioned\n",
      "  \n",
      "C:\\Users\\kevin\\Anaconda3\\lib\\site-packages\\ipykernel_launcher.py:6: RankWarning: Polyfit may be poorly conditioned\n",
      "  \n"
     ]
    },
    {
     "data": {
      "text/html": [
       "<div>\n",
       "<style scoped>\n",
       "    .dataframe tbody tr th:only-of-type {\n",
       "        vertical-align: middle;\n",
       "    }\n",
       "\n",
       "    .dataframe tbody tr th {\n",
       "        vertical-align: top;\n",
       "    }\n",
       "\n",
       "    .dataframe thead th {\n",
       "        text-align: right;\n",
       "    }\n",
       "</style>\n",
       "<table border=\"1\" class=\"dataframe\">\n",
       "  <thead>\n",
       "    <tr style=\"text-align: right;\">\n",
       "      <th></th>\n",
       "      <th>polynomials</th>\n",
       "      <th>train_rmse</th>\n",
       "      <th>test_rmse</th>\n",
       "    </tr>\n",
       "  </thead>\n",
       "  <tbody>\n",
       "    <tr>\n",
       "      <th>0</th>\n",
       "      <td>1</td>\n",
       "      <td>6.174272</td>\n",
       "      <td>6.103443</td>\n",
       "    </tr>\n",
       "    <tr>\n",
       "      <th>1</th>\n",
       "      <td>2</td>\n",
       "      <td>5.442966</td>\n",
       "      <td>5.601236</td>\n",
       "    </tr>\n",
       "    <tr>\n",
       "      <th>2</th>\n",
       "      <td>3</td>\n",
       "      <td>5.300723</td>\n",
       "      <td>5.503173</td>\n",
       "    </tr>\n",
       "    <tr>\n",
       "      <th>3</th>\n",
       "      <td>4</td>\n",
       "      <td>5.153035</td>\n",
       "      <td>5.464241</td>\n",
       "    </tr>\n",
       "    <tr>\n",
       "      <th>4</th>\n",
       "      <td>5</td>\n",
       "      <td>5.085287</td>\n",
       "      <td>5.411756</td>\n",
       "    </tr>\n",
       "    <tr>\n",
       "      <th>5</th>\n",
       "      <td>6</td>\n",
       "      <td>5.078756</td>\n",
       "      <td>5.392248</td>\n",
       "    </tr>\n",
       "    <tr>\n",
       "      <th>6</th>\n",
       "      <td>7</td>\n",
       "      <td>5.078702</td>\n",
       "      <td>5.391001</td>\n",
       "    </tr>\n",
       "    <tr>\n",
       "      <th>7</th>\n",
       "      <td>8</td>\n",
       "      <td>5.063041</td>\n",
       "      <td>5.400141</td>\n",
       "    </tr>\n",
       "    <tr>\n",
       "      <th>8</th>\n",
       "      <td>9</td>\n",
       "      <td>5.032776</td>\n",
       "      <td>5.509465</td>\n",
       "    </tr>\n",
       "    <tr>\n",
       "      <th>9</th>\n",
       "      <td>10</td>\n",
       "      <td>5.019640</td>\n",
       "      <td>5.513379</td>\n",
       "    </tr>\n",
       "    <tr>\n",
       "      <th>10</th>\n",
       "      <td>11</td>\n",
       "      <td>4.987707</td>\n",
       "      <td>5.576638</td>\n",
       "    </tr>\n",
       "    <tr>\n",
       "      <th>11</th>\n",
       "      <td>12</td>\n",
       "      <td>4.986634</td>\n",
       "      <td>5.556084</td>\n",
       "    </tr>\n",
       "    <tr>\n",
       "      <th>12</th>\n",
       "      <td>13</td>\n",
       "      <td>4.982803</td>\n",
       "      <td>5.568246</td>\n",
       "    </tr>\n",
       "    <tr>\n",
       "      <th>13</th>\n",
       "      <td>14</td>\n",
       "      <td>4.956124</td>\n",
       "      <td>5.551543</td>\n",
       "    </tr>\n",
       "    <tr>\n",
       "      <th>14</th>\n",
       "      <td>15</td>\n",
       "      <td>4.934374</td>\n",
       "      <td>5.493989</td>\n",
       "    </tr>\n",
       "    <tr>\n",
       "      <th>15</th>\n",
       "      <td>16</td>\n",
       "      <td>4.922533</td>\n",
       "      <td>5.487087</td>\n",
       "    </tr>\n",
       "    <tr>\n",
       "      <th>16</th>\n",
       "      <td>17</td>\n",
       "      <td>4.921832</td>\n",
       "      <td>5.495801</td>\n",
       "    </tr>\n",
       "    <tr>\n",
       "      <th>17</th>\n",
       "      <td>18</td>\n",
       "      <td>4.921112</td>\n",
       "      <td>5.499233</td>\n",
       "    </tr>\n",
       "    <tr>\n",
       "      <th>18</th>\n",
       "      <td>19</td>\n",
       "      <td>4.920155</td>\n",
       "      <td>5.505745</td>\n",
       "    </tr>\n",
       "    <tr>\n",
       "      <th>19</th>\n",
       "      <td>20</td>\n",
       "      <td>4.917628</td>\n",
       "      <td>5.566114</td>\n",
       "    </tr>\n",
       "  </tbody>\n",
       "</table>\n",
       "</div>"
      ],
      "text/plain": [
       "    polynomials  train_rmse  test_rmse\n",
       "0             1    6.174272   6.103443\n",
       "1             2    5.442966   5.601236\n",
       "2             3    5.300723   5.503173\n",
       "3             4    5.153035   5.464241\n",
       "4             5    5.085287   5.411756\n",
       "5             6    5.078756   5.392248\n",
       "6             7    5.078702   5.391001\n",
       "7             8    5.063041   5.400141\n",
       "8             9    5.032776   5.509465\n",
       "9            10    5.019640   5.513379\n",
       "10           11    4.987707   5.576638\n",
       "11           12    4.986634   5.556084\n",
       "12           13    4.982803   5.568246\n",
       "13           14    4.956124   5.551543\n",
       "14           15    4.934374   5.493989\n",
       "15           16    4.922533   5.487087\n",
       "16           17    4.921832   5.495801\n",
       "17           18    4.921112   5.499233\n",
       "18           19    4.920155   5.505745\n",
       "19           20    4.917628   5.566114"
      ]
     },
     "execution_count": 12,
     "metadata": {},
     "output_type": "execute_result"
    }
   ],
   "source": [
    "polynomials = []\n",
    "train_rmse = []\n",
    "test_rmse = []\n",
    "for i in range(1, 21):\n",
    "    polynomials.append(i)\n",
    "    variables = np.polyfit(x_train, y_train, i)\n",
    "    function = np.poly1d(variables)\n",
    "    train_predictions = function(x_train)\n",
    "    train_rmse.append(utils.get_rmse(train_predictions, y_train))\n",
    "    test_predictions = function(x_test)\n",
    "    test_rmse.append(utils.get_rmse(test_predictions, y_test))\n",
    "df = pd.DataFrame()\n",
    "df['polynomials'] = polynomials\n",
    "df['train_rmse'] = train_rmse\n",
    "df['test_rmse'] = test_rmse\n",
    "df"
   ]
  },
  {
   "cell_type": "code",
   "execution_count": 13,
   "metadata": {},
   "outputs": [
    {
     "data": {
      "text/plain": [
       "<matplotlib.legend.Legend at 0x2385f96d358>"
      ]
     },
     "execution_count": 13,
     "metadata": {},
     "output_type": "execute_result"
    },
    {
     "data": {
      "image/png": "[encoded data removed]",
      "text/plain": [
       "<Figure size 720x720 with 1 Axes>"
      ]
     },
     "metadata": {
      "needs_background": "light"
     },
     "output_type": "display_data"
    }
   ],
   "source": [
    "fig = plt.figure(figsize=(10,10))\n",
    "plt.plot(df['polynomials'], df['train_rmse'], label='train')\n",
    "plt.plot(df['polynomials'], df['test_rmse'], label='test')\n",
    "plt.xticks(range(1,20))\n",
    "plt.xlabel('Degree of Polynomial')\n",
    "plt.ylabel('RMSE')\n",
    "fig.suptitle('RMSE By Polynomial Degree for Training and Testing', fontsize=15, y=0.92)\n",
    "plt.legend()"
   ]
  },
  {
   "cell_type": "markdown",
   "metadata": {},
   "source": [
    "10) Using seaborn's 'pairplot' function, run a pairplot of this dataset and look at the relationship between the 'MEDV' variable and the other continuous varibles in the dataset. Which variables does MEDV look to have the strongest (positive) correlation with?"
   ]
  },
  {
   "cell_type": "code",
   "execution_count": null,
   "metadata": {},
   "outputs": [
    {
     "data": {
      "text/plain": [
       "<seaborn.axisgrid.PairGrid at 0x2385f9a5908>"
      ]
     },
     "execution_count": 14,
     "metadata": {},
     "output_type": "execute_result"
    }
   ],
   "source": [
    "sns.pairplot(boston)"
   ]
  },
  {
   "cell_type": "markdown",
   "metadata": {},
   "source": [
    "BONUS: 11) Now run a multivariate regression using the following variables as predictors:\n",
    "\n",
    "ZN, INDUS, CHAS, NOX, RM, AGE, DIS, RAD, TAX, PTRATIO, B, LSTAT\n",
    "\n",
    "Against MEDV as a response variable.\n",
    "\n",
    "Which of these varibles have a statistically significant slope? What is the total R-squared value of the model?"
   ]
  },
  {
   "cell_type": "code",
   "execution_count": null,
   "metadata": {},
   "outputs": [],
   "source": [
    "est = smf.ols('MEDV ~ ZN + INDUS + CHAS + NOX + RM + AGE + DIS + RAD + TAX + PTRATIO + LSTAT', boston).fit()\n",
    "est.summary()"
   ]
  },
  {
   "cell_type": "code",
   "execution_count": null,
   "metadata": {},
   "outputs": [],
   "source": []
  }
 ],
 "metadata": {
  "kernelspec": {
   "display_name": "Python 3",
   "language": "python",
   "name": "python3"
  },
  "language_info": {
   "codemirror_mode": {
    "name": "ipython",
    "version": 3
   },
   "file_extension": ".py",
   "mimetype": "text/x-python",
   "name": "python",
   "nbconvert_exporter": "python",
   "pygments_lexer": "ipython3",
   "version": "3.7.3"
  }
 },
 "nbformat": 4,
 "nbformat_minor": 4
}
