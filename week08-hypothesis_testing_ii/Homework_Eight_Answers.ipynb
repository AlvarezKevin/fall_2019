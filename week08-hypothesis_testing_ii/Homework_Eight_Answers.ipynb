{
 "cells": [
  {
   "cell_type": "code",
   "execution_count": 1,
   "metadata": {},
   "outputs": [],
   "source": [
    "import pandas as pd\n",
    "import numpy as np\n",
    "import scipy.stats as stats\n",
    "import matplotlib.pyplot as plt\n",
    "import json\n",
    "%matplotlib inline"
   ]
  },
  {
   "cell_type": "markdown",
   "metadata": {},
   "source": [
    "There are two leagues in Major League Baseball, the **American League** and the **National League**. Some people have the assumption that the AL has better starting pitching than the NL.\n",
    "\n",
    "We can use *Wins Above Replacement* (shortened to WAR), a summary statistic for pitchers (and batters) in baseball, to assert whether this claim is true or not. The higher the WAR for a given pitcher, the better.\n",
    "\n",
    "Below we'll load in a JSON file that has the WAR statistic for 455 pitchers in the AL and 425 pitchers in the NL."
   ]
  },
  {
   "cell_type": "code",
   "execution_count": 2,
   "metadata": {},
   "outputs": [],
   "source": [
    "with open('data/baseball_WARs.json', 'r') as fp:\n",
    "    baseball_WARs = json.load(fp)"
   ]
  },
  {
   "cell_type": "markdown",
   "metadata": {},
   "source": [
    "We can load in the JSON file into a dictionary that has two lists, named NL and AL. Each list contains all of the WAR values for all of the pitchers in either league in the 2019 season."
   ]
  },
  {
   "cell_type": "code",
   "execution_count": 3,
   "metadata": {},
   "outputs": [
    {
     "name": "stdout",
     "output_type": "stream",
     "text": [
      "AL\n",
      "NL\n"
     ]
    },
    {
     "data": {
      "text/plain": [
       "[None, None]"
      ]
     },
     "execution_count": 3,
     "metadata": {},
     "output_type": "execute_result"
    }
   ],
   "source": [
    "[print(i) for i in baseball_WARs]"
   ]
  },
  {
   "cell_type": "markdown",
   "metadata": {},
   "source": [
    "1. Show the histograms and boxplots for each of the leagues. What do each of the distributions look like? Are there outliers? Can we assume each of the distributions is normal?"
   ]
  },
  {
   "cell_type": "code",
   "execution_count": 4,
   "metadata": {},
   "outputs": [
    {
     "data": {
      "text/plain": [
       "(array([  1.,  64., 271.,  64.,  35.,  10.,   2.,   3.,   1.,   4.]),\n",
       " array([-2.4 , -1.38, -0.36,  0.66,  1.68,  2.7 ,  3.72,  4.74,  5.76,\n",
       "         6.78,  7.8 ]),\n",
       " <a list of 10 Patch objects>)"
      ]
     },
     "execution_count": 4,
     "metadata": {},
     "output_type": "execute_result"
    },
    {
     "data": {
      "image/png": "[encoded data removed]",
      "text/plain": [
       "<Figure size 432x288 with 1 Axes>"
      ]
     },
     "metadata": {
      "needs_background": "light"
     },
     "output_type": "display_data"
    }
   ],
   "source": [
    "plt.hist(baseball_WARs['AL'])"
   ]
  },
  {
   "cell_type": "code",
   "execution_count": 5,
   "metadata": {},
   "outputs": [
    {
     "data": {
      "text/plain": [
       "(array([  4.,  74., 217.,  74.,  24.,  15.,   7.,   3.,   6.,   1.]),\n",
       " array([-2.3 , -1.34, -0.38,  0.58,  1.54,  2.5 ,  3.46,  4.42,  5.38,\n",
       "         6.34,  7.3 ]),\n",
       " <a list of 10 Patch objects>)"
      ]
     },
     "execution_count": 5,
     "metadata": {},
     "output_type": "execute_result"
    },
    {
     "data": {
      "image/png": "[encoded data removed]",
      "text/plain": [
       "<Figure size 432x288 with 1 Axes>"
      ]
     },
     "metadata": {
      "needs_background": "light"
     },
     "output_type": "display_data"
    }
   ],
   "source": [
    "plt.hist(baseball_WARs['NL'])"
   ]
  },
  {
   "cell_type": "markdown",
   "metadata": {},
   "source": [
    "The distributions look to have a positive skew, and are thus not necessarily normal."
   ]
  },
  {
   "cell_type": "code",
   "execution_count": 6,
   "metadata": {},
   "outputs": [
    {
     "data": {
      "text/plain": [
       "{'whiskers': [<matplotlib.lines.Line2D at 0x1a1b097630>,\n",
       "  <matplotlib.lines.Line2D at 0x1a1b0979e8>,\n",
       "  <matplotlib.lines.Line2D at 0x1a1b0a4e48>,\n",
       "  <matplotlib.lines.Line2D at 0x1a1b0a4f28>],\n",
       " 'caps': [<matplotlib.lines.Line2D at 0x1a1b097d30>,\n",
       "  <matplotlib.lines.Line2D at 0x1a1b097e10>,\n",
       "  <matplotlib.lines.Line2D at 0x1a1b11b518>,\n",
       "  <matplotlib.lines.Line2D at 0x1a1b11b860>],\n",
       " 'boxes': [<matplotlib.lines.Line2D at 0x1a1b097208>,\n",
       "  <matplotlib.lines.Line2D at 0x1a1b0a4b00>],\n",
       " 'medians': [<matplotlib.lines.Line2D at 0x1a1b0a4400>,\n",
       "  <matplotlib.lines.Line2D at 0x1a1b11bba8>],\n",
       " 'fliers': [<matplotlib.lines.Line2D at 0x1a1b0a4748>,\n",
       "  <matplotlib.lines.Line2D at 0x1a1b11bef0>],\n",
       " 'means': []}"
      ]
     },
     "execution_count": 6,
     "metadata": {},
     "output_type": "execute_result"
    },
    {
     "data": {
      "image/png": "[encoded data removed]",
      "text/plain": [
       "<Figure size 432x288 with 1 Axes>"
      ]
     },
     "metadata": {
      "needs_background": "light"
     },
     "output_type": "display_data"
    }
   ],
   "source": [
    "plt.boxplot([baseball_WARs['NL'], baseball_WARs['AL']], labels=['NL', 'AL'])"
   ]
  },
  {
   "cell_type": "markdown",
   "metadata": {},
   "source": [
    "2. Say that we want to first see if the average WAR in each of the leagues is the same, or are *different* from each other. In this case, what is our null hypothesis and our alternate hypothesis?"
   ]
  },
  {
   "cell_type": "markdown",
   "metadata": {},
   "source": [
    "Null Hypothesis: Pitchers in the NL and AL have the same mean WAR.  \n",
    "Alternate Hypothesis: Pitchers in the NL and AL do not have the same mean WAR."
   ]
  },
  {
   "cell_type": "markdown",
   "metadata": {},
   "source": [
    "3. Using the pooled variance function below, find the pooled variance and pooled standard deviation of the two leagues."
   ]
  },
  {
   "cell_type": "code",
   "execution_count": 7,
   "metadata": {},
   "outputs": [],
   "source": [
    "def custom_pooled_variance(a, b):\n",
    "    return ((((len(a) - 1) * np.var(a, ddof=1)) + ((len(b) - 1) * np.var(b, ddof=1))) / (len(a) + len(b) - 2)) * ((1/len(a)) + 1/len(b))"
   ]
  },
  {
   "cell_type": "code",
   "execution_count": 8,
   "metadata": {},
   "outputs": [
    {
     "name": "stdout",
     "output_type": "stream",
     "text": [
      "Pooled Variance: 0.01\n",
      "Pooled Standard Deviation: 0.08\n"
     ]
    }
   ],
   "source": [
    "pooled_var = custom_pooled_variance(baseball_WARs['NL'], baseball_WARs['AL'])\n",
    "print('Pooled Variance:', np.round(pooled_var, 2))\n",
    "print('Pooled Standard Deviation:', np.round(np.sqrt(pooled_var), 2))"
   ]
  },
  {
   "cell_type": "markdown",
   "metadata": {},
   "source": [
    "4. Find the proper parameters for the T-distribution to test our null hypothesis. What is the mean, standard deviation, and degrees of freedom of our null hypothesis?"
   ]
  },
  {
   "cell_type": "code",
   "execution_count": 9,
   "metadata": {},
   "outputs": [
    {
     "data": {
      "text/plain": [
       "878"
      ]
     },
     "execution_count": 9,
     "metadata": {},
     "output_type": "execute_result"
    }
   ],
   "source": [
    "(455 - 1) + (425 - 1)"
   ]
  },
  {
   "cell_type": "markdown",
   "metadata": {},
   "source": [
    "Mean: 0  \n",
    "Standard Deviation: 0.08  \n",
    "Degrees of Freedom: 878"
   ]
  },
  {
   "cell_type": "markdown",
   "metadata": {},
   "source": [
    "5. At a signifiance level of 0.05, what are the rejection regions of our distribution? Make a plot highlighting these rejection regions in red."
   ]
  },
  {
   "cell_type": "code",
   "execution_count": 10,
   "metadata": {
    "scrolled": false
   },
   "outputs": [
    {
     "name": "stdout",
     "output_type": "stream",
     "text": [
      "Rejection Region: Less than -0.16\n",
      "Rejection Region: Greater than 0.16\n"
     ]
    },
    {
     "data": {
      "text/plain": [
       "Text(0.5, 0.92, 'T-Distribution of Difference Between Samples')"
      ]
     },
     "execution_count": 10,
     "metadata": {},
     "output_type": "execute_result"
    },
    {
     "data": {
      "image/png": "[encoded data removed]",
      "text/plain": [
       "<Figure size 720x720 with 1 Axes>"
      ]
     },
     "metadata": {
      "needs_background": "light"
     },
     "output_type": "display_data"
    }
   ],
   "source": [
    "dist = stats.t(loc=0, scale=np.sqrt(pooled_var), df=(len(baseball_WARs['AL']) - 1) + (len(baseball_WARs['NL']) - 1))\n",
    "print('Rejection Region: Less than', np.round(dist.ppf(0.025), 2))\n",
    "print('Rejection Region: Greater than', np.round(dist.ppf(0.975), 2))\n",
    "fig = plt.figure(figsize=(10,10))\n",
    "x = np.linspace(dist.ppf(0.0001), dist.ppf(0.9999), 100)\n",
    "plt.plot(x, dist.pdf(x))\n",
    "plt.plot([dist.ppf(0.025), dist.ppf(0.025)],[0, dist.pdf(dist.ppf(0.025))], linestyle='dotted', color='#1f77b4')\n",
    "X_fill = np.linspace(dist.ppf(0.0001), dist.ppf(0.025))\n",
    "Y = dist.pdf(X_fill)\n",
    "plt.fill_between(X_fill, 0, Y, facecolor='red')\n",
    "plt.plot([dist.ppf(0.975), dist.ppf(0.975)],[0, dist.pdf(dist.ppf(0.975))], linestyle='dotted', color='#1f77b4')\n",
    "X_fill = np.linspace(dist.ppf(0.975), dist.ppf(0.9999))\n",
    "Y = dist.pdf(X_fill)\n",
    "plt.fill_between(X_fill, 0, Y, facecolor='red')\n",
    "plt.ylim(bottom=0)\n",
    "plt.xlabel('Difference in Sample Means')\n",
    "plt.ylabel('Probability Density Function')\n",
    "fig.suptitle('T-Distribution of Difference Between Samples', fontsize=15, y=0.92)"
   ]
  },
  {
   "cell_type": "markdown",
   "metadata": {},
   "source": [
    "6. What is the mean difference in WAR between the two leagues (compute AL minus NL)?"
   ]
  },
  {
   "cell_type": "code",
   "execution_count": 11,
   "metadata": {},
   "outputs": [
    {
     "data": {
      "text/plain": [
       "0.013437621202327055"
      ]
     },
     "execution_count": 11,
     "metadata": {},
     "output_type": "execute_result"
    }
   ],
   "source": [
    "np.mean(baseball_WARs['AL']) - np.mean(baseball_WARs['NL'])"
   ]
  },
  {
   "cell_type": "markdown",
   "metadata": {},
   "source": [
    "7. Given that we are doing a two-sided test, can we reject the null hypothesis here? What is the p-value of our observed difference?"
   ]
  },
  {
   "cell_type": "code",
   "execution_count": 12,
   "metadata": {},
   "outputs": [
    {
     "data": {
      "text/plain": [
       "0.8720248112737474"
      ]
     },
     "execution_count": 12,
     "metadata": {},
     "output_type": "execute_result"
    }
   ],
   "source": [
    "(1 - dist.cdf(np.mean(baseball_WARs['AL']) - np.mean(baseball_WARs['NL']))) * 2"
   ]
  },
  {
   "cell_type": "markdown",
   "metadata": {},
   "source": [
    "8. Given that the original assertion was that the AL has **better** pitching than the NL, state the new null and alternate hypotheses for this test."
   ]
  },
  {
   "cell_type": "markdown",
   "metadata": {},
   "source": [
    "Null Hypothesis: Pitchers in the NL and AL have the same mean WAR.  \n",
    "Alternate Hypotehsis: Pitchers in the AL have a higher mean WAR than pitchers in the NL."
   ]
  },
  {
   "cell_type": "markdown",
   "metadata": {},
   "source": [
    "9. At a signifiance level of 0.05, what is the new rejection region of our distribution? Make a plot highlighting this rejection region in red."
   ]
  },
  {
   "cell_type": "code",
   "execution_count": 13,
   "metadata": {},
   "outputs": [
    {
     "name": "stdout",
     "output_type": "stream",
     "text": [
      "Rejection Region: Greater than 0.14\n"
     ]
    },
    {
     "data": {
      "text/plain": [
       "Text(0.5, 0.92, 'T-Distribution of Difference Between Samples')"
      ]
     },
     "execution_count": 13,
     "metadata": {},
     "output_type": "execute_result"
    },
    {
     "data": {
      "image/png": "[encoded data removed]",
      "text/plain": [
       "<Figure size 720x720 with 1 Axes>"
      ]
     },
     "metadata": {
      "needs_background": "light"
     },
     "output_type": "display_data"
    }
   ],
   "source": [
    "dist = stats.t(loc=0, scale=np.sqrt(pooled_var), df=(len(baseball_WARs['AL']) - 1) + (len(baseball_WARs['NL']) - 1))\n",
    "print('Rejection Region: Greater than', np.round(dist.ppf(0.95), 2))\n",
    "fig = plt.figure(figsize=(10,10))\n",
    "x = np.linspace(dist.ppf(0.0001), dist.ppf(0.9999), 100)\n",
    "plt.plot(x, dist.pdf(x))\n",
    "plt.plot([dist.ppf(0.95), dist.ppf(0.95)],[0, dist.pdf(dist.ppf(0.95))], linestyle='dotted', color='#1f77b4')\n",
    "X_fill = np.linspace(dist.ppf(0.95), dist.ppf(0.9999))\n",
    "Y = dist.pdf(X_fill)\n",
    "plt.fill_between(X_fill, 0, Y, facecolor='red')\n",
    "plt.ylim(bottom=0)\n",
    "plt.xlabel('Difference in Sample Means')\n",
    "plt.ylabel('Probability Density Function')\n",
    "fig.suptitle('T-Distribution of Difference Between Samples', fontsize=15, y=0.92)"
   ]
  },
  {
   "cell_type": "markdown",
   "metadata": {},
   "source": [
    "10. Given that we are doing a one-sided test, can we reject the null hypothesis here? What is the p-value of our observed difference?"
   ]
  },
  {
   "cell_type": "code",
   "execution_count": 14,
   "metadata": {},
   "outputs": [
    {
     "data": {
      "text/plain": [
       "0.4360124056368737"
      ]
     },
     "execution_count": 14,
     "metadata": {},
     "output_type": "execute_result"
    }
   ],
   "source": [
    "1 - dist.cdf(np.mean(baseball_WARs['AL']) - np.mean(baseball_WARs['NL']))"
   ]
  },
  {
   "cell_type": "markdown",
   "metadata": {},
   "source": [
    "11. As you (hopefully) observed, the underlying distributions are skewed, which means that they technically violate the underlying assumption of normality for a two-sided T-test.\n",
    "\n",
    "To address this, do a bootstrap test with 10,000 samples using the method we did in class. Use a random seed of 42 and graph the results (again, compute AL minus NL)"
   ]
  },
  {
   "cell_type": "code",
   "execution_count": 15,
   "metadata": {},
   "outputs": [],
   "source": [
    "np.random.seed(42)\n",
    "diff = []\n",
    "for i in range(10000):\n",
    "    total = baseball_WARs['AL'] + baseball_WARs['NL']\n",
    "    np.random.shuffle(total)\n",
    "    new_a = total[:len(baseball_WARs['AL'])]\n",
    "    new_b = total[len(baseball_WARs['AL']):]\n",
    "    diff.append(np.mean(new_a) - np.mean(new_b))"
   ]
  },
  {
   "cell_type": "code",
   "execution_count": 16,
   "metadata": {
    "scrolled": false
   },
   "outputs": [
    {
     "data": {
      "text/plain": [
       "Text(0.5, 0.92, 'Bootstrap Distribution of Difference Between Samples')"
      ]
     },
     "execution_count": 16,
     "metadata": {},
     "output_type": "execute_result"
    },
    {
     "data": {
      "image/png": "[encoded data removed]",
      "text/plain": [
       "<Figure size 720x720 with 1 Axes>"
      ]
     },
     "metadata": {
      "needs_background": "light"
     },
     "output_type": "display_data"
    }
   ],
   "source": [
    "fig = plt.figure(figsize=(10,10))\n",
    "plt.hist(diff, bins=50)\n",
    "plt.xlabel('Diff Between AL and NL')\n",
    "plt.ylabel('Count')\n",
    "fig.suptitle('Bootstrap Distribution of Difference Between Samples', fontsize=15, y=0.92)"
   ]
  },
  {
   "cell_type": "markdown",
   "metadata": {},
   "source": [
    "12. For a one-sided test at a signifiance level of 0.05, calculate the rejection region of this distribution."
   ]
  },
  {
   "cell_type": "code",
   "execution_count": 17,
   "metadata": {},
   "outputs": [
    {
     "data": {
      "text/plain": [
       "0.13494246929541043"
      ]
     },
     "execution_count": 17,
     "metadata": {},
     "output_type": "execute_result"
    }
   ],
   "source": [
    "#Note that 5 is an integer here meaning 5th percentile\n",
    "np.percentile(diff, 95)"
   ]
  },
  {
   "cell_type": "markdown",
   "metadata": {},
   "source": [
    "13. What is the p-value of our observed difference?"
   ]
  },
  {
   "cell_type": "code",
   "execution_count": 18,
   "metadata": {},
   "outputs": [
    {
     "data": {
      "text/plain": [
       "0.42865"
      ]
     },
     "execution_count": 18,
     "metadata": {},
     "output_type": "execute_result"
    }
   ],
   "source": [
    "1 - (0.01 * stats.percentileofscore(diff, np.mean(baseball_WARs['AL']) - np.mean(baseball_WARs['NL'])))"
   ]
  },
  {
   "cell_type": "markdown",
   "metadata": {},
   "source": [
    "BONUS: Say that someone claims to have found a long-lost work by Shakespeare. We want to try and verify if this work is by Shakespeare by comparing the frequency of common words to see if the relative frequencies are similar to what Shakespeare would have written.\n",
    "\n",
    "|Word |  a |an | this  | that |\n",
    "|---|---|---| --- | --- |\n",
    "|King Lear   |  150|  30 | 30 | 90\n",
    "| Lost Work  |  90 |  20 | 10 | 80"
   ]
  },
  {
   "cell_type": "markdown",
   "metadata": {},
   "source": [
    "14. Run a Chi-Squared contingency test on this data to see if these two works could conceivably come from the same distribution. Can we reject the null hypothesis at a significance level of 0.05?"
   ]
  },
  {
   "cell_type": "code",
   "execution_count": 19,
   "metadata": {},
   "outputs": [
    {
     "data": {
      "text/plain": [
       "(7.904411764705882, 0.048029091843219095, 3, array([[144.,  30.,  24., 102.],\n",
       "        [ 96.,  20.,  16.,  68.]]))"
      ]
     },
     "execution_count": 19,
     "metadata": {},
     "output_type": "execute_result"
    }
   ],
   "source": [
    "stats.chi2_contingency([[150,30,30,90], [90,20,10,80]])"
   ]
  },
  {
   "cell_type": "markdown",
   "metadata": {},
   "source": [
    "15. How many degrees of freedom are there in the Chi-Squared distribution?"
   ]
  },
  {
   "cell_type": "code",
   "execution_count": 20,
   "metadata": {},
   "outputs": [
    {
     "data": {
      "text/plain": [
       "3"
      ]
     },
     "execution_count": 20,
     "metadata": {},
     "output_type": "execute_result"
    }
   ],
   "source": [
    "(4 - 1) * (2 - 1)"
   ]
  },
  {
   "cell_type": "markdown",
   "metadata": {},
   "source": [
    "16. Given the number of degrees of freedom, at what level can we reject the null hypothesis?"
   ]
  },
  {
   "cell_type": "code",
   "execution_count": 21,
   "metadata": {},
   "outputs": [
    {
     "data": {
      "text/plain": [
       "7.814727903251179"
      ]
     },
     "execution_count": 21,
     "metadata": {},
     "output_type": "execute_result"
    }
   ],
   "source": [
    "stats.chi2(df=3).ppf(0.95)"
   ]
  }
 ],
 "metadata": {
  "kernelspec": {
   "display_name": "Python 3",
   "language": "python",
   "name": "python3"
  },
  "language_info": {
   "codemirror_mode": {
    "name": "ipython",
    "version": 3
   },
   "file_extension": ".py",
   "mimetype": "text/x-python",
   "name": "python",
   "nbconvert_exporter": "python",
   "pygments_lexer": "ipython3",
   "version": "3.7.3"
  }
 },
 "nbformat": 4,
 "nbformat_minor": 2
}
