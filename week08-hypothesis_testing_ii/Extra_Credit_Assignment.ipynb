{
 "cells": [
  {
   "cell_type": "markdown",
   "metadata": {},
   "source": [
    "This submission can get you up to 5 extra points on your midterm. It is due November 6th at 6:30 PM sharp - nothing submitted after that will be accepted. Please submit it to my email with the subject 'Extra Credit Assignment \\#1'"
   ]
  },
  {
   "cell_type": "code",
   "execution_count": 1,
   "metadata": {},
   "outputs": [],
   "source": [
    "import scipy.stats as stats\n",
    "import numpy as np"
   ]
  },
  {
   "cell_type": "markdown",
   "metadata": {},
   "source": [
    "1. Say that we flip 10 coins 100 times. What is the expected number of times we will see 0 - 10 heads in our simulation? (i.e. we'll see 5 heads 100 times, or 0 heads 20 times and 10 heads 80 times)"
   ]
  },
  {
   "cell_type": "markdown",
   "metadata": {},
   "source": [
    "2. Now say I have the below observation. At a signifiance level of 0.05, can I reject the null hypothesis that the observation comes from the expected distribution?"
   ]
  },
  {
   "cell_type": "code",
   "execution_count": 3,
   "metadata": {},
   "outputs": [],
   "source": [
    "observed_counts = [0,1,6,19,16,32,15,4,3,4,0]"
   ]
  },
  {
   "cell_type": "markdown",
   "metadata": {},
   "source": [
    "3. At what value can I reject the null hypothesis?"
   ]
  }
 ],
 "metadata": {
  "kernelspec": {
   "display_name": "Python 3",
   "language": "python",
   "name": "python3"
  },
  "language_info": {
   "codemirror_mode": {
    "name": "ipython",
    "version": 3
   },
   "file_extension": ".py",
   "mimetype": "text/x-python",
   "name": "python",
   "nbconvert_exporter": "python",
   "pygments_lexer": "ipython3",
   "version": "3.7.3"
  }
 },
 "nbformat": 4,
 "nbformat_minor": 2
}
