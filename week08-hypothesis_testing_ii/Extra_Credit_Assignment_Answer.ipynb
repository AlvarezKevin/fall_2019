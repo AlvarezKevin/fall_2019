{
 "cells": [
  {
   "cell_type": "markdown",
   "metadata": {},
   "source": [
    "This submission can get you up to 5 extra points on your midterm. It is due November 6th at 6:30 PM sharp - nothing submitted after that will be accepted. Please submit it to my email with the subject 'Extra Credit Assignment \\#1'"
   ]
  },
  {
   "cell_type": "code",
   "execution_count": 1,
   "metadata": {},
   "outputs": [],
   "source": [
    "import scipy.stats as stats\n",
    "import numpy as np"
   ]
  },
  {
   "cell_type": "markdown",
   "metadata": {},
   "source": [
    "1. Say that we flip 10 coins 100 times. What is the expected number of times we will see 0 - 10 heads in our simulation? (i.e. we'll see 5 heads 100 times, or 0 heads 20 times and 10 heads 80 times)"
   ]
  },
  {
   "cell_type": "code",
   "execution_count": 2,
   "metadata": {},
   "outputs": [
    {
     "name": "stdout",
     "output_type": "stream",
     "text": [
      "Expected Results of One-Hundred Dice Rolls\n"
     ]
    },
    {
     "data": {
      "text/plain": [
       "array([[ 0.        ,  0.09765625],\n",
       "       [ 1.        ,  0.9765625 ],\n",
       "       [ 2.        ,  4.39453125],\n",
       "       [ 3.        , 11.71875   ],\n",
       "       [ 4.        , 20.5078125 ],\n",
       "       [ 5.        , 24.609375  ],\n",
       "       [ 6.        , 20.5078125 ],\n",
       "       [ 7.        , 11.71875   ],\n",
       "       [ 8.        ,  4.39453125],\n",
       "       [ 9.        ,  0.9765625 ],\n",
       "       [10.        ,  0.09765625]])"
      ]
     },
     "execution_count": 2,
     "metadata": {},
     "output_type": "execute_result"
    }
   ],
   "source": [
    "expected_counts = []\n",
    "expected_values = []\n",
    "for i in range(11):\n",
    "    expected_values.append(i)\n",
    "    expected_counts.append(stats.binom(p=0.5, n=10).pmf(i) * 100)\n",
    "print('Expected Results of One-Hundred Dice Rolls')\n",
    "np.transpose((expected_values, expected_counts))"
   ]
  },
  {
   "cell_type": "markdown",
   "metadata": {},
   "source": [
    "2. Now say I have the below observation. At a signifiance level of 0.05, can I reject the null hypothesis that the observation comes from the expected distribution?"
   ]
  },
  {
   "cell_type": "code",
   "execution_count": 3,
   "metadata": {},
   "outputs": [],
   "source": [
    "observed_counts = [0,1,6,19,16,32,15,4,3,4,0]"
   ]
  },
  {
   "cell_type": "code",
   "execution_count": 4,
   "metadata": {},
   "outputs": [
    {
     "data": {
      "text/plain": [
       "Power_divergenceResult(statistic=24.883301587301563, pvalue=0.005571147877628013)"
      ]
     },
     "execution_count": 4,
     "metadata": {},
     "output_type": "execute_result"
    }
   ],
   "source": [
    "stats.chisquare(observed_counts, expected_counts)"
   ]
  },
  {
   "cell_type": "markdown",
   "metadata": {},
   "source": [
    "You can reject the null hypothesis since this result has a p-value of less than 0.05."
   ]
  },
  {
   "cell_type": "markdown",
   "metadata": {},
   "source": [
    "3. At what value can I reject the null hypothesis?"
   ]
  },
  {
   "cell_type": "code",
   "execution_count": 5,
   "metadata": {},
   "outputs": [
    {
     "data": {
      "text/plain": [
       "18.307038053275146"
      ]
     },
     "execution_count": 5,
     "metadata": {},
     "output_type": "execute_result"
    }
   ],
   "source": [
    "stats.chi2(df=10).ppf(0.95)"
   ]
  },
  {
   "cell_type": "markdown",
   "metadata": {},
   "source": [
    "You can reject the null hypothesis if the Chi-square statistic is anything greater than 18.3."
   ]
  }
 ],
 "metadata": {
  "kernelspec": {
   "display_name": "Python 3",
   "language": "python",
   "name": "python3"
  },
  "language_info": {
   "codemirror_mode": {
    "name": "ipython",
    "version": 3
   },
   "file_extension": ".py",
   "mimetype": "text/x-python",
   "name": "python",
   "nbconvert_exporter": "python",
   "pygments_lexer": "ipython3",
   "version": "3.7.3"
  }
 },
 "nbformat": 4,
 "nbformat_minor": 2
}
